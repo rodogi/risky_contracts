{
 "cells": [
  {
   "cell_type": "code",
   "execution_count": 1,
   "metadata": {},
   "outputs": [],
   "source": [
    "import pandas as pd\n",
    "import networkx as nx\n",
    "import numpy as np\n",
    "import seaborn as sns; sns.set(style='white')\n",
    "import matplotlib.pyplot as plt"
   ]
  },
  {
   "cell_type": "code",
   "execution_count": 2,
   "metadata": {},
   "outputs": [],
   "source": [
    "from unidecode import unidecode"
   ]
  },
  {
   "cell_type": "code",
   "execution_count": 3,
   "metadata": {},
   "outputs": [],
   "source": [
    "cnts = pd.read_csv(\"../data/pre-process/contratos_4.csv\",\n",
    "                   parse_dates=['start_date'])"
   ]
  },
  {
   "cell_type": "markdown",
   "metadata": {},
   "source": [
    "## One last dedup\n",
    "\n",
    "By removing accents and so forth"
   ]
  },
  {
   "cell_type": "code",
   "execution_count": 4,
   "metadata": {},
   "outputs": [],
   "source": [
    "def normalize(x):\n",
    "    return unidecode(x.strip().lower())"
   ]
  },
  {
   "cell_type": "code",
   "execution_count": 5,
   "metadata": {},
   "outputs": [
    {
     "data": {
      "text/plain": [
       "188264"
      ]
     },
     "execution_count": 5,
     "metadata": {},
     "output_type": "execute_result"
    }
   ],
   "source": [
    "cnts.supplier.nunique()"
   ]
  },
  {
   "cell_type": "code",
   "execution_count": 6,
   "metadata": {},
   "outputs": [
    {
     "data": {
      "text/plain": [
       "2222"
      ]
     },
     "execution_count": 6,
     "metadata": {},
     "output_type": "execute_result"
    }
   ],
   "source": [
    "cnts.buyer.nunique()"
   ]
  },
  {
   "cell_type": "code",
   "execution_count": 7,
   "metadata": {},
   "outputs": [],
   "source": [
    "cnts['buyer'] = cnts.buyer.apply(normalize)"
   ]
  },
  {
   "cell_type": "code",
   "execution_count": 8,
   "metadata": {},
   "outputs": [],
   "source": [
    "cnts['supplier'] = cnts.supplier.apply(normalize)"
   ]
  },
  {
   "cell_type": "code",
   "execution_count": 9,
   "metadata": {},
   "outputs": [
    {
     "data": {
      "text/plain": [
       "187955"
      ]
     },
     "execution_count": 9,
     "metadata": {},
     "output_type": "execute_result"
    }
   ],
   "source": [
    "cnts.supplier.nunique()"
   ]
  },
  {
   "cell_type": "code",
   "execution_count": 10,
   "metadata": {},
   "outputs": [
    {
     "data": {
      "text/plain": [
       "2162"
      ]
     },
     "execution_count": 10,
     "metadata": {},
     "output_type": "execute_result"
    }
   ],
   "source": [
    "cnts.buyer.nunique()"
   ]
  },
  {
   "cell_type": "code",
   "execution_count": 12,
   "metadata": {},
   "outputs": [],
   "source": [
    "cnts['year'] = cnts.start_date.dt.year"
   ]
  },
  {
   "cell_type": "code",
   "execution_count": 19,
   "metadata": {},
   "outputs": [
    {
     "data": {
      "text/plain": [
       "code_b\n",
       "AGU    0.492917\n",
       "BCN    0.757317\n",
       "BCS    0.800767\n",
       "CAM    0.684893\n",
       "CHH    0.739047\n",
       "CHP    0.647841\n",
       "CMX    0.842328\n",
       "COA    0.781114\n",
       "COL    0.681426\n",
       "DUR    0.560444\n",
       "GRO    0.667820\n",
       "GUA    0.720745\n",
       "HID    0.750607\n",
       "JAL    0.799299\n",
       "MEX    0.679860\n",
       "MIC    0.730522\n",
       "MOR    0.750482\n",
       "NAY    0.742209\n",
       "NLE    0.704028\n",
       "OAX    0.556886\n",
       "PUE    0.740341\n",
       "QUE    0.753479\n",
       "ROO    0.563850\n",
       "SIN    0.697845\n",
       "SLP    0.792062\n",
       "SON    0.859716\n",
       "TAB    0.599946\n",
       "TAM    0.658175\n",
       "TLA    0.654615\n",
       "VER    0.749477\n",
       "YUC    0.705478\n",
       "ZAC    0.612449\n",
       "Name: single_bid, dtype: float64"
      ]
     },
     "execution_count": 19,
     "metadata": {},
     "output_type": "execute_result"
    }
   ],
   "source": [
    "cnts.groupby('code_b').single_bid.mean()"
   ]
  },
  {
   "cell_type": "code",
   "execution_count": null,
   "metadata": {},
   "outputs": [],
   "source": [
    "net = cnts.groupby(['code_b', 'code_s', 'buyer', 'supplier', 'year']).agg(\n",
    "    weight=('amount', 'sum'),\n",
    "    cri = ('CRI', 'mean')).reset_index()"
   ]
  },
  {
   "cell_type": "code",
   "execution_count": null,
   "metadata": {},
   "outputs": [],
   "source": [
    "years = net.year.unique()"
   ]
  },
  {
   "cell_type": "code",
   "execution_count": null,
   "metadata": {},
   "outputs": [],
   "source": [
    "Gs = []\n",
    "for year in sorted(years):\n",
    "    Gs.append(nx.from_pandas_edgelist(\n",
    "        net[net.year==year],\n",
    "        source='buyer',\n",
    "        target='supplier',\n",
    "        edge_attr='cri'))"
   ]
  },
  {
   "cell_type": "code",
   "execution_count": null,
   "metadata": {},
   "outputs": [],
   "source": [
    "nx.con"
   ]
  },
  {
   "cell_type": "code",
   "execution_count": null,
   "metadata": {},
   "outputs": [],
   "source": [
    "data = []\n",
    "for i, G in enumerate(Gs):\n",
    "    year = 2011 + i\n",
    "    nodes = len(G)\n",
    "    edges = len(G.edges)\n",
    "    density = nx.density(G)\n",
    "    largest_component = len(max(nx.connected_components(G), key=len))\n",
    "    number_components = nx.number_connected_components(G)\n",
    "    degrees = list(dict(G.degree).values())\n",
    "    mean_degree = np.mean(degrees)\n",
    "    max_degree = np.max(degrees)\n",
    "    min_degree = np.min(degrees)\n",
    "    std_degree = np.std(degrees)\n",
    "    data.append([year, nodes, edges, density, largest_component, number_components, mean_degree,\n",
    "                max_degree, min_degree, std_degree])\n",
    "df = pd.DataFrame(data, columns=['year', 'nodes', 'edges', 'density', 'largest_component',\n",
    "                           'number_components', 'mean_degree', 'max_degree', 'min_degree',\n",
    "                           'std_degree'])"
   ]
  },
  {
   "cell_type": "code",
   "execution_count": null,
   "metadata": {},
   "outputs": [],
   "source": [
    "df"
   ]
  },
  {
   "cell_type": "code",
   "execution_count": null,
   "metadata": {},
   "outputs": [],
   "source": [
    "fig, axs = plt.subplots(3,3, figsize=(12, 9), sharex=True, sharey=True)\n",
    "for i, G in enumerate(Gs):\n",
    "    x, y = divmod(i, 3)\n",
    "    sns.distplot(list(nx.core_number(G).values()),\n",
    "            kde=False, ax=axs[x][y], bins=20)\n",
    "    axs[x][y].set_title(f'Year {2011 + i}')\n",
    "    axs[x][y].set_yscale('log')"
   ]
  },
  {
   "cell_type": "code",
   "execution_count": null,
   "metadata": {},
   "outputs": [],
   "source": [
    "fig, axs = plt.subplots(3,3, figsize=(12, 9), sharex=True, sharey=True)\n",
    "for i, G in enumerate(Gs):\n",
    "    x, y = divmod(i, 3)\n",
    "    sns.distplot(list(dict(G.degree()).values()),\n",
    "            kde=False, ax=axs[x][y], bins=20)\n",
    "    axs[x][y].set_title(f'Year {2011 + i}')\n",
    "    axs[x][y].set_yscale('log')"
   ]
  }
 ],
 "metadata": {
  "kernelspec": {
   "display_name": "Python 3",
   "language": "python",
   "name": "python3"
  },
  "language_info": {
   "codemirror_mode": {
    "name": "ipython",
    "version": 3
   },
   "file_extension": ".py",
   "mimetype": "text/x-python",
   "name": "python",
   "nbconvert_exporter": "python",
   "pygments_lexer": "ipython3",
   "version": "3.6.9"
  }
 },
 "nbformat": 4,
 "nbformat_minor": 4
}
