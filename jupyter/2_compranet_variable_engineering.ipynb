{
 "cells": [
  {
   "cell_type": "markdown",
   "metadata": {},
   "source": [
    "# Creation of new variables\n",
    "\n",
    "Some risk indicators could take information on the combination of one or two different variables."
   ]
  },
  {
   "cell_type": "code",
   "execution_count": 1,
   "metadata": {},
   "outputs": [],
   "source": [
    "import pandas as pd\n",
    "import numpy as np\n",
    "\n",
    "from currency_converter import RateNotFoundError\n",
    "\n",
    "from currency_converter import CurrencyConverter\n",
    "\n",
    "import datetime\n",
    "\n",
    "import pickle\n",
    "\n",
    "from unidecode import unidecode"
   ]
  },
  {
   "cell_type": "code",
   "execution_count": 2,
   "metadata": {},
   "outputs": [
    {
     "name": "stderr",
     "output_type": "stream",
     "text": [
      "/home/rdora/.local/lib/python3.6/site-packages/IPython/core/interactiveshell.py:3063: DtypeWarning: Columns (3,7) have mixed types.Specify dtype option on import or set low_memory=False.\n",
      "  interactivity=interactivity, compiler=compiler, result=result)\n"
     ]
    }
   ],
   "source": [
    "CNTS = '/home/rdora/declaranet/data/pre-process/contratos.csv'\n",
    "cnts = pd.read_csv(CNTS)"
   ]
  },
  {
   "cell_type": "markdown",
   "metadata": {},
   "source": [
    "# Files\n",
    "\n",
    "The `expediente` attribute reffers to the number of the file of the contract. More contracts per file could inidicate a risk in corruption."
   ]
  },
  {
   "cell_type": "code",
   "execution_count": 3,
   "metadata": {},
   "outputs": [],
   "source": [
    "exps = cnts.groupby('codigo_expediente').codigo_contrato.count().rename('file_size').reset_index()\n",
    "cnts = pd.merge(cnts,\n",
    "                exps,\n",
    "                how='left',\n",
    "                on='codigo_expediente')"
   ]
  },
  {
   "cell_type": "code",
   "execution_count": 4,
   "metadata": {},
   "outputs": [],
   "source": [
    "cnts = cnts.drop('codigo_expediente', axis=1)"
   ]
  },
  {
   "cell_type": "markdown",
   "metadata": {},
   "source": [
    "# Single bid\n",
    "\n",
    "A single bid contract can also be more risky than a contract with competition."
   ]
  },
  {
   "cell_type": "code",
   "execution_count": 13,
   "metadata": {},
   "outputs": [
    {
     "data": {
      "text/plain": [
       "array(['Invitación a Cuando Menos 3 Personas',\n",
       "       'Adjudicación Directa Federal', 'Licitación Pública',\n",
       "       'Licitación Publica Estatal', 'Licitación Pública con OSD', nan,\n",
       "       'LP', 'AD', 'I3P', 'CONTRATO ENTRE ENTES PUBLICOS', 'OC', 'PC',\n",
       "       'Adjudicación directa', 'Proyecto de Convocatoria',\n",
       "       'Invitación a cuando menos 3 personas', 'Otro'], dtype=object)"
      ]
     },
     "execution_count": 13,
     "metadata": {},
     "output_type": "execute_result"
    }
   ],
   "source": [
    "cnts.tipo_procedimiento.va()"
   ]
  },
  {
   "cell_type": "code",
   "execution_count": 5,
   "metadata": {},
   "outputs": [
    {
     "data": {
      "text/plain": [
       "array(['Adquisiciones', 'Obra Pública', 'Servicios', 'Arrendamientos',\n",
       "       'Servicios Relacionados con la OP',\n",
       "       'Servicios relacionados con la OP', nan, 'ADQUISICIONES'],\n",
       "      dtype=object)"
      ]
     },
     "execution_count": 5,
     "metadata": {},
     "output_type": "execute_result"
    }
   ],
   "source": [
    "cnts['tipo_contratacion'].unique()"
   ]
  },
  {
   "cell_type": "code",
   "execution_count": 193,
   "metadata": {},
   "outputs": [],
   "source": [
    "single_bid = [\n",
    "    'Adjudicación Directa Federal',\n",
    "    'AD',\n",
    "    'Adjudicación directa']\n",
    "cnts['single_bid'] = 0\n",
    "cnts.loc[cnts.tipo_procedimiento.isin(single_bid), 'single_bid'] = 1"
   ]
  },
  {
   "cell_type": "code",
   "execution_count": 194,
   "metadata": {},
   "outputs": [],
   "source": [
    "cnts = cnts.drop('tipo_procedimiento', axis=1)"
   ]
  },
  {
   "cell_type": "markdown",
   "metadata": {},
   "source": [
    "# Date windows\n",
    "\n",
    "1. Contract Duration.\n",
    "2. Difference between start of the contract and openning of the bids."
   ]
  },
  {
   "cell_type": "code",
   "execution_count": 195,
   "metadata": {},
   "outputs": [],
   "source": [
    "cnts['fecha_apertura_proposiciones'] = pd.to_datetime(cnts['fecha_apertura_proposiciones'],\n",
    "                                                      errors='coerce',\n",
    "                                                      format=\"%Y-%m-%d\")"
   ]
  },
  {
   "cell_type": "code",
   "execution_count": 196,
   "metadata": {},
   "outputs": [],
   "source": [
    "cnts['fecha_apertura_proposiciones'] = pd.to_datetime(cnts['fecha_apertura_proposiciones'],\n",
    "                                                      errors='coerce',\n",
    "                                                      format=\"%Y-%m-%d\").dt.date\n",
    "cnts['fecha_inicio'] = pd.to_datetime(cnts['fecha_inicio'], errors='coerce').dt.date\n",
    "cnts['fecha_fin'] = pd.to_datetime(cnts['fecha_fin'], errors='coerce').dt.date"
   ]
  },
  {
   "cell_type": "code",
   "execution_count": 197,
   "metadata": {},
   "outputs": [],
   "source": [
    "cnts['contract_duration'] = (cnts['fecha_fin'] - cnts['fecha_inicio']).dt.days\n",
    "\n",
    "cnts['prop_window'] = (cnts['fecha_inicio'] - cnts['fecha_apertura_proposiciones']).dt.days"
   ]
  },
  {
   "cell_type": "code",
   "execution_count": 198,
   "metadata": {},
   "outputs": [],
   "source": [
    "cnts = cnts.drop(['fecha_fin', 'fecha_apertura_proposiciones'], axis=1)"
   ]
  },
  {
   "cell_type": "code",
   "execution_count": 227,
   "metadata": {},
   "outputs": [],
   "source": [
    "cnts = cnts.rename(columns={'fecha_inicio': 'start_date'})"
   ]
  },
  {
   "cell_type": "markdown",
   "metadata": {},
   "source": [
    "# Money convertion\n",
    "\n",
    "It's better if everything is in a single currency (Dollars)."
   ]
  },
  {
   "cell_type": "code",
   "execution_count": 199,
   "metadata": {},
   "outputs": [],
   "source": [
    "def change_currency(date):\n",
    "    try:\n",
    "        change = c.convert(1, 'MXN', 'USD', date)\n",
    "        return change\n",
    "    except RateNotFoundError:\n",
    "        pass\n",
    "    month = date.month\n",
    "    for i, new_month in enumerate(range(month + 1, month + 12)):\n",
    "        if new_month != 12:\n",
    "            new_month = new_month % 12\n",
    "        new_date = datetime.date(date.year, new_month, 1)\n",
    "        try:\n",
    "            change = c.convert(1, 'MXN', 'USD', new_date)\n",
    "            return change\n",
    "        except RateNotFoundError:\n",
    "            pass\n",
    "    return 1 / 15  # 15 pesos to USD"
   ]
  },
  {
   "cell_type": "code",
   "execution_count": 200,
   "metadata": {},
   "outputs": [],
   "source": [
    "c = CurrencyConverter()\n",
    "cnts.loc[cnts.moneda=='MXN', 'importe_contrato'] = (\n",
    "                  cnts.loc[cnts.moneda=='MXN', 'fecha_inicio'].apply(change_currency) *\n",
    "                  cnts.loc[cnts.moneda=='MXN', 'importe_contrato']).apply(np.floor).astype('int')"
   ]
  },
  {
   "cell_type": "code",
   "execution_count": 201,
   "metadata": {},
   "outputs": [],
   "source": [
    "cnts = cnts.drop('moneda', axis=1)"
   ]
  },
  {
   "cell_type": "code",
   "execution_count": 202,
   "metadata": {},
   "outputs": [],
   "source": [
    "cnts = cnts.drop('nombre_de_la_uc', axis=1)"
   ]
  },
  {
   "cell_type": "code",
   "execution_count": 223,
   "metadata": {},
   "outputs": [],
   "source": [
    "cnts = cnts.rename(columns={'importe_contrato': 'amount'})"
   ]
  },
  {
   "cell_type": "markdown",
   "metadata": {},
   "source": [
    "## Average daily price"
   ]
  },
  {
   "cell_type": "code",
   "execution_count": 203,
   "metadata": {},
   "outputs": [],
   "source": [
    "cnts['daily_price'] = (cnts['importe_contrato'] / cnts['contract_duration']).round(decimals=0)"
   ]
  },
  {
   "cell_type": "markdown",
   "metadata": {},
   "source": [
    "# Contract type\n",
    "\n",
    "1. Services\n",
    "2. Purchases\n",
    "3. Public Work\n",
    "4. Rent"
   ]
  },
  {
   "cell_type": "code",
   "execution_count": 204,
   "metadata": {},
   "outputs": [],
   "source": [
    "ctype = {\n",
    "    \"Adquisiciones\": \"Purchase\",\n",
    "    \"Servicios\": \"Service\",\n",
    "    \"Obra Pública\": \"Public work\",\n",
    "    \"Servicios Relacionados con la OP\": \"Public work\",\n",
    "    \"Arrendamientos\": \"Rent\",\n",
    "    \"ADQUISICIONES\": \"Purchase\",\n",
    "    \"Servicios relacionados con la OP\": \"Public work\"}\n",
    "cnts['contract_type'] = cnts['tipo_contratacion'].replace(ctype)"
   ]
  },
  {
   "cell_type": "code",
   "execution_count": 205,
   "metadata": {},
   "outputs": [],
   "source": [
    "cnts = cnts.drop('tipo_contratacion', axis=1)"
   ]
  },
  {
   "cell_type": "markdown",
   "metadata": {},
   "source": [
    "## Government level\n",
    "\n",
    "1. Federal\n",
    "2. State\n",
    "3. Municipal"
   ]
  },
  {
   "cell_type": "code",
   "execution_count": 206,
   "metadata": {},
   "outputs": [],
   "source": [
    "replace = {\n",
    "    'APF': 'F',\n",
    "    'GE': 'S',\n",
    "    'GM': 'M'}\n",
    "cnts['gvmnt_level'] = cnts.gobierno.replace(replace)"
   ]
  },
  {
   "cell_type": "code",
   "execution_count": 207,
   "metadata": {},
   "outputs": [],
   "source": [
    "cnts = cnts.drop('gobierno', axis=1)"
   ]
  },
  {
   "cell_type": "markdown",
   "metadata": {},
   "source": [
    "# Buyer's State"
   ]
  },
  {
   "cell_type": "code",
   "execution_count": 208,
   "metadata": {},
   "outputs": [],
   "source": [
    "with open('/home/rdora/declaranet/data/pickle/entidades_federativas.p', 'rb') as f:\n",
    "    state2code = pickle.load(f)"
   ]
  },
  {
   "cell_type": "code",
   "execution_count": 209,
   "metadata": {},
   "outputs": [],
   "source": [
    "states = sorted(['Aguascalientes', 'Baja California', 'Baja California Sur',\n",
    "       'Campeche', 'Coahuila de Zaragoza', 'Colima', 'Chiapas',\n",
    "       'Chihuahua', 'Ciudad de México', 'Durango', 'Guanajuato',\n",
    "       'Guerrero', 'Hidalgo', 'Jalisco', 'México', 'Michoacán de Ocampo',\n",
    "       'Morelos', 'Nayarit', 'Nuevo León', 'Oaxaca', 'Puebla',\n",
    "       'Querétaro', 'Quintana Roo', 'San Luis Potosí', 'Sinaloa',\n",
    "       'Sonora', 'Tabasco', 'Tamaulipas', 'Tlaxcala',\n",
    "       'Veracruz de Ignacio de la Llave', 'Yucatán', 'Zacatecas'], key=lambda x: unidecode(x))"
   ]
  },
  {
   "cell_type": "code",
   "execution_count": 210,
   "metadata": {},
   "outputs": [],
   "source": [
    "codes = list(zip(*sorted(state2code.items(), key=lambda x: x[0])))[1]\n",
    "code2state = dict(zip(codes, states))"
   ]
  },
  {
   "cell_type": "code",
   "execution_count": 211,
   "metadata": {},
   "outputs": [],
   "source": [
    "cnts['buyer_state'] = cnts['b_entidad_federativa'].replace(code2state)"
   ]
  },
  {
   "cell_type": "code",
   "execution_count": 212,
   "metadata": {},
   "outputs": [],
   "source": [
    "cnts = cnts.drop('b_entidad_federativa', axis=1)"
   ]
  },
  {
   "cell_type": "code",
   "execution_count": 225,
   "metadata": {},
   "outputs": [],
   "source": [
    "cnts = cnts.drop('siglas', axis=1)"
   ]
  },
  {
   "cell_type": "markdown",
   "metadata": {},
   "source": [
    "## Seller's State"
   ]
  },
  {
   "cell_type": "code",
   "execution_count": 213,
   "metadata": {},
   "outputs": [],
   "source": [
    "cnts['supplier_state'] = np.NAN\n",
    "cnts.loc[cnts.siglas_pais == 'MX', 'supplier_state'] = (\n",
    "    cnts.loc[cnts.siglas_pais == 'MX', 's_entidad_federativa'].replace(code2state))"
   ]
  },
  {
   "cell_type": "code",
   "execution_count": 214,
   "metadata": {},
   "outputs": [],
   "source": [
    "cnts['supplier_country'] = cnts['siglas_pais']"
   ]
  },
  {
   "cell_type": "code",
   "execution_count": 215,
   "metadata": {},
   "outputs": [],
   "source": [
    "cnts = cnts.drop(['s_entidad_federativa', 'siglas_pais'], axis=1)"
   ]
  },
  {
   "cell_type": "code",
   "execution_count": 221,
   "metadata": {},
   "outputs": [],
   "source": [
    "cnts = cnts.rename(columns={'proveedor_contratista': 'supplier'})"
   ]
  },
  {
   "cell_type": "markdown",
   "metadata": {},
   "source": [
    "## Save"
   ]
  },
  {
   "cell_type": "code",
   "execution_count": 231,
   "metadata": {},
   "outputs": [],
   "source": [
    "cnts = cnts.rename(columns={'codigo_contrato': 'id'})"
   ]
  },
  {
   "cell_type": "code",
   "execution_count": 233,
   "metadata": {},
   "outputs": [],
   "source": [
    "SAVE = '/home/rdora/declaranet/data/pre-process/contratos_2.csv'\n",
    "cnts.to_csv(SAVE, index=False)"
   ]
  }
 ],
 "metadata": {
  "kernelspec": {
   "display_name": "Python 3",
   "language": "python",
   "name": "python3"
  },
  "language_info": {
   "codemirror_mode": {
    "name": "ipython",
    "version": 3
   },
   "file_extension": ".py",
   "mimetype": "text/x-python",
   "name": "python",
   "nbconvert_exporter": "python",
   "pygments_lexer": "ipython3",
   "version": "3.6.9"
  }
 },
 "nbformat": 4,
 "nbformat_minor": 4
}
