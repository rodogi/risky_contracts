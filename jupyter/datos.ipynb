{
 "cells": [
  {
   "cell_type": "markdown",
   "metadata": {},
   "source": [
    "# Datos\n",
    "\n",
    "## Idea\n",
    "\n",
    "Basados en tres bases de datos:\n",
    "\n",
    "1. Experiencia previa\n",
    "2. Participación económica\n",
    "3. Puestos en otras compañías\n",
    "\n",
    "Para el periodo de 2002--2018 (17 años)"
   ]
  },
  {
   "cell_type": "markdown",
   "metadata": {},
   "source": [
    "## Unir tablas\n",
    "\n",
    "Usaremos, para cada año, los usuarios que tienen valores de participación económica,\n",
    "puestos en otras compañías, y experiencia previa. Posteriormente se aplicaran los filtros que se piensen necesarios. Sin embargo, como se va a comparar con información de compra/venta de contratos públicos, únicamente se incluirá la experiencia de los funcionarios en compañías **privadas**."
   ]
  },
  {
   "cell_type": "markdown",
   "metadata": {},
   "source": [
    "## Primer año (2002)\n",
    "\n",
    "Antes de obtener la tabla final, empezaremos a explorar las tablas de 2002 y dejar la metodología lista para los demás años.\n",
    "\n",
    "La tabla `2002_generalesEncargo_DBP.csv` cuenta con la información principal de cada servidor público. Se usará para hacer el *merge* con las demás tablas. Todas las tablas cuentan con la variable **ACUSE** qué servirá de *id* para juntarlas.\n",
    "\n",
    "La información de las **participaciones económicas** no fue incorporado sino hasta 2015, y la información de **puestos en otras compañías** hasta 2016. Por lo que durante el periodo 2002--2014 sólamente podremos usar la variable de **experiencia previa**."
   ]
  },
  {
   "cell_type": "markdown",
   "metadata": {},
   "source": [
    "## Variables globales\n",
    "\n",
    "Antes de empezar, cargamos las librerías y definimos los caminos a los datos que se usarán de aquí en adelante."
   ]
  },
  {
   "cell_type": "code",
   "execution_count": 1,
   "metadata": {},
   "outputs": [],
   "source": [
    "import os\n",
    "import re\n",
    "import hashlib\n",
    "from os.path import join\n",
    "import pandas as pd\n",
    "import numpy as np"
   ]
  },
  {
   "cell_type": "code",
   "execution_count": 2,
   "metadata": {},
   "outputs": [],
   "source": [
    "DATA = \"/home/rdora/declaranet/data\"\n",
    "# Tablas\n",
    "GENERAL = \"_generalesEncargo_DBP.csv\"\n",
    "EXP = \"_experiencia_DBP.csv\"\n",
    "ECONO = \"_participaciones_econo_DBP.csv\"\n",
    "PUESTO = \"_puesto_cargo_com_DBP.csv\""
   ]
  },
  {
   "cell_type": "code",
   "execution_count": 3,
   "metadata": {},
   "outputs": [],
   "source": [
    "path_general = join(DATA, \"2002\", \"2002\" + GENERAL)\n",
    "path_exp = join(DATA, \"2002\", \"2002\" + EXP)\n",
    "df_exp = pd.read_csv(path_exp)\n",
    "df_general = pd.read_csv(path_general)"
   ]
  },
  {
   "cell_type": "markdown",
   "metadata": {},
   "source": [
    "### Selección de variables\n",
    "Las tablas cuentan con diversa información distribuida en variables. Para nuestro objetivo, unas son más importantes que otras.\n",
    "\n",
    "#### General\n",
    "Variables importantes:\n",
    "1. acuse (ID)\n",
    "2. nombre\n",
    "3. tipo_declaracion\n",
    "4. fecha_envio\n",
    "5. puesto\n",
    "6. dependencia\n",
    "7. area_adscripcion\n",
    "8. honorarios\n",
    "9. maximo_grado_estudios\n",
    "\n",
    "#### Experiencia\n",
    "Variables importantes:\n",
    "1. acuse\n",
    "2. sector\n",
    "3. institucion_empresa\n",
    "4. area_o_unidad_administrativa (**NOTA**: typo en \"adminsitrativa\")\n",
    "5. puesto\n",
    "6. ingreso_egreso"
   ]
  },
  {
   "cell_type": "code",
   "execution_count": 4,
   "metadata": {},
   "outputs": [],
   "source": [
    "COLS_GENERAL = [\"ACUSE\",\n",
    "                \"NOMBRE\",\n",
    "                \"TIPO_DECLARACION\",\n",
    "                \"FECHA_ENVIO\",\n",
    "                \"PUESTO\",\n",
    "                \"DEPENDENCIA\",\n",
    "                \"AREA_ADSCRIPCION\",\n",
    "                \"HONORARIOS\",\n",
    "                \"MAXIMO_GRADO_ESTUDIOS\"]\n",
    "COLS_EXP = [\"ACUSE\",\n",
    "            \"SECTOR\",\n",
    "            \"INSTITUCION_EMPRESA\",\n",
    "            \"AREA_O_UNIDAD_ADMINSITRATIVA\",\n",
    "            \"PUESTO\",\n",
    "            \"INGRESO_EGRESO\"]"
   ]
  },
  {
   "cell_type": "code",
   "execution_count": 5,
   "metadata": {},
   "outputs": [],
   "source": [
    "df_general = df_general[COLS_GENERAL]\n",
    "df_exp = df_exp[COLS_EXP]"
   ]
  },
  {
   "cell_type": "code",
   "execution_count": 6,
   "metadata": {},
   "outputs": [],
   "source": [
    "df = pd.merge(df_exp,\n",
    "             df_general,\n",
    "             how=\"left\",\n",
    "             on=\"ACUSE\")"
   ]
  },
  {
   "cell_type": "markdown",
   "metadata": {},
   "source": [
    "## Segundo año (2003)\n",
    "\n",
    "Exploración del segundo año, sobretodo para ver como se manejan los funcionarios públicos repetidos con 2002."
   ]
  },
  {
   "cell_type": "code",
   "execution_count": 7,
   "metadata": {},
   "outputs": [],
   "source": [
    "path_general = join(DATA, \"2003\", \"2003\" + GENERAL)\n",
    "path_exp = join(DATA, \"2003\", \"2003\" + EXP)\n",
    "df_exp_2003 = pd.read_csv(path_exp, usecols=COLS_EXP)\n",
    "df_general_2003 = pd.read_csv(path_general, usecols=COLS_GENERAL)"
   ]
  },
  {
   "cell_type": "markdown",
   "metadata": {},
   "source": [
    "En cuanto a experiencia, vamos a ver cuantos puestos están repetidos con 2002."
   ]
  },
  {
   "cell_type": "code",
   "execution_count": 8,
   "metadata": {},
   "outputs": [
    {
     "name": "stdout",
     "output_type": "stream",
     "text": [
      "Acuses repetidos:  0\n"
     ]
    }
   ],
   "source": [
    "acuses_2002 = set(df_exp['ACUSE'].unique())\n",
    "acuses_2003 = set(df_exp_2003[\"ACUSE\"].unique())\n",
    "print(\"Acuses repetidos: \", len(acuses_2002 & acuses_2003))"
   ]
  },
  {
   "cell_type": "markdown",
   "metadata": {},
   "source": [
    "Para ver cuantas experiencias repetidas tenemos, primero tenemos que pasar las columnas a `string` y después crear un identificador único."
   ]
  },
  {
   "cell_type": "code",
   "execution_count": 105,
   "metadata": {},
   "outputs": [],
   "source": [
    "df_exp = df_exp.astype(str)\n",
    "df_exp_2003 = df_exp_2003.astype(str)"
   ]
  },
  {
   "cell_type": "code",
   "execution_count": 55,
   "metadata": {},
   "outputs": [],
   "source": [
    "df_exp[\"id\"] = df_exp.iloc[:,1:].agg(\"-\".join, axis=1)\n",
    "\n",
    "df_exp_2003[\"id\"] = df_exp_2003.iloc[:, 1:].agg(\"-\".join, axis=1)"
   ]
  },
  {
   "cell_type": "code",
   "execution_count": 59,
   "metadata": {},
   "outputs": [
    {
     "name": "stdout",
     "output_type": "stream",
     "text": [
      "pocentaje de ids repetidos:  0.6425877175749479\n"
     ]
    }
   ],
   "source": [
    "ids_2002 = set(df_exp['id'].unique())\n",
    "ids_2003 = set(df_exp_2003[\"id\"].unique())\n",
    "print(\"pocentaje de ids repetidos: \", len(ids_2002 & ids_2003) / len(ids_2002))"
   ]
  },
  {
   "cell_type": "markdown",
   "metadata": {},
   "source": [
    "Vamos a crear un identificador único que sea un hash (id del mismo tamaño) y provar que obtenemos el mismo porcentaje de repetidos."
   ]
  },
  {
   "cell_type": "code",
   "execution_count": 82,
   "metadata": {},
   "outputs": [],
   "source": [
    "df_exp['hash'] = df_exp.iloc[:,1:].apply(\n",
    "    lambda x: hashlib.md5(\"\".join(x).encode()).hexdigest(), axis=1)\n",
    "df_exp_2003['hash'] = df_exp_2003.iloc[:,1:].apply(\n",
    "    lambda x: hashlib.md5(\"\".join(x).encode()).hexdigest(), axis=1)"
   ]
  },
  {
   "cell_type": "code",
   "execution_count": 83,
   "metadata": {},
   "outputs": [
    {
     "name": "stdout",
     "output_type": "stream",
     "text": [
      "pocentaje de hashs repethashos:  0.6425877175749479\n"
     ]
    }
   ],
   "source": [
    "hashs_2002 = set(df_exp['hash'].unique())\n",
    "hashs_2003 = set(df_exp_2003[\"hash\"].unique())\n",
    "print(\"pocentaje de hashs repethashos: \", len(hashs_2002 & hashs_2003) / len(hashs_2002))"
   ]
  },
  {
   "cell_type": "markdown",
   "metadata": {},
   "source": [
    "#### General\n",
    "\n",
    "Vamos a ver los repetidos como se comportan en la tabla general"
   ]
  },
  {
   "cell_type": "code",
   "execution_count": 87,
   "metadata": {},
   "outputs": [
    {
     "name": "stdout",
     "output_type": "stream",
     "text": [
      "Acuses repetidos:  0\n"
     ]
    }
   ],
   "source": [
    "acuses_2002 = set(df_general['ACUSE'].unique())\n",
    "acuses_2003 = set(df_general_2003[\"ACUSE\"].unique())\n",
    "print(\"Acuses repetidos: \", len(acuses_2002 & acuses_2003))"
   ]
  },
  {
   "cell_type": "code",
   "execution_count": 106,
   "metadata": {},
   "outputs": [],
   "source": [
    "df_general = df_general.astype(str)\n",
    "df_general_2003 = df_general_2003.astype(str)"
   ]
  },
  {
   "cell_type": "code",
   "execution_count": 97,
   "metadata": {},
   "outputs": [
    {
     "data": {
      "text/html": [
       "<div>\n",
       "<style scoped>\n",
       "    .dataframe tbody tr th:only-of-type {\n",
       "        vertical-align: middle;\n",
       "    }\n",
       "\n",
       "    .dataframe tbody tr th {\n",
       "        vertical-align: top;\n",
       "    }\n",
       "\n",
       "    .dataframe thead th {\n",
       "        text-align: right;\n",
       "    }\n",
       "</style>\n",
       "<table border=\"1\" class=\"dataframe\">\n",
       "  <thead>\n",
       "    <tr style=\"text-align: right;\">\n",
       "      <th></th>\n",
       "      <th>ACUSE</th>\n",
       "      <th>NOMBRE</th>\n",
       "      <th>TIPO_DECLARACION</th>\n",
       "      <th>FECHA_ENVIO</th>\n",
       "      <th>PUESTO</th>\n",
       "      <th>DEPENDENCIA</th>\n",
       "      <th>AREA_ADSCRIPCION</th>\n",
       "      <th>HONORARIOS</th>\n",
       "      <th>MAXIMO_GRADO_ESTUDIOS</th>\n",
       "      <th>hash</th>\n",
       "    </tr>\n",
       "  </thead>\n",
       "  <tbody>\n",
       "    <tr>\n",
       "      <th>94124</th>\n",
       "      <td>200302031812341386506</td>\n",
       "      <td>LEONARDO DE LA CRUZ AGUILAR</td>\n",
       "      <td>CONCLUSION</td>\n",
       "      <td>03/02/2003</td>\n",
       "      <td>ASESOR</td>\n",
       "      <td>CONSEJERIA JURIDICA DEL EJECUTIVO FEDERAL</td>\n",
       "      <td>CONSEJERIA ADJUNTA</td>\n",
       "      <td>NO</td>\n",
       "      <td>LICENCIATURA</td>\n",
       "      <td>7e04d27ed4b92bab66bfde035c65a32e</td>\n",
       "    </tr>\n",
       "  </tbody>\n",
       "</table>\n",
       "</div>"
      ],
      "text/plain": [
       "                       ACUSE                       NOMBRE TIPO_DECLARACION  \\\n",
       "94124  200302031812341386506  LEONARDO DE LA CRUZ AGUILAR       CONCLUSION   \n",
       "\n",
       "      FECHA_ENVIO  PUESTO                                DEPENDENCIA  \\\n",
       "94124  03/02/2003  ASESOR  CONSEJERIA JURIDICA DEL EJECUTIVO FEDERAL   \n",
       "\n",
       "         AREA_ADSCRIPCION HONORARIOS MAXIMO_GRADO_ESTUDIOS  \\\n",
       "94124  CONSEJERIA ADJUNTA         NO          LICENCIATURA   \n",
       "\n",
       "                                   hash  \n",
       "94124  7e04d27ed4b92bab66bfde035c65a32e  "
      ]
     },
     "execution_count": 97,
     "metadata": {},
     "output_type": "execute_result"
    }
   ],
   "source": [
    "df_general_2003[df_general_2003.NOMBRE==\"LEONARDO DE LA CRUZ AGUILAR\"]"
   ]
  },
  {
   "cell_type": "code",
   "execution_count": 94,
   "metadata": {},
   "outputs": [
    {
     "data": {
      "text/html": [
       "<div>\n",
       "<style scoped>\n",
       "    .dataframe tbody tr th:only-of-type {\n",
       "        vertical-align: middle;\n",
       "    }\n",
       "\n",
       "    .dataframe tbody tr th {\n",
       "        vertical-align: top;\n",
       "    }\n",
       "\n",
       "    .dataframe thead th {\n",
       "        text-align: right;\n",
       "    }\n",
       "</style>\n",
       "<table border=\"1\" class=\"dataframe\">\n",
       "  <thead>\n",
       "    <tr style=\"text-align: right;\">\n",
       "      <th></th>\n",
       "      <th>ACUSE</th>\n",
       "      <th>NOMBRE</th>\n",
       "      <th>TIPO_DECLARACION</th>\n",
       "      <th>FECHA_ENVIO</th>\n",
       "      <th>PUESTO</th>\n",
       "      <th>DEPENDENCIA</th>\n",
       "      <th>AREA_ADSCRIPCION</th>\n",
       "      <th>HONORARIOS</th>\n",
       "      <th>MAXIMO_GRADO_ESTUDIOS</th>\n",
       "      <th>hash</th>\n",
       "    </tr>\n",
       "  </thead>\n",
       "  <tbody>\n",
       "    <tr>\n",
       "      <th>0</th>\n",
       "      <td>6482</td>\n",
       "      <td>LEONARDO DE LA CRUZ AGUILAR</td>\n",
       "      <td>INICIAL</td>\n",
       "      <td>08/05/2002</td>\n",
       "      <td>JEFE DE DEPARTAMENTO</td>\n",
       "      <td>CONSEJERIA JURIDICA DEL EJECUTIVO FEDERAL</td>\n",
       "      <td>CONSEJERIA JURIDICA</td>\n",
       "      <td>NO</td>\n",
       "      <td>LICENCIATURA</td>\n",
       "      <td>2422816d827f0fcdb68d8d4f044f92bf</td>\n",
       "    </tr>\n",
       "    <tr>\n",
       "      <th>1</th>\n",
       "      <td>200205230944131094591</td>\n",
       "      <td>VICTOR MANUEL CORONA NORIEGA</td>\n",
       "      <td>MODIFICACION</td>\n",
       "      <td>23/05/2002</td>\n",
       "      <td>ENLACE ADMINISTRATIVO</td>\n",
       "      <td>SECRETARIA DE MEDIO AMBIENTE Y RECURSOS NATURALES</td>\n",
       "      <td>INSTITUTO NACIONAL DE ECOLOGIA DIRECCION GENER...</td>\n",
       "      <td>NO</td>\n",
       "      <td>LICENCIATURA</td>\n",
       "      <td>feaef61127bfb19422f0489154a52a5f</td>\n",
       "    </tr>\n",
       "    <tr>\n",
       "      <th>2</th>\n",
       "      <td>200205291619561249043</td>\n",
       "      <td>JESUS ARMANDO GIL CASAMAYOR</td>\n",
       "      <td>MODIFICACION</td>\n",
       "      <td>29/05/2002</td>\n",
       "      <td>SUPERVISOR DE AUDITORIA FISCAL</td>\n",
       "      <td>SERVICIO DE ADMINISTRACION TRIBUTARIA</td>\n",
       "      <td>ADMINISTRACION LOCAL DE AUDITORIA FISCAL DE CH...</td>\n",
       "      <td>NO</td>\n",
       "      <td>LICENCIATURA</td>\n",
       "      <td>6fcf80d4ae82c3893def04958f1607cf</td>\n",
       "    </tr>\n",
       "    <tr>\n",
       "      <th>3</th>\n",
       "      <td>9497</td>\n",
       "      <td>MANUEL CORTÃ¿S AGUILAR</td>\n",
       "      <td>MODIFICACION</td>\n",
       "      <td>09/05/2002</td>\n",
       "      <td>JEFE DE DEPARTAMENTO</td>\n",
       "      <td>PROCURADURIA FEDERAL DEL CONSUMIDOR (PROFECO).</td>\n",
       "      <td>UNIDAD DE COMUNICACION SOCIAL</td>\n",
       "      <td>NO</td>\n",
       "      <td>CARRERA TECNICA O COMERCIAL</td>\n",
       "      <td>8bb9602f4a18b6886219e7d9b8f3aca7</td>\n",
       "    </tr>\n",
       "    <tr>\n",
       "      <th>4</th>\n",
       "      <td>200205231136471198141</td>\n",
       "      <td>JOSE ANTONIO DAVILA ARMENTA</td>\n",
       "      <td>MODIFICACION</td>\n",
       "      <td>23/05/2002</td>\n",
       "      <td>VERIFICADOR</td>\n",
       "      <td>SECRETARIA DE HACIENDA Y CREDITO PUBLICO</td>\n",
       "      <td>OPERACION ADUANERA</td>\n",
       "      <td>NO</td>\n",
       "      <td>LICENCIATURA</td>\n",
       "      <td>3fa51abc51dca570e73bad0c5e1c76c4</td>\n",
       "    </tr>\n",
       "  </tbody>\n",
       "</table>\n",
       "</div>"
      ],
      "text/plain": [
       "                   ACUSE                        NOMBRE TIPO_DECLARACION  \\\n",
       "0                   6482   LEONARDO DE LA CRUZ AGUILAR          INICIAL   \n",
       "1  200205230944131094591  VICTOR MANUEL CORONA NORIEGA     MODIFICACION   \n",
       "2  200205291619561249043   JESUS ARMANDO GIL CASAMAYOR     MODIFICACION   \n",
       "3                   9497        MANUEL CORTÃ¿S AGUILAR     MODIFICACION   \n",
       "4  200205231136471198141   JOSE ANTONIO DAVILA ARMENTA     MODIFICACION   \n",
       "\n",
       "  FECHA_ENVIO                          PUESTO  \\\n",
       "0  08/05/2002            JEFE DE DEPARTAMENTO   \n",
       "1  23/05/2002           ENLACE ADMINISTRATIVO   \n",
       "2  29/05/2002  SUPERVISOR DE AUDITORIA FISCAL   \n",
       "3  09/05/2002            JEFE DE DEPARTAMENTO   \n",
       "4  23/05/2002                     VERIFICADOR   \n",
       "\n",
       "                                         DEPENDENCIA  \\\n",
       "0          CONSEJERIA JURIDICA DEL EJECUTIVO FEDERAL   \n",
       "1  SECRETARIA DE MEDIO AMBIENTE Y RECURSOS NATURALES   \n",
       "2              SERVICIO DE ADMINISTRACION TRIBUTARIA   \n",
       "3     PROCURADURIA FEDERAL DEL CONSUMIDOR (PROFECO).   \n",
       "4           SECRETARIA DE HACIENDA Y CREDITO PUBLICO   \n",
       "\n",
       "                                    AREA_ADSCRIPCION HONORARIOS  \\\n",
       "0                                CONSEJERIA JURIDICA         NO   \n",
       "1  INSTITUTO NACIONAL DE ECOLOGIA DIRECCION GENER...         NO   \n",
       "2  ADMINISTRACION LOCAL DE AUDITORIA FISCAL DE CH...         NO   \n",
       "3                      UNIDAD DE COMUNICACION SOCIAL         NO   \n",
       "4                                 OPERACION ADUANERA         NO   \n",
       "\n",
       "         MAXIMO_GRADO_ESTUDIOS                              hash  \n",
       "0                 LICENCIATURA  2422816d827f0fcdb68d8d4f044f92bf  \n",
       "1                 LICENCIATURA  feaef61127bfb19422f0489154a52a5f  \n",
       "2                 LICENCIATURA  6fcf80d4ae82c3893def04958f1607cf  \n",
       "3  CARRERA TECNICA O COMERCIAL  8bb9602f4a18b6886219e7d9b8f3aca7  \n",
       "4                 LICENCIATURA  3fa51abc51dca570e73bad0c5e1c76c4  "
      ]
     },
     "execution_count": 94,
     "metadata": {},
     "output_type": "execute_result"
    }
   ],
   "source": [
    "df_general.head()"
   ]
  },
  {
   "cell_type": "code",
   "execution_count": 107,
   "metadata": {},
   "outputs": [],
   "source": [
    "df_general['hash'] = df_general.iloc[:,1:].drop([\"FECHA_ENVIO\", \"TIPO_DECLARACION\"], axis=1).apply(\n",
    "    lambda x: hashlib.md5(\"\".join(x).encode()).hexdigest(), axis=1)\n",
    "df_general_2003['hash'] = df_general_2003.iloc[:,1:].drop([\"FECHA_ENVIO\", \"TIPO_DECLARACION\"], axis=1).apply(\n",
    "    lambda x: hashlib.md5(\"\".join(x).encode()).hexdigest(), axis=1)"
   ]
  },
  {
   "cell_type": "code",
   "execution_count": 108,
   "metadata": {},
   "outputs": [
    {
     "name": "stdout",
     "output_type": "stream",
     "text": [
      "pocentaje de hashs repethashos:  0.3698745053921949\n"
     ]
    }
   ],
   "source": [
    "hashs_2002 = set(df_general['hash'].unique())\n",
    "hashs_2003 = set(df_general_2003[\"hash\"].unique())\n",
    "print(\"pocentaje de hashs repethashos: \", len(hashs_2002 & hashs_2003) / len(hashs_2002))"
   ]
  }
 ],
 "metadata": {
  "kernelspec": {
   "display_name": "Python 3",
   "language": "python",
   "name": "python3"
  },
  "language_info": {
   "codemirror_mode": {
    "name": "ipython",
    "version": 3
   },
   "file_extension": ".py",
   "mimetype": "text/x-python",
   "name": "python",
   "nbconvert_exporter": "python",
   "pygments_lexer": "ipython3",
   "version": "3.6.9"
  }
 },
 "nbformat": 4,
 "nbformat_minor": 4
}
