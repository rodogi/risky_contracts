{
 "cells": [
  {
   "cell_type": "code",
   "execution_count": 1,
   "metadata": {},
   "outputs": [],
   "source": [
    "import pandas as pd\n",
    "import numpy as np"
   ]
  },
  {
   "cell_type": "code",
   "execution_count": 17,
   "metadata": {},
   "outputs": [],
   "source": [
    "cnts = pd.read_csv(\"../data/pre-process/contratos_3.csv\")"
   ]
  },
  {
   "cell_type": "code",
   "execution_count": 7,
   "metadata": {},
   "outputs": [
    {
     "name": "stdout",
     "output_type": "stream",
     "text": [
      "<class 'pandas.core.frame.DataFrame'>\n",
      "RangeIndex: 1798629 entries, 0 to 1798628\n",
      "Data columns (total 18 columns):\n",
      " #   Column             Non-Null Count    Dtype  \n",
      "---  ------             --------------    -----  \n",
      " 0   id                 1798629 non-null  int64  \n",
      " 1   start_date         1798629 non-null  object \n",
      " 2   amount             1798629 non-null  float64\n",
      " 3   ramo               1764706 non-null  float64\n",
      " 4   desc_ramo          1752341 non-null  object \n",
      " 5   person             1798629 non-null  float64\n",
      " 6   buyer              1798629 non-null  object \n",
      " 7   file_size          1798629 non-null  int64  \n",
      " 8   single_bid         1798629 non-null  int64  \n",
      " 9   contract_duration  1798544 non-null  float64\n",
      " 10  prop_window        1085901 non-null  float64\n",
      " 11  daily_price        1798456 non-null  float64\n",
      " 12  contract_type      1795781 non-null  object \n",
      " 13  gvmnt_level        1798629 non-null  object \n",
      " 14  buyer_state        1798140 non-null  object \n",
      " 15  supplier_country   1798629 non-null  object \n",
      " 16  supplier           1798629 non-null  object \n",
      " 17  supplier_state     1424809 non-null  object \n",
      "dtypes: float64(6), int64(3), object(9)\n",
      "memory usage: 247.0+ MB\n"
     ]
    }
   ],
   "source": [
    "cnts.info(null_counts=True)"
   ]
  },
  {
   "cell_type": "code",
   "execution_count": 22,
   "metadata": {},
   "outputs": [],
   "source": [
    "ramos = {\n",
    "    'economia': 'Economía',\n",
    "    'educacion publica': 'Educación Pública',\n",
    "    'salud': 'Salud',\n",
    "    'Agricultura y\\xa0Desarrollo Rural': 'Agricultura y Desarrollo Rural',\n",
    "    'agricultura y desarrollo rural': 'Agricultura y Desarrollo Rural',\n",
    "    'gobernacion': 'Gobernación',\n",
    "    'medio ambiente y recursos naturales': 'Medio Ambiente y Recursos Naturales',\n",
    "    'gobernacion': 'Gobernación',\n",
    "    'hacienda y credito publico': 'Hacienda y Crédito Público',\n",
    "    'desarrollo agrario, territorial y urbano': 'Desarrollo Agrario, Territorial y Urbano',\n",
    "    'medio ambiente y recursos naturales': 'Medio Ambiente y Recursos Naturales',\n",
    "    'energia': 'Energía',\n",
    "    'turismo': 'Turismo',\n",
    "    'consejo nacional de ciencia y tecnologia': 'Consejo Nacional de Ciencia y Tecnología',\n",
    "    'cultura': 'Cultura',\n",
    "    'comunicaciones y transportes': 'Comunicaciones y Transportes'\n",
    "}"
   ]
  },
  {
   "cell_type": "code",
   "execution_count": 23,
   "metadata": {},
   "outputs": [],
   "source": [
    "cnts['desc_ramo'] = cnts.desc_ramo.replace(ramos)"
   ]
  },
  {
   "cell_type": "code",
   "execution_count": 30,
   "metadata": {},
   "outputs": [],
   "source": [
    "cnts.to_csv(\"../data/pre-process/contratos_3.csv\", index=False)"
   ]
  }
 ],
 "metadata": {
  "kernelspec": {
   "display_name": "Python 3",
   "language": "python",
   "name": "python3"
  },
  "language_info": {
   "codemirror_mode": {
    "name": "ipython",
    "version": 3
   },
   "file_extension": ".py",
   "mimetype": "text/x-python",
   "name": "python",
   "nbconvert_exporter": "python",
   "pygments_lexer": "ipython3",
   "version": "3.6.9"
  }
 },
 "nbformat": 4,
 "nbformat_minor": 4
}
