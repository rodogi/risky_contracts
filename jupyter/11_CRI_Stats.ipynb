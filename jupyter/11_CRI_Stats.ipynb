{
 "cells": [
  {
   "cell_type": "code",
   "execution_count": 1,
   "metadata": {},
   "outputs": [],
   "source": [
    "import pandas as pd\n",
    "import numpy as np\n",
    "import seaborn as sns; sns.set(style='white')\n",
    "import matplotlib.pyplot as plt"
   ]
  },
  {
   "cell_type": "code",
   "execution_count": 2,
   "metadata": {},
   "outputs": [],
   "source": [
    "cnts = pd.read_csv(\"../data/pre-process/contratos_4.csv\")"
   ]
  },
  {
   "cell_type": "code",
   "execution_count": 16,
   "metadata": {},
   "outputs": [],
   "source": [
    "covariates = ['code_b',\n",
    "              'same_state',\n",
    "              'person',\n",
    "              'single_bid',\n",
    "              'daily_price',\n",
    "              'amount',\n",
    "              'file_size',\n",
    "              'atom',\n",
    "              'CRI']"
   ]
  },
  {
   "cell_type": "code",
   "execution_count": 17,
   "metadata": {},
   "outputs": [],
   "source": [
    "table = cnts[covariates]"
   ]
  },
  {
   "cell_type": "code",
   "execution_count": 18,
   "metadata": {},
   "outputs": [],
   "source": [
    "table = table.groupby('code_b').mean()"
   ]
  },
  {
   "cell_type": "code",
   "execution_count": 25,
   "metadata": {},
   "outputs": [],
   "source": [
    "table = pd.merge(table,\n",
    "                 cnts.groupby('code_b').size().rename('Contracts'),\n",
    "                 left_on=\"code_b\",\n",
    "                 right_index=True,\n",
    "                 how=\"left\")"
   ]
  },
  {
   "cell_type": "code",
   "execution_count": 36,
   "metadata": {},
   "outputs": [],
   "source": [
    "order = [\n",
    "         'Contracts',\n",
    "         'atom',\n",
    "         'same_state',\n",
    "         'person',\n",
    "         'single_bid',\n",
    "         'amount',\n",
    "         'daily_price',\n",
    "         'file_size',\n",
    "         'CRI']"
   ]
  },
  {
   "cell_type": "code",
   "execution_count": 39,
   "metadata": {},
   "outputs": [
    {
     "name": "stdout",
     "output_type": "stream",
     "text": [
      "\\begin{tabular}{lrrrrrrrrr}\n",
      "\\toprule\n",
      "{} &  Contracts &  atom &  same\\_state &  person &  single\\_bid &     amount &  daily\\_price &  file\\_size &    CRI \\\\\n",
      "code\\_b &            &       &             &         &             &            &              &            &        \\\\\n",
      "\\midrule\n",
      "AGU    &       7906 &  0.26 &        0.29 &    0.18 &        0.49 &   97117.06 &       959.66 &       8.02 &  14.63 \\\\\n",
      "BCN    &      27130 &  0.08 &        0.41 &    0.30 &        0.76 &   76820.23 &      1119.84 &       4.27 &  29.78 \\\\\n",
      "BCS    &      21377 &  0.01 &        0.38 &    0.41 &        0.80 &   55182.51 &      1341.25 &       1.46 &  19.72 \\\\\n",
      "CAM    &       8486 &  0.04 &        0.37 &    0.30 &        0.68 &  141340.20 &      1374.25 &       2.69 &  15.89 \\\\\n",
      "CHH    &      24445 &  0.22 &        0.39 &    0.27 &        0.74 &   55984.19 &       885.13 &       9.90 &  37.44 \\\\\n",
      "CHP    &      17512 &  0.04 &        0.45 &    0.24 &        0.65 &  110096.14 &      1437.89 &       2.46 &  25.42 \\\\\n",
      "CMX    &     792339 &  0.10 &        0.41 &    0.22 &        0.84 &  188959.13 &      2619.40 &      16.92 &  60.35 \\\\\n",
      "COA    &      29175 &  0.12 &        0.25 &    0.21 &        0.78 &   43952.15 &      1698.67 &       6.79 &  21.01 \\\\\n",
      "COL    &      11360 &  0.09 &        0.35 &    0.29 &        0.68 &  177471.42 &      4299.05 &       4.07 &  20.42 \\\\\n",
      "DUR    &      13343 &  0.10 &        0.31 &    0.24 &        0.56 &  101607.81 &      1388.78 &       4.25 &  23.23 \\\\\n",
      "GRO    &      15612 &  0.10 &        0.42 &    0.26 &        0.67 &  140592.22 &      3189.43 &       3.99 &  28.46 \\\\\n",
      "GUA    &      29815 &  0.12 &        0.26 &    0.22 &        0.72 &   67035.06 &      2290.04 &       5.50 &  27.73 \\\\\n",
      "HID    &      21416 &  0.11 &        0.23 &    0.20 &        0.75 &   63134.75 &      1858.33 &       4.40 &  22.19 \\\\\n",
      "JAL    &      52247 &  0.16 &        0.48 &    0.28 &        0.80 &   68441.22 &      1338.01 &       9.68 &  38.12 \\\\\n",
      "MEX    &      70338 &  0.09 &        0.28 &    0.25 &        0.68 &  145672.91 &      4489.02 &       4.35 &  37.31 \\\\\n",
      "MIC    &      26492 &  0.14 &        0.33 &    0.29 &        0.73 &   96984.47 &      1776.14 &       5.31 &  39.01 \\\\\n",
      "MOR    &      35296 &  0.05 &        0.23 &    0.31 &        0.75 &  166102.24 &      2308.47 &       2.59 &  38.30 \\\\\n",
      "NAY    &      10749 &  0.12 &        0.31 &    0.28 &        0.74 &   43729.22 &       875.93 &       4.61 &  15.27 \\\\\n",
      "NLE    &      27435 &  0.06 &        0.57 &    0.16 &        0.70 &  175207.93 &      4778.20 &       3.00 &  22.91 \\\\\n",
      "OAX    &      18792 &  0.06 &        0.38 &    0.27 &        0.56 &   86921.48 &      1508.79 &       3.00 &  29.72 \\\\\n",
      "PUE    &      25599 &  0.11 &        0.40 &    0.20 &        0.74 &   55655.78 &       990.40 &       4.24 &  22.49 \\\\\n",
      "QUE    &      19187 &  0.05 &        0.25 &    0.22 &        0.75 &   51512.10 &      2262.43 &       2.70 &  14.58 \\\\\n",
      "ROO    &      10141 &  0.19 &        0.29 &    0.24 &        0.56 &   72467.32 &      1078.79 &       6.19 &  21.37 \\\\\n",
      "SIN    &      20142 &  0.06 &        0.53 &    0.29 &        0.70 &  103540.38 &      1626.03 &       2.65 &  30.57 \\\\\n",
      "SLP    &      18770 &  0.10 &        0.24 &    0.18 &        0.79 &  108755.80 &      3165.94 &       6.21 &  20.01 \\\\\n",
      "SON    &      56179 &  0.16 &        0.33 &    0.21 &        0.86 &   46754.62 &      1437.57 &      88.00 &  40.10 \\\\\n",
      "TAB    &      11106 &  0.03 &        0.49 &    0.32 &        0.60 &  125304.21 &      1347.47 &       1.90 &  27.43 \\\\\n",
      "TAM    &      20177 &  0.04 &        0.49 &    0.27 &        0.66 &   87856.63 &      1365.79 &       2.62 &  25.58 \\\\\n",
      "TLA    &       3402 &  0.01 &        0.28 &    0.25 &        0.65 &   94482.68 &      2114.22 &       1.51 &  -0.94 \\\\\n",
      "VER    &      63140 &  0.07 &        0.37 &    0.22 &        0.75 &  116670.38 &      1961.89 &       3.46 &  32.59 \\\\\n",
      "YUC    &      23129 &  0.07 &        0.45 &    0.22 &        0.71 &   64693.40 &      1368.81 &       3.03 &  26.67 \\\\\n",
      "ZAC    &       6812 &  0.15 &        0.38 &    0.28 &        0.61 &  150430.51 &     13065.10 &       4.82 &  19.22 \\\\\n",
      "\\bottomrule\n",
      "\\end{tabular}\n",
      "\n"
     ]
    }
   ],
   "source": [
    "print(table[order].round(2).to_latex())"
   ]
  }
 ],
 "metadata": {
  "kernelspec": {
   "display_name": "Python 3",
   "language": "python",
   "name": "python3"
  },
  "language_info": {
   "codemirror_mode": {
    "name": "ipython",
    "version": 3
   },
   "file_extension": ".py",
   "mimetype": "text/x-python",
   "name": "python",
   "nbconvert_exporter": "python",
   "pygments_lexer": "ipython3",
   "version": "3.6.9"
  }
 },
 "nbformat": 4,
 "nbformat_minor": 4
}
