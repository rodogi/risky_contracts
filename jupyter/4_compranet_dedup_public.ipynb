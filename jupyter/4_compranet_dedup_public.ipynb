{
 "cells": [
  {
   "cell_type": "markdown",
   "metadata": {},
   "source": [
    "# Deduplicated public buyers"
   ]
  },
  {
   "cell_type": "code",
   "execution_count": 1,
   "metadata": {},
   "outputs": [],
   "source": [
    "import pandas as pd\n",
    "import numpy as np"
   ]
  },
  {
   "cell_type": "code",
   "execution_count": 2,
   "metadata": {},
   "outputs": [],
   "source": [
    "CNTS = '/home/rdora/declaranet/data/pre-process/contratos_3.csv'\n",
    "cnts = pd.read_csv(CNTS)"
   ]
  },
  {
   "cell_type": "code",
   "execution_count": 21,
   "metadata": {},
   "outputs": [],
   "source": [
    "public = cnts.groupby(['buyer', 'buyer_state', 'ramo', 'gvmnt_level'])[\n",
    "    ['buyer', 'buyer_state', 'ramo', 'gvmnt_level']].head()"
   ]
  },
  {
   "cell_type": "code",
   "execution_count": 23,
   "metadata": {},
   "outputs": [],
   "source": [
    "PUBLIC = '/home/rdora/declaranet/data/dedup/public.csv'\n",
    "public.to_csv(PUBLIC, index=False)"
   ]
  },
  {
   "cell_type": "code",
   "execution_count": 26,
   "metadata": {},
   "outputs": [
    {
     "data": {
      "text/plain": [
       "array(['Sinaloa', 'México', 'Chiapas', 'Baja California Sur', 'Morelos',\n",
       "       'Guanajuato', 'Colima', 'Veracruz de Ignacio de la Llave',\n",
       "       'Ciudad de México', 'Sonora', 'Oaxaca', 'Hidalgo', 'Nayarit',\n",
       "       'Tamaulipas', 'Baja California', 'Yucatán', 'Nuevo León',\n",
       "       'Durango', 'Coahuila de Zaragoza', 'Jalisco',\n",
       "       'Michoacán de Ocampo', 'Querétaro', 'San Luis Potosí',\n",
       "       'Quintana Roo', 'Guerrero', 'Zacatecas', 'Puebla', 'Campeche',\n",
       "       'Tabasco', nan, 'Aguascalientes', 'Chihuahua', 'Tlaxcala'],\n",
       "      dtype=object)"
      ]
     },
     "execution_count": 26,
     "metadata": {},
     "output_type": "execute_result"
    }
   ],
   "source": [
    "public.buyer_state.unique()"
   ]
  },
  {
   "cell_type": "markdown",
   "metadata": {},
   "source": [
    "# Run Dedup\n",
    "\n",
    "Here, we run the script `~/declaranet/python/deduplicate.py` to create a cluster for each record."
   ]
  },
  {
   "cell_type": "code",
   "execution_count": 63,
   "metadata": {},
   "outputs": [],
   "source": [
    "PUBLIC_2 = '/home/rdora/declaranet/data/dedup/output_public.csv'\n",
    "public_cl = pd.read_csv(PUBLIC_2)"
   ]
  },
  {
   "cell_type": "markdown",
   "metadata": {},
   "source": [
    "# Groupby"
   ]
  },
  {
   "cell_type": "code",
   "execution_count": 16,
   "metadata": {},
   "outputs": [],
   "source": [
    "def get_mode(group):\n",
    "    vc = group.value_counts()\n",
    "    if vc.shape[0]:\n",
    "        return vc.index[0]\n",
    "    else:\n",
    "        return np.nan"
   ]
  },
  {
   "cell_type": "code",
   "execution_count": 64,
   "metadata": {},
   "outputs": [
    {
     "name": "stderr",
     "output_type": "stream",
     "text": [
      "/home/rdora/.local/lib/python3.6/site-packages/ipykernel_launcher.py:1: FutureWarning: Indexing with multiple keys (implicitly converted to a tuple of keys) will be deprecated, use a list instead.\n",
      "  \"\"\"Entry point for launching an IPython kernel.\n"
     ]
    }
   ],
   "source": [
    "gb_public = public_cl.groupby('Cluster ID')['buyer', 'buyer_state'].agg(get_mode).reset_index()"
   ]
  },
  {
   "cell_type": "markdown",
   "metadata": {},
   "source": [
    "## Companies"
   ]
  },
  {
   "cell_type": "code",
   "execution_count": 66,
   "metadata": {},
   "outputs": [],
   "source": [
    "public = cnts.copy()\n",
    "\n",
    "public = pd.merge(public,\n",
    "                public_cl[['Cluster ID', 'buyer', 'buyer_state']],\n",
    "                on=['buyer', 'buyer_state'],\n",
    "                how='left')\n",
    "\n",
    "public = public.drop(['buyer', 'buyer_state'], axis=1)\n",
    "\n",
    "public = pd.merge(public, gb_public, how='left')"
   ]
  },
  {
   "cell_type": "code",
   "execution_count": 67,
   "metadata": {},
   "outputs": [
    {
     "name": "stdout",
     "output_type": "stream",
     "text": [
      "New contracts with Buyer State: 0\n",
      "Number of duplicated UCs: 178\n"
     ]
    }
   ],
   "source": [
    "print(\"New contracts with Buyer State:\",\n",
    "      cnts.buyer_state.isna().sum() - public.buyer_state.isna().sum())\n",
    "\n",
    "print(\"Number of duplicated UCs:\",\n",
    "     cnts.buyer.nunique() - public.buyer.nunique())"
   ]
  },
  {
   "cell_type": "code",
   "execution_count": 68,
   "metadata": {},
   "outputs": [
    {
     "name": "stdout",
     "output_type": "stream",
     "text": [
      "Number of deduplicated edges: 88,102\n"
     ]
    }
   ],
   "source": [
    "buyer = set(cnts.buyer.unique())\n",
    "buyer_2 = set(public.buyer.unique())\n",
    "miss = buyer - buyer_2\n",
    "\n",
    "print(f\"Number of deduplicated edges: {cnts[cnts.buyer.isin(miss)].shape[0]:,}\")"
   ]
  }
 ],
 "metadata": {
  "kernelspec": {
   "display_name": "Python 3",
   "language": "python",
   "name": "python3"
  },
  "language_info": {
   "codemirror_mode": {
    "name": "ipython",
    "version": 3
   },
   "file_extension": ".py",
   "mimetype": "text/x-python",
   "name": "python",
   "nbconvert_exporter": "python",
   "pygments_lexer": "ipython3",
   "version": "3.6.9"
  }
 },
 "nbformat": 4,
 "nbformat_minor": 4
}
