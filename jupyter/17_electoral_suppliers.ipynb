{
 "cells": [
  {
   "cell_type": "markdown",
   "metadata": {},
   "source": [
    "# Suspicious suppliers"
   ]
  },
  {
   "cell_type": "code",
   "execution_count": 1,
   "metadata": {},
   "outputs": [],
   "source": [
    "import pandas as pd\n",
    "import numpy as np\n",
    "\n",
    "import re\n",
    "from unidecode import unidecode\n",
    "\n",
    "import seaborn as sns"
   ]
  },
  {
   "cell_type": "code",
   "execution_count": 2,
   "metadata": {},
   "outputs": [],
   "source": [
    "stop_words = [\n",
    "    r\"S\\.?A\\.? *DE\\.? *C\\.?V\\.?\",\n",
    "    r\"S\\.? *DE\\.? *R\\.?L\\.? *DE *C\\.?V\\.?\",\n",
    "    r\"S\\.?A\\.?P\\.?I\\.? *DE\\.? *C\\.?V\\.?\",\n",
    "    r\"S\\.?A\\.?B\\.? *DE\\.? *C\\.?V\\.?\",\n",
    "    r\"S\\.? *DE\\.? *R\\.?L\\.?\",\n",
    "    r\"\\bL\\.? *T\\.? *D\\.?\\b\",\n",
    "    r\"\\bS\\.? *A\\.?\\b\",\n",
    "    r\"\\bR\\.? *L\\.?\\b\",\n",
    "    r\"\\bC\\.? *V\\.?\\b\",\n",
    "    r\"\\bS\\.? *C\\.?\\b\",\n",
    "    r\"\\bS\\.? *C\\.? *L\\.?\",\n",
    "    r\"\\bS\\.?A\\.?P\\.?I\\.?\\b\",\n",
    "    r\"S\\.A\\.S\\.?\"]"
   ]
  },
  {
   "cell_type": "code",
   "execution_count": 3,
   "metadata": {},
   "outputs": [],
   "source": [
    "def norm(x):\n",
    "    for word in stop_words:\n",
    "        x = re.sub(word, \"\", x)\n",
    "    x = x.replace(\".\", \"\")\n",
    "    x = x.replace(\",\", \"\")\n",
    "    return unidecode(x.strip().lower())"
   ]
  },
  {
   "cell_type": "code",
   "execution_count": 4,
   "metadata": {},
   "outputs": [],
   "source": [
    "cnts = pd.read_csv(\"../data/pre-process/contratos_4.csv\", parse_dates=['start_date'])"
   ]
  },
  {
   "cell_type": "code",
   "execution_count": 5,
   "metadata": {},
   "outputs": [],
   "source": [
    "cnts['year'] = cnts.start_date.dt.year"
   ]
  },
  {
   "cell_type": "code",
   "execution_count": 6,
   "metadata": {},
   "outputs": [],
   "source": [
    "cnts = cnts.drop('CRI', axis=1)\n",
    "cnts = cnts.dropna(subset=['usupplier', 'ubuyer'])"
   ]
  },
  {
   "cell_type": "code",
   "execution_count": 7,
   "metadata": {},
   "outputs": [],
   "source": [
    "cnts['normed'] = cnts['supplier'].apply(norm)\n",
    "\n",
    "parts = pd.read_json(\"../data/tables/s3-particulares-sfp.json\")\n",
    "parts['year'] = pd.to_datetime(parts.fechaCaptura).dt.year.astype(int)\n",
    "parts = parts[['nombreRazonSocial', 'year']]\n",
    "\n",
    "parts['normed'] = parts['nombreRazonSocial'].apply(norm)"
   ]
  },
  {
   "cell_type": "markdown",
   "metadata": {},
   "source": [
    "# Federal contracts"
   ]
  },
  {
   "cell_type": "code",
   "execution_count": 9,
   "metadata": {},
   "outputs": [],
   "source": [
    "cnts_slevel = cnts[cnts.gvmnt_level!='F']\n",
    "\n",
    "cnts = cnts[cnts.gvmnt_level=='F']"
   ]
  },
  {
   "cell_type": "markdown",
   "metadata": {},
   "source": [
    "# Sanctioned suppliers"
   ]
  },
  {
   "cell_type": "code",
   "execution_count": 10,
   "metadata": {},
   "outputs": [],
   "source": [
    "s = set(cnts['normed'].unique()) & set(parts['normed'].unique())"
   ]
  },
  {
   "cell_type": "code",
   "execution_count": 11,
   "metadata": {},
   "outputs": [],
   "source": [
    "cnts['sanctioned'] = 0"
   ]
  },
  {
   "cell_type": "code",
   "execution_count": 12,
   "metadata": {},
   "outputs": [],
   "source": [
    "cnts.loc[cnts.normed.isin(s), 'sanctioned'] = 1"
   ]
  },
  {
   "cell_type": "markdown",
   "metadata": {},
   "source": [
    "# Fake companies"
   ]
  },
  {
   "cell_type": "code",
   "execution_count": 13,
   "metadata": {},
   "outputs": [],
   "source": [
    "fantasmas = pd.read_csv(\"../data/tables/fantasmas.csv\", delimiter=\"\\n\", names=['supplier'])\n",
    "\n",
    "fantasmas['normed'] = fantasmas['supplier'].apply(norm)"
   ]
  },
  {
   "cell_type": "code",
   "execution_count": 14,
   "metadata": {},
   "outputs": [],
   "source": [
    "s2 = set(cnts['normed'].unique()) & set(fantasmas['normed'].unique())"
   ]
  },
  {
   "cell_type": "code",
   "execution_count": 15,
   "metadata": {},
   "outputs": [],
   "source": [
    "cnts.loc[cnts.normed.isin(s2), 'sanctioned'] = 1"
   ]
  },
  {
   "cell_type": "markdown",
   "metadata": {},
   "source": [
    "# Disapearing suppliers in 2019"
   ]
  },
  {
   "cell_type": "code",
   "execution_count": 16,
   "metadata": {},
   "outputs": [],
   "source": [
    "supplier_18 = cnts[cnts['year']==2018].groupby('usupplier').size().rename(\"N\").reset_index()"
   ]
  },
  {
   "cell_type": "code",
   "execution_count": 17,
   "metadata": {},
   "outputs": [],
   "source": [
    "s18 = set(supplier_18[supplier_18.N >= supplier_18.N.mean()]['usupplier'].unique())"
   ]
  },
  {
   "cell_type": "code",
   "execution_count": 18,
   "metadata": {},
   "outputs": [],
   "source": [
    "s19 = set(cnts[cnts.year==2019]['usupplier'].unique())"
   ]
  },
  {
   "cell_type": "code",
   "execution_count": 19,
   "metadata": {},
   "outputs": [],
   "source": [
    "cnts['unstable'] = 0\n",
    "cnts.loc[cnts.usupplier.isin(s18 - s19), 'unstable'] = 1"
   ]
  },
  {
   "cell_type": "code",
   "execution_count": 20,
   "metadata": {},
   "outputs": [
    {
     "data": {
      "text/plain": [
       "Index(['id', 'start_date', 'amount', 'ramo', 'desc_ramo', 'person', 'buyer',\n",
       "       'file_size', 'single_bid', 'contract_duration', 'prop_window',\n",
       "       'daily_price', 'contract_type', 'gvmnt_level', 'buyer_state',\n",
       "       'supplier_country', 'supplier', 'supplier_state', 'state_b', 'code_b',\n",
       "       'state_s', 'code_s', 'ubuyer', 'usupplier', 'comp', 'long',\n",
       "       'proportion_window', 'atom', 'buyer_dispersion', 'supplier_dispersion',\n",
       "       'clustering', 'single_interaction', 'interaction', 's_interaction',\n",
       "       'year', 'normed', 'sanctioned', 'unstable'],\n",
       "      dtype='object')"
      ]
     },
     "execution_count": 20,
     "metadata": {},
     "output_type": "execute_result"
    }
   ],
   "source": [
    "cnts.columns"
   ]
  },
  {
   "cell_type": "code",
   "execution_count": 21,
   "metadata": {},
   "outputs": [],
   "source": [
    "sel_cols = [\n",
    "    'file_size',\n",
    "    'amount',\n",
    "    'person',\n",
    "    'single_bid',\n",
    "    'contract_duration',\n",
    "    'prop_window',\n",
    "    's_interaction',\n",
    "    'atom',\n",
    "    'daily_price',\n",
    "    'interaction',\n",
    "    'clustering'\n",
    "]"
   ]
  },
  {
   "cell_type": "markdown",
   "metadata": {},
   "source": [
    "## Null model for unstable and sanctioned companies\n",
    "\n",
    "Let $N$ and $M$ be the number of contracts by sanctioned and unstable companies, respectively. To create a null-model, we will iterate randomly over $N$ and $M$ contracts, respectively to calculate the scores of measures in `sel_cols`."
   ]
  },
  {
   "cell_type": "code",
   "execution_count": 22,
   "metadata": {},
   "outputs": [],
   "source": [
    "np.random.seed(42)"
   ]
  },
  {
   "cell_type": "code",
   "execution_count": 23,
   "metadata": {},
   "outputs": [],
   "source": [
    "N = (cnts.sanctioned == 1).sum()\n",
    "M = (cnts.unstable == 1).sum()"
   ]
  },
  {
   "cell_type": "code",
   "execution_count": 24,
   "metadata": {},
   "outputs": [],
   "source": [
    "cnts_ran = cnts[(cnts.unstable==0) & (cnts.sanctioned==0)]"
   ]
  },
  {
   "cell_type": "code",
   "execution_count": 25,
   "metadata": {},
   "outputs": [],
   "source": [
    "ran_N = []\n",
    "ran_M = []\n",
    "for i in range(1000):\n",
    "    R = np.random.choice(range(cnts_ran.shape[0]), M)\n",
    "    ran_M.append(list(cnts_ran.iloc[R][sel_cols].mean().values) + [cnts_ran.iloc[R].groupby('usupplier').size().mean()])\n",
    "    R = np.random.choice(range(cnts_ran.shape[0]), N)\n",
    "    ran_N.append(list(cnts_ran.iloc[R][sel_cols].mean().values) + [cnts_ran.iloc[R].groupby('usupplier').size().mean()])"
   ]
  },
  {
   "cell_type": "code",
   "execution_count": 26,
   "metadata": {},
   "outputs": [],
   "source": [
    "df_N = pd.DataFrame(ran_N, columns=list(sel_cols) + ['ncontracts'])\n",
    "df_M = pd.DataFrame(ran_M, columns=list(sel_cols) + ['ncontracts'])"
   ]
  },
  {
   "cell_type": "code",
   "execution_count": 27,
   "metadata": {},
   "outputs": [],
   "source": [
    "df_N['null'] = 'sanctioned'\n",
    "df_M['null'] = 'unstable'"
   ]
  },
  {
   "cell_type": "code",
   "execution_count": 28,
   "metadata": {},
   "outputs": [],
   "source": [
    "df = pd.concat([df_N, df_M])"
   ]
  },
  {
   "cell_type": "markdown",
   "metadata": {},
   "source": [
    "## Number of contracts in 2018"
   ]
  },
  {
   "cell_type": "code",
   "execution_count": 29,
   "metadata": {},
   "outputs": [],
   "source": [
    "df_melt = df.melt(id_vars='null', var_name='column')"
   ]
  },
  {
   "cell_type": "code",
   "execution_count": 30,
   "metadata": {},
   "outputs": [
    {
     "data": {
      "text/plain": [
       "file_size               3.000000\n",
       "amount               6055.000000\n",
       "person                  0.000000\n",
       "single_bid              1.000000\n",
       "contract_duration      41.000000\n",
       "prop_window             7.000000\n",
       "s_interaction           4.114504\n",
       "atom                    1.000000\n",
       "daily_price           163.000000\n",
       "interaction             4.373928\n",
       "clustering              0.020437\n",
       "dtype: float64"
      ]
     },
     "execution_count": 30,
     "metadata": {},
     "output_type": "execute_result"
    }
   ],
   "source": [
    "cnts[cnts.sanctioned==1][sel_cols].median()"
   ]
  },
  {
   "cell_type": "code",
   "execution_count": 79,
   "metadata": {},
   "outputs": [
    {
     "data": {
      "text/plain": [
       "37.39457202505219"
      ]
     },
     "execution_count": 79,
     "metadata": {},
     "output_type": "execute_result"
    }
   ],
   "source": [
    "cnts[cnts.sanctioned==1].groupby('usupplier').size().mean()"
   ]
  },
  {
   "cell_type": "code",
   "execution_count": 32,
   "metadata": {},
   "outputs": [
    {
     "data": {
      "text/plain": [
       "file_size               1.000000\n",
       "amount               7247.000000\n",
       "person                  0.000000\n",
       "single_bid              1.000000\n",
       "contract_duration      31.000000\n",
       "prop_window             3.896369\n",
       "s_interaction           4.500000\n",
       "atom                    0.000000\n",
       "daily_price           255.000000\n",
       "interaction             3.802676\n",
       "clustering              0.014253\n",
       "dtype: float64"
      ]
     },
     "execution_count": 32,
     "metadata": {},
     "output_type": "execute_result"
    }
   ],
   "source": [
    "cnts[cnts.unstable==1][sel_cols].median()"
   ]
  },
  {
   "cell_type": "code",
   "execution_count": 71,
   "metadata": {},
   "outputs": [
    {
     "data": {
      "text/plain": [
       "file_size                10.442371\n",
       "amount               104730.402328\n",
       "person                    0.156863\n",
       "single_bid                0.766991\n",
       "contract_duration        89.539225\n",
       "prop_window               5.944184\n",
       "s_interaction            12.192250\n",
       "atom                      0.320568\n",
       "daily_price            3250.662205\n",
       "interaction              11.620096\n",
       "clustering                0.015114\n",
       "dtype: float64"
      ]
     },
     "execution_count": 71,
     "metadata": {},
     "output_type": "execute_result"
    }
   ],
   "source": [
    "cnts[cnts.unstable==1][sel_cols].mean()"
   ]
  },
  {
   "cell_type": "code",
   "execution_count": 80,
   "metadata": {},
   "outputs": [
    {
     "data": {
      "text/plain": [
       "28.643237486687966"
      ]
     },
     "execution_count": 80,
     "metadata": {},
     "output_type": "execute_result"
    }
   ],
   "source": [
    "cnts[cnts.unstable==1].groupby('usupplier').size().mean()"
   ]
  },
  {
   "cell_type": "code",
   "execution_count": 41,
   "metadata": {},
   "outputs": [
    {
     "data": {
      "text/plain": [
       "939"
      ]
     },
     "execution_count": 41,
     "metadata": {},
     "output_type": "execute_result"
    }
   ],
   "source": [
    "cnts[cnts.unstable==1].usupplier.nunique()"
   ]
  },
  {
   "cell_type": "code",
   "execution_count": 69,
   "metadata": {},
   "outputs": [],
   "source": [
    "ran = np.random.randint(0, cnts.shape[0], 939)"
   ]
  },
  {
   "cell_type": "code",
   "execution_count": 70,
   "metadata": {},
   "outputs": [
    {
     "data": {
      "text/plain": [
       "15"
      ]
     },
     "execution_count": 70,
     "metadata": {},
     "output_type": "execute_result"
    }
   ],
   "source": [
    "cnts[(cnts.index.isin(ran)) & (cnts.sanctioned==1)].usupplier.nunique()"
   ]
  },
  {
   "cell_type": "code",
   "execution_count": 44,
   "metadata": {},
   "outputs": [
    {
     "data": {
      "text/plain": [
       "107271"
      ]
     },
     "execution_count": 44,
     "metadata": {},
     "output_type": "execute_result"
    }
   ],
   "source": [
    "cnts.usupplier.nunique()"
   ]
  },
  {
   "cell_type": "code",
   "execution_count": 42,
   "metadata": {},
   "outputs": [
    {
     "data": {
      "text/plain": [
       "479"
      ]
     },
     "execution_count": 42,
     "metadata": {},
     "output_type": "execute_result"
    }
   ],
   "source": [
    "cnts[cnts.sanctioned==1].usupplier.nunique()"
   ]
  },
  {
   "cell_type": "code",
   "execution_count": 43,
   "metadata": {},
   "outputs": [
    {
     "data": {
      "text/plain": [
       "22"
      ]
     },
     "execution_count": 43,
     "metadata": {},
     "output_type": "execute_result"
    }
   ],
   "source": [
    "cnts[(cnts.unstable==1) & (cnts.sanctioned==1)].usupplier.nunique()"
   ]
  },
  {
   "cell_type": "code",
   "execution_count": 72,
   "metadata": {},
   "outputs": [
    {
     "data": {
      "text/html": [
       "<div>\n",
       "<style scoped>\n",
       "    .dataframe tbody tr th:only-of-type {\n",
       "        vertical-align: middle;\n",
       "    }\n",
       "\n",
       "    .dataframe tbody tr th {\n",
       "        vertical-align: top;\n",
       "    }\n",
       "\n",
       "    .dataframe thead th {\n",
       "        text-align: right;\n",
       "    }\n",
       "</style>\n",
       "<table border=\"1\" class=\"dataframe\">\n",
       "  <thead>\n",
       "    <tr style=\"text-align: right;\">\n",
       "      <th></th>\n",
       "      <th>file_size</th>\n",
       "      <th>amount</th>\n",
       "      <th>person</th>\n",
       "      <th>single_bid</th>\n",
       "      <th>contract_duration</th>\n",
       "      <th>prop_window</th>\n",
       "      <th>s_interaction</th>\n",
       "      <th>atom</th>\n",
       "      <th>daily_price</th>\n",
       "      <th>interaction</th>\n",
       "      <th>clustering</th>\n",
       "      <th>ncontracts</th>\n",
       "    </tr>\n",
       "    <tr>\n",
       "      <th>null</th>\n",
       "      <th></th>\n",
       "      <th></th>\n",
       "      <th></th>\n",
       "      <th></th>\n",
       "      <th></th>\n",
       "      <th></th>\n",
       "      <th></th>\n",
       "      <th></th>\n",
       "      <th></th>\n",
       "      <th></th>\n",
       "      <th></th>\n",
       "      <th></th>\n",
       "    </tr>\n",
       "  </thead>\n",
       "  <tbody>\n",
       "    <tr>\n",
       "      <th>sanctioned</th>\n",
       "      <td>12.130950</td>\n",
       "      <td>160380.757873</td>\n",
       "      <td>0.191850</td>\n",
       "      <td>0.738808</td>\n",
       "      <td>116.894827</td>\n",
       "      <td>6.138937</td>\n",
       "      <td>129.271123</td>\n",
       "      <td>0.303181</td>\n",
       "      <td>2550.232522</td>\n",
       "      <td>25.918241</td>\n",
       "      <td>0.015119</td>\n",
       "      <td>1.793263</td>\n",
       "    </tr>\n",
       "    <tr>\n",
       "      <th>unstable</th>\n",
       "      <td>12.177112</td>\n",
       "      <td>158934.972472</td>\n",
       "      <td>0.191845</td>\n",
       "      <td>0.738854</td>\n",
       "      <td>116.844362</td>\n",
       "      <td>6.120360</td>\n",
       "      <td>129.073628</td>\n",
       "      <td>0.303168</td>\n",
       "      <td>2572.103745</td>\n",
       "      <td>25.905466</td>\n",
       "      <td>0.015115</td>\n",
       "      <td>1.987782</td>\n",
       "    </tr>\n",
       "  </tbody>\n",
       "</table>\n",
       "</div>"
      ],
      "text/plain": [
       "            file_size         amount    person  single_bid  contract_duration  \\\n",
       "null                                                                            \n",
       "sanctioned  12.130950  160380.757873  0.191850    0.738808         116.894827   \n",
       "unstable    12.177112  158934.972472  0.191845    0.738854         116.844362   \n",
       "\n",
       "            prop_window  s_interaction      atom  daily_price  interaction  \\\n",
       "null                                                                         \n",
       "sanctioned     6.138937     129.271123  0.303181  2550.232522    25.918241   \n",
       "unstable       6.120360     129.073628  0.303168  2572.103745    25.905466   \n",
       "\n",
       "            clustering  ncontracts  \n",
       "null                                \n",
       "sanctioned    0.015119    1.793263  \n",
       "unstable      0.015115    1.987782  "
      ]
     },
     "execution_count": 72,
     "metadata": {},
     "output_type": "execute_result"
    }
   ],
   "source": [
    "df.groupby('null').mean()"
   ]
  },
  {
   "cell_type": "code",
   "execution_count": 37,
   "metadata": {},
   "outputs": [
    {
     "data": {
      "text/plain": [
       "<seaborn.axisgrid.FacetGrid at 0xde2ffe0c>"
      ]
     },
     "execution_count": 37,
     "metadata": {},
     "output_type": "execute_result"
    },
    {
     "data": {
      "image/png": "[encoded data removed]",
      "text/plain": [
       "<Figure size 720x360 with 2 Axes>"
      ]
     },
     "metadata": {
      "needs_background": "light"
     },
     "output_type": "display_data"
    }
   ],
   "source": [
    "sns.displot(df, x=\"amount\", col=\"null\", stat=\"probability\")"
   ]
  }
 ],
 "metadata": {
  "kernelspec": {
   "display_name": "Python 3",
   "language": "python",
   "name": "python3"
  },
  "language_info": {
   "codemirror_mode": {
    "name": "ipython",
    "version": 3
   },
   "file_extension": ".py",
   "mimetype": "text/x-python",
   "name": "python",
   "nbconvert_exporter": "python",
   "pygments_lexer": "ipython3",
   "version": "3.8.5"
  }
 },
 "nbformat": 4,
 "nbformat_minor": 4
}
