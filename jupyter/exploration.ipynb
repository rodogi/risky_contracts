{
 "cells": [
  {
   "cell_type": "code",
   "execution_count": 1,
   "metadata": {},
   "outputs": [],
   "source": [
    "import pandas as pd\n",
    "import numpy as np\n",
    "import seaborn as sns\n",
    "import matplotlib.pyplot as plt"
   ]
  },
  {
   "cell_type": "code",
   "execution_count": 98,
   "metadata": {},
   "outputs": [],
   "source": [
    "from currency_converter import RateNotFoundError\n",
    "\n",
    "from currency_converter import CurrencyConverter"
   ]
  },
  {
   "cell_type": "code",
   "execution_count": 41,
   "metadata": {},
   "outputs": [],
   "source": [
    "import datetime"
   ]
  },
  {
   "cell_type": "code",
   "execution_count": null,
   "metadata": {},
   "outputs": [],
   "source": [
    "def change_currency(date):\n",
    "    try:\n",
    "        change = c.convert(1, 'MXN', 'USD', date)\n",
    "        return change\n",
    "    except RateNotFoundError:\n",
    "        pass\n",
    "    month = date.month\n",
    "    for i, new_month in enumerate(range(month + 1, month + 12)):\n",
    "        if new_month != 12:\n",
    "            new_month = new_month % 12\n",
    "        new_date = datetime.date(date.year, new_month, 1)\n",
    "        try:\n",
    "            change = c.convert(1, 'MXN', 'USD', new_date)\n",
    "            return change\n",
    "        except RateNotFoundError:\n",
    "            pass\n",
    "    return 1 / 15  # 15 pesos to USD\n",
    "        "
   ]
  },
  {
   "cell_type": "code",
   "execution_count": 191,
   "metadata": {},
   "outputs": [],
   "source": [
    "def trim_mx(name):\n",
    "    if name is pd.NA:\n",
    "        return name\n",
    "    if name.startswith(\"MX-\"):\n",
    "        return name[3:]\n",
    "    else:\n",
    "        return name"
   ]
  },
  {
   "cell_type": "markdown",
   "metadata": {},
   "source": [
    "## Pre-processing"
   ]
  },
  {
   "cell_type": "code",
   "execution_count": 42,
   "metadata": {},
   "outputs": [],
   "source": [
    "cnts = pd.read_csv('/home/rdora/declaranet/data/pre-process/contratos_4.csv')"
   ]
  },
  {
   "cell_type": "code",
   "execution_count": 3,
   "metadata": {},
   "outputs": [
    {
     "name": "stderr",
     "output_type": "stream",
     "text": [
      "/home/rdora/.local/lib/python3.6/site-packages/IPython/core/interactiveshell.py:3063: DtypeWarning: Columns (6,12) have mixed types.Specify dtype option on import or set low_memory=False.\n",
      "  interactivity=interactivity, compiler=compiler, result=result)\n"
     ]
    }
   ],
   "source": [
    "contratos = pd.read_csv('/home/rdora/declaranet/data/tables/contratos.csv')"
   ]
  },
  {
   "cell_type": "code",
   "execution_count": 18,
   "metadata": {},
   "outputs": [],
   "source": [
    "contratos_2 = contratos[['fecha_inicio', 'codigo_contrato', 'importe_contrato', 'moneda', 'proveedor_contratista', 'codigo_expediente']]"
   ]
  },
  {
   "cell_type": "code",
   "execution_count": 19,
   "metadata": {},
   "outputs": [],
   "source": [
    "contratos_2 = contratos_2[contratos_2.proveedor_contratista.notna()]"
   ]
  },
  {
   "cell_type": "code",
   "execution_count": 43,
   "metadata": {},
   "outputs": [],
   "source": [
    "cnts = pd.merge(\n",
    "    cnts,\n",
    "    coex,\n",
    "    how='left',\n",
    "    on='codigo_contrato')"
   ]
  },
  {
   "cell_type": "code",
   "execution_count": 30,
   "metadata": {},
   "outputs": [],
   "source": [
    "coex = contratos[['codigo_contrato', 'codigo_expediente']]"
   ]
  },
  {
   "cell_type": "code",
   "execution_count": 32,
   "metadata": {},
   "outputs": [],
   "source": [
    "coex = coex.drop_duplicates()"
   ]
  },
  {
   "cell_type": "code",
   "execution_count": 37,
   "metadata": {},
   "outputs": [],
   "source": [
    "coex = coex.dropna()"
   ]
  },
  {
   "cell_type": "code",
   "execution_count": 39,
   "metadata": {},
   "outputs": [],
   "source": [
    "coex = coex.drop_duplicates(subset='codigo_contrato')"
   ]
  },
  {
   "cell_type": "code",
   "execution_count": 40,
   "metadata": {},
   "outputs": [
    {
     "name": "stdout",
     "output_type": "stream",
     "text": [
      "<class 'pandas.core.frame.DataFrame'>\n",
      "Int64Index: 1798599 entries, 0 to 1801207\n",
      "Data columns (total 2 columns):\n",
      " #   Column             Non-Null Count    Dtype \n",
      "---  ------             --------------    ----- \n",
      " 0   codigo_contrato    1798599 non-null  object\n",
      " 1   codigo_expediente  1798599 non-null  object\n",
      "dtypes: object(2)\n",
      "memory usage: 41.2+ MB\n"
     ]
    }
   ],
   "source": [
    "coex.info(null_counts=True)"
   ]
  },
  {
   "cell_type": "code",
   "execution_count": 27,
   "metadata": {},
   "outputs": [
    {
     "data": {
      "text/plain": [
       "gobierno                                                                      APF\n",
       "siglas                                                                   INDAABIN\n",
       "dependencia                     Instituto de Administración y Avalúos de Biene...\n",
       "claveuc                                                                 006A00997\n",
       "nombre_de_la_uc                 INDAABIN-Dirección General de Avalúos y Obras ...\n",
       "responsable                                   Gerardo Alfonso Gutiérrez Hernández\n",
       "codigo_expediente                                                         1299013\n",
       "fecha_apertura_proposiciones                                                  NaN\n",
       "caracter                                                                 Nacional\n",
       "tipo_contratacion                                                       Servicios\n",
       "tipo_procedimiento                                   Adjudicación Directa Federal\n",
       "forma_procedimiento                                                    Presencial\n",
       "codigo_contrato                                                           1644316\n",
       "titulo_contrato                  SERVICIOS PROFESIONALES PARA LA ELABORACIÓN D...\n",
       "fecha_inicio                                                  2017-02-15 00:00:00\n",
       "fecha_fin                                                     2017-04-19 00:00:00\n",
       "importe_contrato                                                             3500\n",
       "moneda                                                                        MXN\n",
       "estatus_contrato                                                         Expirado\n",
       "folio_rupc                                                                    NaN\n",
       "proveedor_contratista                                               PARAMETRIX SC\n",
       "estratificacion_mpc                                                       Mediana\n",
       "siglas_pais                                                                    MX\n",
       "anuncio                         https://compranet.funcionpublica.gob.mx/esop/g...\n",
       "Name: 1109657, dtype: object"
      ]
     },
     "execution_count": 27,
     "metadata": {},
     "output_type": "execute_result"
    }
   ],
   "source": [
    "contratos[contratos.codigo_expediente==1299013].iloc[0]"
   ]
  },
  {
   "cell_type": "code",
   "execution_count": 59,
   "metadata": {},
   "outputs": [
    {
     "data": {
      "text/html": [
       "<div>\n",
       "<style scoped>\n",
       "    .dataframe tbody tr th:only-of-type {\n",
       "        vertical-align: middle;\n",
       "    }\n",
       "\n",
       "    .dataframe tbody tr th {\n",
       "        vertical-align: top;\n",
       "    }\n",
       "\n",
       "    .dataframe thead th {\n",
       "        text-align: right;\n",
       "    }\n",
       "</style>\n",
       "<table border=\"1\" class=\"dataframe\">\n",
       "  <thead>\n",
       "    <tr style=\"text-align: right;\">\n",
       "      <th></th>\n",
       "      <th>gobierno</th>\n",
       "      <th>siglas</th>\n",
       "      <th>dependencia</th>\n",
       "      <th>claveuc</th>\n",
       "      <th>nombre_de_la_uc</th>\n",
       "      <th>responsable</th>\n",
       "      <th>codigo_expediente</th>\n",
       "      <th>fecha_apertura_proposiciones</th>\n",
       "      <th>caracter</th>\n",
       "      <th>tipo_contratacion</th>\n",
       "      <th>...</th>\n",
       "      <th>fecha_inicio</th>\n",
       "      <th>fecha_fin</th>\n",
       "      <th>importe_contrato</th>\n",
       "      <th>moneda</th>\n",
       "      <th>estatus_contrato</th>\n",
       "      <th>folio_rupc</th>\n",
       "      <th>proveedor_contratista</th>\n",
       "      <th>estratificacion_mpc</th>\n",
       "      <th>siglas_pais</th>\n",
       "      <th>anuncio</th>\n",
       "    </tr>\n",
       "  </thead>\n",
       "  <tbody>\n",
       "    <tr>\n",
       "      <th>1336841</th>\n",
       "      <td>APF</td>\n",
       "      <td>INDAABIN</td>\n",
       "      <td>Instituto de Administración y Avalúos de Biene...</td>\n",
       "      <td>006A00997</td>\n",
       "      <td>INDAABIN-Dirección General de Avalúos y Obras ...</td>\n",
       "      <td>Gerardo Alfonso Gutiérrez Hernández</td>\n",
       "      <td>1296524</td>\n",
       "      <td>NaN</td>\n",
       "      <td>Nacional</td>\n",
       "      <td>Servicios</td>\n",
       "      <td>...</td>\n",
       "      <td>2017-02-15</td>\n",
       "      <td>2017-05-03</td>\n",
       "      <td>3500.0</td>\n",
       "      <td>MXN</td>\n",
       "      <td>Expirado</td>\n",
       "      <td>NaN</td>\n",
       "      <td>CELESTE VALUACIONES SA DE CV</td>\n",
       "      <td>Micro</td>\n",
       "      <td>MX</td>\n",
       "      <td>https://compranet.funcionpublica.gob.mx/esop/g...</td>\n",
       "    </tr>\n",
       "    <tr>\n",
       "      <th>1338276</th>\n",
       "      <td>APF</td>\n",
       "      <td>INDAABIN</td>\n",
       "      <td>Instituto de Administración y Avalúos de Biene...</td>\n",
       "      <td>006A00997</td>\n",
       "      <td>INDAABIN-Dirección General de Avalúos y Obras ...</td>\n",
       "      <td>Gerardo Alfonso Gutiérrez Hernández</td>\n",
       "      <td>1301214</td>\n",
       "      <td>NaN</td>\n",
       "      <td>Nacional</td>\n",
       "      <td>Servicios</td>\n",
       "      <td>...</td>\n",
       "      <td>2017-02-15</td>\n",
       "      <td>2017-05-02</td>\n",
       "      <td>3500.0</td>\n",
       "      <td>MXN</td>\n",
       "      <td>Expirado</td>\n",
       "      <td>NaN</td>\n",
       "      <td>CELESTE VALUACIONES SA DE CV</td>\n",
       "      <td>Micro</td>\n",
       "      <td>MX</td>\n",
       "      <td>https://compranet.funcionpublica.gob.mx/esop/g...</td>\n",
       "    </tr>\n",
       "    <tr>\n",
       "      <th>1340025</th>\n",
       "      <td>APF</td>\n",
       "      <td>INDAABIN</td>\n",
       "      <td>Instituto de Administración y Avalúos de Biene...</td>\n",
       "      <td>006A00997</td>\n",
       "      <td>INDAABIN-Dirección General de Avalúos y Obras ...</td>\n",
       "      <td>Gerardo Alfonso Gutiérrez Hernández</td>\n",
       "      <td>1303598</td>\n",
       "      <td>NaN</td>\n",
       "      <td>Nacional</td>\n",
       "      <td>Servicios</td>\n",
       "      <td>...</td>\n",
       "      <td>2017-02-15 00:00:00</td>\n",
       "      <td>2017-04-24 00:00:00</td>\n",
       "      <td>3500.0</td>\n",
       "      <td>MXN</td>\n",
       "      <td>Expirado</td>\n",
       "      <td>NaN</td>\n",
       "      <td>CELESTE VALUACIONES SA DE CV</td>\n",
       "      <td>Micro</td>\n",
       "      <td>MX</td>\n",
       "      <td>https://compranet.funcionpublica.gob.mx/esop/g...</td>\n",
       "    </tr>\n",
       "    <tr>\n",
       "      <th>1340847</th>\n",
       "      <td>APF</td>\n",
       "      <td>INDAABIN</td>\n",
       "      <td>Instituto de Administración y Avalúos de Biene...</td>\n",
       "      <td>006A00997</td>\n",
       "      <td>INDAABIN-Dirección General de Avalúos y Obras ...</td>\n",
       "      <td>Gerardo Alfonso Gutiérrez Hernández</td>\n",
       "      <td>1301208</td>\n",
       "      <td>NaN</td>\n",
       "      <td>Nacional</td>\n",
       "      <td>Servicios</td>\n",
       "      <td>...</td>\n",
       "      <td>2017-02-15 00:00:00</td>\n",
       "      <td>2017-04-26 00:00:00</td>\n",
       "      <td>3500.0</td>\n",
       "      <td>MXN</td>\n",
       "      <td>Expirado</td>\n",
       "      <td>NaN</td>\n",
       "      <td>CELESTE VALUACIONES SA DE CV</td>\n",
       "      <td>Micro</td>\n",
       "      <td>MX</td>\n",
       "      <td>https://compranet.funcionpublica.gob.mx/esop/g...</td>\n",
       "    </tr>\n",
       "    <tr>\n",
       "      <th>1768650</th>\n",
       "      <td>APF</td>\n",
       "      <td>INDAABIN</td>\n",
       "      <td>Instituto de Administración y Avalúos de Biene...</td>\n",
       "      <td>006A00997</td>\n",
       "      <td>INDAABIN-Dirección General de Avalúos y Obras ...</td>\n",
       "      <td>Gerardo Alfonso Gutiérrez Hernández</td>\n",
       "      <td>1098891</td>\n",
       "      <td>NaN</td>\n",
       "      <td>Nacional</td>\n",
       "      <td>Servicios</td>\n",
       "      <td>...</td>\n",
       "      <td>2015-11-13 00:00:00</td>\n",
       "      <td>2015-12-16 00:00:00</td>\n",
       "      <td>10147.0</td>\n",
       "      <td>MXN</td>\n",
       "      <td>Expirado</td>\n",
       "      <td>NaN</td>\n",
       "      <td>CELESTE VALUACIONES SA DE CV</td>\n",
       "      <td>Micro</td>\n",
       "      <td>MX</td>\n",
       "      <td>https://compranet.funcionpublica.gob.mx/esop/g...</td>\n",
       "    </tr>\n",
       "  </tbody>\n",
       "</table>\n",
       "<p>5 rows × 24 columns</p>\n",
       "</div>"
      ],
      "text/plain": [
       "        gobierno    siglas                                        dependencia  \\\n",
       "1336841      APF  INDAABIN  Instituto de Administración y Avalúos de Biene...   \n",
       "1338276      APF  INDAABIN  Instituto de Administración y Avalúos de Biene...   \n",
       "1340025      APF  INDAABIN  Instituto de Administración y Avalúos de Biene...   \n",
       "1340847      APF  INDAABIN  Instituto de Administración y Avalúos de Biene...   \n",
       "1768650      APF  INDAABIN  Instituto de Administración y Avalúos de Biene...   \n",
       "\n",
       "           claveuc                                    nombre_de_la_uc  \\\n",
       "1336841  006A00997  INDAABIN-Dirección General de Avalúos y Obras ...   \n",
       "1338276  006A00997  INDAABIN-Dirección General de Avalúos y Obras ...   \n",
       "1340025  006A00997  INDAABIN-Dirección General de Avalúos y Obras ...   \n",
       "1340847  006A00997  INDAABIN-Dirección General de Avalúos y Obras ...   \n",
       "1768650  006A00997  INDAABIN-Dirección General de Avalúos y Obras ...   \n",
       "\n",
       "                                 responsable codigo_expediente  \\\n",
       "1336841  Gerardo Alfonso Gutiérrez Hernández           1296524   \n",
       "1338276  Gerardo Alfonso Gutiérrez Hernández           1301214   \n",
       "1340025  Gerardo Alfonso Gutiérrez Hernández           1303598   \n",
       "1340847  Gerardo Alfonso Gutiérrez Hernández           1301208   \n",
       "1768650  Gerardo Alfonso Gutiérrez Hernández           1098891   \n",
       "\n",
       "        fecha_apertura_proposiciones  caracter tipo_contratacion  ...  \\\n",
       "1336841                          NaN  Nacional         Servicios  ...   \n",
       "1338276                          NaN  Nacional         Servicios  ...   \n",
       "1340025                          NaN  Nacional         Servicios  ...   \n",
       "1340847                          NaN  Nacional         Servicios  ...   \n",
       "1768650                          NaN  Nacional         Servicios  ...   \n",
       "\n",
       "                fecha_inicio            fecha_fin importe_contrato moneda  \\\n",
       "1336841           2017-02-15           2017-05-03           3500.0    MXN   \n",
       "1338276           2017-02-15           2017-05-02           3500.0    MXN   \n",
       "1340025  2017-02-15 00:00:00  2017-04-24 00:00:00           3500.0    MXN   \n",
       "1340847  2017-02-15 00:00:00  2017-04-26 00:00:00           3500.0    MXN   \n",
       "1768650  2015-11-13 00:00:00  2015-12-16 00:00:00          10147.0    MXN   \n",
       "\n",
       "        estatus_contrato folio_rupc         proveedor_contratista  \\\n",
       "1336841         Expirado        NaN  CELESTE VALUACIONES SA DE CV   \n",
       "1338276         Expirado        NaN  CELESTE VALUACIONES SA DE CV   \n",
       "1340025         Expirado        NaN  CELESTE VALUACIONES SA DE CV   \n",
       "1340847         Expirado        NaN  CELESTE VALUACIONES SA DE CV   \n",
       "1768650         Expirado        NaN  CELESTE VALUACIONES SA DE CV   \n",
       "\n",
       "        estratificacion_mpc siglas_pais  \\\n",
       "1336841               Micro          MX   \n",
       "1338276               Micro          MX   \n",
       "1340025               Micro          MX   \n",
       "1340847               Micro          MX   \n",
       "1768650               Micro          MX   \n",
       "\n",
       "                                                   anuncio  \n",
       "1336841  https://compranet.funcionpublica.gob.mx/esop/g...  \n",
       "1338276  https://compranet.funcionpublica.gob.mx/esop/g...  \n",
       "1340025  https://compranet.funcionpublica.gob.mx/esop/g...  \n",
       "1340847  https://compranet.funcionpublica.gob.mx/esop/g...  \n",
       "1768650  https://compranet.funcionpublica.gob.mx/esop/g...  \n",
       "\n",
       "[5 rows x 24 columns]"
      ]
     },
     "execution_count": 59,
     "metadata": {},
     "output_type": "execute_result"
    }
   ],
   "source": [
    "contratos[contratos.proveedor_contratista=='CELESTE VALUACIONES SA DE CV'].tail()"
   ]
  },
  {
   "cell_type": "code",
   "execution_count": 56,
   "metadata": {},
   "outputs": [
    {
     "data": {
      "text/html": [
       "<div>\n",
       "<style scoped>\n",
       "    .dataframe tbody tr th:only-of-type {\n",
       "        vertical-align: middle;\n",
       "    }\n",
       "\n",
       "    .dataframe tbody tr th {\n",
       "        vertical-align: top;\n",
       "    }\n",
       "\n",
       "    .dataframe thead th {\n",
       "        text-align: right;\n",
       "    }\n",
       "</style>\n",
       "<table border=\"1\" class=\"dataframe\">\n",
       "  <thead>\n",
       "    <tr style=\"text-align: right;\">\n",
       "      <th></th>\n",
       "      <th>gobierno</th>\n",
       "      <th>siglas</th>\n",
       "      <th>tipo_procedimiento</th>\n",
       "      <th>fecha_inicio</th>\n",
       "      <th>fecha_fin</th>\n",
       "      <th>importe_contrato</th>\n",
       "      <th>moneda</th>\n",
       "      <th>proveedor_contratista</th>\n",
       "      <th>siglas_pais</th>\n",
       "      <th>s_entidad_federativa</th>\n",
       "      <th>person</th>\n",
       "      <th>ramo</th>\n",
       "      <th>b_entidad_federativa</th>\n",
       "      <th>codigo_contrato</th>\n",
       "      <th>codigo_expediente</th>\n",
       "    </tr>\n",
       "  </thead>\n",
       "  <tbody>\n",
       "    <tr>\n",
       "      <th>980809</th>\n",
       "      <td>APF</td>\n",
       "      <td>INDAABIN</td>\n",
       "      <td>Adjudicación Directa Federal</td>\n",
       "      <td>2017-02-15 00:00:00</td>\n",
       "      <td>2017-04-28 00:00:00</td>\n",
       "      <td>3500.0</td>\n",
       "      <td>MXN</td>\n",
       "      <td>CELESTE VALUACIONES SA DE CV</td>\n",
       "      <td>MX</td>\n",
       "      <td>MX-JAL</td>\n",
       "      <td>0.0</td>\n",
       "      <td>6</td>\n",
       "      <td>MX-CMX</td>\n",
       "      <td>1638688</td>\n",
       "      <td>1302630</td>\n",
       "    </tr>\n",
       "    <tr>\n",
       "      <th>982166</th>\n",
       "      <td>APF</td>\n",
       "      <td>INDAABIN</td>\n",
       "      <td>Adjudicación Directa Federal</td>\n",
       "      <td>2017-02-15 00:00:00</td>\n",
       "      <td>2017-05-03 00:00:00</td>\n",
       "      <td>3500.0</td>\n",
       "      <td>MXN</td>\n",
       "      <td>CELESTE VALUACIONES SA DE CV</td>\n",
       "      <td>MX</td>\n",
       "      <td>MX-JAL</td>\n",
       "      <td>0.0</td>\n",
       "      <td>6</td>\n",
       "      <td>MX-CMX</td>\n",
       "      <td>1638688</td>\n",
       "      <td>1302630</td>\n",
       "    </tr>\n",
       "    <tr>\n",
       "      <th>982346</th>\n",
       "      <td>APF</td>\n",
       "      <td>INDAABIN</td>\n",
       "      <td>Adjudicación Directa Federal</td>\n",
       "      <td>2017-02-15 00:00:00</td>\n",
       "      <td>2017-05-02 00:00:00</td>\n",
       "      <td>3500.0</td>\n",
       "      <td>MXN</td>\n",
       "      <td>CELESTE VALUACIONES SA DE CV</td>\n",
       "      <td>MX</td>\n",
       "      <td>MX-JAL</td>\n",
       "      <td>0.0</td>\n",
       "      <td>6</td>\n",
       "      <td>MX-CMX</td>\n",
       "      <td>1638688</td>\n",
       "      <td>1302630</td>\n",
       "    </tr>\n",
       "    <tr>\n",
       "      <th>983466</th>\n",
       "      <td>APF</td>\n",
       "      <td>INDAABIN</td>\n",
       "      <td>Adjudicación Directa Federal</td>\n",
       "      <td>2017-02-15 00:00:00</td>\n",
       "      <td>2017-04-26 00:00:00</td>\n",
       "      <td>3500.0</td>\n",
       "      <td>MXN</td>\n",
       "      <td>CELESTE VALUACIONES SA DE CV</td>\n",
       "      <td>MX</td>\n",
       "      <td>MX-JAL</td>\n",
       "      <td>0.0</td>\n",
       "      <td>6</td>\n",
       "      <td>MX-CMX</td>\n",
       "      <td>1638688</td>\n",
       "      <td>1302630</td>\n",
       "    </tr>\n",
       "    <tr>\n",
       "      <th>983748</th>\n",
       "      <td>APF</td>\n",
       "      <td>INDAABIN</td>\n",
       "      <td>Adjudicación Directa Federal</td>\n",
       "      <td>2017-02-15 00:00:00</td>\n",
       "      <td>2017-04-25 00:00:00</td>\n",
       "      <td>3500.0</td>\n",
       "      <td>MXN</td>\n",
       "      <td>CELESTE VALUACIONES SA DE CV</td>\n",
       "      <td>MX</td>\n",
       "      <td>MX-JAL</td>\n",
       "      <td>0.0</td>\n",
       "      <td>6</td>\n",
       "      <td>MX-CMX</td>\n",
       "      <td>1638688</td>\n",
       "      <td>1302630</td>\n",
       "    </tr>\n",
       "    <tr>\n",
       "      <th>983828</th>\n",
       "      <td>APF</td>\n",
       "      <td>INDAABIN</td>\n",
       "      <td>Adjudicación Directa Federal</td>\n",
       "      <td>2017-02-15 00:00:00</td>\n",
       "      <td>2017-05-04 00:00:00</td>\n",
       "      <td>3500.0</td>\n",
       "      <td>MXN</td>\n",
       "      <td>CELESTE VALUACIONES SA DE CV</td>\n",
       "      <td>MX</td>\n",
       "      <td>MX-JAL</td>\n",
       "      <td>0.0</td>\n",
       "      <td>6</td>\n",
       "      <td>MX-CMX</td>\n",
       "      <td>1638688</td>\n",
       "      <td>1302630</td>\n",
       "    </tr>\n",
       "    <tr>\n",
       "      <th>983953</th>\n",
       "      <td>APF</td>\n",
       "      <td>INDAABIN</td>\n",
       "      <td>Adjudicación Directa Federal</td>\n",
       "      <td>2017-02-15 00:00:00</td>\n",
       "      <td>2017-04-21 00:00:00</td>\n",
       "      <td>3500.0</td>\n",
       "      <td>MXN</td>\n",
       "      <td>CELESTE VALUACIONES SA DE CV</td>\n",
       "      <td>MX</td>\n",
       "      <td>MX-JAL</td>\n",
       "      <td>0.0</td>\n",
       "      <td>6</td>\n",
       "      <td>MX-CMX</td>\n",
       "      <td>1638688</td>\n",
       "      <td>1302630</td>\n",
       "    </tr>\n",
       "    <tr>\n",
       "      <th>985898</th>\n",
       "      <td>APF</td>\n",
       "      <td>INDAABIN</td>\n",
       "      <td>Adjudicación Directa Federal</td>\n",
       "      <td>2017-02-15 00:00:00</td>\n",
       "      <td>2017-04-10 00:00:00</td>\n",
       "      <td>3500.0</td>\n",
       "      <td>MXN</td>\n",
       "      <td>CELESTE VALUACIONES SA DE CV</td>\n",
       "      <td>MX</td>\n",
       "      <td>MX-JAL</td>\n",
       "      <td>0.0</td>\n",
       "      <td>6</td>\n",
       "      <td>MX-CMX</td>\n",
       "      <td>1638688</td>\n",
       "      <td>1302630</td>\n",
       "    </tr>\n",
       "    <tr>\n",
       "      <th>986792</th>\n",
       "      <td>APF</td>\n",
       "      <td>INDAABIN</td>\n",
       "      <td>Adjudicación Directa Federal</td>\n",
       "      <td>2017-02-15 00:00:00</td>\n",
       "      <td>2017-04-24 00:00:00</td>\n",
       "      <td>3500.0</td>\n",
       "      <td>MXN</td>\n",
       "      <td>CELESTE VALUACIONES SA DE CV</td>\n",
       "      <td>MX</td>\n",
       "      <td>MX-JAL</td>\n",
       "      <td>0.0</td>\n",
       "      <td>6</td>\n",
       "      <td>MX-CMX</td>\n",
       "      <td>1638688</td>\n",
       "      <td>1302630</td>\n",
       "    </tr>\n",
       "    <tr>\n",
       "      <th>987227</th>\n",
       "      <td>APF</td>\n",
       "      <td>INDAABIN</td>\n",
       "      <td>Adjudicación Directa Federal</td>\n",
       "      <td>2017-02-15 00:00:00</td>\n",
       "      <td>2017-04-19 00:00:00</td>\n",
       "      <td>3500.0</td>\n",
       "      <td>MXN</td>\n",
       "      <td>CELESTE VALUACIONES SA DE CV</td>\n",
       "      <td>MX</td>\n",
       "      <td>MX-JAL</td>\n",
       "      <td>0.0</td>\n",
       "      <td>6</td>\n",
       "      <td>MX-CMX</td>\n",
       "      <td>1638688</td>\n",
       "      <td>1302630</td>\n",
       "    </tr>\n",
       "    <tr>\n",
       "      <th>988095</th>\n",
       "      <td>APF</td>\n",
       "      <td>INDAABIN</td>\n",
       "      <td>Adjudicación Directa Federal</td>\n",
       "      <td>2017-02-15 00:00:00</td>\n",
       "      <td>2017-04-27 00:00:00</td>\n",
       "      <td>3500.0</td>\n",
       "      <td>MXN</td>\n",
       "      <td>CELESTE VALUACIONES SA DE CV</td>\n",
       "      <td>MX</td>\n",
       "      <td>MX-JAL</td>\n",
       "      <td>0.0</td>\n",
       "      <td>6</td>\n",
       "      <td>MX-CMX</td>\n",
       "      <td>1638688</td>\n",
       "      <td>1302630</td>\n",
       "    </tr>\n",
       "    <tr>\n",
       "      <th>988553</th>\n",
       "      <td>APF</td>\n",
       "      <td>INDAABIN</td>\n",
       "      <td>Adjudicación Directa Federal</td>\n",
       "      <td>2017-02-15 00:00:00</td>\n",
       "      <td>2017-04-06 00:00:00</td>\n",
       "      <td>3500.0</td>\n",
       "      <td>MXN</td>\n",
       "      <td>CELESTE VALUACIONES SA DE CV</td>\n",
       "      <td>MX</td>\n",
       "      <td>MX-JAL</td>\n",
       "      <td>0.0</td>\n",
       "      <td>6</td>\n",
       "      <td>MX-CMX</td>\n",
       "      <td>1638688</td>\n",
       "      <td>1302630</td>\n",
       "    </tr>\n",
       "    <tr>\n",
       "      <th>990550</th>\n",
       "      <td>APF</td>\n",
       "      <td>INDAABIN</td>\n",
       "      <td>Adjudicación Directa Federal</td>\n",
       "      <td>2017-02-15 00:00:00</td>\n",
       "      <td>2017-04-17 00:00:00</td>\n",
       "      <td>3500.0</td>\n",
       "      <td>MXN</td>\n",
       "      <td>CELESTE VALUACIONES SA DE CV</td>\n",
       "      <td>MX</td>\n",
       "      <td>MX-JAL</td>\n",
       "      <td>0.0</td>\n",
       "      <td>6</td>\n",
       "      <td>MX-CMX</td>\n",
       "      <td>1638688</td>\n",
       "      <td>1302630</td>\n",
       "    </tr>\n",
       "    <tr>\n",
       "      <th>990990</th>\n",
       "      <td>APF</td>\n",
       "      <td>INDAABIN</td>\n",
       "      <td>Adjudicación Directa Federal</td>\n",
       "      <td>2017-02-15 00:00:00</td>\n",
       "      <td>2017-04-12 00:00:00</td>\n",
       "      <td>3500.0</td>\n",
       "      <td>MXN</td>\n",
       "      <td>CELESTE VALUACIONES SA DE CV</td>\n",
       "      <td>MX</td>\n",
       "      <td>MX-JAL</td>\n",
       "      <td>0.0</td>\n",
       "      <td>6</td>\n",
       "      <td>MX-CMX</td>\n",
       "      <td>1638688</td>\n",
       "      <td>1302630</td>\n",
       "    </tr>\n",
       "    <tr>\n",
       "      <th>993803</th>\n",
       "      <td>APF</td>\n",
       "      <td>INDAABIN</td>\n",
       "      <td>Adjudicación Directa Federal</td>\n",
       "      <td>2017-02-15 00:00:00</td>\n",
       "      <td>2017-04-13 00:00:00</td>\n",
       "      <td>3500.0</td>\n",
       "      <td>MXN</td>\n",
       "      <td>CELESTE VALUACIONES SA DE CV</td>\n",
       "      <td>MX</td>\n",
       "      <td>MX-JAL</td>\n",
       "      <td>0.0</td>\n",
       "      <td>6</td>\n",
       "      <td>MX-CMX</td>\n",
       "      <td>1638688</td>\n",
       "      <td>1302630</td>\n",
       "    </tr>\n",
       "    <tr>\n",
       "      <th>1003753</th>\n",
       "      <td>APF</td>\n",
       "      <td>INDAABIN</td>\n",
       "      <td>Adjudicación Directa Federal</td>\n",
       "      <td>2017-02-15 00:00:00</td>\n",
       "      <td>2017-04-11 00:00:00</td>\n",
       "      <td>3500.0</td>\n",
       "      <td>MXN</td>\n",
       "      <td>CELESTE VALUACIONES SA DE CV</td>\n",
       "      <td>MX</td>\n",
       "      <td>MX-JAL</td>\n",
       "      <td>0.0</td>\n",
       "      <td>6</td>\n",
       "      <td>MX-CMX</td>\n",
       "      <td>1638688</td>\n",
       "      <td>1302630</td>\n",
       "    </tr>\n",
       "    <tr>\n",
       "      <th>1006422</th>\n",
       "      <td>APF</td>\n",
       "      <td>INDAABIN</td>\n",
       "      <td>Adjudicación Directa Federal</td>\n",
       "      <td>2017-02-15 00:00:00</td>\n",
       "      <td>2017-05-08 00:00:00</td>\n",
       "      <td>3500.0</td>\n",
       "      <td>MXN</td>\n",
       "      <td>CELESTE VALUACIONES SA DE CV</td>\n",
       "      <td>MX</td>\n",
       "      <td>MX-JAL</td>\n",
       "      <td>0.0</td>\n",
       "      <td>6</td>\n",
       "      <td>MX-CMX</td>\n",
       "      <td>1638688</td>\n",
       "      <td>1302630</td>\n",
       "    </tr>\n",
       "    <tr>\n",
       "      <th>1030807</th>\n",
       "      <td>APF</td>\n",
       "      <td>INDAABIN</td>\n",
       "      <td>Adjudicación Directa Federal</td>\n",
       "      <td>2017-02-15 00:00:00</td>\n",
       "      <td>2017-04-07 00:00:00</td>\n",
       "      <td>3500.0</td>\n",
       "      <td>MXN</td>\n",
       "      <td>CELESTE VALUACIONES SA DE CV</td>\n",
       "      <td>MX</td>\n",
       "      <td>MX-JAL</td>\n",
       "      <td>0.0</td>\n",
       "      <td>6</td>\n",
       "      <td>MX-CMX</td>\n",
       "      <td>1638688</td>\n",
       "      <td>1302630</td>\n",
       "    </tr>\n",
       "    <tr>\n",
       "      <th>1046025</th>\n",
       "      <td>APF</td>\n",
       "      <td>INDAABIN</td>\n",
       "      <td>Adjudicación Directa Federal</td>\n",
       "      <td>2017-02-15 00:00:00</td>\n",
       "      <td>2017-04-04 00:00:00</td>\n",
       "      <td>3500.0</td>\n",
       "      <td>MXN</td>\n",
       "      <td>CELESTE VALUACIONES SA DE CV</td>\n",
       "      <td>MX</td>\n",
       "      <td>MX-JAL</td>\n",
       "      <td>0.0</td>\n",
       "      <td>6</td>\n",
       "      <td>MX-CMX</td>\n",
       "      <td>1638688</td>\n",
       "      <td>1302630</td>\n",
       "    </tr>\n",
       "    <tr>\n",
       "      <th>1050525</th>\n",
       "      <td>APF</td>\n",
       "      <td>INDAABIN</td>\n",
       "      <td>Adjudicación Directa Federal</td>\n",
       "      <td>2017-02-15 00:00:00</td>\n",
       "      <td>2017-05-09 00:00:00</td>\n",
       "      <td>3500.0</td>\n",
       "      <td>MXN</td>\n",
       "      <td>CELESTE VALUACIONES SA DE CV</td>\n",
       "      <td>MX</td>\n",
       "      <td>MX-JAL</td>\n",
       "      <td>0.0</td>\n",
       "      <td>6</td>\n",
       "      <td>MX-CMX</td>\n",
       "      <td>1638688</td>\n",
       "      <td>1302630</td>\n",
       "    </tr>\n",
       "  </tbody>\n",
       "</table>\n",
       "</div>"
      ],
      "text/plain": [
       "        gobierno    siglas            tipo_procedimiento         fecha_inicio  \\\n",
       "980809       APF  INDAABIN  Adjudicación Directa Federal  2017-02-15 00:00:00   \n",
       "982166       APF  INDAABIN  Adjudicación Directa Federal  2017-02-15 00:00:00   \n",
       "982346       APF  INDAABIN  Adjudicación Directa Federal  2017-02-15 00:00:00   \n",
       "983466       APF  INDAABIN  Adjudicación Directa Federal  2017-02-15 00:00:00   \n",
       "983748       APF  INDAABIN  Adjudicación Directa Federal  2017-02-15 00:00:00   \n",
       "983828       APF  INDAABIN  Adjudicación Directa Federal  2017-02-15 00:00:00   \n",
       "983953       APF  INDAABIN  Adjudicación Directa Federal  2017-02-15 00:00:00   \n",
       "985898       APF  INDAABIN  Adjudicación Directa Federal  2017-02-15 00:00:00   \n",
       "986792       APF  INDAABIN  Adjudicación Directa Federal  2017-02-15 00:00:00   \n",
       "987227       APF  INDAABIN  Adjudicación Directa Federal  2017-02-15 00:00:00   \n",
       "988095       APF  INDAABIN  Adjudicación Directa Federal  2017-02-15 00:00:00   \n",
       "988553       APF  INDAABIN  Adjudicación Directa Federal  2017-02-15 00:00:00   \n",
       "990550       APF  INDAABIN  Adjudicación Directa Federal  2017-02-15 00:00:00   \n",
       "990990       APF  INDAABIN  Adjudicación Directa Federal  2017-02-15 00:00:00   \n",
       "993803       APF  INDAABIN  Adjudicación Directa Federal  2017-02-15 00:00:00   \n",
       "1003753      APF  INDAABIN  Adjudicación Directa Federal  2017-02-15 00:00:00   \n",
       "1006422      APF  INDAABIN  Adjudicación Directa Federal  2017-02-15 00:00:00   \n",
       "1030807      APF  INDAABIN  Adjudicación Directa Federal  2017-02-15 00:00:00   \n",
       "1046025      APF  INDAABIN  Adjudicación Directa Federal  2017-02-15 00:00:00   \n",
       "1050525      APF  INDAABIN  Adjudicación Directa Federal  2017-02-15 00:00:00   \n",
       "\n",
       "                   fecha_fin  importe_contrato moneda  \\\n",
       "980809   2017-04-28 00:00:00            3500.0    MXN   \n",
       "982166   2017-05-03 00:00:00            3500.0    MXN   \n",
       "982346   2017-05-02 00:00:00            3500.0    MXN   \n",
       "983466   2017-04-26 00:00:00            3500.0    MXN   \n",
       "983748   2017-04-25 00:00:00            3500.0    MXN   \n",
       "983828   2017-05-04 00:00:00            3500.0    MXN   \n",
       "983953   2017-04-21 00:00:00            3500.0    MXN   \n",
       "985898   2017-04-10 00:00:00            3500.0    MXN   \n",
       "986792   2017-04-24 00:00:00            3500.0    MXN   \n",
       "987227   2017-04-19 00:00:00            3500.0    MXN   \n",
       "988095   2017-04-27 00:00:00            3500.0    MXN   \n",
       "988553   2017-04-06 00:00:00            3500.0    MXN   \n",
       "990550   2017-04-17 00:00:00            3500.0    MXN   \n",
       "990990   2017-04-12 00:00:00            3500.0    MXN   \n",
       "993803   2017-04-13 00:00:00            3500.0    MXN   \n",
       "1003753  2017-04-11 00:00:00            3500.0    MXN   \n",
       "1006422  2017-05-08 00:00:00            3500.0    MXN   \n",
       "1030807  2017-04-07 00:00:00            3500.0    MXN   \n",
       "1046025  2017-04-04 00:00:00            3500.0    MXN   \n",
       "1050525  2017-05-09 00:00:00            3500.0    MXN   \n",
       "\n",
       "                proveedor_contratista siglas_pais s_entidad_federativa  \\\n",
       "980809   CELESTE VALUACIONES SA DE CV          MX               MX-JAL   \n",
       "982166   CELESTE VALUACIONES SA DE CV          MX               MX-JAL   \n",
       "982346   CELESTE VALUACIONES SA DE CV          MX               MX-JAL   \n",
       "983466   CELESTE VALUACIONES SA DE CV          MX               MX-JAL   \n",
       "983748   CELESTE VALUACIONES SA DE CV          MX               MX-JAL   \n",
       "983828   CELESTE VALUACIONES SA DE CV          MX               MX-JAL   \n",
       "983953   CELESTE VALUACIONES SA DE CV          MX               MX-JAL   \n",
       "985898   CELESTE VALUACIONES SA DE CV          MX               MX-JAL   \n",
       "986792   CELESTE VALUACIONES SA DE CV          MX               MX-JAL   \n",
       "987227   CELESTE VALUACIONES SA DE CV          MX               MX-JAL   \n",
       "988095   CELESTE VALUACIONES SA DE CV          MX               MX-JAL   \n",
       "988553   CELESTE VALUACIONES SA DE CV          MX               MX-JAL   \n",
       "990550   CELESTE VALUACIONES SA DE CV          MX               MX-JAL   \n",
       "990990   CELESTE VALUACIONES SA DE CV          MX               MX-JAL   \n",
       "993803   CELESTE VALUACIONES SA DE CV          MX               MX-JAL   \n",
       "1003753  CELESTE VALUACIONES SA DE CV          MX               MX-JAL   \n",
       "1006422  CELESTE VALUACIONES SA DE CV          MX               MX-JAL   \n",
       "1030807  CELESTE VALUACIONES SA DE CV          MX               MX-JAL   \n",
       "1046025  CELESTE VALUACIONES SA DE CV          MX               MX-JAL   \n",
       "1050525  CELESTE VALUACIONES SA DE CV          MX               MX-JAL   \n",
       "\n",
       "         person  ramo b_entidad_federativa codigo_contrato codigo_expediente  \n",
       "980809      0.0     6               MX-CMX         1638688           1302630  \n",
       "982166      0.0     6               MX-CMX         1638688           1302630  \n",
       "982346      0.0     6               MX-CMX         1638688           1302630  \n",
       "983466      0.0     6               MX-CMX         1638688           1302630  \n",
       "983748      0.0     6               MX-CMX         1638688           1302630  \n",
       "983828      0.0     6               MX-CMX         1638688           1302630  \n",
       "983953      0.0     6               MX-CMX         1638688           1302630  \n",
       "985898      0.0     6               MX-CMX         1638688           1302630  \n",
       "986792      0.0     6               MX-CMX         1638688           1302630  \n",
       "987227      0.0     6               MX-CMX         1638688           1302630  \n",
       "988095      0.0     6               MX-CMX         1638688           1302630  \n",
       "988553      0.0     6               MX-CMX         1638688           1302630  \n",
       "990550      0.0     6               MX-CMX         1638688           1302630  \n",
       "990990      0.0     6               MX-CMX         1638688           1302630  \n",
       "993803      0.0     6               MX-CMX         1638688           1302630  \n",
       "1003753     0.0     6               MX-CMX         1638688           1302630  \n",
       "1006422     0.0     6               MX-CMX         1638688           1302630  \n",
       "1030807     0.0     6               MX-CMX         1638688           1302630  \n",
       "1046025     0.0     6               MX-CMX         1638688           1302630  \n",
       "1050525     0.0     6               MX-CMX         1638688           1302630  "
      ]
     },
     "execution_count": 56,
     "metadata": {},
     "output_type": "execute_result"
    }
   ],
   "source": [
    "cnts[cnts.codigo_contrato==1638688]"
   ]
  },
  {
   "cell_type": "code",
   "execution_count": 45,
   "metadata": {},
   "outputs": [
    {
     "data": {
      "text/plain": [
       "553734     1577\n",
       "12667       378\n",
       "989931      279\n",
       "984617      269\n",
       "1270075     248\n",
       "           ... \n",
       "1248491       1\n",
       "1248486       1\n",
       "1248483       1\n",
       "1248478       1\n",
       "2097157       1\n",
       "Name: codigo_expediente, Length: 883804, dtype: int64"
      ]
     },
     "execution_count": 45,
     "metadata": {},
     "output_type": "execute_result"
    }
   ],
   "source": [
    "cnts.codigo_expediente.value_counts()"
   ]
  },
  {
   "cell_type": "code",
   "execution_count": 44,
   "metadata": {},
   "outputs": [
    {
     "name": "stdout",
     "output_type": "stream",
     "text": [
      "<class 'pandas.core.frame.DataFrame'>\n",
      "Int64Index: 1227550 entries, 0 to 1227549\n",
      "Data columns (total 15 columns):\n",
      " #   Column                 Non-Null Count    Dtype  \n",
      "---  ------                 --------------    -----  \n",
      " 0   gobierno               1227550 non-null  object \n",
      " 1   siglas                 1227550 non-null  object \n",
      " 2   tipo_procedimiento     1227144 non-null  object \n",
      " 3   fecha_inicio           1227550 non-null  object \n",
      " 4   fecha_fin              1227479 non-null  object \n",
      " 5   importe_contrato       1227550 non-null  float64\n",
      " 6   moneda                 1227550 non-null  object \n",
      " 7   proveedor_contratista  1227550 non-null  object \n",
      " 8   siglas_pais            1227550 non-null  object \n",
      " 9   s_entidad_federativa   1227550 non-null  object \n",
      " 10  person                 1227550 non-null  float64\n",
      " 11  ramo                   1227550 non-null  int64  \n",
      " 12  b_entidad_federativa   1227125 non-null  object \n",
      " 13  codigo_contrato        1227550 non-null  object \n",
      " 14  codigo_expediente      1173282 non-null  object \n",
      "dtypes: float64(2), int64(1), object(12)\n",
      "memory usage: 149.8+ MB\n"
     ]
    }
   ],
   "source": [
    "cnts.info()"
   ]
  },
  {
   "cell_type": "code",
   "execution_count": 54,
   "metadata": {},
   "outputs": [
    {
     "data": {
      "text/plain": [
       "1644316    22\n",
       "1684782    22\n",
       "1638688    20\n",
       "1535425    20\n",
       "1529877    20\n",
       "           ..\n",
       "1312296     1\n",
       "1312298     1\n",
       "1312304     1\n",
       "1312305     1\n",
       "2097152     1\n",
       "Name: codigo_contrato, Length: 1222455, dtype: int64"
      ]
     },
     "execution_count": 54,
     "metadata": {},
     "output_type": "execute_result"
    }
   ],
   "source": [
    "cnts.codigo_contrato.value_counts()"
   ]
  },
  {
   "cell_type": "code",
   "execution_count": 23,
   "metadata": {},
   "outputs": [
    {
     "name": "stdout",
     "output_type": "stream",
     "text": [
      "<class 'pandas.core.frame.DataFrame'>\n",
      "Int64Index: 1227550 entries, 0 to 1227549\n",
      "Data columns (total 15 columns):\n",
      " #   Column                 Non-Null Count    Dtype  \n",
      "---  ------                 --------------    -----  \n",
      " 0   gobierno               1227550 non-null  object \n",
      " 1   siglas                 1227550 non-null  object \n",
      " 2   tipo_procedimiento     1227144 non-null  object \n",
      " 3   fecha_inicio           1227550 non-null  object \n",
      " 4   fecha_fin              1227479 non-null  object \n",
      " 5   importe_contrato       1227550 non-null  float64\n",
      " 6   moneda                 1227550 non-null  object \n",
      " 7   proveedor_contratista  1227550 non-null  object \n",
      " 8   siglas_pais            1227550 non-null  object \n",
      " 9   s_entidad_federativa   1227550 non-null  object \n",
      " 10  person                 1227550 non-null  float64\n",
      " 11  ramo                   1227550 non-null  int64  \n",
      " 12  b_entidad_federativa   1227125 non-null  object \n",
      " 13  codigo_contrato        1227550 non-null  object \n",
      " 14  codigo_expediente      565693 non-null   object \n",
      "dtypes: float64(2), int64(1), object(12)\n",
      "memory usage: 149.8+ MB\n"
     ]
    }
   ],
   "source": [
    "cnts.info()"
   ]
  },
  {
   "cell_type": "code",
   "execution_count": 5,
   "metadata": {},
   "outputs": [
    {
     "name": "stdout",
     "output_type": "stream",
     "text": [
      "<class 'pandas.core.frame.DataFrame'>\n",
      "RangeIndex: 1227550 entries, 0 to 1227549\n",
      "Data columns (total 14 columns):\n",
      " #   Column                 Non-Null Count    Dtype  \n",
      "---  ------                 --------------    -----  \n",
      " 0   gobierno               1227550 non-null  object \n",
      " 1   siglas                 1227550 non-null  object \n",
      " 2   tipo_procedimiento     1227144 non-null  object \n",
      " 3   fecha_inicio           1227550 non-null  object \n",
      " 4   fecha_fin              1227479 non-null  object \n",
      " 5   importe_contrato       1227550 non-null  float64\n",
      " 6   moneda                 1227550 non-null  object \n",
      " 7   proveedor_contratista  1227550 non-null  object \n",
      " 8   siglas_pais            1227550 non-null  object \n",
      " 9   s_entidad_federativa   1227550 non-null  object \n",
      " 10  person                 1227550 non-null  float64\n",
      " 11  ramo                   1227550 non-null  int64  \n",
      " 12  b_entidad_federativa   1227125 non-null  object \n",
      " 13  codigo_contrato        1227550 non-null  int64  \n",
      "dtypes: float64(2), int64(2), object(10)\n",
      "memory usage: 131.1+ MB\n"
     ]
    }
   ],
   "source": [
    "cnts.info()"
   ]
  },
  {
   "cell_type": "markdown",
   "metadata": {},
   "source": [
    "### Names"
   ]
  },
  {
   "cell_type": "code",
   "execution_count": 192,
   "metadata": {},
   "outputs": [],
   "source": [
    "cnts['b_entidad_federativa'] = cnts.b_entidad_federativa.apply(trim_mx)"
   ]
  },
  {
   "cell_type": "code",
   "execution_count": 193,
   "metadata": {},
   "outputs": [],
   "source": [
    "cnts['s_entidad_federativa'] = cnts.s_entidad_federativa.apply(trim_mx)"
   ]
  },
  {
   "cell_type": "markdown",
   "metadata": {},
   "source": [
    "### Money"
   ]
  },
  {
   "cell_type": "code",
   "execution_count": 37,
   "metadata": {},
   "outputs": [],
   "source": [
    "c = CurrencyConverter()"
   ]
  },
  {
   "cell_type": "code",
   "execution_count": 7,
   "metadata": {},
   "outputs": [],
   "source": [
    "path = \"/home/rdora/declaranet/data/pre-process/contratos_4.csv\"\n",
    "dtypes = {'importe_contrato': 'int', 'codigo_contrato': 'int',\n",
    "          'ramo': 'int'}\n",
    "date_cols = ['fecha_inicio', 'fecha_fin']"
   ]
  },
  {
   "cell_type": "code",
   "execution_count": 109,
   "metadata": {},
   "outputs": [],
   "source": [
    "cnts = pd.read_csv(path, dtype=dtypes, parse_dates=date_cols)"
   ]
  },
  {
   "cell_type": "code",
   "execution_count": 110,
   "metadata": {},
   "outputs": [],
   "source": [
    "cnts[cnts.select_dtypes('object').columns] = cnts.select_dtypes('object').astype('string')"
   ]
  },
  {
   "cell_type": "markdown",
   "metadata": {},
   "source": [
    "Change everything to dollars"
   ]
  },
  {
   "cell_type": "code",
   "execution_count": 117,
   "metadata": {},
   "outputs": [],
   "source": [
    "cnts.loc[cnts.moneda=='MXN', 'importe_contrato'] = (\n",
    "                  cnts.loc[cnts.moneda=='MXN', 'fecha_inicio'].dt.date.apply(change_currency) *\n",
    "                  cnts.loc[cnts.moneda=='MXN', 'importe_contrato']).apply(np.floor).astype('int')"
   ]
  },
  {
   "cell_type": "code",
   "execution_count": 119,
   "metadata": {},
   "outputs": [],
   "source": [
    "cnts = cnts.drop('moneda', axis=1)"
   ]
  },
  {
   "cell_type": "code",
   "execution_count": 136,
   "metadata": {},
   "outputs": [
    {
     "data": {
      "image/png": "[encoded data removed]",
      "text/plain": [
       "<Figure size 432x288 with 1 Axes>"
      ]
     },
     "metadata": {
      "needs_background": "light"
     },
     "output_type": "display_data"
    }
   ],
   "source": [
    "sns.distplot(cnts.loc[cnts.importe_contrato < 1e5, 'importe_contrato'], color='gray').set(xlabel=\"Importe (USD)\");"
   ]
  },
  {
   "cell_type": "code",
   "execution_count": 175,
   "metadata": {},
   "outputs": [
    {
     "data": {
      "image/png": "[encoded data removed]",
      "text/plain": [
       "<Figure size 432x288 with 1 Axes>"
      ]
     },
     "metadata": {
      "needs_background": "light"
     },
     "output_type": "display_data"
    }
   ],
   "source": [
    "cnts['year'] = cnts.fecha_inicio.dt.year\n",
    "gbyear = cnts.groupby('year')['importe_contrato'].sum().reset_index().sort_values(by='year')\n",
    "sns.barplot(x='year', y='importe_contrato', data=gbyear, color='gray').set(ylabel=\"Total (USD)\");"
   ]
  },
  {
   "cell_type": "code",
   "execution_count": 178,
   "metadata": {},
   "outputs": [
    {
     "data": {
      "image/png": "[encoded data removed]",
      "text/plain": [
       "<Figure size 432x288 with 1 Axes>"
      ]
     },
     "metadata": {
      "needs_background": "light"
     },
     "output_type": "display_data"
    }
   ],
   "source": [
    "cnts['year'] = cnts.fecha_inicio.dt.year\n",
    "gbyear = cnts.groupby('year')['importe_contrato'].mean().reset_index().sort_values(by='year')\n",
    "sns.barplot(x='year', y='importe_contrato', data=gbyear, color='gray').set(ylabel=\"Promedio (USD)\");"
   ]
  },
  {
   "cell_type": "code",
   "execution_count": 171,
   "metadata": {},
   "outputs": [
    {
     "name": "stdout",
     "output_type": "stream",
     "text": [
      "                        18.75% OF year 2019 GDP\n"
     ]
    }
   ],
   "source": [
    "print(f\"{(cnts.importe_contrato.sum() / 1.2e12):-30,.2%} OF year 2019 GDP\")"
   ]
  },
  {
   "cell_type": "code",
   "execution_count": 164,
   "metadata": {},
   "outputs": [
    {
     "name": "stdout",
     "output_type": "stream",
     "text": [
      "               225,004,651,411 USD TOTAL\n"
     ]
    }
   ],
   "source": [
    "print(f\"{cnts.importe_contrato.sum():-30,d} USD TOTAL\")"
   ]
  },
  {
   "cell_type": "markdown",
   "metadata": {},
   "source": [
    "## Gobierno"
   ]
  },
  {
   "cell_type": "code",
   "execution_count": 21,
   "metadata": {},
   "outputs": [
    {
     "data": {
      "image/png": "[encoded data removed]",
      "text/plain": [
       "<Figure size 432x288 with 1 Axes>"
      ]
     },
     "metadata": {
      "needs_background": "light"
     },
     "output_type": "display_data"
    }
   ],
   "source": [
    "sns.countplot(x=\"gobierno\", data=cnts, color='gray').set(yscale='log');"
   ]
  },
  {
   "cell_type": "markdown",
   "metadata": {},
   "source": [
    "## Entidad Federativa compradora"
   ]
  },
  {
   "cell_type": "code",
   "execution_count": 195,
   "metadata": {},
   "outputs": [
    {
     "data": {
      "image/png": "[encoded data removed]",
      "text/plain": [
       "<Figure size 432x288 with 1 Axes>"
      ]
     },
     "metadata": {
      "needs_background": "light"
     },
     "output_type": "display_data"
    }
   ],
   "source": [
    "sns.countplot(x=\"b_entidad_federativa\",\n",
    "              data=cnts,\n",
    "              order=cnts['b_entidad_federativa'].value_counts().index,\n",
    "              color=\"gray\").set(ylabel=\"N contracts\", yscale=\"log\")\n",
    "plt.xticks(rotation=90);"
   ]
  },
  {
   "cell_type": "code",
   "execution_count": 201,
   "metadata": {},
   "outputs": [
    {
     "data": {
      "image/png": "[encoded data removed]",
      "text/plain": [
       "<Figure size 432x288 with 1 Axes>"
      ]
     },
     "metadata": {
      "needs_background": "light"
     },
     "output_type": "display_data"
    }
   ],
   "source": [
    "gbef = cnts.groupby('b_entidad_federativa')\\\n",
    "       .importe_contrato.sum()\\\n",
    "       .reset_index()\\\n",
    "       .sort_values(by=\"importe_contrato\", ascending=False)\n",
    "sns.barplot(x=\"b_entidad_federativa\", y=\"importe_contrato\", data=gbef, color='gray')\\\n",
    "    .set(ylabel=\"Total (USD)\", xlabel=\"Estado\", yscale=\"log\")\n",
    "plt.xticks(rotation=90);"
   ]
  },
  {
   "cell_type": "code",
   "execution_count": 202,
   "metadata": {},
   "outputs": [
    {
     "data": {
      "image/png": "[encoded data removed]",
      "text/plain": [
       "<Figure size 432x288 with 1 Axes>"
      ]
     },
     "metadata": {
      "needs_background": "light"
     },
     "output_type": "display_data"
    }
   ],
   "source": [
    "gbef = cnts.groupby('b_entidad_federativa')\\\n",
    "       .importe_contrato.mean()\\\n",
    "       .reset_index()\\\n",
    "       .sort_values(by=\"importe_contrato\", ascending=False)\n",
    "sns.barplot(x=\"b_entidad_federativa\", y=\"importe_contrato\", data=gbef, color='gray')\\\n",
    "    .set(ylabel=\"Total (USD)\", xlabel=\"Estado\", yscale=\"log\")\n",
    "plt.xticks(rotation=90);"
   ]
  }
 ],
 "metadata": {
  "kernelspec": {
   "display_name": "Python 3",
   "language": "python",
   "name": "python3"
  },
  "language_info": {
   "codemirror_mode": {
    "name": "ipython",
    "version": 3
   },
   "file_extension": ".py",
   "mimetype": "text/x-python",
   "name": "python",
   "nbconvert_exporter": "python",
   "pygments_lexer": "ipython3",
   "version": "3.6.9"
  }
 },
 "nbformat": 4,
 "nbformat_minor": 4
}
