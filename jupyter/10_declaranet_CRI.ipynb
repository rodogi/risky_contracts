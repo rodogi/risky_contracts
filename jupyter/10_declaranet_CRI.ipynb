{
 "cells": [
  {
   "cell_type": "markdown",
   "metadata": {
    "slideshow": {
     "slide_type": "slide"
    }
   },
   "source": [
    "# CRI\n",
    "\n",
    "Corruption risk index will allow us to compare public procurement networks in terms of risky structure."
   ]
  },
  {
   "cell_type": "markdown",
   "metadata": {
    "slideshow": {
     "slide_type": "slide"
    }
   },
   "source": [
    "# CRI\n",
    "\n",
    "We are going to group by state the following variables:\n",
    "\n",
    "- Supplier/buyer dispersion\n",
    "- State-level dispersion\n",
    "- Proportion of same-state contracts\n",
    "- Proportion of people suppliers\n",
    "- Contract daily price\n",
    "- Contract amount\n",
    "- File size of the contract\n",
    "- Proportion of atomized contracts\n",
    "- Direct award\n",
    "\n",
    "And compare them to corruption perception in companies and the general population + corruption experience."
   ]
  },
  {
   "cell_type": "code",
   "execution_count": 1,
   "metadata": {
    "slideshow": {
     "slide_type": "skip"
    }
   },
   "outputs": [],
   "source": [
    "import pandas as pd\n",
    "import numpy as np\n",
    "import seaborn as sns\n",
    "import matplotlib.pyplot as plt\n",
    "import networkx as nx"
   ]
  },
  {
   "cell_type": "code",
   "execution_count": 2,
   "metadata": {
    "slideshow": {
     "slide_type": "skip"
    }
   },
   "outputs": [],
   "source": [
    "from sklearn import linear_model\n",
    "from sklearn import preprocessing\n",
    "from sklearn.impute import SimpleImputer"
   ]
  },
  {
   "cell_type": "code",
   "execution_count": 3,
   "metadata": {
    "slideshow": {
     "slide_type": "skip"
    }
   },
   "outputs": [],
   "source": [
    "corruption = pd.read_csv(\"../data/states/federal.csv\")\n",
    "# Contracts dataframe\n",
    "cnts = pd.read_csv(\"../data/pre-process/contratos_3.csv\",\n",
    "                  parse_dates=[\"start_date\"])\n",
    "# Select only studied dates\n",
    "cnts = cnts[(cnts.start_date < '2020-01-01') & (cnts.start_date > '2010-12-31')]\n",
    "# Three letter state code\n",
    "codes = pd.read_csv(\"../data/states/federal.csv\",\n",
    "                   usecols=[\"state\", \"code\"])\n",
    "# Some additional data\n",
    "inegi = pd.read_csv(\"../data/inegi/state_data.csv\")"
   ]
  },
  {
   "cell_type": "code",
   "execution_count": 4,
   "metadata": {
    "slideshow": {
     "slide_type": "skip"
    }
   },
   "outputs": [],
   "source": [
    "cnts = pd.merge(cnts,\n",
    "                codes,\n",
    "                how=\"left\",\n",
    "                left_on=\"buyer_state\",\n",
    "                right_on=\"state\")\n",
    "\n",
    "cnts = pd.merge(cnts,\n",
    "                codes,\n",
    "                how=\"left\",\n",
    "                left_on=\"supplier_state\",\n",
    "                right_on=\"state\",\n",
    "                suffixes=[\"_b\", \"_s\"])"
   ]
  },
  {
   "cell_type": "code",
   "execution_count": 5,
   "metadata": {
    "slideshow": {
     "slide_type": "skip"
    }
   },
   "outputs": [],
   "source": [
    "cnts = cnts[cnts['gvmnt_level'] == 'F']"
   ]
  },
  {
   "cell_type": "code",
   "execution_count": 6,
   "metadata": {},
   "outputs": [],
   "source": [
    "cnts['code_s'] = cnts['code_s'].fillna(\"UNK\")"
   ]
  },
  {
   "cell_type": "code",
   "execution_count": 7,
   "metadata": {
    "slideshow": {
     "slide_type": "slide"
    }
   },
   "outputs": [
    {
     "data": {
      "image/png": "[encoded data removed]",
      "text/plain": [
       "<Figure size 432x288 with 1 Axes>"
      ]
     },
     "metadata": {
      "needs_background": "light"
     },
     "output_type": "display_data"
    }
   ],
   "source": [
    "cnts.start_date.dt.year.value_counts().plot(kind=\"bar\", color=\"gray\")\n",
    "plt.xlabel(\"Year\")\n",
    "plt.ylabel(\"Freq\")\n",
    "plt.title(\"Number of contracts per year\");"
   ]
  },
  {
   "cell_type": "code",
   "execution_count": 8,
   "metadata": {
    "slideshow": {
     "slide_type": "skip"
    }
   },
   "outputs": [],
   "source": [
    "gb_buyer = cnts.groupby([\"code_b\"]).code_s.value_counts(normalize=True).rename(\"Freq\").reset_index()"
   ]
  },
  {
   "cell_type": "markdown",
   "metadata": {
    "slideshow": {
     "slide_type": "skip"
    }
   },
   "source": [
    "## Corruption"
   ]
  },
  {
   "cell_type": "code",
   "execution_count": 9,
   "metadata": {
    "slideshow": {
     "slide_type": "skip"
    }
   },
   "outputs": [],
   "source": [
    "corruption = pd.merge(corruption, codes, how=\"left\")\n",
    "\n",
    "corruption = corruption.set_index(\"code\")"
   ]
  },
  {
   "cell_type": "markdown",
   "metadata": {
    "slideshow": {
     "slide_type": "skip"
    }
   },
   "source": [
    "# INEGI"
   ]
  },
  {
   "cell_type": "code",
   "execution_count": 10,
   "metadata": {
    "slideshow": {
     "slide_type": "skip"
    }
   },
   "outputs": [],
   "source": [
    "inegi = pd.merge(inegi, codes, how=\"left\", on=\"state\")\n",
    "\n",
    "cols_strip = ['population_2015', 'GVA_2011', 'GVA_2012', 'GVA_2013',\n",
    "       'GVA_2014', 'GVA_2015', 'GVA_2016', 'GVA_2017', 'GVA_2018']\n",
    "\n",
    "inegi[cols_strip] = inegi[cols_strip].apply(lambda x: x.str.replace(\" \", \"\").astype(float), axis=1)\n",
    "\n",
    "inegi = inegi.set_index('code')"
   ]
  },
  {
   "cell_type": "markdown",
   "metadata": {
    "slideshow": {
     "slide_type": "slide"
    }
   },
   "source": [
    "## Same state contracts, Human suppliers and direct award\n",
    "\n",
    "- Same state contract: 1 if both supplier and buyer are from the same state, 0 otherwise.\n",
    "- Human supplier: 1 if the supplier is a person, 0 otherwise\n",
    "- Direct award: 1 if contract was awarded directly (no competition), 0 otherwise."
   ]
  },
  {
   "cell_type": "code",
   "execution_count": 11,
   "metadata": {
    "slideshow": {
     "slide_type": "skip"
    }
   },
   "outputs": [],
   "source": [
    "cnts['same_state'] = (cnts['code_b'] == cnts['code_s']) * 1"
   ]
  },
  {
   "cell_type": "markdown",
   "metadata": {
    "slideshow": {
     "slide_type": "slide"
    }
   },
   "source": [
    "# File size\n",
    "\n",
    "Number of contracts per file. Each contract has a file and we can know how many contracts were in the file.\n",
    "\n",
    "We define a file as atomized if its number of contracts is larger than 10."
   ]
  },
  {
   "cell_type": "code",
   "execution_count": 12,
   "metadata": {
    "slideshow": {
     "slide_type": "skip"
    }
   },
   "outputs": [],
   "source": [
    "cnts['atom'] = (cnts['file_size'] > 10) * 1"
   ]
  },
  {
   "cell_type": "markdown",
   "metadata": {
    "slideshow": {
     "slide_type": "slide"
    }
   },
   "source": [
    "# Daily price and amount\n",
    "\n",
    "- Amount: Amount in USD of the contract\n",
    "- Daily price: Amount divided by time span of contract in days."
   ]
  },
  {
   "cell_type": "markdown",
   "metadata": {
    "slideshow": {
     "slide_type": "slide"
    }
   },
   "source": [
    "# Dispersion\n",
    "\n",
    "We take the variation coefficient ($\\frac{\\sigma}{\\mu}$) of the distribution contracts of each state to any other state.\n",
    "\n",
    "Let {20, 30, 30, 20} the distribution of contracts bought by state A.\n",
    "\n",
    "Then $\\sigma = 5$ and $\\mu = 25$, therefore $\\frac{\\sigma}{\\mu} = 0.2$.\n",
    "\n",
    "To finish, we normalize by the number of contracts (100), so dispersion of A in contracts bought is $0.002$."
   ]
  },
  {
   "cell_type": "markdown",
   "metadata": {
    "slideshow": {
     "slide_type": "slide"
    }
   },
   "source": [
    "# Dispersion\n",
    "\n",
    "In a similar way we compute the dispersion of A in contracts sold.\n",
    "\n",
    "Two other dispersions are calculated:\n",
    "\n",
    "- Supplier dispersion (by taking the contract distribution of each supplier)\n",
    "- Buyer dispersion (by taking the contracts of each buyer)\n",
    "\n",
    "In total we have 4 dispersion measures."
   ]
  },
  {
   "cell_type": "markdown",
   "metadata": {
    "slideshow": {
     "slide_type": "skip"
    }
   },
   "source": [
    "## Dispersion, Two kinds of risk: public and private. \n",
    "\n",
    "Let's work with the two by grouping by `buyer_state` and `supplier_state` at the same time."
   ]
  },
  {
   "cell_type": "markdown",
   "metadata": {
    "slideshow": {
     "slide_type": "skip"
    }
   },
   "source": [
    "## Buyer variation"
   ]
  },
  {
   "cell_type": "code",
   "execution_count": 13,
   "metadata": {
    "slideshow": {
     "slide_type": "skip"
    }
   },
   "outputs": [],
   "source": [
    "def var_coeff(states):\n",
    "    #if np.std(states) == 0:\n",
    "    #    return np.nan\n",
    "    \n",
    "    return np.std(states) / np.mean(states)"
   ]
  },
  {
   "cell_type": "markdown",
   "metadata": {
    "slideshow": {
     "slide_type": "skip"
    }
   },
   "source": [
    "In terms of state"
   ]
  },
  {
   "cell_type": "code",
   "execution_count": 14,
   "metadata": {
    "slideshow": {
     "slide_type": "skip"
    }
   },
   "outputs": [],
   "source": [
    "bv_s = cnts.groupby('code_b')['code_s'].value_counts().rename('N').reset_index()\n",
    "bv_s_n = cnts.groupby('code_b').code_s.size().rename('NC').reset_index()\n",
    "bv_s = bv_s[\n",
    "    bv_s.code_b != bv_s.code_s].groupby(\n",
    "    'code_b').N.apply(var_coeff).rename('state_dispersion_b').reset_index()\n",
    "bv_s = pd.merge(bv_s, bv_s_n, how='left')\n",
    "bv_s['state_dispersion_b'] = bv_s['state_dispersion_b'] / bv_s['NC']\n",
    "bv_s = bv_s.drop('NC', axis=1)"
   ]
  },
  {
   "cell_type": "markdown",
   "metadata": {
    "slideshow": {
     "slide_type": "skip"
    }
   },
   "source": [
    "In terms of Buyer"
   ]
  },
  {
   "cell_type": "code",
   "execution_count": 15,
   "metadata": {
    "slideshow": {
     "slide_type": "skip"
    }
   },
   "outputs": [],
   "source": [
    "bv_b = cnts.groupby(['code_b', 'buyer'])['supplier'].value_counts().rename('N').reset_index()\n",
    "bv_b_n = cnts.groupby(['code_b', 'buyer']).supplier.size().rename('NC').reset_index()\n",
    "bv_b = bv_b.groupby(\n",
    "    ['code_b', 'buyer']).N.apply(var_coeff).rename('buyer_dispersion').reset_index()\n",
    "bv_b = pd.merge(bv_b, bv_b_n, how='left')\n",
    "bv_b['buyer_dispersion'] = bv_b['buyer_dispersion']  / bv_b['NC']\n",
    "bv_b = bv_b.drop('NC', axis=1)"
   ]
  },
  {
   "cell_type": "code",
   "execution_count": 16,
   "metadata": {
    "slideshow": {
     "slide_type": "skip"
    }
   },
   "outputs": [],
   "source": [
    "cnts = pd.merge(cnts, bv_s,\n",
    "                how=\"left\", on=\"code_b\")"
   ]
  },
  {
   "cell_type": "code",
   "execution_count": 17,
   "metadata": {},
   "outputs": [],
   "source": [
    "imp_mean = SimpleImputer(missing_values=np.nan, strategy='mean')\n",
    "cnts[['state_dispersion_b']] = imp_mean.fit_transform(cnts[['state_dispersion_b']])"
   ]
  },
  {
   "cell_type": "code",
   "execution_count": 18,
   "metadata": {
    "slideshow": {
     "slide_type": "skip"
    }
   },
   "outputs": [],
   "source": [
    "cnts = pd.merge(cnts, bv_b,\n",
    "                how=\"left\")"
   ]
  },
  {
   "cell_type": "code",
   "execution_count": 19,
   "metadata": {},
   "outputs": [],
   "source": [
    "imp_mean = SimpleImputer(missing_values=np.nan, strategy='mean')\n",
    "cnts[['buyer_dispersion']] = imp_mean.fit_transform(cnts[['buyer_dispersion']])"
   ]
  },
  {
   "cell_type": "markdown",
   "metadata": {
    "slideshow": {
     "slide_type": "skip"
    }
   },
   "source": [
    "# Supplier variation"
   ]
  },
  {
   "cell_type": "code",
   "execution_count": 20,
   "metadata": {
    "slideshow": {
     "slide_type": "skip"
    }
   },
   "outputs": [],
   "source": [
    "sv_s = cnts.groupby('code_s')['code_b'].value_counts().rename('N').reset_index()\n",
    "sv_s_n = cnts.groupby('code_s').code_b.size().rename('NC').reset_index()\n",
    "sv_s = sv_s[\n",
    "    sv_s.code_b != sv_s.code_s].groupby(\n",
    "    'code_s').N.apply(var_coeff).rename('state_dispersion_s').reset_index()\n",
    "sv_s = pd.merge(sv_s, sv_s_n, how='left')\n",
    "sv_s['state_dispersion_s'] = sv_s['state_dispersion_s'] / sv_s['NC']\n",
    "sv_s = sv_s.drop('NC', axis=1)"
   ]
  },
  {
   "cell_type": "code",
   "execution_count": 21,
   "metadata": {
    "slideshow": {
     "slide_type": "skip"
    }
   },
   "outputs": [],
   "source": [
    "sv_s = sv_s.set_index('code_s')"
   ]
  },
  {
   "cell_type": "code",
   "execution_count": 22,
   "metadata": {
    "slideshow": {
     "slide_type": "skip"
    }
   },
   "outputs": [],
   "source": [
    "cnts = pd.merge(cnts, sv_s,\n",
    "                how=\"left\", left_on=\"code_s\", right_index=True)"
   ]
  },
  {
   "cell_type": "code",
   "execution_count": 23,
   "metadata": {},
   "outputs": [],
   "source": [
    "imp_mean = SimpleImputer(missing_values=np.nan, strategy='mean')\n",
    "cnts[['state_dispersion_s']] = imp_mean.fit_transform(cnts[['state_dispersion_s']])"
   ]
  },
  {
   "cell_type": "code",
   "execution_count": 24,
   "metadata": {
    "slideshow": {
     "slide_type": "skip"
    }
   },
   "outputs": [],
   "source": [
    "# Get distribution of contracts per supplier\n",
    "sv_b = cnts.groupby(['code_s', 'supplier'])['buyer'].value_counts().rename('N').reset_index()\n",
    "sv_b_n = cnts.groupby(['code_s', 'supplier']).buyer.size().rename('NC').reset_index()\n",
    "sv_b = sv_b.groupby(\n",
    "    ['code_s', 'supplier']).N.apply(var_coeff).rename('supplier_dispersion').reset_index()\n",
    "sv_b = pd.merge(sv_b, sv_b_n, how='left')\n",
    "sv_b['supplier_dispersion'] = sv_b['supplier_dispersion']   / sv_b['NC']\n",
    "sv_b = sv_b.drop('NC', axis=1)"
   ]
  },
  {
   "cell_type": "code",
   "execution_count": 25,
   "metadata": {
    "slideshow": {
     "slide_type": "skip"
    }
   },
   "outputs": [],
   "source": [
    "cnts = pd.merge(cnts, sv_b,\n",
    "                how=\"left\")"
   ]
  },
  {
   "cell_type": "code",
   "execution_count": 26,
   "metadata": {},
   "outputs": [],
   "source": [
    "imp_mean = SimpleImputer(missing_values=np.nan, strategy='mean')\n",
    "cnts[['supplier_dispersion']] = imp_mean.fit_transform(cnts[['supplier_dispersion']])"
   ]
  },
  {
   "cell_type": "markdown",
   "metadata": {
    "slideshow": {
     "slide_type": "slide"
    }
   },
   "source": [
    "# Buyer clustering"
   ]
  },
  {
   "cell_type": "code",
   "execution_count": 27,
   "metadata": {
    "slideshow": {
     "slide_type": "skip"
    }
   },
   "outputs": [],
   "source": [
    "G = nx.from_pandas_edgelist(cnts,\n",
    "                            source=\"buyer\",\n",
    "                            target=\"supplier\")"
   ]
  },
  {
   "cell_type": "code",
   "execution_count": 28,
   "metadata": {
    "slideshow": {
     "slide_type": "skip"
    }
   },
   "outputs": [],
   "source": [
    "buyers = cnts.buyer.unique()"
   ]
  },
  {
   "cell_type": "code",
   "execution_count": 29,
   "metadata": {
    "slideshow": {
     "slide_type": "skip"
    }
   },
   "outputs": [],
   "source": [
    "c_nodes = nx.bipartite.clustering(G, nodes=buyers)"
   ]
  },
  {
   "cell_type": "code",
   "execution_count": 30,
   "metadata": {},
   "outputs": [],
   "source": [
    "c_nodes = [[k, c_nodes[k]] for k in c_nodes]"
   ]
  },
  {
   "cell_type": "code",
   "execution_count": 31,
   "metadata": {},
   "outputs": [],
   "source": [
    "cluster = pd.DataFrame(c_nodes, columns=['buyer', 'clustering'])"
   ]
  },
  {
   "cell_type": "code",
   "execution_count": 32,
   "metadata": {},
   "outputs": [],
   "source": [
    "cnts = pd.merge(cnts,\n",
    "         cluster,\n",
    "         how='left',\n",
    "         on='buyer')"
   ]
  },
  {
   "cell_type": "markdown",
   "metadata": {
    "slideshow": {
     "slide_type": "slide"
    }
   },
   "source": [
    "## Put it all together in a linear model"
   ]
  },
  {
   "cell_type": "code",
   "execution_count": 33,
   "metadata": {},
   "outputs": [],
   "source": [
    "# When we consider all together we have 11 co-variates.\n",
    "\n",
    "covariates = ['same_state',\n",
    "              'person',\n",
    "              'single_bid',\n",
    "              'state_dispersion_b',\n",
    "              'buyer_dispersion',\n",
    "              'state_dispersion_s',\n",
    "              'supplier_dispersion',\n",
    "              #'clustering',\n",
    "              'daily_price',\n",
    "              'amount',\n",
    "              'file_size',\n",
    "              'atom']"
   ]
  },
  {
   "cell_type": "code",
   "execution_count": 34,
   "metadata": {},
   "outputs": [],
   "source": [
    "cnts_train = cnts.copy()"
   ]
  },
  {
   "cell_type": "code",
   "execution_count": 35,
   "metadata": {},
   "outputs": [],
   "source": [
    "ss = cnts_train.groupby(\"code_b\", as_index=False)[['same_state', 'person', 'single_bid']].mean()\n",
    "\n",
    "ss = pd.merge(ss,\n",
    "             inegi[[\"population_2015\", \"GVA_2015\"]],\n",
    "             left_on=\"code_b\",\n",
    "             right_index=True)\n",
    "\n",
    "ss = pd.merge(ss,\n",
    "              corruption[[\"very_high_r\", \"c_very_high_r\", \"e_exp_r\"]],\n",
    "              how=\"left\",\n",
    "              left_on=\"code_b\",\n",
    "              right_index=True)\n",
    "\n",
    "ss['gva_pc'] = ss['GVA_2015'] / ss['population_2015']\n",
    "\n",
    "cl = cnts_train.groupby(\"code_b\", as_index=False)[[\"clustering\"]].mean()\n",
    "\n",
    "sd = cnts_train.groupby(\"code_b\", as_index=False)[[\"supplier_dispersion\"]].mean()\n",
    "\n",
    "bd = cnts_train.groupby(\"code_b\", as_index=False)[[\"buyer_dispersion\"]].mean()\n",
    "\n",
    "dp = cnts_train.groupby(\"code_b\", as_index=False)[[\"daily_price\", \"amount\"]].mean()\n",
    "\n",
    "fs = cnts_train.groupby(\"code_b\", as_index=False)[['file_size', 'atom']].mean()"
   ]
  },
  {
   "cell_type": "code",
   "execution_count": 36,
   "metadata": {
    "slideshow": {
     "slide_type": "skip"
    }
   },
   "outputs": [],
   "source": [
    "gb = pd.merge(ss, bv_s)\n",
    "gb = pd.merge(gb, bd)\n",
    "gb = pd.merge(gb, sv_s, left_on=\"code_b\", right_index=True)\n",
    "gb = pd.merge(gb, sd)\n",
    "gb = pd.merge(gb, dp)\n",
    "gb = pd.merge(gb, fs)\n",
    "gb = pd.merge(gb, cl)"
   ]
  },
  {
   "cell_type": "code",
   "execution_count": 37,
   "metadata": {
    "slideshow": {
     "slide_type": "slide"
    }
   },
   "outputs": [],
   "source": [
    "# We fit it in a linear model\n",
    "\n",
    "X = gb[covariates].values\n",
    "# Scale the features to range [0,1]\n",
    "min_max_scaler = preprocessing.MinMaxScaler()\n",
    "#X = min_max_scaler.fit_transform(X)\n",
    "\n",
    "y = gb['very_high_r'].values\n",
    "\n",
    "ols = linear_model.LinearRegression()\n",
    "ols.fit(X, y)\n",
    "\n",
    "#X_test = min_max_scaler.transform(cnts[covariates].values)\n",
    "#cnts['CRI'] = np.inner(X_test, ols.coef_) + ols.intercept_\n",
    "cnts['CRI'] = np.inner(cnts[covariates].values, ols.coef_) + ols.intercept_\n",
    "\n",
    "cri = cnts.groupby('code_b', as_index=False).CRI.mean()\n",
    "\n",
    "gb['CRI'] = np.inner(X, ols.coef_) + ols.intercept_\n",
    "\n",
    "gb = gb.drop('CRI', axis=1)\n",
    "\n",
    "gb = pd.merge(gb, cri, how='left')"
   ]
  },
  {
   "cell_type": "code",
   "execution_count": 38,
   "metadata": {
    "slideshow": {
     "slide_type": "slide"
    }
   },
   "outputs": [
    {
     "data": {
      "text/html": [
       "<div>\n",
       "<style scoped>\n",
       "    .dataframe tbody tr th:only-of-type {\n",
       "        vertical-align: middle;\n",
       "    }\n",
       "\n",
       "    .dataframe tbody tr th {\n",
       "        vertical-align: top;\n",
       "    }\n",
       "\n",
       "    .dataframe thead th {\n",
       "        text-align: right;\n",
       "    }\n",
       "</style>\n",
       "<table border=\"1\" class=\"dataframe\">\n",
       "  <thead>\n",
       "    <tr style=\"text-align: right;\">\n",
       "      <th></th>\n",
       "      <th>same_state</th>\n",
       "      <th>person</th>\n",
       "      <th>single_bid</th>\n",
       "      <th>population_2015</th>\n",
       "      <th>GVA_2015</th>\n",
       "      <th>very_high_r</th>\n",
       "      <th>c_very_high_r</th>\n",
       "      <th>e_exp_r</th>\n",
       "      <th>gva_pc</th>\n",
       "      <th>state_dispersion_b</th>\n",
       "      <th>buyer_dispersion</th>\n",
       "      <th>state_dispersion_s</th>\n",
       "      <th>supplier_dispersion</th>\n",
       "      <th>daily_price</th>\n",
       "      <th>amount</th>\n",
       "      <th>file_size</th>\n",
       "      <th>atom</th>\n",
       "      <th>clustering</th>\n",
       "      <th>CRI</th>\n",
       "    </tr>\n",
       "  </thead>\n",
       "  <tbody>\n",
       "    <tr>\n",
       "      <th>same_state</th>\n",
       "      <td>1.000000</td>\n",
       "      <td>0.277126</td>\n",
       "      <td>-0.153959</td>\n",
       "      <td>0.309018</td>\n",
       "      <td>0.245968</td>\n",
       "      <td>0.153621</td>\n",
       "      <td>0.413123</td>\n",
       "      <td>-0.023094</td>\n",
       "      <td>0.135630</td>\n",
       "      <td>-0.161290</td>\n",
       "      <td>0.279692</td>\n",
       "      <td>-0.283358</td>\n",
       "      <td>0.326613</td>\n",
       "      <td>-0.218109</td>\n",
       "      <td>0.213710</td>\n",
       "      <td>-0.272361</td>\n",
       "      <td>-0.261364</td>\n",
       "      <td>0.065982</td>\n",
       "      <td>0.313783</td>\n",
       "    </tr>\n",
       "    <tr>\n",
       "      <th>person</th>\n",
       "      <td>0.277126</td>\n",
       "      <td>1.000000</td>\n",
       "      <td>-0.087977</td>\n",
       "      <td>-0.292155</td>\n",
       "      <td>-0.254765</td>\n",
       "      <td>0.119157</td>\n",
       "      <td>0.103372</td>\n",
       "      <td>0.010264</td>\n",
       "      <td>-0.004032</td>\n",
       "      <td>0.190982</td>\n",
       "      <td>0.193182</td>\n",
       "      <td>0.295455</td>\n",
       "      <td>0.285191</td>\n",
       "      <td>-0.171188</td>\n",
       "      <td>0.168255</td>\n",
       "      <td>-0.431085</td>\n",
       "      <td>-0.367302</td>\n",
       "      <td>-0.296921</td>\n",
       "      <td>0.174487</td>\n",
       "    </tr>\n",
       "    <tr>\n",
       "      <th>single_bid</th>\n",
       "      <td>-0.153959</td>\n",
       "      <td>-0.087977</td>\n",
       "      <td>1.000000</td>\n",
       "      <td>0.188050</td>\n",
       "      <td>0.322947</td>\n",
       "      <td>0.149771</td>\n",
       "      <td>0.062683</td>\n",
       "      <td>-0.011730</td>\n",
       "      <td>0.292522</td>\n",
       "      <td>-0.623534</td>\n",
       "      <td>-0.788490</td>\n",
       "      <td>-0.497067</td>\n",
       "      <td>-0.395528</td>\n",
       "      <td>0.021628</td>\n",
       "      <td>-0.356672</td>\n",
       "      <td>0.315249</td>\n",
       "      <td>0.096408</td>\n",
       "      <td>-0.487903</td>\n",
       "      <td>0.307551</td>\n",
       "    </tr>\n",
       "    <tr>\n",
       "      <th>population_2015</th>\n",
       "      <td>0.309018</td>\n",
       "      <td>-0.292155</td>\n",
       "      <td>0.188050</td>\n",
       "      <td>1.000000</td>\n",
       "      <td>0.747801</td>\n",
       "      <td>0.545921</td>\n",
       "      <td>0.592375</td>\n",
       "      <td>0.082478</td>\n",
       "      <td>-0.233871</td>\n",
       "      <td>-0.742302</td>\n",
       "      <td>-0.441716</td>\n",
       "      <td>-0.784091</td>\n",
       "      <td>0.009531</td>\n",
       "      <td>0.181818</td>\n",
       "      <td>0.109971</td>\n",
       "      <td>0.243035</td>\n",
       "      <td>0.134897</td>\n",
       "      <td>-0.087243</td>\n",
       "      <td>0.464809</td>\n",
       "    </tr>\n",
       "    <tr>\n",
       "      <th>GVA_2015</th>\n",
       "      <td>0.245968</td>\n",
       "      <td>-0.254765</td>\n",
       "      <td>0.322947</td>\n",
       "      <td>0.747801</td>\n",
       "      <td>1.000000</td>\n",
       "      <td>0.324290</td>\n",
       "      <td>0.491935</td>\n",
       "      <td>0.079179</td>\n",
       "      <td>0.362170</td>\n",
       "      <td>-0.729472</td>\n",
       "      <td>-0.373900</td>\n",
       "      <td>-0.821848</td>\n",
       "      <td>-0.061584</td>\n",
       "      <td>0.061217</td>\n",
       "      <td>0.072947</td>\n",
       "      <td>0.281525</td>\n",
       "      <td>0.065982</td>\n",
       "      <td>-0.153226</td>\n",
       "      <td>0.298754</td>\n",
       "    </tr>\n",
       "    <tr>\n",
       "      <th>very_high_r</th>\n",
       "      <td>0.153621</td>\n",
       "      <td>0.119157</td>\n",
       "      <td>0.149771</td>\n",
       "      <td>0.545921</td>\n",
       "      <td>0.324290</td>\n",
       "      <td>1.000000</td>\n",
       "      <td>0.726856</td>\n",
       "      <td>0.352521</td>\n",
       "      <td>-0.236480</td>\n",
       "      <td>-0.426214</td>\n",
       "      <td>-0.377819</td>\n",
       "      <td>-0.421448</td>\n",
       "      <td>-0.171402</td>\n",
       "      <td>0.091476</td>\n",
       "      <td>0.246563</td>\n",
       "      <td>0.234280</td>\n",
       "      <td>0.208433</td>\n",
       "      <td>-0.106508</td>\n",
       "      <td>0.547754</td>\n",
       "    </tr>\n",
       "    <tr>\n",
       "      <th>c_very_high_r</th>\n",
       "      <td>0.413123</td>\n",
       "      <td>0.103372</td>\n",
       "      <td>0.062683</td>\n",
       "      <td>0.592375</td>\n",
       "      <td>0.491935</td>\n",
       "      <td>0.726856</td>\n",
       "      <td>1.000000</td>\n",
       "      <td>0.334677</td>\n",
       "      <td>-0.015029</td>\n",
       "      <td>-0.504399</td>\n",
       "      <td>-0.254765</td>\n",
       "      <td>-0.493768</td>\n",
       "      <td>-0.017962</td>\n",
       "      <td>0.051686</td>\n",
       "      <td>0.268695</td>\n",
       "      <td>0.133065</td>\n",
       "      <td>0.095674</td>\n",
       "      <td>-0.202713</td>\n",
       "      <td>0.627566</td>\n",
       "    </tr>\n",
       "    <tr>\n",
       "      <th>e_exp_r</th>\n",
       "      <td>-0.023094</td>\n",
       "      <td>0.010264</td>\n",
       "      <td>-0.011730</td>\n",
       "      <td>0.082478</td>\n",
       "      <td>0.079179</td>\n",
       "      <td>0.352521</td>\n",
       "      <td>0.334677</td>\n",
       "      <td>1.000000</td>\n",
       "      <td>0.105938</td>\n",
       "      <td>-0.071848</td>\n",
       "      <td>-0.197947</td>\n",
       "      <td>-0.144062</td>\n",
       "      <td>-0.130865</td>\n",
       "      <td>0.002933</td>\n",
       "      <td>0.311217</td>\n",
       "      <td>0.204179</td>\n",
       "      <td>0.109238</td>\n",
       "      <td>-0.325513</td>\n",
       "      <td>0.418622</td>\n",
       "    </tr>\n",
       "    <tr>\n",
       "      <th>gva_pc</th>\n",
       "      <td>0.135630</td>\n",
       "      <td>-0.004032</td>\n",
       "      <td>0.292522</td>\n",
       "      <td>-0.233871</td>\n",
       "      <td>0.362170</td>\n",
       "      <td>-0.236480</td>\n",
       "      <td>-0.015029</td>\n",
       "      <td>0.105938</td>\n",
       "      <td>1.000000</td>\n",
       "      <td>-0.135997</td>\n",
       "      <td>-0.028592</td>\n",
       "      <td>-0.190616</td>\n",
       "      <td>-0.265396</td>\n",
       "      <td>-0.189150</td>\n",
       "      <td>-0.045821</td>\n",
       "      <td>0.185484</td>\n",
       "      <td>-0.007331</td>\n",
       "      <td>-0.131965</td>\n",
       "      <td>0.013930</td>\n",
       "    </tr>\n",
       "    <tr>\n",
       "      <th>state_dispersion_b</th>\n",
       "      <td>-0.161290</td>\n",
       "      <td>0.190982</td>\n",
       "      <td>-0.623534</td>\n",
       "      <td>-0.742302</td>\n",
       "      <td>-0.729472</td>\n",
       "      <td>-0.426214</td>\n",
       "      <td>-0.504399</td>\n",
       "      <td>-0.071848</td>\n",
       "      <td>-0.135997</td>\n",
       "      <td>1.000000</td>\n",
       "      <td>0.765762</td>\n",
       "      <td>0.862903</td>\n",
       "      <td>0.287757</td>\n",
       "      <td>-0.127199</td>\n",
       "      <td>0.064150</td>\n",
       "      <td>-0.276026</td>\n",
       "      <td>-0.082845</td>\n",
       "      <td>0.291056</td>\n",
       "      <td>-0.629765</td>\n",
       "    </tr>\n",
       "    <tr>\n",
       "      <th>buyer_dispersion</th>\n",
       "      <td>0.279692</td>\n",
       "      <td>0.193182</td>\n",
       "      <td>-0.788490</td>\n",
       "      <td>-0.441716</td>\n",
       "      <td>-0.373900</td>\n",
       "      <td>-0.377819</td>\n",
       "      <td>-0.254765</td>\n",
       "      <td>-0.197947</td>\n",
       "      <td>-0.028592</td>\n",
       "      <td>0.765762</td>\n",
       "      <td>1.000000</td>\n",
       "      <td>0.587243</td>\n",
       "      <td>0.509164</td>\n",
       "      <td>-0.173754</td>\n",
       "      <td>0.207111</td>\n",
       "      <td>-0.494135</td>\n",
       "      <td>-0.298754</td>\n",
       "      <td>0.423021</td>\n",
       "      <td>-0.590176</td>\n",
       "    </tr>\n",
       "    <tr>\n",
       "      <th>state_dispersion_s</th>\n",
       "      <td>-0.283358</td>\n",
       "      <td>0.295455</td>\n",
       "      <td>-0.497067</td>\n",
       "      <td>-0.784091</td>\n",
       "      <td>-0.821848</td>\n",
       "      <td>-0.421448</td>\n",
       "      <td>-0.493768</td>\n",
       "      <td>-0.144062</td>\n",
       "      <td>-0.190616</td>\n",
       "      <td>0.862903</td>\n",
       "      <td>0.587243</td>\n",
       "      <td>1.000000</td>\n",
       "      <td>0.087610</td>\n",
       "      <td>-0.122067</td>\n",
       "      <td>-0.047287</td>\n",
       "      <td>-0.255499</td>\n",
       "      <td>-0.026026</td>\n",
       "      <td>0.276760</td>\n",
       "      <td>-0.531158</td>\n",
       "    </tr>\n",
       "    <tr>\n",
       "      <th>supplier_dispersion</th>\n",
       "      <td>0.326613</td>\n",
       "      <td>0.285191</td>\n",
       "      <td>-0.395528</td>\n",
       "      <td>0.009531</td>\n",
       "      <td>-0.061584</td>\n",
       "      <td>-0.171402</td>\n",
       "      <td>-0.017962</td>\n",
       "      <td>-0.130865</td>\n",
       "      <td>-0.265396</td>\n",
       "      <td>0.287757</td>\n",
       "      <td>0.509164</td>\n",
       "      <td>0.087610</td>\n",
       "      <td>1.000000</td>\n",
       "      <td>0.130132</td>\n",
       "      <td>0.273460</td>\n",
       "      <td>-0.747801</td>\n",
       "      <td>-0.718475</td>\n",
       "      <td>-0.138196</td>\n",
       "      <td>-0.076246</td>\n",
       "    </tr>\n",
       "    <tr>\n",
       "      <th>daily_price</th>\n",
       "      <td>-0.218109</td>\n",
       "      <td>-0.171188</td>\n",
       "      <td>0.021628</td>\n",
       "      <td>0.181818</td>\n",
       "      <td>0.061217</td>\n",
       "      <td>0.091476</td>\n",
       "      <td>0.051686</td>\n",
       "      <td>0.002933</td>\n",
       "      <td>-0.189150</td>\n",
       "      <td>-0.127199</td>\n",
       "      <td>-0.173754</td>\n",
       "      <td>-0.122067</td>\n",
       "      <td>0.130132</td>\n",
       "      <td>1.000000</td>\n",
       "      <td>0.601540</td>\n",
       "      <td>-0.079912</td>\n",
       "      <td>-0.187683</td>\n",
       "      <td>-0.299487</td>\n",
       "      <td>0.232038</td>\n",
       "    </tr>\n",
       "    <tr>\n",
       "      <th>amount</th>\n",
       "      <td>0.213710</td>\n",
       "      <td>0.168255</td>\n",
       "      <td>-0.356672</td>\n",
       "      <td>0.109971</td>\n",
       "      <td>0.072947</td>\n",
       "      <td>0.246563</td>\n",
       "      <td>0.268695</td>\n",
       "      <td>0.311217</td>\n",
       "      <td>-0.045821</td>\n",
       "      <td>0.064150</td>\n",
       "      <td>0.207111</td>\n",
       "      <td>-0.047287</td>\n",
       "      <td>0.273460</td>\n",
       "      <td>0.601540</td>\n",
       "      <td>1.000000</td>\n",
       "      <td>-0.215909</td>\n",
       "      <td>-0.283724</td>\n",
       "      <td>-0.179252</td>\n",
       "      <td>0.369501</td>\n",
       "    </tr>\n",
       "    <tr>\n",
       "      <th>file_size</th>\n",
       "      <td>-0.272361</td>\n",
       "      <td>-0.431085</td>\n",
       "      <td>0.315249</td>\n",
       "      <td>0.243035</td>\n",
       "      <td>0.281525</td>\n",
       "      <td>0.234280</td>\n",
       "      <td>0.133065</td>\n",
       "      <td>0.204179</td>\n",
       "      <td>0.185484</td>\n",
       "      <td>-0.276026</td>\n",
       "      <td>-0.494135</td>\n",
       "      <td>-0.255499</td>\n",
       "      <td>-0.747801</td>\n",
       "      <td>-0.079912</td>\n",
       "      <td>-0.215909</td>\n",
       "      <td>1.000000</td>\n",
       "      <td>0.909824</td>\n",
       "      <td>0.141496</td>\n",
       "      <td>0.166789</td>\n",
       "    </tr>\n",
       "    <tr>\n",
       "      <th>atom</th>\n",
       "      <td>-0.261364</td>\n",
       "      <td>-0.367302</td>\n",
       "      <td>0.096408</td>\n",
       "      <td>0.134897</td>\n",
       "      <td>0.065982</td>\n",
       "      <td>0.208433</td>\n",
       "      <td>0.095674</td>\n",
       "      <td>0.109238</td>\n",
       "      <td>-0.007331</td>\n",
       "      <td>-0.082845</td>\n",
       "      <td>-0.298754</td>\n",
       "      <td>-0.026026</td>\n",
       "      <td>-0.718475</td>\n",
       "      <td>-0.187683</td>\n",
       "      <td>-0.283724</td>\n",
       "      <td>0.909824</td>\n",
       "      <td>1.000000</td>\n",
       "      <td>0.367302</td>\n",
       "      <td>0.034824</td>\n",
       "    </tr>\n",
       "    <tr>\n",
       "      <th>clustering</th>\n",
       "      <td>0.065982</td>\n",
       "      <td>-0.296921</td>\n",
       "      <td>-0.487903</td>\n",
       "      <td>-0.087243</td>\n",
       "      <td>-0.153226</td>\n",
       "      <td>-0.106508</td>\n",
       "      <td>-0.202713</td>\n",
       "      <td>-0.325513</td>\n",
       "      <td>-0.131965</td>\n",
       "      <td>0.291056</td>\n",
       "      <td>0.423021</td>\n",
       "      <td>0.276760</td>\n",
       "      <td>-0.138196</td>\n",
       "      <td>-0.299487</td>\n",
       "      <td>-0.179252</td>\n",
       "      <td>0.141496</td>\n",
       "      <td>0.367302</td>\n",
       "      <td>1.000000</td>\n",
       "      <td>-0.422287</td>\n",
       "    </tr>\n",
       "    <tr>\n",
       "      <th>CRI</th>\n",
       "      <td>0.313783</td>\n",
       "      <td>0.174487</td>\n",
       "      <td>0.307551</td>\n",
       "      <td>0.464809</td>\n",
       "      <td>0.298754</td>\n",
       "      <td>0.547754</td>\n",
       "      <td>0.627566</td>\n",
       "      <td>0.418622</td>\n",
       "      <td>0.013930</td>\n",
       "      <td>-0.629765</td>\n",
       "      <td>-0.590176</td>\n",
       "      <td>-0.531158</td>\n",
       "      <td>-0.076246</td>\n",
       "      <td>0.232038</td>\n",
       "      <td>0.369501</td>\n",
       "      <td>0.166789</td>\n",
       "      <td>0.034824</td>\n",
       "      <td>-0.422287</td>\n",
       "      <td>1.000000</td>\n",
       "    </tr>\n",
       "  </tbody>\n",
       "</table>\n",
       "</div>"
      ],
      "text/plain": [
       "                     same_state    person  single_bid  population_2015  \\\n",
       "same_state             1.000000  0.277126   -0.153959         0.309018   \n",
       "person                 0.277126  1.000000   -0.087977        -0.292155   \n",
       "single_bid            -0.153959 -0.087977    1.000000         0.188050   \n",
       "population_2015        0.309018 -0.292155    0.188050         1.000000   \n",
       "GVA_2015               0.245968 -0.254765    0.322947         0.747801   \n",
       "very_high_r            0.153621  0.119157    0.149771         0.545921   \n",
       "c_very_high_r          0.413123  0.103372    0.062683         0.592375   \n",
       "e_exp_r               -0.023094  0.010264   -0.011730         0.082478   \n",
       "gva_pc                 0.135630 -0.004032    0.292522        -0.233871   \n",
       "state_dispersion_b    -0.161290  0.190982   -0.623534        -0.742302   \n",
       "buyer_dispersion       0.279692  0.193182   -0.788490        -0.441716   \n",
       "state_dispersion_s    -0.283358  0.295455   -0.497067        -0.784091   \n",
       "supplier_dispersion    0.326613  0.285191   -0.395528         0.009531   \n",
       "daily_price           -0.218109 -0.171188    0.021628         0.181818   \n",
       "amount                 0.213710  0.168255   -0.356672         0.109971   \n",
       "file_size             -0.272361 -0.431085    0.315249         0.243035   \n",
       "atom                  -0.261364 -0.367302    0.096408         0.134897   \n",
       "clustering             0.065982 -0.296921   -0.487903        -0.087243   \n",
       "CRI                    0.313783  0.174487    0.307551         0.464809   \n",
       "\n",
       "                     GVA_2015  very_high_r  c_very_high_r   e_exp_r    gva_pc  \\\n",
       "same_state           0.245968     0.153621       0.413123 -0.023094  0.135630   \n",
       "person              -0.254765     0.119157       0.103372  0.010264 -0.004032   \n",
       "single_bid           0.322947     0.149771       0.062683 -0.011730  0.292522   \n",
       "population_2015      0.747801     0.545921       0.592375  0.082478 -0.233871   \n",
       "GVA_2015             1.000000     0.324290       0.491935  0.079179  0.362170   \n",
       "very_high_r          0.324290     1.000000       0.726856  0.352521 -0.236480   \n",
       "c_very_high_r        0.491935     0.726856       1.000000  0.334677 -0.015029   \n",
       "e_exp_r              0.079179     0.352521       0.334677  1.000000  0.105938   \n",
       "gva_pc               0.362170    -0.236480      -0.015029  0.105938  1.000000   \n",
       "state_dispersion_b  -0.729472    -0.426214      -0.504399 -0.071848 -0.135997   \n",
       "buyer_dispersion    -0.373900    -0.377819      -0.254765 -0.197947 -0.028592   \n",
       "state_dispersion_s  -0.821848    -0.421448      -0.493768 -0.144062 -0.190616   \n",
       "supplier_dispersion -0.061584    -0.171402      -0.017962 -0.130865 -0.265396   \n",
       "daily_price          0.061217     0.091476       0.051686  0.002933 -0.189150   \n",
       "amount               0.072947     0.246563       0.268695  0.311217 -0.045821   \n",
       "file_size            0.281525     0.234280       0.133065  0.204179  0.185484   \n",
       "atom                 0.065982     0.208433       0.095674  0.109238 -0.007331   \n",
       "clustering          -0.153226    -0.106508      -0.202713 -0.325513 -0.131965   \n",
       "CRI                  0.298754     0.547754       0.627566  0.418622  0.013930   \n",
       "\n",
       "                     state_dispersion_b  buyer_dispersion  state_dispersion_s  \\\n",
       "same_state                    -0.161290          0.279692           -0.283358   \n",
       "person                         0.190982          0.193182            0.295455   \n",
       "single_bid                    -0.623534         -0.788490           -0.497067   \n",
       "population_2015               -0.742302         -0.441716           -0.784091   \n",
       "GVA_2015                      -0.729472         -0.373900           -0.821848   \n",
       "very_high_r                   -0.426214         -0.377819           -0.421448   \n",
       "c_very_high_r                 -0.504399         -0.254765           -0.493768   \n",
       "e_exp_r                       -0.071848         -0.197947           -0.144062   \n",
       "gva_pc                        -0.135997         -0.028592           -0.190616   \n",
       "state_dispersion_b             1.000000          0.765762            0.862903   \n",
       "buyer_dispersion               0.765762          1.000000            0.587243   \n",
       "state_dispersion_s             0.862903          0.587243            1.000000   \n",
       "supplier_dispersion            0.287757          0.509164            0.087610   \n",
       "daily_price                   -0.127199         -0.173754           -0.122067   \n",
       "amount                         0.064150          0.207111           -0.047287   \n",
       "file_size                     -0.276026         -0.494135           -0.255499   \n",
       "atom                          -0.082845         -0.298754           -0.026026   \n",
       "clustering                     0.291056          0.423021            0.276760   \n",
       "CRI                           -0.629765         -0.590176           -0.531158   \n",
       "\n",
       "                     supplier_dispersion  daily_price    amount  file_size  \\\n",
       "same_state                      0.326613    -0.218109  0.213710  -0.272361   \n",
       "person                          0.285191    -0.171188  0.168255  -0.431085   \n",
       "single_bid                     -0.395528     0.021628 -0.356672   0.315249   \n",
       "population_2015                 0.009531     0.181818  0.109971   0.243035   \n",
       "GVA_2015                       -0.061584     0.061217  0.072947   0.281525   \n",
       "very_high_r                    -0.171402     0.091476  0.246563   0.234280   \n",
       "c_very_high_r                  -0.017962     0.051686  0.268695   0.133065   \n",
       "e_exp_r                        -0.130865     0.002933  0.311217   0.204179   \n",
       "gva_pc                         -0.265396    -0.189150 -0.045821   0.185484   \n",
       "state_dispersion_b              0.287757    -0.127199  0.064150  -0.276026   \n",
       "buyer_dispersion                0.509164    -0.173754  0.207111  -0.494135   \n",
       "state_dispersion_s              0.087610    -0.122067 -0.047287  -0.255499   \n",
       "supplier_dispersion             1.000000     0.130132  0.273460  -0.747801   \n",
       "daily_price                     0.130132     1.000000  0.601540  -0.079912   \n",
       "amount                          0.273460     0.601540  1.000000  -0.215909   \n",
       "file_size                      -0.747801    -0.079912 -0.215909   1.000000   \n",
       "atom                           -0.718475    -0.187683 -0.283724   0.909824   \n",
       "clustering                     -0.138196    -0.299487 -0.179252   0.141496   \n",
       "CRI                            -0.076246     0.232038  0.369501   0.166789   \n",
       "\n",
       "                         atom  clustering       CRI  \n",
       "same_state          -0.261364    0.065982  0.313783  \n",
       "person              -0.367302   -0.296921  0.174487  \n",
       "single_bid           0.096408   -0.487903  0.307551  \n",
       "population_2015      0.134897   -0.087243  0.464809  \n",
       "GVA_2015             0.065982   -0.153226  0.298754  \n",
       "very_high_r          0.208433   -0.106508  0.547754  \n",
       "c_very_high_r        0.095674   -0.202713  0.627566  \n",
       "e_exp_r              0.109238   -0.325513  0.418622  \n",
       "gva_pc              -0.007331   -0.131965  0.013930  \n",
       "state_dispersion_b  -0.082845    0.291056 -0.629765  \n",
       "buyer_dispersion    -0.298754    0.423021 -0.590176  \n",
       "state_dispersion_s  -0.026026    0.276760 -0.531158  \n",
       "supplier_dispersion -0.718475   -0.138196 -0.076246  \n",
       "daily_price         -0.187683   -0.299487  0.232038  \n",
       "amount              -0.283724   -0.179252  0.369501  \n",
       "file_size            0.909824    0.141496  0.166789  \n",
       "atom                 1.000000    0.367302  0.034824  \n",
       "clustering           0.367302    1.000000 -0.422287  \n",
       "CRI                  0.034824   -0.422287  1.000000  "
      ]
     },
     "execution_count": 38,
     "metadata": {},
     "output_type": "execute_result"
    }
   ],
   "source": [
    "gb.corr(method='spearman')"
   ]
  },
  {
   "cell_type": "code",
   "execution_count": 39,
   "metadata": {
    "slideshow": {
     "slide_type": "slide"
    }
   },
   "outputs": [
    {
     "data": {
      "text/plain": [
       "<matplotlib.axes._subplots.AxesSubplot at 0x7eff02116ef0>"
      ]
     },
     "execution_count": 39,
     "metadata": {},
     "output_type": "execute_result"
    },
    {
     "data": {
      "image/png": "[encoded data removed]",
      "text/plain": [
       "<Figure size 432x288 with 1 Axes>"
      ]
     },
     "metadata": {
      "needs_background": "light"
     },
     "output_type": "display_data"
    }
   ],
   "source": [
    "sns.regplot(x='CRI', y='very_high_r', data=gb)"
   ]
  },
  {
   "cell_type": "code",
   "execution_count": 40,
   "metadata": {
    "slideshow": {
     "slide_type": "skip"
    }
   },
   "outputs": [
    {
     "data": {
      "text/plain": [
       "<matplotlib.axes._subplots.AxesSubplot at 0x7efeede67f98>"
      ]
     },
     "execution_count": 40,
     "metadata": {},
     "output_type": "execute_result"
    },
    {
     "data": {
      "image/png": "[encoded data removed]",
      "text/plain": [
       "<Figure size 432x288 with 1 Axes>"
      ]
     },
     "metadata": {
      "needs_background": "light"
     },
     "output_type": "display_data"
    }
   ],
   "source": [
    "sns.regplot(x=\"state_dispersion_b\", y=\"buyer_dispersion\", data=gb)"
   ]
  },
  {
   "cell_type": "code",
   "execution_count": 41,
   "metadata": {
    "slideshow": {
     "slide_type": "skip"
    }
   },
   "outputs": [
    {
     "data": {
      "text/plain": [
       "<matplotlib.axes._subplots.AxesSubplot at 0x7efeede33710>"
      ]
     },
     "execution_count": 41,
     "metadata": {},
     "output_type": "execute_result"
    },
    {
     "data": {
      "image/png": "[encoded data removed]",
      "text/plain": [
       "<Figure size 432x288 with 1 Axes>"
      ]
     },
     "metadata": {
      "needs_background": "light"
     },
     "output_type": "display_data"
    }
   ],
   "source": [
    "sns.regplot(x=\"state_dispersion_s\", y=\"supplier_dispersion\", data=gb)"
   ]
  },
  {
   "cell_type": "code",
   "execution_count": 43,
   "metadata": {},
   "outputs": [],
   "source": [
    "cnts.to_csv(\"../data/pre-process/contratos_4.csv\", index=False)"
   ]
  },
  {
   "cell_type": "markdown",
   "metadata": {
    "slideshow": {
     "slide_type": "slide"
    }
   },
   "source": [
    "# Future work\n",
    "\n",
    "In no particular order:\n",
    "\n",
    "- Federal government changes ( $2012-2013, 2018-2019$ )\n",
    "- State party changes in government (Veracruz, Quintana-Roo)\n",
    "- Network differences by type of contract (e.g. Energy vs Education) "
   ]
  }
 ],
 "metadata": {
  "kernelspec": {
   "display_name": "Python 3",
   "language": "python",
   "name": "python3"
  },
  "language_info": {
   "codemirror_mode": {
    "name": "ipython",
    "version": 3
   },
   "file_extension": ".py",
   "mimetype": "text/x-python",
   "name": "python",
   "nbconvert_exporter": "python",
   "pygments_lexer": "ipython3",
   "version": "3.8.5"
  }
 },
 "nbformat": 4,
 "nbformat_minor": 4
}
