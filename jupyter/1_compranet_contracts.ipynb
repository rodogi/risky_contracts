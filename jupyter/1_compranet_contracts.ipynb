{
 "cells": [
  {
   "cell_type": "markdown",
   "metadata": {},
   "source": [
    "# Contracts\n",
    "\n",
    "In this notebook, we are going to clean and fill data to obtain a final version of the contracts table.\n",
    "\n",
    "The goals are, for as many contracts as possible:\n",
    "\n",
    "1. Get the mexican state of the buyer and supplier.\n",
    "2. Characterize the buyer as a moral person (company) or a physical person."
   ]
  },
  {
   "cell_type": "code",
   "execution_count": 286,
   "metadata": {},
   "outputs": [],
   "source": [
    "import pandas as pd\n",
    "import numpy as np"
   ]
  },
  {
   "cell_type": "code",
   "execution_count": 287,
   "metadata": {},
   "outputs": [],
   "source": [
    "import pickle"
   ]
  },
  {
   "cell_type": "code",
   "execution_count": 288,
   "metadata": {},
   "outputs": [],
   "source": [
    "import re"
   ]
  },
  {
   "cell_type": "code",
   "execution_count": 289,
   "metadata": {},
   "outputs": [],
   "source": [
    "from unidecode import unidecode"
   ]
  },
  {
   "cell_type": "code",
   "execution_count": 290,
   "metadata": {},
   "outputs": [],
   "source": [
    "from sklearn.metrics import confusion_matrix"
   ]
  },
  {
   "cell_type": "code",
   "execution_count": 291,
   "metadata": {},
   "outputs": [],
   "source": [
    "import sklearn.metrics"
   ]
  },
  {
   "cell_type": "code",
   "execution_count": 292,
   "metadata": {},
   "outputs": [],
   "source": [
    "CONTRACTS = '/home/rdora/declaranet/data/tables/contratos.csv'\n",
    "contracts = pd.read_csv(CONTRACTS)"
   ]
  },
  {
   "cell_type": "code",
   "execution_count": 293,
   "metadata": {},
   "outputs": [
    {
     "name": "stdout",
     "output_type": "stream",
     "text": [
      "N rows: 1,801,208\n"
     ]
    }
   ],
   "source": [
    "print(f\"N rows: {contracts.shape[0]:,}\")"
   ]
  },
  {
   "cell_type": "code",
   "execution_count": 294,
   "metadata": {},
   "outputs": [
    {
     "data": {
      "text/plain": [
       "Index(['gobierno', 'siglas', 'dependencia', 'claveuc', 'nombre_de_la_uc',\n",
       "       'responsable', 'codigo_expediente', 'fecha_apertura_proposiciones',\n",
       "       'caracter', 'tipo_contratacion', 'tipo_procedimiento',\n",
       "       'forma_procedimiento', 'codigo_contrato', 'titulo_contrato',\n",
       "       'fecha_inicio', 'fecha_fin', 'importe_contrato', 'moneda',\n",
       "       'estatus_contrato', 'folio_rupc', 'proveedor_contratista',\n",
       "       'estratificacion_mpc', 'siglas_pais', 'anuncio'],\n",
       "      dtype='object')"
      ]
     },
     "execution_count": 294,
     "metadata": {},
     "output_type": "execute_result"
    }
   ],
   "source": [
    "contracts.columns"
   ]
  },
  {
   "cell_type": "markdown",
   "metadata": {},
   "source": [
    "## Clean `contracts`\n",
    "\n",
    "Some columns will not be needed for our analysis."
   ]
  },
  {
   "cell_type": "code",
   "execution_count": 295,
   "metadata": {},
   "outputs": [
    {
     "data": {
      "text/plain": [
       "gobierno                                                                      APF\n",
       "siglas                                                                        CFE\n",
       "dependencia                                      Comisión Federal de Electricidad\n",
       "claveuc                                                                 018TOQ093\n",
       "nombre_de_la_uc                             CFE-C.T. JOSE ACEVES POZOS #018TOQ093\n",
       "responsable                                       FRANCISCO JAVIER ZAZUETA RIVERA\n",
       "codigo_expediente                                                          117613\n",
       "fecha_apertura_proposiciones                                  2011-12-15 11:00:00\n",
       "caracter                                                            Internacional\n",
       "tipo_contratacion                                                   Adquisiciones\n",
       "tipo_procedimiento                           Invitación a Cuando Menos 3 Personas\n",
       "forma_procedimiento                                                         Mixta\n",
       "codigo_contrato                                                             73188\n",
       "titulo_contrato                            AMPERIMETRO, TRANSDUCTOR, INSTSALACION\n",
       "fecha_inicio                                                  2011-12-16 00:00:00\n",
       "fecha_fin                                                     2011-12-28 00:00:00\n",
       "importe_contrato                                                          19450.2\n",
       "moneda                                                                        USD\n",
       "estatus_contrato                                                         Expirado\n",
       "folio_rupc                                                                    NaN\n",
       "proveedor_contratista                                                  BUSKOPPLER\n",
       "estratificacion_mpc                                                       Pequeña\n",
       "siglas_pais                                                                    MX\n",
       "anuncio                         https://compranet.hacienda.gob.mx/esop/guest/g...\n",
       "Name: 0, dtype: object"
      ]
     },
     "execution_count": 295,
     "metadata": {},
     "output_type": "execute_result"
    }
   ],
   "source": [
    "contracts.iloc[0]"
   ]
  },
  {
   "cell_type": "code",
   "execution_count": 296,
   "metadata": {},
   "outputs": [],
   "source": [
    "cols2drop = ['anuncio',\n",
    "             'estratificacion_mpc',\n",
    "             'estatus_contrato',\n",
    "             'titulo_contrato',\n",
    "             'forma_procedimiento',\n",
    "             'caracter',\n",
    "             'responsable']\n",
    "contracts = contracts.drop(cols2drop, axis=1)"
   ]
  },
  {
   "cell_type": "markdown",
   "metadata": {},
   "source": [
    "# UC: public entities"
   ]
  },
  {
   "cell_type": "code",
   "execution_count": 297,
   "metadata": {},
   "outputs": [],
   "source": [
    "uc = pd.read_excel('/home/rdora/declaranet/data/tables/UC_200529064722.xlsx')"
   ]
  },
  {
   "cell_type": "code",
   "execution_count": 298,
   "metadata": {},
   "outputs": [
    {
     "data": {
      "text/plain": [
       "(5558, 13)"
      ]
     },
     "execution_count": 298,
     "metadata": {},
     "output_type": "execute_result"
    }
   ],
   "source": [
    "uc.shape"
   ]
  },
  {
   "cell_type": "markdown",
   "metadata": {},
   "source": [
    "## Manual curated dictionary of UC (public entities)\n",
    "\n",
    "The entity was obtained by manually looking up the code after the hash on the DOF (diarío oficial de la federación)."
   ]
  },
  {
   "cell_type": "code",
   "execution_count": 299,
   "metadata": {},
   "outputs": [],
   "source": [
    "with open('/home/rdora/declaranet/data/pickle/manual_uc.p', 'rb') as f:\n",
    "    state_dict = pickle.load(f)"
   ]
  },
  {
   "cell_type": "markdown",
   "metadata": {},
   "source": [
    "## Two different ways to match UC\n",
    "\n",
    "We'll try both\n",
    "\n",
    "1. name (`nombre_de_la_uc`)\n",
    "2. code (`claveuc`)"
   ]
  },
  {
   "cell_type": "markdown",
   "metadata": {},
   "source": [
    "1. By code "
   ]
  },
  {
   "cell_type": "code",
   "execution_count": 300,
   "metadata": {},
   "outputs": [],
   "source": [
    "ren = {'Ramo': 'ramo',\n",
    "       'Clave de la UC': 'claveuc',\n",
    "       'Entidad Federativa': 'b_entidad_federativa'}\n",
    "uc_code = uc.rename(columns=ren)[['ramo', 'claveuc', 'b_entidad_federativa']]"
   ]
  },
  {
   "cell_type": "code",
   "execution_count": 301,
   "metadata": {},
   "outputs": [],
   "source": [
    "cnts = pd.merge(contracts, uc_code, how='left', on='claveuc')"
   ]
  },
  {
   "cell_type": "code",
   "execution_count": 302,
   "metadata": {},
   "outputs": [
    {
     "data": {
      "text/plain": [
       "0.7932620774502445"
      ]
     },
     "execution_count": 302,
     "metadata": {},
     "output_type": "execute_result"
    }
   ],
   "source": [
    "(cnts.shape[0] - cnts.b_entidad_federativa.isna().sum()) / cnts.shape[0]"
   ]
  },
  {
   "cell_type": "markdown",
   "metadata": {},
   "source": [
    "2. By name"
   ]
  },
  {
   "cell_type": "code",
   "execution_count": 303,
   "metadata": {},
   "outputs": [],
   "source": [
    "ren = {'Ramo': 'n_ramo',\n",
    "       'Nombre de la UC': 'nombre_de_la_uc',\n",
    "       'Entidad Federativa': 'n_entidad_federativa'}\n",
    "uc_name = uc.rename(columns=ren)[['n_ramo', 'nombre_de_la_uc', 'n_entidad_federativa']]\n",
    "cnts = pd.merge(cnts, uc_name, how='left', on='nombre_de_la_uc')"
   ]
  },
  {
   "cell_type": "code",
   "execution_count": 304,
   "metadata": {},
   "outputs": [
    {
     "data": {
      "text/plain": [
       "0.7016607743247865"
      ]
     },
     "execution_count": 304,
     "metadata": {},
     "output_type": "execute_result"
    }
   ],
   "source": [
    "(cnts.shape[0] - cnts.n_entidad_federativa.isna().sum()) / cnts.shape[0]"
   ]
  },
  {
   "cell_type": "markdown",
   "metadata": {},
   "source": [
    "3. By both"
   ]
  },
  {
   "cell_type": "code",
   "execution_count": 305,
   "metadata": {},
   "outputs": [],
   "source": [
    "# Merge both info about `ramo`\n",
    "cnts.loc[(cnts.n_ramo.notna()) & (cnts.ramo.isna()), 'ramo'] = (\n",
    "    cnts.loc[(cnts.n_ramo.notna()) & (cnts.ramo.isna()), 'n_ramo'])"
   ]
  },
  {
   "cell_type": "code",
   "execution_count": 306,
   "metadata": {},
   "outputs": [],
   "source": [
    "# Merge both info about `entidad_federativa`\n",
    "cnts.loc[(cnts.n_entidad_federativa.notna()) & (cnts.b_entidad_federativa.isna()), 'b_entidad_federativa'] = (\n",
    "    cnts.loc[(cnts.n_entidad_federativa.notna()) & (cnts.b_entidad_federativa.isna()), 'n_entidad_federativa'])"
   ]
  },
  {
   "cell_type": "code",
   "execution_count": 307,
   "metadata": {},
   "outputs": [
    {
     "name": "stdout",
     "output_type": "stream",
     "text": [
      "Ramo:  0.8516084760893801\n"
     ]
    }
   ],
   "source": [
    "print(\"Ramo: \", (cnts.shape[0] - cnts.ramo.isna().sum()) / cnts.shape[0])"
   ]
  },
  {
   "cell_type": "code",
   "execution_count": 308,
   "metadata": {},
   "outputs": [
    {
     "name": "stdout",
     "output_type": "stream",
     "text": [
      "Entidad federativa:  0.8516084760893801\n"
     ]
    }
   ],
   "source": [
    "print(\"Entidad federativa: \", (cnts.shape[0] - cnts.b_entidad_federativa.isna().sum()) / cnts.shape[0])"
   ]
  },
  {
   "cell_type": "markdown",
   "metadata": {},
   "source": [
    "Conclusion: Some 15% of the contracts can't be assigned a `ramo` or a `entidad_federativa`"
   ]
  },
  {
   "cell_type": "code",
   "execution_count": 309,
   "metadata": {},
   "outputs": [],
   "source": [
    "cnts = cnts.drop(['n_entidad_federativa', 'n_ramo'], axis=1)"
   ]
  },
  {
   "cell_type": "markdown",
   "metadata": {},
   "source": [
    "## Parsing the name of the UC\n",
    "\n",
    "Another method is to parse the name of the UC to look for a state name. For example if the word 'yucatan' can be found in the name of the UC chances are it belongs to the state of Yucatan.\n",
    "\n",
    "We don't need to worry about nan values in the name of the UC."
   ]
  },
  {
   "cell_type": "code",
   "execution_count": 310,
   "metadata": {},
   "outputs": [],
   "source": [
    "def get_state(name, target_dict):\n",
    "    if name in target_dict:\n",
    "        return target_dict[name]\n",
    "    else:\n",
    "        return None"
   ]
  },
  {
   "cell_type": "code",
   "execution_count": 311,
   "metadata": {},
   "outputs": [],
   "source": [
    "federal_entities = cnts.loc[cnts\n",
    "                        .b_entidad_federativa\n",
    "                        .str\n",
    "                        .contains('MX-')\n",
    "                        .fillna(False), 'b_entidad_federativa'].unique()"
   ]
  },
  {
   "cell_type": "code",
   "execution_count": 312,
   "metadata": {},
   "outputs": [],
   "source": [
    "with open('/home/rdora/declaranet/data/pickle/entidades_federativas.p', 'rb') as f:\n",
    "    state2code = pickle.load(f)"
   ]
  },
  {
   "cell_type": "code",
   "execution_count": 313,
   "metadata": {},
   "outputs": [],
   "source": [
    "state_names = state2code.keys()"
   ]
  },
  {
   "cell_type": "code",
   "execution_count": 314,
   "metadata": {},
   "outputs": [
    {
     "name": "stdout",
     "output_type": "stream",
     "text": [
      "Number of missing names before parsing: 384\n"
     ]
    }
   ],
   "source": [
    "missing_names = cnts.loc[cnts.b_entidad_federativa.isna(), 'nombre_de_la_uc'].unique()\n",
    "\n",
    "print(\"Number of missing names before parsing:\", len(missing_names))"
   ]
  },
  {
   "cell_type": "markdown",
   "metadata": {},
   "source": [
    "Now let's parse for state names!"
   ]
  },
  {
   "cell_type": "code",
   "execution_count": 315,
   "metadata": {},
   "outputs": [],
   "source": [
    "ucname2state = {}\n",
    "for mname in missing_names:\n",
    "    for state in state_names:\n",
    "        re_search = re.search(state, mname, flags=re.I)\n",
    "        if re_search:\n",
    "            ucname2state[mname] = state2code[re_search.group().lower()]"
   ]
  },
  {
   "cell_type": "code",
   "execution_count": 316,
   "metadata": {},
   "outputs": [
    {
     "name": "stdout",
     "output_type": "stream",
     "text": [
      "Number of found missing names: 132\n"
     ]
    }
   ],
   "source": [
    "print(\"Number of found missing names:\", len(ucname2state))"
   ]
  },
  {
   "cell_type": "code",
   "execution_count": 317,
   "metadata": {},
   "outputs": [],
   "source": [
    "cnts.loc[cnts.b_entidad_federativa.isna(), 'b_entidad_federativa'] = (\n",
    "    cnts.loc[\n",
    "        cnts.b_entidad_federativa.isna(),\n",
    "        'nombre_de_la_uc'].apply(get_state, args=(ucname2state,)))"
   ]
  },
  {
   "cell_type": "code",
   "execution_count": 318,
   "metadata": {},
   "outputs": [
    {
     "name": "stdout",
     "output_type": "stream",
     "text": [
      "Number of missing names After parsing: 252\n"
     ]
    }
   ],
   "source": [
    "missing_names = cnts.loc[cnts.b_entidad_federativa.isna(), 'nombre_de_la_uc'].unique()\n",
    "\n",
    "print(\"Number of missing names After parsing:\", len(missing_names))"
   ]
  },
  {
   "cell_type": "markdown",
   "metadata": {},
   "source": [
    "Now let's apply the same procedure but with the manually curated name of UC to state codes."
   ]
  },
  {
   "cell_type": "code",
   "execution_count": 319,
   "metadata": {},
   "outputs": [],
   "source": [
    "cnts.loc[cnts.b_entidad_federativa.isna(), 'b_entidad_federativa'] = (\n",
    "    cnts.loc[\n",
    "        cnts.b_entidad_federativa.isna(),\n",
    "        'nombre_de_la_uc'].apply(get_state, args=(state_dict,)))"
   ]
  },
  {
   "cell_type": "code",
   "execution_count": 320,
   "metadata": {},
   "outputs": [
    {
     "name": "stdout",
     "output_type": "stream",
     "text": [
      "Number of missing names After parsing: 124\n"
     ]
    }
   ],
   "source": [
    "missing_names = cnts.loc[cnts.b_entidad_federativa.isna(), 'nombre_de_la_uc'].unique()\n",
    "\n",
    "print(\"Number of missing names After parsing:\", len(missing_names))"
   ]
  },
  {
   "cell_type": "code",
   "execution_count": 321,
   "metadata": {},
   "outputs": [
    {
     "name": "stdout",
     "output_type": "stream",
     "text": [
      "Entidad federativa:  0.9976410275770483\n"
     ]
    }
   ],
   "source": [
    "print(\"Entidad federativa: \", (cnts.shape[0] - cnts.b_entidad_federativa.isna().sum()) / cnts.shape[0])"
   ]
  },
  {
   "cell_type": "markdown",
   "metadata": {},
   "source": [
    "In conclusion, we have now 99.7% of the public dependencies to match with a federal entitiy!"
   ]
  },
  {
   "cell_type": "markdown",
   "metadata": {},
   "source": [
    "## Matching to the federal entity in the file of the contract\n",
    "\n",
    "This will be our last method to get the state code of the UC of the contracts."
   ]
  },
  {
   "cell_type": "code",
   "execution_count": 322,
   "metadata": {},
   "outputs": [],
   "source": [
    "EXP = '/home/rdora/declaranet/data/pre-process/expedientes.csv'\n",
    "files = pd.read_csv(EXP)"
   ]
  },
  {
   "cell_type": "code",
   "execution_count": 323,
   "metadata": {},
   "outputs": [],
   "source": [
    "files['entidad_federativa'] = files['entidad_federativa'].apply(get_state, args=(state2code,))"
   ]
  },
  {
   "cell_type": "code",
   "execution_count": 324,
   "metadata": {},
   "outputs": [
    {
     "name": "stdout",
     "output_type": "stream",
     "text": [
      "Number of missing names before parsing: 124\n"
     ]
    }
   ],
   "source": [
    "missing_names = cnts.loc[cnts.b_entidad_federativa.isna(), 'nombre_de_la_uc'].unique()\n",
    "\n",
    "print(\"Number of missing names before parsing:\", len(missing_names))"
   ]
  },
  {
   "cell_type": "code",
   "execution_count": 325,
   "metadata": {},
   "outputs": [],
   "source": [
    "files = files.dropna()\n",
    "files = files.drop_duplicates(subset='codigo_expediente')"
   ]
  },
  {
   "cell_type": "code",
   "execution_count": 326,
   "metadata": {},
   "outputs": [],
   "source": [
    "file2code = dict(zip(files.codigo_expediente, files.entidad_federativa))"
   ]
  },
  {
   "cell_type": "code",
   "execution_count": 327,
   "metadata": {},
   "outputs": [],
   "source": [
    "cnts.loc[cnts.b_entidad_federativa.isna(), 'b_entidad_federativa'] = (\n",
    "    cnts.loc[\n",
    "        cnts.b_entidad_federativa.isna(),\n",
    "        'codigo_expediente'].apply(get_state, args=(file2code,)))"
   ]
  },
  {
   "cell_type": "code",
   "execution_count": 328,
   "metadata": {},
   "outputs": [
    {
     "name": "stdout",
     "output_type": "stream",
     "text": [
      "Number of missing names After parsing: 102\n"
     ]
    }
   ],
   "source": [
    "missing_names = cnts.loc[cnts.b_entidad_federativa.isna(), 'nombre_de_la_uc'].unique()\n",
    "\n",
    "print(\"Number of missing names After parsing:\", len(missing_names))"
   ]
  },
  {
   "cell_type": "code",
   "execution_count": 329,
   "metadata": {},
   "outputs": [
    {
     "name": "stdout",
     "output_type": "stream",
     "text": [
      "Entidad federativa:  0.9983777553730607\n"
     ]
    }
   ],
   "source": [
    "print(\"Entidad federativa: \", (cnts.shape[0] - cnts.b_entidad_federativa.isna().sum()) / cnts.shape[0])"
   ]
  },
  {
   "cell_type": "markdown",
   "metadata": {},
   "source": [
    "The best score we could obtain for the UC state names is 99.8%"
   ]
  },
  {
   "cell_type": "markdown",
   "metadata": {},
   "source": [
    "## Get Missing `ramo` values\n",
    "\n",
    "According to the catalog of compranet, the `UC` code-name is composed by the ramo (first three numbers). "
   ]
  },
  {
   "cell_type": "code",
   "execution_count": 330,
   "metadata": {},
   "outputs": [],
   "source": [
    "def get_ramo(name):\n",
    "    try:\n",
    "        ramo = int(name[:3])\n",
    "        return ramo\n",
    "    except ValueError:\n",
    "        return None"
   ]
  },
  {
   "cell_type": "code",
   "execution_count": 331,
   "metadata": {},
   "outputs": [],
   "source": [
    "cnts.loc[cnts.ramo.isna(), 'ramo'] = (\n",
    "    cnts.loc[cnts.ramo.isna(), 'claveuc'].apply(get_ramo))"
   ]
  },
  {
   "cell_type": "code",
   "execution_count": 332,
   "metadata": {},
   "outputs": [
    {
     "name": "stdout",
     "output_type": "stream",
     "text": [
      "Ramo:  0.9994153923366985\n"
     ]
    }
   ],
   "source": [
    "print(\"Ramo: \", (cnts.shape[0] - cnts.ramo.isna().sum()) / cnts.shape[0])"
   ]
  },
  {
   "cell_type": "markdown",
   "metadata": {},
   "source": [
    "We could obtain the 99.9% of all the `ramo` codes."
   ]
  },
  {
   "cell_type": "markdown",
   "metadata": {},
   "source": [
    "## Match `ramo` code to `ramo` name"
   ]
  },
  {
   "cell_type": "code",
   "execution_count": 333,
   "metadata": {},
   "outputs": [],
   "source": [
    "RAMOS = '/home/rdora/declaranet/data/tables/ramos.csv'\n",
    "ramos = pd.read_csv(RAMOS)"
   ]
  },
  {
   "cell_type": "code",
   "execution_count": 334,
   "metadata": {},
   "outputs": [],
   "source": [
    "ramos = ramos.rename(columns={'RAMO': 'ramo', 'DESCRIPCIÓN': 'desc_ramo'})[['ramo', 'desc_ramo']]"
   ]
  },
  {
   "cell_type": "code",
   "execution_count": 335,
   "metadata": {},
   "outputs": [],
   "source": [
    "cnts = pd.merge(\n",
    "    cnts,\n",
    "    ramos,\n",
    "    on='ramo',\n",
    "    how='left')"
   ]
  },
  {
   "cell_type": "code",
   "execution_count": 336,
   "metadata": {},
   "outputs": [
    {
     "name": "stdout",
     "output_type": "stream",
     "text": [
      "Desc Ramo:  0.8712963744331582\n"
     ]
    }
   ],
   "source": [
    "print(\"Desc Ramo: \", (cnts.shape[0] - cnts.desc_ramo.isna().sum()) / cnts.shape[0])"
   ]
  },
  {
   "cell_type": "markdown",
   "metadata": {},
   "source": [
    "We only have 87% of the ramos description"
   ]
  },
  {
   "cell_type": "markdown",
   "metadata": {},
   "source": [
    "# Buyers\n",
    "\n",
    "Now let us get the state name of the buyer company. We'll use two methods:\n",
    "\n",
    "1. Using the unique identifier `rupec`.\n",
    "2. Using the name of the company for those without `rupec`"
   ]
  },
  {
   "cell_type": "markdown",
   "metadata": {},
   "source": [
    "1. Using `rupec`\n",
    "\n",
    "Let's match by `rupec` id and by name as a last resort."
   ]
  },
  {
   "cell_type": "code",
   "execution_count": 337,
   "metadata": {},
   "outputs": [],
   "source": [
    "rupc = pd.read_csv('/home/rdora/declaranet/data/tables/RUPC.csv', encoding='latin')"
   ]
  },
  {
   "cell_type": "code",
   "execution_count": 338,
   "metadata": {},
   "outputs": [],
   "source": [
    "rupc['person'] = 0\n",
    "rupc.loc[rupc.RFC.isna(), 'person'] = 1"
   ]
  },
  {
   "cell_type": "code",
   "execution_count": 339,
   "metadata": {},
   "outputs": [],
   "source": [
    "ren = {\n",
    "    'Folio RUPC': 'folio_rupc',\n",
    "    'Entidad Federativa': 's_entidad_federativa'}\n",
    "rupc_code = rupc.rename(columns=ren)[['folio_rupc', 's_entidad_federativa', 'person']]"
   ]
  },
  {
   "cell_type": "code",
   "execution_count": 340,
   "metadata": {},
   "outputs": [],
   "source": [
    "cnts = pd.merge(\n",
    "    cnts,\n",
    "    rupc_code,\n",
    "    on='folio_rupc',\n",
    "    how='left')"
   ]
  },
  {
   "cell_type": "code",
   "execution_count": 341,
   "metadata": {},
   "outputs": [
    {
     "name": "stdout",
     "output_type": "stream",
     "text": [
      "Supplier state:  0.3239670265732775\n"
     ]
    }
   ],
   "source": [
    "print(\"Supplier state: \", (cnts.shape[0] - cnts.s_entidad_federativa.isna().sum()) / cnts.shape[0])"
   ]
  },
  {
   "cell_type": "code",
   "execution_count": 342,
   "metadata": {},
   "outputs": [],
   "source": [
    "ren = {\n",
    "    'Nombre de la empresa': 'proveedor_contratista',\n",
    "    'Entidad Federativa': 's_entidad_federativa'}\n",
    "rupc_name = rupc.rename(columns=ren)[['proveedor_contratista', 's_entidad_federativa', 'person']]"
   ]
  },
  {
   "cell_type": "code",
   "execution_count": 343,
   "metadata": {},
   "outputs": [],
   "source": [
    "rupc_name = rupc_name.dropna()\n",
    "\n",
    "rupc_name = rupc_name.drop_duplicates(subset='proveedor_contratista')"
   ]
  },
  {
   "cell_type": "code",
   "execution_count": 344,
   "metadata": {},
   "outputs": [],
   "source": [
    "name2state = dict(zip(rupc_name.proveedor_contratista, rupc_name.s_entidad_federativa))\n",
    "cnts.loc[cnts.s_entidad_federativa.isna(), 's_entidad_federativa'] = (\n",
    "    cnts.loc[cnts.s_entidad_federativa.isna(), 'proveedor_contratista'].apply(get_state, args=(name2state,)))\n",
    "\n",
    "name2person = dict(zip(rupc_name.proveedor_contratista, rupc_name.person))\n",
    "cnts.loc[cnts.person.isna(), 'person'] = (\n",
    "    cnts.loc[cnts.person.isna(), 'proveedor_contratista'].apply(get_state, args=(name2person,)))"
   ]
  },
  {
   "cell_type": "code",
   "execution_count": 345,
   "metadata": {},
   "outputs": [
    {
     "name": "stdout",
     "output_type": "stream",
     "text": [
      "Supplier state:  0.33552316001261373\n"
     ]
    }
   ],
   "source": [
    "print(\"Supplier state: \", (cnts.shape[0] - cnts.s_entidad_federativa.isna().sum()) / cnts.shape[0])"
   ]
  },
  {
   "cell_type": "code",
   "execution_count": 346,
   "metadata": {},
   "outputs": [
    {
     "name": "stdout",
     "output_type": "stream",
     "text": [
      "Person:  0.33555536062464747\n"
     ]
    }
   ],
   "source": [
    "print(\"Person: \", (cnts.shape[0] - cnts.person.isna().sum()) / cnts.shape[0])"
   ]
  },
  {
   "cell_type": "markdown",
   "metadata": {},
   "source": [
    "So far, we only have 33.5% of all the contracts with a supplier state."
   ]
  },
  {
   "cell_type": "markdown",
   "metadata": {},
   "source": [
    "2. Match by name in a list of suppliers without a repec code."
   ]
  },
  {
   "cell_type": "code",
   "execution_count": 347,
   "metadata": {},
   "outputs": [],
   "source": [
    "SINRUPC = '/home/rdora/declaranet/data/pre-process/sin_rupec.csv'\n",
    "sinrupc = pd.read_csv(SINRUPC)"
   ]
  },
  {
   "cell_type": "code",
   "execution_count": 348,
   "metadata": {},
   "outputs": [],
   "source": [
    "sinrupc['person'] = 0\n",
    "sinrupc.loc[sinrupc.titularidad_juridica=='4.- Persona Física con Actividad Empresarial (Empresario Individual)',\n",
    "           'person'] = 1"
   ]
  },
  {
   "cell_type": "code",
   "execution_count": 349,
   "metadata": {},
   "outputs": [],
   "source": [
    "ren = {'entidad_federativa': 's_entidad_federativa'}\n",
    "sinrupc = sinrupc.rename(columns=ren).drop(['titularidad_juridica', 'pais_rupec'], axis=1)"
   ]
  },
  {
   "cell_type": "code",
   "execution_count": 350,
   "metadata": {},
   "outputs": [],
   "source": [
    "sinrupc = sinrupc.dropna()\n",
    "\n",
    "sinrupc = sinrupc.drop_duplicates()\n",
    "\n",
    "dups = sinrupc.loc[sinrupc.proveedor_contratista.duplicated(), 'proveedor_contratista'].unique()"
   ]
  },
  {
   "cell_type": "code",
   "execution_count": 351,
   "metadata": {},
   "outputs": [
    {
     "name": "stdout",
     "output_type": "stream",
     "text": [
      "There are 113 duplicated supplier names\n"
     ]
    }
   ],
   "source": [
    "print(f\"There are {len(dups)} duplicated supplier names\")"
   ]
  },
  {
   "cell_type": "code",
   "execution_count": 352,
   "metadata": {},
   "outputs": [],
   "source": [
    "usinrupc = sinrupc[~sinrupc.proveedor_contratista.isin(dups)]"
   ]
  },
  {
   "cell_type": "code",
   "execution_count": 353,
   "metadata": {},
   "outputs": [],
   "source": [
    "name2state = dict(zip(usinrupc.proveedor_contratista, usinrupc.s_entidad_federativa))\n",
    "cnts.loc[cnts.s_entidad_federativa.isna(), 's_entidad_federativa'] = (\n",
    "    cnts.loc[cnts.s_entidad_federativa.isna(), 'proveedor_contratista'].apply(get_state, args=(name2state,)))\n",
    "\n",
    "name2person = dict(zip(usinrupc.proveedor_contratista, usinrupc.person))\n",
    "cnts.loc[cnts.person.isna(), 'person'] = (\n",
    "    cnts.loc[cnts.person.isna(), 'proveedor_contratista'].apply(get_state, args=(name2person,)))"
   ]
  },
  {
   "cell_type": "code",
   "execution_count": 354,
   "metadata": {},
   "outputs": [
    {
     "name": "stdout",
     "output_type": "stream",
     "text": [
      "Supplier state:  0.7042101745051099\n"
     ]
    }
   ],
   "source": [
    "print(\"Supplier state: \", (cnts.shape[0] - cnts.s_entidad_federativa.isna().sum()) / cnts.shape[0])"
   ]
  },
  {
   "cell_type": "code",
   "execution_count": 355,
   "metadata": {},
   "outputs": [],
   "source": [
    "cnts_dups = cnts.loc[cnts.proveedor_contratista.isin(dups), ['proveedor_contratista', 'b_entidad_federativa']]\n",
    "\n",
    "cnts_dups = cnts_dups.groupby(['proveedor_contratista']).agg(lambda x:x.value_counts().index[0]).reset_index()\n",
    "\n",
    "dup2state = dict(zip(cnts_dups.proveedor_contratista, cnts_dups.b_entidad_federativa))\n",
    "\n",
    "set_cnts = set(dup2state.items())"
   ]
  },
  {
   "cell_type": "code",
   "execution_count": 356,
   "metadata": {},
   "outputs": [],
   "source": [
    "sindups = sinrupc[sinrupc.proveedor_contratista.isin(dups)]\n",
    "\n",
    "set_sindups = set(zip(sinrupc.proveedor_contratista, sinrupc.s_entidad_federativa))"
   ]
  },
  {
   "cell_type": "code",
   "execution_count": 357,
   "metadata": {},
   "outputs": [],
   "source": [
    "sinrupc_dups = pd.DataFrame(set_cnts & set_sindups, columns=['proveedor_contratista', 's_entidad_federativa'])\n",
    "\n",
    "sinrupc_dups = pd.merge(\n",
    "    sinrupc_dups,\n",
    "    sinrupc.drop_duplicates(subset='proveedor_contratista').drop('s_entidad_federativa', axis=1),\n",
    "    how='left',\n",
    "    on='proveedor_contratista')"
   ]
  },
  {
   "cell_type": "code",
   "execution_count": 358,
   "metadata": {},
   "outputs": [],
   "source": [
    "name2state = dict(zip(sinrupc_dups.proveedor_contratista, sinrupc_dups.s_entidad_federativa))\n",
    "cnts.loc[cnts.s_entidad_federativa.isna(), 's_entidad_federativa'] = (\n",
    "    cnts.loc[cnts.s_entidad_federativa.isna(), 'proveedor_contratista'].apply(get_state, args=(name2state,)))\n",
    "\n",
    "name2person = dict(zip(sinrupc_dups.proveedor_contratista, sinrupc_dups.person))\n",
    "cnts.loc[cnts.person.isna(), 'person'] = (\n",
    "    cnts.loc[cnts.person.isna(), 'proveedor_contratista'].apply(get_state, args=(name2person,)))"
   ]
  },
  {
   "cell_type": "code",
   "execution_count": 359,
   "metadata": {},
   "outputs": [
    {
     "name": "stdout",
     "output_type": "stream",
     "text": [
      "Supplier state:  0.7045815919094297\n"
     ]
    }
   ],
   "source": [
    "print(\"Supplier state: \", (cnts.shape[0] - cnts.s_entidad_federativa.isna().sum()) / cnts.shape[0])"
   ]
  },
  {
   "cell_type": "markdown",
   "metadata": {},
   "source": [
    "For the private suppliers, we could only get 70.4% of them."
   ]
  },
  {
   "cell_type": "markdown",
   "metadata": {},
   "source": [
    "## `Ramo` for non federal UCs"
   ]
  },
  {
   "cell_type": "code",
   "execution_count": 360,
   "metadata": {},
   "outputs": [],
   "source": [
    "def get_dependencia(name):\n",
    "    \n",
    "    name = name.split('-', 1)[1].strip().lower()\n",
    "    name = unidecode(name)\n",
    "    \n",
    "    return name"
   ]
  },
  {
   "cell_type": "code",
   "execution_count": 361,
   "metadata": {},
   "outputs": [],
   "source": [
    "ge = cnts[cnts.gobierno != 'APF']"
   ]
  },
  {
   "cell_type": "code",
   "execution_count": 362,
   "metadata": {},
   "outputs": [
    {
     "name": "stderr",
     "output_type": "stream",
     "text": [
      "/home/rdora/.local/lib/python3.6/site-packages/ipykernel_launcher.py:1: SettingWithCopyWarning: \n",
      "A value is trying to be set on a copy of a slice from a DataFrame.\n",
      "Try using .loc[row_indexer,col_indexer] = value instead\n",
      "\n",
      "See the caveats in the documentation: https://pandas.pydata.org/pandas-docs/stable/user_guide/indexing.html#returning-a-view-versus-a-copy\n",
      "  \"\"\"Entry point for launching an IPython kernel.\n"
     ]
    }
   ],
   "source": [
    "ge['name'] = ge['dependencia'].apply(get_dependencia)"
   ]
  },
  {
   "cell_type": "code",
   "execution_count": 363,
   "metadata": {},
   "outputs": [],
   "source": [
    "ramos_ud = ramos"
   ]
  },
  {
   "cell_type": "code",
   "execution_count": 364,
   "metadata": {},
   "outputs": [],
   "source": [
    "ramos_ud['desc_ramo'] = ramos_ud['desc_ramo'].apply(lambda x: unidecode(x).lower())"
   ]
  },
  {
   "cell_type": "code",
   "execution_count": 365,
   "metadata": {},
   "outputs": [],
   "source": [
    "salud = ge.loc[ge['name'].str.contains('salud'), 'name'].value_counts().index\n",
    "cultura = ge.loc[ge['name'].str.contains(r'\\bcultura'), 'name'].value_counts().index\n",
    "energia = ge.loc[ge['name'].str.contains(r'\\benergia\\b'), 'name'].value_counts().index\n",
    "turismo = ge.loc[ge['name'].str.contains(r'\\bturismo\\b'), 'name'].value_counts().index\n",
    "economia = ge.loc[ge['name'].str.contains(r'\\beconomia\\b'), 'name'].value_counts().index\n",
    "poder_judicial = ge.loc[ge['name'].str.contains(r'\\bjudicial\\b'), 'name'].value_counts().index\n",
    "municipal = ge.loc[ge['name'].str.contains(r'\\bmunicip'), 'name'].value_counts().index\n",
    "municipal = list(municipal) + list(ge.loc[ge['name'].str.contains(r'\\balcald'), 'name'].value_counts().index)\n",
    "educacion = ge.loc[ge['name'].str.contains(r'\\beducacion'), 'name'].value_counts().index\n",
    "educacion = list(educacion) + list(ge.loc[ge['name'].str.contains(r'\\buniversidad'), 'name'].value_counts().index)\n",
    "educacion = list(educacion) + list(ge.loc[ge['name'].str.contains(r'\\beducativ'), 'name'].value_counts().index)\n",
    "educacion = list(educacion) + list(ge.loc[ge['name'].str.contains(r'\\btecnologico'), 'name'].value_counts().index)\n",
    "educacion = list(educacion) + list(ge.loc[ge['name'].str.contains(r'\\bescuela'), 'name'].value_counts().index)\n",
    "educacion = list(educacion) + list(ge.loc[ge['name'].str.contains(r'\\bcolegio'), 'name'].value_counts().index)\n",
    "agrario = ge.loc[ge['name'].str.contains(r'\\bagr'), 'name'].value_counts().index\n",
    "agrario = list(agrario) + list(ge.loc[ge['name'].str.contains(r'\\brural'), 'name'].value_counts().index)\n",
    "comunicacion = ge.loc[ge['name'].str.contains(r'\\bcomunicacion'), 'name'].value_counts().index\n",
    "comunicacion = list(comunicacion) + list(ge.loc[ge['name'].str.contains(r'\\btransporte'), 'name'].value_counts().index)\n",
    "comunicacion = list(comunicacion) + list(ge.loc[ge['name'].str.contains(r'\\bcamino'), 'name'].value_counts().index)\n",
    "desarrollo = ge.loc[ge['name'].str.contains(r'\\bdesarrollo'), 'name'].value_counts().index\n",
    "agua = ge.loc[ge['name'].str.contains(r'\\bagua\\b'), 'name'].value_counts().index\n",
    "medio_ambiente = list(agua) + list(ge.loc[ge['name'].str.contains(r'\\bambiente\\b'), 'name'].value_counts().index)\n",
    "ciencia = ge.loc[ge['name'].str.contains(r'\\bciencia\\b'), 'name'].value_counts().index\n",
    "juridica = ge.loc[ge['name'].str.contains(r'\\bjuridic'), 'name'].value_counts().index\n",
    "obras = ge.loc[ge['name'].str.contains(r'\\bobra'), 'name'].value_counts().index\n",
    "obras = list(obras) + list(ge.loc[ge['name'].str.contains(r'\\binfraestructura'), 'name'].value_counts().index)\n",
    "finanza = ge.loc[ge['name'].str.contains(r'\\bfinanza'), 'name'].value_counts().index\n",
    "finanza = list(finanza) + list(ge.loc[ge['name'].str.contains(r'\\bhacienda\\b'), 'name'].value_counts().index)\n",
    "gobernacion = ge.loc[ge['name'].str.contains(r'\\badministra'), 'name'].value_counts().index"
   ]
  },
  {
   "cell_type": "code",
   "execution_count": 366,
   "metadata": {},
   "outputs": [],
   "source": [
    "ramos_ge = [\n",
    "    set(salud),\n",
    "    set(cultura),\n",
    "    set(energia),\n",
    "    set(turismo),\n",
    "    set(economia),\n",
    "    set(poder_judicial),\n",
    "    set(municipal),\n",
    "    set(educacion),\n",
    "    set(agrario),\n",
    "    set(comunicacion),\n",
    "    set(desarrollo),\n",
    "    set(medio_ambiente),\n",
    "    set(ciencia),\n",
    "    set(juridica),\n",
    "    set(obras),\n",
    "    set(finanza),\n",
    "    set(gobernacion)]"
   ]
  },
  {
   "cell_type": "code",
   "execution_count": 367,
   "metadata": {},
   "outputs": [],
   "source": [
    "codigo_ge = [\n",
    "    12,\n",
    "    48,\n",
    "    18,\n",
    "    21,\n",
    "    10,\n",
    "    3,\n",
    "    88,\n",
    "    11,\n",
    "    8,\n",
    "    9,\n",
    "    15,\n",
    "    16,\n",
    "    38,\n",
    "    3,\n",
    "    15,\n",
    "    6,\n",
    "    4]"
   ]
  },
  {
   "cell_type": "code",
   "execution_count": 368,
   "metadata": {},
   "outputs": [],
   "source": [
    "for i, ramo_ge in enumerate(ramos_ge):\n",
    "    ge.loc[ge.name.isin(ramo_ge), 'ramo'] = codigo_ge[i]\n",
    "    if codigo_ge[i] == 88:\n",
    "        ge.loc[ge.name.isin(ramo_ge), 'desc_ramo'] = 'Municipal'\n",
    "    else:\n",
    "        ge.loc[ge.name.isin(ramo_ge), 'desc_ramo'] = ramos.loc[ramos.ramo==codigo_ge[i], 'desc_ramo'].item()"
   ]
  },
  {
   "cell_type": "code",
   "execution_count": 369,
   "metadata": {},
   "outputs": [],
   "source": [
    "uge = ge.drop_duplicates(subset='dependencia')[['dependencia', 'ramo', 'desc_ramo']]"
   ]
  },
  {
   "cell_type": "code",
   "execution_count": 370,
   "metadata": {},
   "outputs": [],
   "source": [
    "dep2ramo = dict(zip(uge.dependencia, uge.ramo))\n",
    "cnts.loc[cnts.desc_ramo.isna(), 'ramo'] = (\n",
    "    cnts.loc[cnts.desc_ramo.isna(), 'dependencia'].apply(get_state, args=(dep2ramo,)))\n",
    "\n",
    "dep2desc = dict(zip(uge.dependencia, uge.desc_ramo))\n",
    "cnts.loc[cnts.desc_ramo.isna(), 'desc_ramo'] = (\n",
    "    cnts.loc[cnts.desc_ramo.isna(), 'dependencia'].apply(get_state, args=(dep2desc,)))"
   ]
  },
  {
   "cell_type": "code",
   "execution_count": 371,
   "metadata": {},
   "outputs": [
    {
     "name": "stdout",
     "output_type": "stream",
     "text": [
      "Desc Ramo:  0.9728893053994875\n"
     ]
    }
   ],
   "source": [
    "print(\"Desc Ramo: \", (cnts.shape[0] - cnts.desc_ramo.isna().sum()) / cnts.shape[0])"
   ]
  },
  {
   "cell_type": "markdown",
   "metadata": {},
   "source": [
    "Got to 97.2% of `ramo` description!"
   ]
  },
  {
   "cell_type": "markdown",
   "metadata": {},
   "source": [
    "# Misc"
   ]
  },
  {
   "cell_type": "code",
   "execution_count": 372,
   "metadata": {},
   "outputs": [],
   "source": [
    "good_s = cnts.loc[cnts.s_entidad_federativa.notna(), 'proveedor_contratista'].unique()\n",
    "\n",
    "good_s = set(good_s)\n",
    "\n",
    "bad_s = cnts.loc[cnts.s_entidad_federativa.isna(), 'proveedor_contratista'].unique()\n",
    "\n",
    "bad_s = set(bad_s)\n",
    "\n",
    "both = bad_s & good_s"
   ]
  },
  {
   "cell_type": "code",
   "execution_count": 373,
   "metadata": {},
   "outputs": [],
   "source": [
    "cnts.loc[cnts.proveedor_contratista=='AFIANZADORA SOFIMEX, S.A.', 's_entidad_federativa'] = 'MX-CMX'\n",
    "\n",
    "cnts.loc[cnts.proveedor_contratista=='CONSTRUCTORA Y PAVIMENTADORA VISE S.A. DE C.V.', 's_entidad_federativa'] = (\n",
    "    'MX-GUA')\n",
    "\n",
    "cnts.loc[cnts.proveedor_contratista=='OPERADORA CENTRAL DE ESTACIONAMIENTOS SA DE CV', 's_entidad_federativa'] = (\n",
    "    'MX-CMX')"
   ]
  },
  {
   "cell_type": "code",
   "execution_count": 374,
   "metadata": {},
   "outputs": [],
   "source": [
    "cnts.loc[cnts.proveedor_contratista=='AFIANZADORA SOFIMEX, S.A.', 'person'] = 0\n",
    "\n",
    "cnts.loc[cnts.proveedor_contratista=='CONSTRUCTORA Y PAVIMENTADORA VISE S.A. DE C.V.', 'person'] = 0\n",
    "\n",
    "cnts.loc[cnts.proveedor_contratista=='OPERADORA CENTRAL DE ESTACIONAMIENTOS SA DE CV', 'person'] = 0"
   ]
  },
  {
   "cell_type": "markdown",
   "metadata": {},
   "source": [
    "## Get companies"
   ]
  },
  {
   "cell_type": "code",
   "execution_count": 375,
   "metadata": {},
   "outputs": [],
   "source": [
    "def is_company(name):\n",
    "    name = name.upper()\n",
    "    name = unidecode(name)\n",
    "    if len(name.split()) == 1:\n",
    "        return 0\n",
    "    for stop_word in stop_words:\n",
    "        stop = re.compile(stop_word)\n",
    "        if stop.search(name):\n",
    "            return 0\n",
    "        \n",
    "    return 1"
   ]
  },
  {
   "cell_type": "code",
   "execution_count": 376,
   "metadata": {},
   "outputs": [],
   "source": [
    "stop_words = [\n",
    "    r\"\\bS\\.? *A\\.?\\b\",\n",
    "    r\"\\bR\\.? *L\\.?\\b\",\n",
    "    r\"\\bC\\.? *V\\.?\\b\",\n",
    "    r\"\\bS\\.? *C\\.?\\b\",\n",
    "    r\"\\bS\\.? *C\\.? *L\\.?\",\n",
    "    r\"S\\.?A\\.? *DE\\.? *C\\.?V\\.?\",\n",
    "    r\"S\\.? *DE\\.? *R\\.?L\\.? *DE *C\\.?V\\.?\",\n",
    "    r\"S\\.? *DE\\.? *R\\.?L\\.?\",\n",
    "    r\"S\\.?A\\.?P\\.?I\\.? *DE\\.? *C\\.?V\\.?\",\n",
    "    r\"\\bS\\.?A\\.?P\\.?I\\.?\\b\",\n",
    "    r\"S\\.A\\.S\\.?\",\n",
    "    r\"S\\.?A\\.?B\\.? *DE\\.? *C\\.?V\\.?\",\n",
    "    r\"\\bL\\.? *T\\.? *D\\.?\\b\",\n",
    "    r\"\\bC\\.?O\\.?\\b\",\n",
    "    r\"\\bINC\\b\",\n",
    "    r\"\\bCOMPANY\\b\",\n",
    "    r\"\\bNATIONAL\\b\",\n",
    "    r\"\\bGROUP\\b\",\n",
    "    r\"\\bGRUPO\\b\",\n",
    "    r\"\\bUNION\\b\",\n",
    "    r\"\\bCORP\\b\",\n",
    "    r\"\\bCORPORATIVO\\b\",\n",
    "    r\"\\bA\\.? *C\\.?\\b\",\n",
    "    r\"\\bNACIONAL\\b\",\n",
    "    r\"\\bMEXICO\\b\",\n",
    "    r\"\\bASOCIACION\\b\",\n",
    "    r\"\\bU\\.? *S\\.?\\b\",\n",
    "    r\"\\bU\\.? *S\\.? *A\\.?\\b\",\n",
    "    r\"\\bA\\.? *G\\.?\\b\",\n",
    "    r\"&\",\n",
    "    r\"EXPRESS\\b\",\n",
    "    r\"\\bCONSTITUCIONAL\\b\",\n",
    "    r\"\\bORGANIZATION\\b\",\n",
    "    r\"\\bORG\\.?\\b\",\n",
    "    r\"\\(.*\\)\",\n",
    "    r'\".*\"',\n",
    "    r\"\\bCOMERCIALIZACION\\b\",\n",
    "    r\"\\bINTERNATIONAL\\b\",\n",
    "    r\"\\bINT\\.?\\b\",\n",
    "    r\"\\bGOBIERNO\\b\",\n",
    "    r\"\\bFEDERAL\\b\",\n",
    "    r\"\\bAYUNTAMIENTO\\b\",\n",
    "    r\"\\bSERVICES\\b\",\n",
    "    r\"\\bSECRETARIA\\b\",\n",
    "    r\"\\bCIVIL\\b\",\n",
    "    r\"\\bPUBLIC\\b\",\n",
    "    r\"\\bLIMITED\\b\",\n",
    "    r\"\\bROBOTICS\\b\",\n",
    "    r\"\\bINSTITUTO\\b\",\n",
    "    r\"\\bSERVICIO\",\n",
    "    r\"\\bUNIVERSAL\\b\",\n",
    "    r\"\\bFABRICA\\b\",\n",
    "    r\"\\bMARCA\\b\",\n",
    "    r\"\\bMARCAS\\b\",\n",
    "    r\"\\bINDUSTRIA\",\n",
    "    r\"\\bSOCIEDAD\\b\",\n",
    "    r\"\\bIMPORTA\",\n",
    "    r\"\\bCOMERCIALIZADORA\\b\",\n",
    "    r\"\\bY\\b\",\n",
    "    r\"\\bCONSTRUC\",\n",
    "    r\"\\bPRODUCTO\",\n",
    "    r\"\\bCONSORCIO\",\n",
    "    r\"\\bMEDICO\",\n",
    "    r\"\\bQUIMICA\",\n",
    "    r\"\\bMEDICION\",\n",
    "    r\"\\bSISTEMA\",\n",
    "    r\"\\bSEGUROS\\b\",\n",
    "    r\"\\bG\\.? *P\\.?\",\n",
    "    r\"\\bMEDICAL\\b\",\n",
    "    r\"\\bCIA\\b\",\n",
    "    r\"\\bFORMAS\\b\",\n",
    "    r\"\\bPRODUCT\",\n",
    "    r\"\\bMEXICAN\",\n",
    "    r\"\\bMEDIC\",\n",
    "    r\"\\bINTERNACIONAL\",\n",
    "    r\"\\bDISTRIBUIDOR\",\n",
    "    r\"\\bINSTRUMENT\",\n",
    "    r\"\\bELECTRO\\b\",\n",
    "    r\"\\bCIENTIFIC\",\n",
    "    r\"\\bSCIEN\",\n",
    "    r\"\\bCIENCIA\",\n",
    "    r\"\\bCORPOR\",\n",
    "    r\"\\bCORP\\b\",\n",
    "    r\",\"]"
   ]
  },
  {
   "cell_type": "markdown",
   "metadata": {},
   "source": [
    "## TEST"
   ]
  },
  {
   "cell_type": "code",
   "execution_count": 377,
   "metadata": {},
   "outputs": [],
   "source": [
    "good_cnts = cnts[cnts.person.notna()]"
   ]
  },
  {
   "cell_type": "code",
   "execution_count": 378,
   "metadata": {},
   "outputs": [],
   "source": [
    "comp2pers = dict(\n",
    "    zip(good_cnts.proveedor_contratista.unique(),\n",
    "        map(is_company, good_cnts.proveedor_contratista.unique())))"
   ]
  },
  {
   "cell_type": "code",
   "execution_count": 379,
   "metadata": {},
   "outputs": [
    {
     "name": "stderr",
     "output_type": "stream",
     "text": [
      "/home/rdora/.local/lib/python3.6/site-packages/ipykernel_launcher.py:1: SettingWithCopyWarning: \n",
      "A value is trying to be set on a copy of a slice from a DataFrame.\n",
      "Try using .loc[row_indexer,col_indexer] = value instead\n",
      "\n",
      "See the caveats in the documentation: https://pandas.pydata.org/pandas-docs/stable/user_guide/indexing.html#returning-a-view-versus-a-copy\n",
      "  \"\"\"Entry point for launching an IPython kernel.\n"
     ]
    }
   ],
   "source": [
    "good_cnts['test'] = good_cnts.proveedor_contratista.apply(lambda x: comp2pers[x])"
   ]
  },
  {
   "cell_type": "code",
   "execution_count": 380,
   "metadata": {},
   "outputs": [
    {
     "name": "stdout",
     "output_type": "stream",
     "text": [
      "[[970412  29312]\n",
      " [  1886 267549]]\n",
      "Accuracy: 0.9754183675961798\n",
      "F1: 0.9449086696709849\n"
     ]
    }
   ],
   "source": [
    "y_true = good_cnts['person'].values\n",
    "y_pred = good_cnts['test'].values\n",
    "\n",
    "print(confusion_matrix(y_true, y_pred))\n",
    "\n",
    "print(\"Accuracy:\", sklearn.metrics.accuracy_score(y_true, y_pred))\n",
    "\n",
    "print(\"F1:\", sklearn.metrics.f1_score(y_true, y_pred))"
   ]
  },
  {
   "cell_type": "markdown",
   "metadata": {},
   "source": [
    "## Apply filter"
   ]
  },
  {
   "cell_type": "code",
   "execution_count": 384,
   "metadata": {},
   "outputs": [],
   "source": [
    "bad_s = set(cnts.loc[cnts.person.isna(), 'proveedor_contratista'].unique())"
   ]
  },
  {
   "cell_type": "code",
   "execution_count": 385,
   "metadata": {},
   "outputs": [],
   "source": [
    "comp2pers = dict(\n",
    "    zip(\n",
    "        list(bad_s)[1:],\n",
    "        map(is_company, list(bad_s)[1:])))"
   ]
  },
  {
   "cell_type": "code",
   "execution_count": 386,
   "metadata": {},
   "outputs": [
    {
     "data": {
      "text/plain": [
       "532049"
      ]
     },
     "execution_count": 386,
     "metadata": {},
     "output_type": "execute_result"
    }
   ],
   "source": [
    "cnts.person.isna().sum()"
   ]
  },
  {
   "cell_type": "code",
   "execution_count": 387,
   "metadata": {},
   "outputs": [],
   "source": [
    "cnts.loc[cnts.person.isna(), 'person'] = (\n",
    "    cnts.loc[cnts.person.isna(), 'proveedor_contratista'].apply(get_state, args=(comp2pers,)))"
   ]
  },
  {
   "cell_type": "code",
   "execution_count": 388,
   "metadata": {},
   "outputs": [
    {
     "data": {
      "text/plain": [
       "2579"
      ]
     },
     "execution_count": 388,
     "metadata": {},
     "output_type": "execute_result"
    }
   ],
   "source": [
    "cnts.person.isna().sum()"
   ]
  },
  {
   "cell_type": "code",
   "execution_count": 391,
   "metadata": {},
   "outputs": [
    {
     "data": {
      "text/plain": [
       "0.0    0.76102\n",
       "1.0    0.23898\n",
       "Name: person, dtype: float64"
      ]
     },
     "execution_count": 391,
     "metadata": {},
     "output_type": "execute_result"
    }
   ],
   "source": [
    "cnts.person.value_counts(normalize=True)"
   ]
  },
  {
   "cell_type": "markdown",
   "metadata": {},
   "source": [
    "# Drop some columns and save\n",
    "\n",
    "Some columns will not be important for our analysis"
   ]
  },
  {
   "cell_type": "code",
   "execution_count": 393,
   "metadata": {},
   "outputs": [],
   "source": [
    "def get_buyer(name):\n",
    "    \n",
    "    name = name.split('#', 1)[0].strip()\n",
    "    \n",
    "    return name"
   ]
  },
  {
   "cell_type": "code",
   "execution_count": 396,
   "metadata": {},
   "outputs": [],
   "source": [
    "drop_cols = [\n",
    "    'folio_rupc',\n",
    "    'dependencia',\n",
    "    'claveuc']"
   ]
  },
  {
   "cell_type": "code",
   "execution_count": 394,
   "metadata": {},
   "outputs": [],
   "source": [
    "cnts['buyer'] = cnts.nombre_de_la_uc.apply(get_buyer)"
   ]
  },
  {
   "cell_type": "code",
   "execution_count": 395,
   "metadata": {},
   "outputs": [
    {
     "data": {
      "text/plain": [
       "0                           CFE-C.T. JOSE ACEVES POZOS\n",
       "1                     CFE-DIVISION VALLE DE MEXICO SUR\n",
       "2    OAX-Secretaría de las Culturas y Artes de Oaxa...\n",
       "3    OAX-Secretaría de las Culturas y Artes de Oaxa...\n",
       "4    LICONSA-Subdirección de Adquisición y Distribu...\n",
       "Name: buyer, dtype: object"
      ]
     },
     "execution_count": 395,
     "metadata": {},
     "output_type": "execute_result"
    }
   ],
   "source": [
    "cnts['buyer'].head()"
   ]
  },
  {
   "cell_type": "code",
   "execution_count": 397,
   "metadata": {},
   "outputs": [],
   "source": [
    "cnts = cnts.drop(drop_cols, axis=1)"
   ]
  },
  {
   "cell_type": "code",
   "execution_count": 399,
   "metadata": {},
   "outputs": [],
   "source": [
    "CNTS = '/home/rdora/declaranet/data/pre-process/contratos.csv'\n",
    "cnts.to_csv(CNTS, index=False)"
   ]
  }
 ],
 "metadata": {
  "kernelspec": {
   "display_name": "Python 3",
   "language": "python",
   "name": "python3"
  },
  "language_info": {
   "codemirror_mode": {
    "name": "ipython",
    "version": 3
   },
   "file_extension": ".py",
   "mimetype": "text/x-python",
   "name": "python",
   "nbconvert_exporter": "python",
   "pygments_lexer": "ipython3",
   "version": "3.6.9"
  }
 },
 "nbformat": 4,
 "nbformat_minor": 4
}
