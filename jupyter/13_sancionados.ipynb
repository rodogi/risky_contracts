{
 "cells": [
  {
   "cell_type": "code",
   "execution_count": 185,
   "metadata": {},
   "outputs": [],
   "source": [
    "import pandas as pd\n",
    "import numpy as np"
   ]
  },
  {
   "cell_type": "code",
   "execution_count": 186,
   "metadata": {},
   "outputs": [],
   "source": [
    "import seaborn as sns"
   ]
  },
  {
   "cell_type": "code",
   "execution_count": 187,
   "metadata": {},
   "outputs": [],
   "source": [
    "from unidecode import unidecode"
   ]
  },
  {
   "cell_type": "code",
   "execution_count": 1,
   "metadata": {},
   "outputs": [],
   "source": [
    "str.replace?"
   ]
  },
  {
   "cell_type": "code",
   "execution_count": 188,
   "metadata": {},
   "outputs": [],
   "source": [
    "def norm(x):\n",
    "    x = x.replace(\".\", \"\")\n",
    "    x = x.replace(\",\", \"\")\n",
    "    \n",
    "    return unidecode(x.strip().lower())"
   ]
  },
  {
   "cell_type": "code",
   "execution_count": 189,
   "metadata": {},
   "outputs": [],
   "source": [
    "cnts = pd.read_csv(\"../data/pre-process/contratos_4.csv\", parse_dates=['start_date'])"
   ]
  },
  {
   "cell_type": "code",
   "execution_count": 190,
   "metadata": {},
   "outputs": [],
   "source": [
    "cnts['year'] = cnts['start_date'].dt.year"
   ]
  },
  {
   "cell_type": "code",
   "execution_count": 191,
   "metadata": {},
   "outputs": [],
   "source": [
    "cnts['CRI'] = np.abs(cnts['CRI'])"
   ]
  },
  {
   "cell_type": "code",
   "execution_count": null,
   "metadata": {},
   "outputs": [],
   "source": [
    "parts = pd.read_json(\"../data/tables/s3-particulares-sfp.json\")\n",
    "\n",
    "parts['year'] = pd.to_datetime(parts.fechaCaptura).dt.year.astype(int)"
   ]
  },
  {
   "cell_type": "code",
   "execution_count": 192,
   "metadata": {},
   "outputs": [],
   "source": [
    "parts['little'] = parts['nombreRazonSocial'].apply(norm)"
   ]
  },
  {
   "cell_type": "code",
   "execution_count": 193,
   "metadata": {},
   "outputs": [],
   "source": [
    "parts['year'] = pd.to_datetime(parts.fechaCaptura).dt.year.astype(int)"
   ]
  },
  {
   "cell_type": "code",
   "execution_count": 194,
   "metadata": {},
   "outputs": [],
   "source": [
    "parts['little'] = parts['nombreRazonSocial'].apply(norm)"
   ]
  },
  {
   "cell_type": "code",
   "execution_count": 195,
   "metadata": {},
   "outputs": [],
   "source": [
    "fantasmas = pd.read_csv(\"../data/tables/fantasmas.csv\", delimiter=\"\\n\", names=['supplier'])\n",
    "\n",
    "fantasmas['little'] = fantasmas['supplier'].apply(norm)"
   ]
  },
  {
   "cell_type": "code",
   "execution_count": 197,
   "metadata": {},
   "outputs": [],
   "source": [
    "fantasmas['fantasma'] = 1"
   ]
  },
  {
   "cell_type": "code",
   "execution_count": 198,
   "metadata": {},
   "outputs": [],
   "source": [
    "parts['bad'] = 1"
   ]
  },
  {
   "cell_type": "code",
   "execution_count": 199,
   "metadata": {},
   "outputs": [],
   "source": [
    "cnts['little'] = cnts['supplier'].apply(norm)"
   ]
  },
  {
   "cell_type": "code",
   "execution_count": 200,
   "metadata": {},
   "outputs": [],
   "source": [
    "cnts = pd.merge(cnts, parts[['little', 'bad']], how='left')"
   ]
  },
  {
   "cell_type": "code",
   "execution_count": 201,
   "metadata": {},
   "outputs": [],
   "source": [
    "cnts = pd.merge(cnts, fantasmas[['little', 'fantasma']], how='left')"
   ]
  },
  {
   "cell_type": "code",
   "execution_count": 202,
   "metadata": {},
   "outputs": [],
   "source": [
    "cnts['bad'] = cnts['bad'].fillna(0)"
   ]
  },
  {
   "cell_type": "code",
   "execution_count": 203,
   "metadata": {},
   "outputs": [
    {
     "data": {
      "text/plain": [
       "(1541571, 38)"
      ]
     },
     "execution_count": 203,
     "metadata": {},
     "output_type": "execute_result"
    }
   ],
   "source": [
    "cnts.shape"
   ]
  },
  {
   "cell_type": "code",
   "execution_count": 204,
   "metadata": {},
   "outputs": [
    {
     "data": {
      "text/plain": [
       "0.0    1522527\n",
       "1.0      19044\n",
       "Name: bad, dtype: int64"
      ]
     },
     "execution_count": 204,
     "metadata": {},
     "output_type": "execute_result"
    }
   ],
   "source": [
    "cnts.bad.value_counts()"
   ]
  },
  {
   "cell_type": "code",
   "execution_count": 205,
   "metadata": {},
   "outputs": [],
   "source": [
    "mean_cri = []\n",
    "np.random.seed(42)\n",
    "for i in range(1000):\n",
    "    X = np.random.randint(0, cnts.shape[0], 19044)\n",
    "    mean_cri.append(cnts.iloc[X].CRI.mean())"
   ]
  },
  {
   "cell_type": "code",
   "execution_count": 206,
   "metadata": {},
   "outputs": [
    {
     "data": {
      "text/plain": [
       "<matplotlib.axes._subplots.AxesSubplot at 0x7fb54be656d8>"
      ]
     },
     "execution_count": 206,
     "metadata": {},
     "output_type": "execute_result"
    },
    {
     "data": {
      "image/png": "[encoded data removed]",
      "text/plain": [
       "<Figure size 432x288 with 1 Axes>"
      ]
     },
     "metadata": {
      "needs_background": "light"
     },
     "output_type": "display_data"
    }
   ],
   "source": [
    "sns.distplot(mean_cri)"
   ]
  },
  {
   "cell_type": "code",
   "execution_count": 207,
   "metadata": {},
   "outputs": [
    {
     "data": {
      "text/plain": [
       "count     8.000000\n",
       "mean     14.025648\n",
       "std       9.361162\n",
       "min       1.190283\n",
       "25%       6.042290\n",
       "50%      16.383477\n",
       "75%      18.139456\n",
       "max      30.358626\n",
       "Name: CRI, dtype: float64"
      ]
     },
     "execution_count": 207,
     "metadata": {},
     "output_type": "execute_result"
    }
   ],
   "source": [
    "cnts[cnts.fantasma==1].CRI.describe()"
   ]
  },
  {
   "cell_type": "code",
   "execution_count": 208,
   "metadata": {},
   "outputs": [
    {
     "data": {
      "text/plain": [
       "<matplotlib.axes._subplots.AxesSubplot at 0x7fb54761c470>"
      ]
     },
     "execution_count": 208,
     "metadata": {},
     "output_type": "execute_result"
    },
    {
     "data": {
      "image/png": "[encoded data removed]",
      "text/plain": [
       "<Figure size 432x288 with 1 Axes>"
      ]
     },
     "metadata": {
      "needs_background": "light"
     },
     "output_type": "display_data"
    }
   ],
   "source": [
    "sns.distplot(cnts.CRI)"
   ]
  },
  {
   "cell_type": "code",
   "execution_count": 209,
   "metadata": {},
   "outputs": [
    {
     "data": {
      "text/plain": [
       "count    876340.000000\n",
       "mean         66.996708\n",
       "std          72.859933\n",
       "min           0.000026\n",
       "25%          25.167986\n",
       "50%          48.784387\n",
       "75%          88.852803\n",
       "max        4689.071692\n",
       "Name: CRI, dtype: float64"
      ]
     },
     "execution_count": 209,
     "metadata": {},
     "output_type": "execute_result"
    }
   ],
   "source": [
    "cnts.CRI.describe()"
   ]
  },
  {
   "cell_type": "code",
   "execution_count": 210,
   "metadata": {},
   "outputs": [
    {
     "data": {
      "text/plain": [
       "count    15799.000000\n",
       "mean        57.038640\n",
       "std         54.489092\n",
       "min          0.008033\n",
       "25%         28.132094\n",
       "50%         46.281926\n",
       "75%         69.250383\n",
       "max       1335.930246\n",
       "Name: CRI, dtype: float64"
      ]
     },
     "execution_count": 210,
     "metadata": {},
     "output_type": "execute_result"
    }
   ],
   "source": [
    "cnts[cnts.bad==1].CRI.describe()"
   ]
  },
  {
   "cell_type": "code",
   "execution_count": 211,
   "metadata": {},
   "outputs": [
    {
     "data": {
      "text/plain": [
       "id                                                                 90877\n",
       "start_date                                           2012-02-08 00:00:00\n",
       "amount                                                       1.44475e+06\n",
       "ramo                                                                  51\n",
       "desc_ramo              Instituto de Seguridad y Servicios Sociales de...\n",
       "person                                                                 0\n",
       "buyer                  ISSSTE-Jefatura de Servicios de Adquisición de...\n",
       "file_size                                                              7\n",
       "single_bid                                                             0\n",
       "contract_duration                                                    327\n",
       "prop_window                                                            1\n",
       "daily_price                                                         4418\n",
       "contract_type                                                   Purchase\n",
       "gvmnt_level                                                            F\n",
       "buyer_state                                             Ciudad de México\n",
       "supplier_country                                                      MX\n",
       "supplier                                 SAVI DISTRIBUCIONES, S.A DE C.V\n",
       "supplier_state                                                    México\n",
       "state_b                                                 Ciudad de México\n",
       "code_b                                                               CMX\n",
       "state_s                                                           México\n",
       "code_s                                                               MEX\n",
       "ubuyer                                                            b_1532\n",
       "usupplier                                                        s_94160\n",
       "comp                                                                   1\n",
       "long                                                                   0\n",
       "week                                                          0.00304878\n",
       "atom                                                                   1\n",
       "buyer_dispersion                                              0.00102598\n",
       "supplier_dispersion                                           0.00403794\n",
       "clustering                                                     0.0466262\n",
       "single_interaction                                                     0\n",
       "interaction                                                      10.6571\n",
       "CRI                                                              52.6903\n",
       "year                                                                2012\n",
       "little                                      savi distribuciones sa de cv\n",
       "bad                                                                    1\n",
       "fantasma                                                             NaN\n",
       "Name: 109, dtype: object"
      ]
     },
     "execution_count": 211,
     "metadata": {},
     "output_type": "execute_result"
    }
   ],
   "source": [
    "cnts[cnts.bad==1].loc[109]"
   ]
  },
  {
   "cell_type": "code",
   "execution_count": 212,
   "metadata": {},
   "outputs": [
    {
     "data": {
      "text/plain": [
       "277.0372867662278"
      ]
     },
     "execution_count": 212,
     "metadata": {},
     "output_type": "execute_result"
    }
   ],
   "source": [
    "cnts.CRI.quantile(.99)"
   ]
  },
  {
   "cell_type": "code",
   "execution_count": 213,
   "metadata": {},
   "outputs": [],
   "source": [
    "cnts = cnts.drop('little', axis=1)"
   ]
  },
  {
   "cell_type": "code",
   "execution_count": 214,
   "metadata": {},
   "outputs": [],
   "source": [
    "#cnts.to_csv(\"../data/pre-process/contratos_5.csv\", index=False)"
   ]
  }
 ],
 "metadata": {
  "kernelspec": {
   "display_name": "Python 3",
   "language": "python",
   "name": "python3"
  },
  "language_info": {
   "codemirror_mode": {
    "name": "ipython",
    "version": 3
   },
   "file_extension": ".py",
   "mimetype": "text/x-python",
   "name": "python",
   "nbconvert_exporter": "python",
   "pygments_lexer": "ipython3",
   "version": "3.8.5"
  }
 },
 "nbformat": 4,
 "nbformat_minor": 4
}
