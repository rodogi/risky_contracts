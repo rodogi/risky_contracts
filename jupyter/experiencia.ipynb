{
 "cells": [
  {
   "cell_type": "markdown",
   "metadata": {},
   "source": [
    "# Experiencia\n",
    "\n",
    "En este notebook vamos a unir los datos de experiencia de todos los funcionarios públicos de 2002--2018. Vamos a tomar en cuenta solamente la experiencia en el sector privado."
   ]
  },
  {
   "cell_type": "code",
   "execution_count": 1,
   "metadata": {},
   "outputs": [],
   "source": [
    "import os\n",
    "import glob\n",
    "import hashlib\n",
    "from os.path import join\n",
    "import numpy as np\n",
    "import pandas as pd"
   ]
  },
  {
   "cell_type": "code",
   "execution_count": 2,
   "metadata": {},
   "outputs": [],
   "source": [
    "DATA = \"/home/rdora/declaranet/data\"\n",
    "# Tablas\n",
    "GENERAL = \"_generalesEncargo_DBP.csv\"\n",
    "EXP = \"_experiencia_DBP.csv\"\n",
    "ECONO = \"_participaciones_econo_DBP.csv\"\n",
    "PUESTO = \"_puesto_cargo_com_DBP.csv\""
   ]
  },
  {
   "cell_type": "code",
   "execution_count": 7,
   "metadata": {},
   "outputs": [],
   "source": [
    "# Columnas obtenidas del notebook `datos`\n",
    "COLS_GENERAL = [\"ACUSE\",\n",
    "                \"NOMBRE\",\n",
    "                \"TIPO_DECLARACION\",\n",
    "                \"FECHA_ENVIO\",\n",
    "                \"PUESTO\",\n",
    "                \"DEPENDENCIA\",\n",
    "                \"AREA_ADSCRIPCION\",\n",
    "                \"HONORARIOS\",\n",
    "                \"MAXIMO_GRADO_ESTUDIOS\"]\n",
    "COLS_EXP = [\"ACUSE\",\n",
    "            \"SECTOR\",\n",
    "            \"INSTITUCION_EMPRESA\",\n",
    "            \"AREA_O_UNIDAD_ADMINSITRATIVA\",\n",
    "            \"PUESTO\",\n",
    "            \"INGRESO_EGRESO\"]"
   ]
  },
  {
   "cell_type": "code",
   "execution_count": 108,
   "metadata": {},
   "outputs": [],
   "source": [
    "# Total de años del proyecto menos 2002\n",
    "years = range(2003, 2019)"
   ]
  },
  {
   "cell_type": "code",
   "execution_count": 114,
   "metadata": {},
   "outputs": [],
   "source": [
    "path_general = join(DATA, \"2002\", \"2002\" + GENERAL)\n",
    "path_exp = join(DATA, \"2002\", \"2002\" + EXP)\n",
    "df_exp = pd.read_csv(path_exp, usecols=COLS_EXP, encoding=\"utf-8\")\n",
    "df_general = pd.read_csv(path_general, usecols=COLS_GENERAL, encoding=\"utf-8\")\n",
    "df_general = df_general.rename(columns={\"PUESTO\": \"PUESTO_ACTUAL\"})"
   ]
  },
  {
   "cell_type": "code",
   "execution_count": 115,
   "metadata": {},
   "outputs": [],
   "source": [
    "# Hacer el HASH\n",
    "df_exp = df_exp.astype(str)\n",
    "df_exp['hash'] = df_exp.iloc[:,1:].apply(\n",
    "    lambda x: hashlib.md5(\"\".join(x).encode()).hexdigest(), axis=1)"
   ]
  },
  {
   "cell_type": "code",
   "execution_count": 116,
   "metadata": {},
   "outputs": [],
   "source": [
    "hashes = set(df_exp['hash'].values)"
   ]
  },
  {
   "cell_type": "code",
   "execution_count": 117,
   "metadata": {},
   "outputs": [],
   "source": [
    "df = pd.merge(df_exp,\n",
    "             df_general,\n",
    "             how=\"left\",\n",
    "             on=\"ACUSE\")"
   ]
  },
  {
   "cell_type": "markdown",
   "metadata": {},
   "source": [
    "Empezar con los demás años"
   ]
  },
  {
   "cell_type": "code",
   "execution_count": 118,
   "metadata": {},
   "outputs": [
    {
     "name": "stdout",
     "output_type": "stream",
     "text": [
      "2003\n",
      "2004\n",
      "2005\n",
      "2006\n",
      "2007\n",
      "2008\n",
      "2009\n",
      "2010\n",
      "2011\n",
      "2012\n",
      "2013\n",
      "2014\n",
      "2015\n",
      "2016\n",
      "2017\n",
      "2018\n"
     ]
    }
   ],
   "source": [
    "dfs = [df]\n",
    "for year in years:\n",
    "    print(year)\n",
    "    path_general = join(DATA, str(year), str(year) + GENERAL)\n",
    "    path_exp = join(DATA, str(year), str(year) + EXP)\n",
    "    # if year != 2015:\n",
    "    df_exp_next = pd.read_csv(path_exp, usecols=COLS_EXP, encoding=\"utf-8\")\n",
    "    #else:\n",
    "    #    df_exp_next = pd.DataFrame(columns=COLS_EXP)\n",
    "    df_general_next = pd.read_csv(path_general, usecols=COLS_GENERAL, encoding=\"utf-8\")\n",
    "    df_general_next = df_general_next.rename(columns={\"PUESTO\": \"PUESTO_ACTUAL\"})\n",
    "    # df_exp_next = df_exp_next[df_exp_next.SECTOR==\"PRIVADO\"]\n",
    "    # Hacer el HASH\n",
    "    df_exp_next = df_exp_next.astype(str)\n",
    "    df_exp_next['hash'] = df_exp_next.iloc[:,1:].apply(\n",
    "        lambda x: hashlib.md5(\"\".join(x).encode()).hexdigest(), axis=1)\n",
    "    hashes_next = set(df_exp_next['hash'].values)\n",
    "    df_exp_next = df_exp_next[~(df_exp_next.hash.isin(hashes_next & hashes))]\n",
    "    df_next = pd.merge(df_exp_next, df_general_next, how=\"left\", on=\"ACUSE\")\n",
    "    if df_next.NOMBRE.isna().any():\n",
    "        print(f\"This year has non matching acuses: {year}\")\n",
    "    dfs.append(df_next)\n",
    "    hashes = hashes_next | hashes\n",
    "df = pd.concat(dfs)"
   ]
  },
  {
   "cell_type": "code",
   "execution_count": 119,
   "metadata": {},
   "outputs": [],
   "source": [
    "# Drop duplicates in terms of hash\n",
    "df = df.drop_duplicates(subset=\"hash\")"
   ]
  },
  {
   "cell_type": "markdown",
   "metadata": {},
   "source": [
    "### Limpieza de los datos"
   ]
  },
  {
   "cell_type": "code",
   "execution_count": 120,
   "metadata": {},
   "outputs": [],
   "source": [
    "df = df[~(df.NOMBRE==\"PRUEBA\")]\n",
    "df = df[~(df.NOMBRE==\"PRUEBA PRUEBA PRUEBA\")]"
   ]
  },
  {
   "cell_type": "code",
   "execution_count": 121,
   "metadata": {},
   "outputs": [
    {
     "data": {
      "text/plain": [
       "(1810431, 15)"
      ]
     },
     "execution_count": 121,
     "metadata": {},
     "output_type": "execute_result"
    }
   ],
   "source": [
    "df.shape"
   ]
  },
  {
   "cell_type": "code",
   "execution_count": 124,
   "metadata": {},
   "outputs": [],
   "source": [
    "df.to_csv(join(DATA, \"tables\", \"experience.csv\"), index=False)"
   ]
  }
 ],
 "metadata": {
  "kernelspec": {
   "display_name": "Python 3",
   "language": "python",
   "name": "python3"
  },
  "language_info": {
   "codemirror_mode": {
    "name": "ipython",
    "version": 3
   },
   "file_extension": ".py",
   "mimetype": "text/x-python",
   "name": "python",
   "nbconvert_exporter": "python",
   "pygments_lexer": "ipython3",
   "version": "3.6.9"
  }
 },
 "nbformat": 4,
 "nbformat_minor": 4
}
