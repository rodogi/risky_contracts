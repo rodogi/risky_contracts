{
 "cells": [
  {
   "cell_type": "markdown",
   "metadata": {},
   "source": [
    "# Data matching\n",
    "\n",
    "Data deduplication, data linkage, data matching...\n",
    "\n",
    "Here, we get rid of duplicated names that are not equal, as in 'Nestlé' and 'Nestlé S.A. de C.V.' for:\n",
    "\n",
    "1. Suppliers\n",
    "2. Buyers (to a lesser extent)\n",
    "\n",
    "## Method\n",
    "\n",
    "Data matching is a step process that includes:\n",
    "\n",
    "1. Data cleaning\n",
    "2. Data similarity computation\n",
    "3. Data clustering\n",
    "4. Data matching\n",
    "\n",
    "## Blocks\n",
    "\n",
    "We will work separately by dividing the suppliers into people and companies."
   ]
  },
  {
   "cell_type": "code",
   "execution_count": 3,
   "metadata": {},
   "outputs": [],
   "source": [
    "import pandas as pd\n",
    "import re"
   ]
  },
  {
   "cell_type": "code",
   "execution_count": 4,
   "metadata": {},
   "outputs": [],
   "source": [
    "import numpy as np"
   ]
  },
  {
   "cell_type": "code",
   "execution_count": 5,
   "metadata": {},
   "outputs": [
    {
     "name": "stderr",
     "output_type": "stream",
     "text": [
      "/home/rdora/.local/lib/python3.6/site-packages/IPython/core/interactiveshell.py:3063: DtypeWarning: Columns (0) have mixed types.Specify dtype option on import or set low_memory=False.\n",
      "  interactivity=interactivity, compiler=compiler, result=result)\n"
     ]
    }
   ],
   "source": [
    "CNTS = '/home/rdora/declaranet/data/pre-process/contratos_2.csv'\n",
    "cnts = pd.read_csv(CNTS, parse_dates=['start_date'])"
   ]
  },
  {
   "cell_type": "code",
   "execution_count": 5,
   "metadata": {},
   "outputs": [],
   "source": [
    "cols = ['supplier', 'supplier_state', 'supplier_country']"
   ]
  },
  {
   "cell_type": "code",
   "execution_count": 112,
   "metadata": {},
   "outputs": [],
   "source": [
    "comps = cnts[cnts.person==0][cols]\n",
    "\n",
    "people = cnts[cnts.person==1][cols]"
   ]
  },
  {
   "cell_type": "code",
   "execution_count": 32,
   "metadata": {},
   "outputs": [],
   "source": [
    "gb_comps = comps.groupby('supplier').first().reset_index()\n",
    "\n",
    "gb_people = people.groupby('supplier').first().reset_index()"
   ]
  },
  {
   "cell_type": "code",
   "execution_count": 33,
   "metadata": {},
   "outputs": [],
   "source": [
    "COMPS = '/home/rdora/declaranet/data/dedup/companies.csv'\n",
    "gb_comps.to_csv(COMPS, index=False)\n",
    "\n",
    "PEOPLE = '/home/rdora/declaranet/data/dedup/people.csv'\n",
    "gb_people.to_csv(PEOPLE, index=False)"
   ]
  },
  {
   "cell_type": "markdown",
   "metadata": {},
   "source": [
    "# Run Dedup\n",
    "\n",
    "Here, we run the script `~/declaranet/python/deduplicate.py` to create a cluster for each record."
   ]
  },
  {
   "cell_type": "code",
   "execution_count": 114,
   "metadata": {},
   "outputs": [],
   "source": [
    "COMPS_2 = '/home/rdora/declaranet/data/dedup/output_companies.csv'\n",
    "comps_cl = pd.read_csv(COMPS_2)"
   ]
  },
  {
   "cell_type": "code",
   "execution_count": 115,
   "metadata": {},
   "outputs": [],
   "source": [
    "PEOPLE_2 = '/home/rdora/declaranet/data/dedup/output_people.csv'\n",
    "people_cl = pd.read_csv(PEOPLE_2)"
   ]
  },
  {
   "cell_type": "markdown",
   "metadata": {},
   "source": [
    "# Groupby"
   ]
  },
  {
   "cell_type": "code",
   "execution_count": 84,
   "metadata": {},
   "outputs": [],
   "source": [
    "def get_mode(group):\n",
    "    vc = group.value_counts()\n",
    "    if vc.shape[0]:\n",
    "        return vc.index[0]\n",
    "    else:\n",
    "        return np.nan"
   ]
  },
  {
   "cell_type": "code",
   "execution_count": 124,
   "metadata": {},
   "outputs": [
    {
     "name": "stderr",
     "output_type": "stream",
     "text": [
      "/home/rdora/.local/lib/python3.6/site-packages/ipykernel_launcher.py:1: FutureWarning: Indexing with multiple keys (implicitly converted to a tuple of keys) will be deprecated, use a list instead.\n",
      "  \"\"\"Entry point for launching an IPython kernel.\n"
     ]
    }
   ],
   "source": [
    "gb_comps = comps_cl.groupby('Cluster ID')['supplier', 'supplier_state'].agg(get_mode).reset_index()"
   ]
  },
  {
   "cell_type": "code",
   "execution_count": 125,
   "metadata": {},
   "outputs": [
    {
     "name": "stderr",
     "output_type": "stream",
     "text": [
      "/home/rdora/.local/lib/python3.6/site-packages/ipykernel_launcher.py:1: FutureWarning: Indexing with multiple keys (implicitly converted to a tuple of keys) will be deprecated, use a list instead.\n",
      "  \"\"\"Entry point for launching an IPython kernel.\n"
     ]
    }
   ],
   "source": [
    "gb_people = people_cl.groupby('Cluster ID')['supplier', 'supplier_state'].agg(get_mode).reset_index()"
   ]
  },
  {
   "cell_type": "markdown",
   "metadata": {},
   "source": [
    "## Companies"
   ]
  },
  {
   "cell_type": "code",
   "execution_count": 162,
   "metadata": {},
   "outputs": [],
   "source": [
    "comps = cnts[cnts.person==0]\n",
    "\n",
    "comps = pd.merge(comps,\n",
    "                comps_cl[['Cluster ID', 'supplier']],\n",
    "                how='left')\n",
    "\n",
    "comps = comps.drop(['supplier', 'supplier_state'], axis=1)\n",
    "\n",
    "comps = pd.merge(comps, gb_comps, how='left')"
   ]
  },
  {
   "cell_type": "code",
   "execution_count": 177,
   "metadata": {},
   "outputs": [
    {
     "name": "stdout",
     "output_type": "stream",
     "text": [
      "New contracts with Supplier State: 150178\n",
      "Number of duplicated companies: 31334\n"
     ]
    }
   ],
   "source": [
    "print(\"New contracts with Supplier State:\",\n",
    "      cnts[cnts.person==0].supplier_state.isna().sum() - comps.supplier_state.isna().sum())\n",
    "\n",
    "print(\"Number of duplicated companies:\",\n",
    "     cnts[cnts.person==0].supplier.nunique() - comps.supplier.nunique())"
   ]
  },
  {
   "cell_type": "code",
   "execution_count": 1,
   "metadata": {},
   "outputs": [
    {
     "data": {
      "text/plain": [
       "36786"
      ]
     },
     "execution_count": 1,
     "metadata": {},
     "output_type": "execute_result"
    }
   ],
   "source": [
    "31334 + 5452"
   ]
  },
  {
   "cell_type": "code",
   "execution_count": 12,
   "metadata": {},
   "outputs": [
    {
     "data": {
      "text/plain": [
       "261318"
      ]
     },
     "execution_count": 12,
     "metadata": {},
     "output_type": "execute_result"
    }
   ],
   "source": [
    "cnts.supplier.nunique()"
   ]
  },
  {
   "cell_type": "code",
   "execution_count": 13,
   "metadata": {},
   "outputs": [
    {
     "data": {
      "text/plain": [
       "5070"
      ]
     },
     "execution_count": 13,
     "metadata": {},
     "output_type": "execute_result"
    }
   ],
   "source": [
    "cnts.buyer.nunique()"
   ]
  },
  {
   "cell_type": "markdown",
   "metadata": {},
   "source": [
    "## People"
   ]
  },
  {
   "cell_type": "code",
   "execution_count": 176,
   "metadata": {},
   "outputs": [],
   "source": [
    "people = cnts[cnts.person==1]\n",
    "\n",
    "people = pd.merge(people,\n",
    "                people_cl[['Cluster ID', 'supplier']],\n",
    "                how='left')\n",
    "\n",
    "people = people.drop(['supplier', 'supplier_state'], axis=1)\n",
    "\n",
    "people = pd.merge(people, gb_people, how='left')"
   ]
  },
  {
   "cell_type": "code",
   "execution_count": 180,
   "metadata": {},
   "outputs": [
    {
     "name": "stdout",
     "output_type": "stream",
     "text": [
      "New contracts with Supplier State: 7457\n",
      "Number of duplicated people: 5452\n"
     ]
    }
   ],
   "source": [
    "print(\"New contracts with Supplier State:\",\n",
    "      cnts[cnts.person==1].supplier_state.isna().sum() - people.supplier_state.isna().sum())\n",
    "\n",
    "print(\"Number of duplicated people:\",\n",
    "     cnts[cnts.person==1].supplier.nunique() - people.supplier.nunique())"
   ]
  },
  {
   "cell_type": "markdown",
   "metadata": {},
   "source": [
    "# Merge"
   ]
  },
  {
   "cell_type": "code",
   "execution_count": 193,
   "metadata": {},
   "outputs": [],
   "source": [
    "cnts_final = pd.concat([comps, people]).drop('Cluster ID', axis=1)"
   ]
  },
  {
   "cell_type": "markdown",
   "metadata": {},
   "source": [
    "Let's correct the daily price"
   ]
  },
  {
   "cell_type": "code",
   "execution_count": 204,
   "metadata": {},
   "outputs": [],
   "source": [
    "cnts_final.loc[cnts_final.daily_price == np.inf, 'daily_price'] = (\n",
    "    cnts_final.loc[cnts_final.daily_price == np.inf, 'amount'])"
   ]
  },
  {
   "cell_type": "code",
   "execution_count": 210,
   "metadata": {},
   "outputs": [
    {
     "name": "stdout",
     "output_type": "stream",
     "text": [
      "Number of deduplicated edges: 570,575\n"
     ]
    }
   ],
   "source": [
    "supplier = set(cnts.supplier.unique())\n",
    "supplier_2 = set(cnts_final.supplier.unique())\n",
    "miss = supplier - supplier_2\n",
    "\n",
    "print(f\"Number of deduplicated edges: {cnts[cnts.supplier.isin(miss)].shape[0]:,}\")"
   ]
  },
  {
   "cell_type": "code",
   "execution_count": 206,
   "metadata": {},
   "outputs": [],
   "source": [
    "OUT = '/home/rdora/declaranet/data/pre-process/contratos_3.csv'\n",
    "cnts_final.to_csv(OUT, index=False)"
   ]
  }
 ],
 "metadata": {
  "kernelspec": {
   "display_name": "Python 3",
   "language": "python",
   "name": "python3"
  },
  "language_info": {
   "codemirror_mode": {
    "name": "ipython",
    "version": 3
   },
   "file_extension": ".py",
   "mimetype": "text/x-python",
   "name": "python",
   "nbconvert_exporter": "python",
   "pygments_lexer": "ipython3",
   "version": "3.6.9"
  }
 },
 "nbformat": 4,
 "nbformat_minor": 4
}
