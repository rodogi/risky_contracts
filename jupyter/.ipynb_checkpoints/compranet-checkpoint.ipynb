{
 "cells": [
  {
   "cell_type": "markdown",
   "metadata": {
    "slideshow": {
     "slide_type": "slide"
    }
   },
   "source": [
    "# Compranet"
   ]
  },
  {
   "cell_type": "markdown",
   "metadata": {
    "slideshow": {
     "slide_type": "slide"
    }
   },
   "source": [
    "## Datos\n",
    "\n",
    "https://sites.google.com/site/cnetuc/descargas\n",
    "\n",
    "Rango de años: 2010--2019"
   ]
  },
  {
   "cell_type": "markdown",
   "metadata": {
    "slideshow": {
     "slide_type": "slide"
    }
   },
   "source": [
    "## Exploración de los datos\n",
    "\n",
    "Para poder ver como limpiarlos."
   ]
  },
  {
   "cell_type": "code",
   "execution_count": 5,
   "metadata": {
    "slideshow": {
     "slide_type": "slide"
    }
   },
   "outputs": [],
   "source": [
    "import pandas as pd\n",
    "\n",
    "PATH = \"/home/rdora/declaranet/data/tables/contratos.csv\"\n",
    "cnts = pd.read_csv(PATH)  # Contratos"
   ]
  },
  {
   "cell_type": "code",
   "execution_count": 6,
   "metadata": {
    "slideshow": {
     "slide_type": "slide"
    }
   },
   "outputs": [
    {
     "name": "stdout",
     "output_type": "stream",
     "text": [
      "<class 'pandas.core.frame.DataFrame'>\n",
      "RangeIndex: 1550441 entries, 0 to 1550440\n",
      "Data columns (total 22 columns):\n",
      " #   Column                        Non-Null Count    Dtype  \n",
      "---  ------                        --------------    -----  \n",
      " 0   gobierno                      1550441 non-null  object \n",
      " 1   siglas                        1550441 non-null  object \n",
      " 2   dependencia                   1550441 non-null  object \n",
      " 3   claveuc                       1550441 non-null  object \n",
      " 4   nombre_de_la_uc               1550441 non-null  object \n",
      " 5   responsable                   1550441 non-null  object \n",
      " 6   codigo_expediente             1550441 non-null  int64  \n",
      " 7   fecha_apertura_proposiciones  920898 non-null   object \n",
      " 8   caracter                      1492385 non-null  object \n",
      " 9   tipo_contratacion             1550441 non-null  object \n",
      " 10  tipo_procedimiento            1549891 non-null  object \n",
      " 11  forma_procedimiento           1492629 non-null  object \n",
      " 12  titulo_contrato               1549996 non-null  object \n",
      " 13  fecha_inicio                  1550441 non-null  object \n",
      " 14  fecha_fin                     1550422 non-null  object \n",
      " 15  importe_contrato              1550441 non-null  float64\n",
      " 16  moneda                        1550441 non-null  object \n",
      " 17  estatus_contrato              1550441 non-null  object \n",
      " 18  proveedor_contratista         1550406 non-null  object \n",
      " 19  estratificacion_mpc           1048341 non-null  object \n",
      " 20  siglas_pais                   1550441 non-null  object \n",
      " 21  anuncio                       1545151 non-null  object \n",
      "dtypes: float64(1), int64(1), object(20)\n",
      "memory usage: 260.2+ MB\n"
     ]
    }
   ],
   "source": [
    "cnts.info()"
   ]
  }
 ],
 "metadata": {
  "celltoolbar": "Slideshow",
  "kernelspec": {
   "display_name": "Python 3",
   "language": "python",
   "name": "python3"
  },
  "language_info": {
   "codemirror_mode": {
    "name": "ipython",
    "version": 3
   },
   "file_extension": ".py",
   "mimetype": "text/x-python",
   "name": "python",
   "nbconvert_exporter": "python",
   "pygments_lexer": "ipython3",
   "version": "3.6.9"
  }
 },
 "nbformat": 4,
 "nbformat_minor": 4
}
