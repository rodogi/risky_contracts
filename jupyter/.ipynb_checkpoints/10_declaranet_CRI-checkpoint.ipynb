{
 "cells": [
  {
   "cell_type": "markdown",
   "metadata": {
    "slideshow": {
     "slide_type": "slide"
    }
   },
   "source": [
    "# CRI\n",
    "\n",
    "Corruption risk index will allow us to compare public procurement networks in terms of risky structure."
   ]
  },
  {
   "cell_type": "markdown",
   "metadata": {
    "slideshow": {
     "slide_type": "slide"
    }
   },
   "source": [
    "# CRI\n",
    "\n",
    "We are going to group by state the following variables:\n",
    "\n",
    "- Supplier/buyer dispersion\n",
    "- State-level dispersion\n",
    "- Proportion of same-state contracts\n",
    "- Proportion of people suppliers\n",
    "- Contract daily price\n",
    "- Contract amount\n",
    "- File size of the contract\n",
    "- Proportion of atomized contracts\n",
    "- Direct award\n",
    "\n",
    "And compare them to corruption perception in companies and the general population + corruption experience."
   ]
  },
  {
   "cell_type": "code",
   "execution_count": 1,
   "metadata": {
    "slideshow": {
     "slide_type": "skip"
    }
   },
   "outputs": [],
   "source": [
    "import pandas as pd\n",
    "import numpy as np\n",
    "import seaborn as sns\n",
    "import matplotlib.pyplot as plt"
   ]
  },
  {
   "cell_type": "code",
   "execution_count": 2,
   "metadata": {
    "slideshow": {
     "slide_type": "skip"
    }
   },
   "outputs": [],
   "source": [
    "from sklearn import linear_model"
   ]
  },
  {
   "cell_type": "code",
   "execution_count": 3,
   "metadata": {
    "slideshow": {
     "slide_type": "skip"
    }
   },
   "outputs": [],
   "source": [
    "corruption = pd.read_csv(\"../data/states/federal.csv\")\n",
    "# Contracts dataframe\n",
    "cnts = pd.read_csv(\"../data/pre-process/contratos_3.csv\",\n",
    "                  parse_dates=[\"start_date\"])\n",
    "# Select only studied dates\n",
    "cnts = cnts[(cnts.start_date < '2020-01-01') & (cnts.start_date > '2010-12-31')]\n",
    "# Three letter state code\n",
    "codes = pd.read_csv(\"../data/states/federal.csv\",\n",
    "                   usecols=[\"state\", \"code\"])\n",
    "# Some additional data\n",
    "inegi = pd.read_csv(\"../data/inegi/state_data.csv\")"
   ]
  },
  {
   "cell_type": "code",
   "execution_count": 4,
   "metadata": {
    "slideshow": {
     "slide_type": "skip"
    }
   },
   "outputs": [],
   "source": [
    "cnts = pd.merge(cnts,\n",
    "                codes,\n",
    "                how=\"left\",\n",
    "                left_on=\"buyer_state\",\n",
    "                right_on=\"state\")\n",
    "\n",
    "cnts = pd.merge(cnts,\n",
    "                codes,\n",
    "                how=\"left\",\n",
    "                left_on=\"supplier_state\",\n",
    "                right_on=\"state\",\n",
    "                suffixes=[\"_b\", \"_s\"])"
   ]
  },
  {
   "cell_type": "code",
   "execution_count": 6,
   "metadata": {
    "slideshow": {
     "slide_type": "skip"
    }
   },
   "outputs": [],
   "source": [
    "cnts = cnts[cnts['gvmnt_level'] == 'F']"
   ]
  },
  {
   "cell_type": "code",
   "execution_count": 7,
   "metadata": {
    "slideshow": {
     "slide_type": "slide"
    }
   },
   "outputs": [
    {
     "data": {
      "image/png": "[encoded data removed]",
      "text/plain": [
       "<Figure size 432x288 with 1 Axes>"
      ]
     },
     "metadata": {
      "needs_background": "light"
     },
     "output_type": "display_data"
    }
   ],
   "source": [
    "cnts.start_date.dt.year.value_counts().plot(kind=\"bar\", color=\"gray\")\n",
    "plt.xlabel(\"Year\")\n",
    "plt.ylabel(\"Freq\")\n",
    "plt.title(\"Number of contracts per year\");"
   ]
  },
  {
   "cell_type": "code",
   "execution_count": 8,
   "metadata": {
    "slideshow": {
     "slide_type": "skip"
    }
   },
   "outputs": [],
   "source": [
    "gb_buyer = cnts.groupby([\"code_b\"]).code_s.value_counts(normalize=True).rename(\"Freq\").reset_index()"
   ]
  },
  {
   "cell_type": "markdown",
   "metadata": {
    "slideshow": {
     "slide_type": "skip"
    }
   },
   "source": [
    "## Corruption"
   ]
  },
  {
   "cell_type": "code",
   "execution_count": 9,
   "metadata": {
    "slideshow": {
     "slide_type": "skip"
    }
   },
   "outputs": [],
   "source": [
    "corruption = pd.merge(corruption, codes, how=\"left\")\n",
    "\n",
    "corruption = corruption.set_index(\"code\")"
   ]
  },
  {
   "cell_type": "markdown",
   "metadata": {
    "slideshow": {
     "slide_type": "skip"
    }
   },
   "source": [
    "# INEGI"
   ]
  },
  {
   "cell_type": "code",
   "execution_count": 10,
   "metadata": {
    "slideshow": {
     "slide_type": "skip"
    }
   },
   "outputs": [],
   "source": [
    "inegi = pd.merge(inegi, codes, how=\"left\", on=\"state\")\n",
    "\n",
    "cols_strip = ['population_2015', 'GVA_2011', 'GVA_2012', 'GVA_2013',\n",
    "       'GVA_2014', 'GVA_2015', 'GVA_2016', 'GVA_2017', 'GVA_2018']\n",
    "\n",
    "inegi[cols_strip] = inegi[cols_strip].apply(lambda x: x.str.replace(\" \", \"\").astype(float), axis=1)\n",
    "\n",
    "inegi = inegi.set_index('code')"
   ]
  },
  {
   "cell_type": "markdown",
   "metadata": {
    "slideshow": {
     "slide_type": "slide"
    }
   },
   "source": [
    "## Same state contracts, Human suppliers and direct award\n",
    "\n",
    "- Same state contract: 1 if both supplier and buyer are from the same state, 0 otherwise.\n",
    "- Human supplier: 1 if the supplier is a person, 0 otherwise\n",
    "- Direct award: 1 if contract was awarded directly (no competition), 0 otherwise."
   ]
  },
  {
   "cell_type": "code",
   "execution_count": 14,
   "metadata": {
    "slideshow": {
     "slide_type": "skip"
    }
   },
   "outputs": [],
   "source": [
    "cnts['same_state'] = (cnts['code_b'] == cnts['code_s']) * 1\n",
    "\n",
    "ss = cnts.groupby(\"code_b\", as_index=False)[['same_state', 'person', 'single_bid']].mean()\n",
    "\n",
    "ss = pd.merge(ss,\n",
    "             inegi[[\"population_2015\", \"GVA_2015\"]],\n",
    "             left_on=\"code_b\",\n",
    "             right_index=True)\n",
    "\n",
    "ss = pd.merge(ss,\n",
    "              corruption[[\"very_high_r\", \"c_very_high_r\", \"e_exp_r\"]],\n",
    "              how=\"left\",\n",
    "              left_on=\"code_b\",\n",
    "              right_index=True)\n",
    "\n",
    "ss['gva_pc'] = ss['GVA_2015'] / ss['population_2015']"
   ]
  },
  {
   "cell_type": "markdown",
   "metadata": {
    "slideshow": {
     "slide_type": "slide"
    }
   },
   "source": [
    "# File size\n",
    "\n",
    "Number of contracts per file. Each contract has a file and we can know how many contracts were in the file.\n",
    "\n",
    "We define a file as atomized if its number of contracts is larger than 10."
   ]
  },
  {
   "cell_type": "code",
   "execution_count": 19,
   "metadata": {
    "slideshow": {
     "slide_type": "skip"
    }
   },
   "outputs": [],
   "source": [
    "cnts['atom'] = (cnts['file_size'] > 10) * 1\n",
    "\n",
    "fs = cnts.groupby(\"code_b\", as_index=False)[['file_size', 'atom']].mean()"
   ]
  },
  {
   "cell_type": "code",
   "execution_count": 21,
   "metadata": {
    "slideshow": {
     "slide_type": "skip"
    }
   },
   "outputs": [
    {
     "data": {
      "image/png": "[encoded data removed]",
      "text/plain": [
       "<Figure size 432x288 with 1 Axes>"
      ]
     },
     "metadata": {
      "needs_background": "light"
     },
     "output_type": "display_data"
    }
   ],
   "source": [
    "sns.barplot(x=\"code_b\", y=\"atom\", data=fs.sort_values(by=\"atom\"), color='gray')\n",
    "plt.xticks(rotation=90);"
   ]
  },
  {
   "cell_type": "markdown",
   "metadata": {
    "slideshow": {
     "slide_type": "slide"
    }
   },
   "source": [
    "# Daily price and amount\n",
    "\n",
    "- Amount: Amount in USD of the contract\n",
    "- Daily price: Amount divided by time span of contract in days."
   ]
  },
  {
   "cell_type": "code",
   "execution_count": 22,
   "metadata": {
    "slideshow": {
     "slide_type": "skip"
    }
   },
   "outputs": [],
   "source": [
    "dp = cnts.groupby(\"code_b\", as_index=False)[[\"daily_price\", \"amount\"]].mean()"
   ]
  },
  {
   "cell_type": "markdown",
   "metadata": {
    "slideshow": {
     "slide_type": "slide"
    }
   },
   "source": [
    "# Dispersion\n",
    "\n",
    "We take the variation coefficient ($\\frac{\\sigma}{\\mu}$) of the distribution contracts of each state to any other state.\n",
    "\n",
    "Let {20, 30, 30, 20} the distribution of contracts bought by state A.\n",
    "\n",
    "Then $\\sigma = 5$ and $\\mu = 25$, therefore $\\frac{\\sigma}{\\mu} = 0.2$.\n",
    "\n",
    "To finish, we normalize by the number of contracts (100), so dispersion of A in contracts bought is $0.002$."
   ]
  },
  {
   "cell_type": "markdown",
   "metadata": {
    "slideshow": {
     "slide_type": "slide"
    }
   },
   "source": [
    "# Dispersion\n",
    "\n",
    "In a similar way we compute the dispersion of A in contracts sold.\n",
    "\n",
    "Two other dispersions are calculated:\n",
    "\n",
    "- Supplier dispersion (by taking the contract distribution of each supplier)\n",
    "- Buyer dispersion (by taking the contracts of each buyer)\n",
    "\n",
    "In total we have 4 dispersion measures."
   ]
  },
  {
   "cell_type": "markdown",
   "metadata": {
    "slideshow": {
     "slide_type": "skip"
    }
   },
   "source": [
    "## Dispersion, Two kinds of risk: public and private. \n",
    "\n",
    "Let's work with the two by grouping by `buyer_state` and `supplier_state` at the same time."
   ]
  },
  {
   "cell_type": "markdown",
   "metadata": {
    "slideshow": {
     "slide_type": "skip"
    }
   },
   "source": [
    "## Buyer variation"
   ]
  },
  {
   "cell_type": "code",
   "execution_count": 23,
   "metadata": {
    "slideshow": {
     "slide_type": "skip"
    }
   },
   "outputs": [],
   "source": [
    "def var_coeff(states):\n",
    "    \n",
    "    return np.std(states) / np.mean(states)"
   ]
  },
  {
   "cell_type": "markdown",
   "metadata": {
    "slideshow": {
     "slide_type": "skip"
    }
   },
   "source": [
    "In terms of state"
   ]
  },
  {
   "cell_type": "code",
   "execution_count": 25,
   "metadata": {
    "slideshow": {
     "slide_type": "skip"
    }
   },
   "outputs": [],
   "source": [
    "bv_s = cnts.groupby('code_b')['code_s'].value_counts().rename('N').reset_index()\n",
    "bv_s_n = cnts.groupby('code_b').code_s.size().rename('NC').reset_index()\n",
    "bv_s = bv_s[\n",
    "    bv_s.code_b != bv_s.code_s].groupby(\n",
    "    'code_b').N.apply(var_coeff).rename('state_dispersion_b').reset_index()\n",
    "bv_s = pd.merge(bv_s, bv_s_n, how='left')\n",
    "bv_s['state_dispersion_b'] = bv_s['state_dispersion_b'] / bv_s['NC']\n",
    "bv_s = bv_s.drop('NC', axis=1)"
   ]
  },
  {
   "cell_type": "markdown",
   "metadata": {
    "slideshow": {
     "slide_type": "skip"
    }
   },
   "source": [
    "In terms of Buyer"
   ]
  },
  {
   "cell_type": "code",
   "execution_count": 26,
   "metadata": {
    "slideshow": {
     "slide_type": "skip"
    }
   },
   "outputs": [],
   "source": [
    "bv_b = cnts.groupby(['code_b', 'buyer'])['supplier'].value_counts().rename('N').reset_index()\n",
    "bv_b_n = cnts.groupby('code_b').supplier.size().rename('NC').reset_index()\n",
    "bv_b = bv_b.groupby(\n",
    "    'code_b').N.apply(var_coeff).rename('buyer_dispersion').reset_index()\n",
    "bv_b = pd.merge(bv_b, bv_b_n, how='left')\n",
    "bv_b['buyer_dispersion'] = bv_b['buyer_dispersion'] / bv_b['NC']\n",
    "bv_b = bv_b.drop('NC', axis=1)"
   ]
  },
  {
   "cell_type": "code",
   "execution_count": 28,
   "metadata": {
    "slideshow": {
     "slide_type": "skip"
    }
   },
   "outputs": [],
   "source": [
    "cnts = pd.merge(cnts, bv_s,\n",
    "                how=\"left\", on=\"code_b\")"
   ]
  },
  {
   "cell_type": "code",
   "execution_count": 27,
   "metadata": {
    "slideshow": {
     "slide_type": "skip"
    }
   },
   "outputs": [],
   "source": [
    "cnts = pd.merge(cnts, bv_b,\n",
    "                how=\"left\", on=\"code_b\")"
   ]
  },
  {
   "cell_type": "markdown",
   "metadata": {
    "slideshow": {
     "slide_type": "skip"
    }
   },
   "source": [
    "# Supplier variation"
   ]
  },
  {
   "cell_type": "code",
   "execution_count": 30,
   "metadata": {
    "slideshow": {
     "slide_type": "skip"
    }
   },
   "outputs": [],
   "source": [
    "sv_s = cnts.groupby('code_s')['code_b'].value_counts().rename('N').reset_index()\n",
    "sv_s_n = cnts.groupby('code_s').code_b.size().rename('NC').reset_index()\n",
    "sv_s = sv_s[\n",
    "    sv_s.code_b != sv_s.code_s].groupby(\n",
    "    'code_s').N.apply(var_coeff).rename('state_dispersion_s').reset_index()\n",
    "sv_s = pd.merge(sv_s, sv_s_n, how='left')\n",
    "sv_s['state_dispersion_s'] = sv_s['state_dispersion_s'] / sv_s['NC']\n",
    "sv_s = sv_s.drop('NC', axis=1)"
   ]
  },
  {
   "cell_type": "code",
   "execution_count": 31,
   "metadata": {
    "slideshow": {
     "slide_type": "skip"
    }
   },
   "outputs": [],
   "source": [
    "sv_s = sv_s.set_index('code_s')"
   ]
  },
  {
   "cell_type": "code",
   "execution_count": 32,
   "metadata": {
    "slideshow": {
     "slide_type": "skip"
    }
   },
   "outputs": [],
   "source": [
    "cnts = pd.merge(cnts, sv_s,\n",
    "                how=\"left\", left_on=\"code_s\", right_index=True)"
   ]
  },
  {
   "cell_type": "code",
   "execution_count": 33,
   "metadata": {
    "slideshow": {
     "slide_type": "skip"
    }
   },
   "outputs": [],
   "source": [
    "sv_b = cnts.groupby(['code_s', 'supplier'])['buyer'].value_counts().rename('N').reset_index()\n",
    "sv_b_n = cnts.groupby('code_s').buyer.size().rename('NC').reset_index()\n",
    "sv_b = sv_b.groupby(\n",
    "    'code_s').N.apply(var_coeff).rename('supplier_dispersion').reset_index()\n",
    "sv_b = pd.merge(sv_b, sv_b_n, how='left')\n",
    "sv_b['supplier_dispersion'] = sv_b['supplier_dispersion'] / sv_b['NC']\n",
    "sv_b = sv_b.drop('NC', axis=1)"
   ]
  },
  {
   "cell_type": "code",
   "execution_count": 34,
   "metadata": {
    "slideshow": {
     "slide_type": "skip"
    }
   },
   "outputs": [],
   "source": [
    "sv_b = sv_b.set_index('code_s')"
   ]
  },
  {
   "cell_type": "code",
   "execution_count": 35,
   "metadata": {
    "slideshow": {
     "slide_type": "skip"
    }
   },
   "outputs": [],
   "source": [
    "cnts = pd.merge(cnts, sv_b,\n",
    "                how=\"left\", left_on=\"code_s\", right_index=True)"
   ]
  },
  {
   "cell_type": "markdown",
   "metadata": {
    "slideshow": {
     "slide_type": "slide"
    }
   },
   "source": [
    "## Put it all together in a linear model"
   ]
  },
  {
   "cell_type": "code",
   "execution_count": 36,
   "metadata": {
    "slideshow": {
     "slide_type": "skip"
    }
   },
   "outputs": [],
   "source": [
    "gb = pd.merge(ss, bv_s)\n",
    "gb = pd.merge(gb, bv_b)\n",
    "gb = pd.merge(gb, sv_s, left_on=\"code_b\", right_index=True)\n",
    "gb = pd.merge(gb, sv_b, left_on=\"code_b\", right_index=True)\n",
    "gb = pd.merge(gb, dp)\n",
    "gb = pd.merge(gb, fs)"
   ]
  },
  {
   "cell_type": "code",
   "execution_count": 37,
   "metadata": {
    "slideshow": {
     "slide_type": "slide"
    }
   },
   "outputs": [],
   "source": [
    "# When we consider all together we have 11 co-variates.\n",
    "\n",
    "covariates = ['same_state',\n",
    "              'person',\n",
    "              'single_bid',\n",
    "              'state_dispersion_b',\n",
    "              'buyer_dispersion',\n",
    "              'state_dispersion_s',\n",
    "              'supplier_dispersion',\n",
    "              'daily_price',\n",
    "              'amount',\n",
    "              'file_size',\n",
    "              'atom']"
   ]
  },
  {
   "cell_type": "code",
   "execution_count": 38,
   "metadata": {
    "slideshow": {
     "slide_type": "slide"
    }
   },
   "outputs": [],
   "source": [
    "# We fit it in a linear model\n",
    "\n",
    "X = gb[covariates].values\n",
    "\n",
    "y = gb['very_high_r'].values\n",
    "\n",
    "ols = linear_model.LinearRegression()\n",
    "ols.fit(X, y)"
   ]
  },
  {
   "cell_type": "code",
   "execution_count": 41,
   "metadata": {
    "slideshow": {
     "slide_type": "skip"
    }
   },
   "outputs": [],
   "source": [
    "cnts['CRI'] = np.inner(cnts[covariates].values, ols.coef_)"
   ]
  },
  {
   "cell_type": "code",
   "execution_count": 42,
   "metadata": {
    "slideshow": {
     "slide_type": "skip"
    }
   },
   "outputs": [],
   "source": [
    "cri = cnts.groupby('code_b', as_index=False).CRI.mean()"
   ]
  },
  {
   "cell_type": "code",
   "execution_count": 43,
   "metadata": {
    "slideshow": {
     "slide_type": "skip"
    }
   },
   "outputs": [],
   "source": [
    "gb['CRI'] = np.inner(X, ols.coef_)"
   ]
  },
  {
   "cell_type": "code",
   "execution_count": 44,
   "metadata": {
    "slideshow": {
     "slide_type": "skip"
    }
   },
   "outputs": [],
   "source": [
    "gb = gb.drop('CRI', axis=1)"
   ]
  },
  {
   "cell_type": "code",
   "execution_count": 45,
   "metadata": {
    "slideshow": {
     "slide_type": "skip"
    }
   },
   "outputs": [],
   "source": [
    "gb = pd.merge(gb, cri, how='left')"
   ]
  },
  {
   "cell_type": "code",
   "execution_count": 53,
   "metadata": {
    "slideshow": {
     "slide_type": "slide"
    }
   },
   "outputs": [
    {
     "data": {
      "text/html": [
       "<div>\n",
       "<style scoped>\n",
       "    .dataframe tbody tr th:only-of-type {\n",
       "        vertical-align: middle;\n",
       "    }\n",
       "\n",
       "    .dataframe tbody tr th {\n",
       "        vertical-align: top;\n",
       "    }\n",
       "\n",
       "    .dataframe thead th {\n",
       "        text-align: right;\n",
       "    }\n",
       "</style>\n",
       "<table border=\"1\" class=\"dataframe\">\n",
       "  <thead>\n",
       "    <tr style=\"text-align: right;\">\n",
       "      <th></th>\n",
       "      <th>same_state</th>\n",
       "      <th>person</th>\n",
       "      <th>single_bid</th>\n",
       "      <th>population_2015</th>\n",
       "      <th>GVA_2015</th>\n",
       "      <th>very_high_r</th>\n",
       "      <th>c_very_high_r</th>\n",
       "      <th>e_exp_r</th>\n",
       "      <th>gva_pc</th>\n",
       "      <th>state_dispersion_b</th>\n",
       "      <th>buyer_dispersion</th>\n",
       "      <th>state_dispersion_s</th>\n",
       "      <th>supplier_dispersion</th>\n",
       "      <th>daily_price</th>\n",
       "      <th>amount</th>\n",
       "      <th>file_size</th>\n",
       "      <th>atom</th>\n",
       "      <th>CRI</th>\n",
       "    </tr>\n",
       "  </thead>\n",
       "  <tbody>\n",
       "    <tr>\n",
       "      <th>same_state</th>\n",
       "      <td>1.000000</td>\n",
       "      <td>0.176470</td>\n",
       "      <td>-0.065665</td>\n",
       "      <td>0.106024</td>\n",
       "      <td>0.239829</td>\n",
       "      <td>0.170025</td>\n",
       "      <td>0.384577</td>\n",
       "      <td>-0.015693</td>\n",
       "      <td>0.120426</td>\n",
       "      <td>-0.235326</td>\n",
       "      <td>-0.206296</td>\n",
       "      <td>-0.287254</td>\n",
       "      <td>-0.156648</td>\n",
       "      <td>0.015163</td>\n",
       "      <td>0.224117</td>\n",
       "      <td>-0.083757</td>\n",
       "      <td>-0.241511</td>\n",
       "      <td>0.230206</td>\n",
       "    </tr>\n",
       "    <tr>\n",
       "      <th>person</th>\n",
       "      <td>0.176470</td>\n",
       "      <td>1.000000</td>\n",
       "      <td>0.013519</td>\n",
       "      <td>-0.224411</td>\n",
       "      <td>-0.242013</td>\n",
       "      <td>0.097839</td>\n",
       "      <td>0.075544</td>\n",
       "      <td>-0.061474</td>\n",
       "      <td>0.103525</td>\n",
       "      <td>0.059900</td>\n",
       "      <td>-0.042611</td>\n",
       "      <td>0.253376</td>\n",
       "      <td>0.018218</td>\n",
       "      <td>-0.028788</td>\n",
       "      <td>0.018803</td>\n",
       "      <td>-0.198357</td>\n",
       "      <td>-0.366312</td>\n",
       "      <td>0.041540</td>\n",
       "    </tr>\n",
       "    <tr>\n",
       "      <th>single_bid</th>\n",
       "      <td>-0.065665</td>\n",
       "      <td>0.013519</td>\n",
       "      <td>1.000000</td>\n",
       "      <td>0.226719</td>\n",
       "      <td>0.381234</td>\n",
       "      <td>0.215714</td>\n",
       "      <td>0.153776</td>\n",
       "      <td>0.026507</td>\n",
       "      <td>0.097681</td>\n",
       "      <td>-0.448727</td>\n",
       "      <td>-0.546461</td>\n",
       "      <td>-0.461199</td>\n",
       "      <td>-0.364130</td>\n",
       "      <td>-0.119524</td>\n",
       "      <td>-0.178994</td>\n",
       "      <td>0.382883</td>\n",
       "      <td>-0.126903</td>\n",
       "      <td>0.410805</td>\n",
       "    </tr>\n",
       "    <tr>\n",
       "      <th>population_2015</th>\n",
       "      <td>0.106024</td>\n",
       "      <td>-0.224411</td>\n",
       "      <td>0.226719</td>\n",
       "      <td>1.000000</td>\n",
       "      <td>0.721490</td>\n",
       "      <td>0.562849</td>\n",
       "      <td>0.579673</td>\n",
       "      <td>0.188956</td>\n",
       "      <td>-0.152330</td>\n",
       "      <td>-0.456716</td>\n",
       "      <td>-0.576112</td>\n",
       "      <td>-0.595585</td>\n",
       "      <td>-0.425682</td>\n",
       "      <td>0.068436</td>\n",
       "      <td>0.227208</td>\n",
       "      <td>0.018950</td>\n",
       "      <td>0.039445</td>\n",
       "      <td>0.586052</td>\n",
       "    </tr>\n",
       "    <tr>\n",
       "      <th>GVA_2015</th>\n",
       "      <td>0.239829</td>\n",
       "      <td>-0.242013</td>\n",
       "      <td>0.381234</td>\n",
       "      <td>0.721490</td>\n",
       "      <td>1.000000</td>\n",
       "      <td>0.468199</td>\n",
       "      <td>0.530491</td>\n",
       "      <td>0.385667</td>\n",
       "      <td>0.302177</td>\n",
       "      <td>-0.435684</td>\n",
       "      <td>-0.470130</td>\n",
       "      <td>-0.554314</td>\n",
       "      <td>-0.385384</td>\n",
       "      <td>0.042385</td>\n",
       "      <td>0.390395</td>\n",
       "      <td>0.141430</td>\n",
       "      <td>0.016289</td>\n",
       "      <td>0.670075</td>\n",
       "    </tr>\n",
       "    <tr>\n",
       "      <th>very_high_r</th>\n",
       "      <td>0.170025</td>\n",
       "      <td>0.097839</td>\n",
       "      <td>0.215714</td>\n",
       "      <td>0.562849</td>\n",
       "      <td>0.468199</td>\n",
       "      <td>1.000000</td>\n",
       "      <td>0.717764</td>\n",
       "      <td>0.399568</td>\n",
       "      <td>-0.210435</td>\n",
       "      <td>-0.494355</td>\n",
       "      <td>-0.477223</td>\n",
       "      <td>-0.333132</td>\n",
       "      <td>-0.340483</td>\n",
       "      <td>0.060350</td>\n",
       "      <td>0.287391</td>\n",
       "      <td>0.150083</td>\n",
       "      <td>0.134685</td>\n",
       "      <td>0.702942</td>\n",
       "    </tr>\n",
       "    <tr>\n",
       "      <th>c_very_high_r</th>\n",
       "      <td>0.384577</td>\n",
       "      <td>0.075544</td>\n",
       "      <td>0.153776</td>\n",
       "      <td>0.579673</td>\n",
       "      <td>0.530491</td>\n",
       "      <td>0.717764</td>\n",
       "      <td>1.000000</td>\n",
       "      <td>0.362634</td>\n",
       "      <td>-0.102104</td>\n",
       "      <td>-0.309215</td>\n",
       "      <td>-0.358898</td>\n",
       "      <td>-0.383874</td>\n",
       "      <td>-0.375236</td>\n",
       "      <td>0.035294</td>\n",
       "      <td>0.279206</td>\n",
       "      <td>0.286276</td>\n",
       "      <td>0.069454</td>\n",
       "      <td>0.634788</td>\n",
       "    </tr>\n",
       "    <tr>\n",
       "      <th>e_exp_r</th>\n",
       "      <td>-0.015693</td>\n",
       "      <td>-0.061474</td>\n",
       "      <td>0.026507</td>\n",
       "      <td>0.188956</td>\n",
       "      <td>0.385667</td>\n",
       "      <td>0.399568</td>\n",
       "      <td>0.362634</td>\n",
       "      <td>1.000000</td>\n",
       "      <td>0.084482</td>\n",
       "      <td>-0.152440</td>\n",
       "      <td>-0.077504</td>\n",
       "      <td>-0.198872</td>\n",
       "      <td>-0.249212</td>\n",
       "      <td>-0.112000</td>\n",
       "      <td>0.350613</td>\n",
       "      <td>0.202358</td>\n",
       "      <td>0.185649</td>\n",
       "      <td>0.495500</td>\n",
       "    </tr>\n",
       "    <tr>\n",
       "      <th>gva_pc</th>\n",
       "      <td>0.120426</td>\n",
       "      <td>0.103525</td>\n",
       "      <td>0.097681</td>\n",
       "      <td>-0.152330</td>\n",
       "      <td>0.302177</td>\n",
       "      <td>-0.210435</td>\n",
       "      <td>-0.102104</td>\n",
       "      <td>0.084482</td>\n",
       "      <td>1.000000</td>\n",
       "      <td>-0.038497</td>\n",
       "      <td>0.137469</td>\n",
       "      <td>0.000643</td>\n",
       "      <td>0.022540</td>\n",
       "      <td>-0.092167</td>\n",
       "      <td>0.221580</td>\n",
       "      <td>0.073122</td>\n",
       "      <td>-0.141323</td>\n",
       "      <td>-0.030750</td>\n",
       "    </tr>\n",
       "    <tr>\n",
       "      <th>state_dispersion_b</th>\n",
       "      <td>-0.235326</td>\n",
       "      <td>0.059900</td>\n",
       "      <td>-0.448727</td>\n",
       "      <td>-0.456716</td>\n",
       "      <td>-0.435684</td>\n",
       "      <td>-0.494355</td>\n",
       "      <td>-0.309215</td>\n",
       "      <td>-0.152440</td>\n",
       "      <td>-0.038497</td>\n",
       "      <td>1.000000</td>\n",
       "      <td>0.849901</td>\n",
       "      <td>0.803238</td>\n",
       "      <td>0.598262</td>\n",
       "      <td>0.159779</td>\n",
       "      <td>0.020761</td>\n",
       "      <td>-0.200691</td>\n",
       "      <td>-0.071655</td>\n",
       "      <td>-0.729686</td>\n",
       "    </tr>\n",
       "    <tr>\n",
       "      <th>buyer_dispersion</th>\n",
       "      <td>-0.206296</td>\n",
       "      <td>-0.042611</td>\n",
       "      <td>-0.546461</td>\n",
       "      <td>-0.576112</td>\n",
       "      <td>-0.470130</td>\n",
       "      <td>-0.477223</td>\n",
       "      <td>-0.358898</td>\n",
       "      <td>-0.077504</td>\n",
       "      <td>0.137469</td>\n",
       "      <td>0.849901</td>\n",
       "      <td>1.000000</td>\n",
       "      <td>0.830280</td>\n",
       "      <td>0.621373</td>\n",
       "      <td>0.169957</td>\n",
       "      <td>-0.025443</td>\n",
       "      <td>-0.077340</td>\n",
       "      <td>0.277116</td>\n",
       "      <td>-0.712305</td>\n",
       "    </tr>\n",
       "    <tr>\n",
       "      <th>state_dispersion_s</th>\n",
       "      <td>-0.287254</td>\n",
       "      <td>0.253376</td>\n",
       "      <td>-0.461199</td>\n",
       "      <td>-0.595585</td>\n",
       "      <td>-0.554314</td>\n",
       "      <td>-0.333132</td>\n",
       "      <td>-0.383874</td>\n",
       "      <td>-0.198872</td>\n",
       "      <td>0.000643</td>\n",
       "      <td>0.803238</td>\n",
       "      <td>0.830280</td>\n",
       "      <td>1.000000</td>\n",
       "      <td>0.646718</td>\n",
       "      <td>0.241291</td>\n",
       "      <td>-0.013094</td>\n",
       "      <td>-0.183021</td>\n",
       "      <td>0.082759</td>\n",
       "      <td>-0.659339</td>\n",
       "    </tr>\n",
       "    <tr>\n",
       "      <th>supplier_dispersion</th>\n",
       "      <td>-0.156648</td>\n",
       "      <td>0.018218</td>\n",
       "      <td>-0.364130</td>\n",
       "      <td>-0.425682</td>\n",
       "      <td>-0.385384</td>\n",
       "      <td>-0.340483</td>\n",
       "      <td>-0.375236</td>\n",
       "      <td>-0.249212</td>\n",
       "      <td>0.022540</td>\n",
       "      <td>0.598262</td>\n",
       "      <td>0.621373</td>\n",
       "      <td>0.646718</td>\n",
       "      <td>1.000000</td>\n",
       "      <td>0.222569</td>\n",
       "      <td>0.217355</td>\n",
       "      <td>-0.097235</td>\n",
       "      <td>0.181021</td>\n",
       "      <td>-0.522456</td>\n",
       "    </tr>\n",
       "    <tr>\n",
       "      <th>daily_price</th>\n",
       "      <td>0.015163</td>\n",
       "      <td>-0.028788</td>\n",
       "      <td>-0.119524</td>\n",
       "      <td>0.068436</td>\n",
       "      <td>0.042385</td>\n",
       "      <td>0.060350</td>\n",
       "      <td>0.035294</td>\n",
       "      <td>-0.112000</td>\n",
       "      <td>-0.092167</td>\n",
       "      <td>0.159779</td>\n",
       "      <td>0.169957</td>\n",
       "      <td>0.241291</td>\n",
       "      <td>0.222569</td>\n",
       "      <td>1.000000</td>\n",
       "      <td>0.499334</td>\n",
       "      <td>-0.070399</td>\n",
       "      <td>0.036864</td>\n",
       "      <td>-0.067919</td>\n",
       "    </tr>\n",
       "    <tr>\n",
       "      <th>amount</th>\n",
       "      <td>0.224117</td>\n",
       "      <td>0.018803</td>\n",
       "      <td>-0.178994</td>\n",
       "      <td>0.227208</td>\n",
       "      <td>0.390395</td>\n",
       "      <td>0.287391</td>\n",
       "      <td>0.279206</td>\n",
       "      <td>0.350613</td>\n",
       "      <td>0.221580</td>\n",
       "      <td>0.020761</td>\n",
       "      <td>-0.025443</td>\n",
       "      <td>-0.013094</td>\n",
       "      <td>0.217355</td>\n",
       "      <td>0.499334</td>\n",
       "      <td>1.000000</td>\n",
       "      <td>-0.201148</td>\n",
       "      <td>-0.234370</td>\n",
       "      <td>0.250437</td>\n",
       "    </tr>\n",
       "    <tr>\n",
       "      <th>file_size</th>\n",
       "      <td>-0.083757</td>\n",
       "      <td>-0.198357</td>\n",
       "      <td>0.382883</td>\n",
       "      <td>0.018950</td>\n",
       "      <td>0.141430</td>\n",
       "      <td>0.150083</td>\n",
       "      <td>0.286276</td>\n",
       "      <td>0.202358</td>\n",
       "      <td>0.073122</td>\n",
       "      <td>-0.200691</td>\n",
       "      <td>-0.077340</td>\n",
       "      <td>-0.183021</td>\n",
       "      <td>-0.097235</td>\n",
       "      <td>-0.070399</td>\n",
       "      <td>-0.201148</td>\n",
       "      <td>1.000000</td>\n",
       "      <td>0.308571</td>\n",
       "      <td>0.340811</td>\n",
       "    </tr>\n",
       "    <tr>\n",
       "      <th>atom</th>\n",
       "      <td>-0.241511</td>\n",
       "      <td>-0.366312</td>\n",
       "      <td>-0.126903</td>\n",
       "      <td>0.039445</td>\n",
       "      <td>0.016289</td>\n",
       "      <td>0.134685</td>\n",
       "      <td>0.069454</td>\n",
       "      <td>0.185649</td>\n",
       "      <td>-0.141323</td>\n",
       "      <td>-0.071655</td>\n",
       "      <td>0.277116</td>\n",
       "      <td>0.082759</td>\n",
       "      <td>0.181021</td>\n",
       "      <td>0.036864</td>\n",
       "      <td>-0.234370</td>\n",
       "      <td>0.308571</td>\n",
       "      <td>1.000000</td>\n",
       "      <td>0.171519</td>\n",
       "    </tr>\n",
       "    <tr>\n",
       "      <th>CRI</th>\n",
       "      <td>0.230206</td>\n",
       "      <td>0.041540</td>\n",
       "      <td>0.410805</td>\n",
       "      <td>0.586052</td>\n",
       "      <td>0.670075</td>\n",
       "      <td>0.702942</td>\n",
       "      <td>0.634788</td>\n",
       "      <td>0.495500</td>\n",
       "      <td>-0.030750</td>\n",
       "      <td>-0.729686</td>\n",
       "      <td>-0.712305</td>\n",
       "      <td>-0.659339</td>\n",
       "      <td>-0.522456</td>\n",
       "      <td>-0.067919</td>\n",
       "      <td>0.250437</td>\n",
       "      <td>0.340811</td>\n",
       "      <td>0.171519</td>\n",
       "      <td>1.000000</td>\n",
       "    </tr>\n",
       "  </tbody>\n",
       "</table>\n",
       "</div>"
      ],
      "text/plain": [
       "                     same_state    person  single_bid  population_2015  \\\n",
       "same_state             1.000000  0.176470   -0.065665         0.106024   \n",
       "person                 0.176470  1.000000    0.013519        -0.224411   \n",
       "single_bid            -0.065665  0.013519    1.000000         0.226719   \n",
       "population_2015        0.106024 -0.224411    0.226719         1.000000   \n",
       "GVA_2015               0.239829 -0.242013    0.381234         0.721490   \n",
       "very_high_r            0.170025  0.097839    0.215714         0.562849   \n",
       "c_very_high_r          0.384577  0.075544    0.153776         0.579673   \n",
       "e_exp_r               -0.015693 -0.061474    0.026507         0.188956   \n",
       "gva_pc                 0.120426  0.103525    0.097681        -0.152330   \n",
       "state_dispersion_b    -0.235326  0.059900   -0.448727        -0.456716   \n",
       "buyer_dispersion      -0.206296 -0.042611   -0.546461        -0.576112   \n",
       "state_dispersion_s    -0.287254  0.253376   -0.461199        -0.595585   \n",
       "supplier_dispersion   -0.156648  0.018218   -0.364130        -0.425682   \n",
       "daily_price            0.015163 -0.028788   -0.119524         0.068436   \n",
       "amount                 0.224117  0.018803   -0.178994         0.227208   \n",
       "file_size             -0.083757 -0.198357    0.382883         0.018950   \n",
       "atom                  -0.241511 -0.366312   -0.126903         0.039445   \n",
       "CRI                    0.230206  0.041540    0.410805         0.586052   \n",
       "\n",
       "                     GVA_2015  very_high_r  c_very_high_r   e_exp_r    gva_pc  \\\n",
       "same_state           0.239829     0.170025       0.384577 -0.015693  0.120426   \n",
       "person              -0.242013     0.097839       0.075544 -0.061474  0.103525   \n",
       "single_bid           0.381234     0.215714       0.153776  0.026507  0.097681   \n",
       "population_2015      0.721490     0.562849       0.579673  0.188956 -0.152330   \n",
       "GVA_2015             1.000000     0.468199       0.530491  0.385667  0.302177   \n",
       "very_high_r          0.468199     1.000000       0.717764  0.399568 -0.210435   \n",
       "c_very_high_r        0.530491     0.717764       1.000000  0.362634 -0.102104   \n",
       "e_exp_r              0.385667     0.399568       0.362634  1.000000  0.084482   \n",
       "gva_pc               0.302177    -0.210435      -0.102104  0.084482  1.000000   \n",
       "state_dispersion_b  -0.435684    -0.494355      -0.309215 -0.152440 -0.038497   \n",
       "buyer_dispersion    -0.470130    -0.477223      -0.358898 -0.077504  0.137469   \n",
       "state_dispersion_s  -0.554314    -0.333132      -0.383874 -0.198872  0.000643   \n",
       "supplier_dispersion -0.385384    -0.340483      -0.375236 -0.249212  0.022540   \n",
       "daily_price          0.042385     0.060350       0.035294 -0.112000 -0.092167   \n",
       "amount               0.390395     0.287391       0.279206  0.350613  0.221580   \n",
       "file_size            0.141430     0.150083       0.286276  0.202358  0.073122   \n",
       "atom                 0.016289     0.134685       0.069454  0.185649 -0.141323   \n",
       "CRI                  0.670075     0.702942       0.634788  0.495500 -0.030750   \n",
       "\n",
       "                     state_dispersion_b  buyer_dispersion  state_dispersion_s  \\\n",
       "same_state                    -0.235326         -0.206296           -0.287254   \n",
       "person                         0.059900         -0.042611            0.253376   \n",
       "single_bid                    -0.448727         -0.546461           -0.461199   \n",
       "population_2015               -0.456716         -0.576112           -0.595585   \n",
       "GVA_2015                      -0.435684         -0.470130           -0.554314   \n",
       "very_high_r                   -0.494355         -0.477223           -0.333132   \n",
       "c_very_high_r                 -0.309215         -0.358898           -0.383874   \n",
       "e_exp_r                       -0.152440         -0.077504           -0.198872   \n",
       "gva_pc                        -0.038497          0.137469            0.000643   \n",
       "state_dispersion_b             1.000000          0.849901            0.803238   \n",
       "buyer_dispersion               0.849901          1.000000            0.830280   \n",
       "state_dispersion_s             0.803238          0.830280            1.000000   \n",
       "supplier_dispersion            0.598262          0.621373            0.646718   \n",
       "daily_price                    0.159779          0.169957            0.241291   \n",
       "amount                         0.020761         -0.025443           -0.013094   \n",
       "file_size                     -0.200691         -0.077340           -0.183021   \n",
       "atom                          -0.071655          0.277116            0.082759   \n",
       "CRI                           -0.729686         -0.712305           -0.659339   \n",
       "\n",
       "                     supplier_dispersion  daily_price    amount  file_size  \\\n",
       "same_state                     -0.156648     0.015163  0.224117  -0.083757   \n",
       "person                          0.018218    -0.028788  0.018803  -0.198357   \n",
       "single_bid                     -0.364130    -0.119524 -0.178994   0.382883   \n",
       "population_2015                -0.425682     0.068436  0.227208   0.018950   \n",
       "GVA_2015                       -0.385384     0.042385  0.390395   0.141430   \n",
       "very_high_r                    -0.340483     0.060350  0.287391   0.150083   \n",
       "c_very_high_r                  -0.375236     0.035294  0.279206   0.286276   \n",
       "e_exp_r                        -0.249212    -0.112000  0.350613   0.202358   \n",
       "gva_pc                          0.022540    -0.092167  0.221580   0.073122   \n",
       "state_dispersion_b              0.598262     0.159779  0.020761  -0.200691   \n",
       "buyer_dispersion                0.621373     0.169957 -0.025443  -0.077340   \n",
       "state_dispersion_s              0.646718     0.241291 -0.013094  -0.183021   \n",
       "supplier_dispersion             1.000000     0.222569  0.217355  -0.097235   \n",
       "daily_price                     0.222569     1.000000  0.499334  -0.070399   \n",
       "amount                          0.217355     0.499334  1.000000  -0.201148   \n",
       "file_size                      -0.097235    -0.070399 -0.201148   1.000000   \n",
       "atom                            0.181021     0.036864 -0.234370   0.308571   \n",
       "CRI                            -0.522456    -0.067919  0.250437   0.340811   \n",
       "\n",
       "                         atom       CRI  \n",
       "same_state          -0.241511  0.230206  \n",
       "person              -0.366312  0.041540  \n",
       "single_bid          -0.126903  0.410805  \n",
       "population_2015      0.039445  0.586052  \n",
       "GVA_2015             0.016289  0.670075  \n",
       "very_high_r          0.134685  0.702942  \n",
       "c_very_high_r        0.069454  0.634788  \n",
       "e_exp_r              0.185649  0.495500  \n",
       "gva_pc              -0.141323 -0.030750  \n",
       "state_dispersion_b  -0.071655 -0.729686  \n",
       "buyer_dispersion     0.277116 -0.712305  \n",
       "state_dispersion_s   0.082759 -0.659339  \n",
       "supplier_dispersion  0.181021 -0.522456  \n",
       "daily_price          0.036864 -0.067919  \n",
       "amount              -0.234370  0.250437  \n",
       "file_size            0.308571  0.340811  \n",
       "atom                 1.000000  0.171519  \n",
       "CRI                  0.171519  1.000000  "
      ]
     },
     "execution_count": 53,
     "metadata": {},
     "output_type": "execute_result"
    }
   ],
   "source": [
    "gb.corr()"
   ]
  },
  {
   "cell_type": "code",
   "execution_count": 46,
   "metadata": {
    "slideshow": {
     "slide_type": "slide"
    }
   },
   "outputs": [
    {
     "data": {
      "text/plain": [
       "<matplotlib.axes._subplots.AxesSubplot at 0x7f13d1fcd8d0>"
      ]
     },
     "execution_count": 46,
     "metadata": {},
     "output_type": "execute_result"
    },
    {
     "data": {
      "image/png": "[encoded data removed]",
      "text/plain": [
       "<Figure size 432x288 with 1 Axes>"
      ]
     },
     "metadata": {
      "needs_background": "light"
     },
     "output_type": "display_data"
    }
   ],
   "source": [
    "sns.regplot(x='CRI', y='very_high_r', data=gb)"
   ]
  },
  {
   "cell_type": "code",
   "execution_count": 47,
   "metadata": {
    "slideshow": {
     "slide_type": "skip"
    }
   },
   "outputs": [
    {
     "data": {
      "text/plain": [
       "<matplotlib.axes._subplots.AxesSubplot at 0x7f13d1983e10>"
      ]
     },
     "execution_count": 47,
     "metadata": {},
     "output_type": "execute_result"
    },
    {
     "data": {
      "image/png": "[encoded data removed]",
      "text/plain": [
       "<Figure size 432x288 with 1 Axes>"
      ]
     },
     "metadata": {
      "needs_background": "light"
     },
     "output_type": "display_data"
    }
   ],
   "source": [
    "sns.regplot(x=\"state_dispersion_b\", y=\"buyer_dispersion\", data=gb)"
   ]
  },
  {
   "cell_type": "code",
   "execution_count": 48,
   "metadata": {
    "slideshow": {
     "slide_type": "skip"
    }
   },
   "outputs": [
    {
     "data": {
      "text/plain": [
       "<matplotlib.axes._subplots.AxesSubplot at 0x7f13d4968da0>"
      ]
     },
     "execution_count": 48,
     "metadata": {},
     "output_type": "execute_result"
    },
    {
     "data": {
      "image/png": "[encoded data removed]",
      "text/plain": [
       "<Figure size 432x288 with 1 Axes>"
      ]
     },
     "metadata": {
      "needs_background": "light"
     },
     "output_type": "display_data"
    }
   ],
   "source": [
    "sns.regplot(x=\"state_dispersion_s\", y=\"supplier_dispersion\", data=gb)"
   ]
  },
  {
   "cell_type": "markdown",
   "metadata": {
    "slideshow": {
     "slide_type": "slide"
    }
   },
   "source": [
    "# Future work\n",
    "\n",
    "In no particular order:\n",
    "\n",
    "- Federal government changes ( $2012-2013, 2018-2019$ )\n",
    "- State party changes in government (Veracruz, Quintana-Roo)\n",
    "- Network differences by type of contract (e.g. Energy vs Education) "
   ]
  }
 ],
 "metadata": {
  "celltoolbar": "Slideshow",
  "kernelspec": {
   "display_name": "Python 3",
   "language": "python",
   "name": "python3"
  },
  "language_info": {
   "codemirror_mode": {
    "name": "ipython",
    "version": 3
   },
   "file_extension": ".py",
   "mimetype": "text/x-python",
   "name": "python",
   "nbconvert_exporter": "python",
   "pygments_lexer": "ipython3",
   "version": "3.6.9"
  }
 },
 "nbformat": 4,
 "nbformat_minor": 4
}
