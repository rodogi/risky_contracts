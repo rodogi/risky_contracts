{
 "cells": [
  {
   "cell_type": "markdown",
   "metadata": {},
   "source": [
    "# Contracts\n",
    "\n",
    "In this notebook, we are going to clean and fill data to obtain a final version of the contracts table.\n",
    "\n",
    "The goals are, for as many contracts as possible:\n",
    "\n",
    "1. Get the mexican state of the buyer and supplier.\n",
    "2. Characterize the buyer as a moral person (company) or a physical person."
   ]
  },
  {
   "cell_type": "code",
   "execution_count": 478,
   "metadata": {},
   "outputs": [],
   "source": [
    "import pandas as pd\n",
    "import numpy as np"
   ]
  },
  {
   "cell_type": "code",
   "execution_count": 479,
   "metadata": {},
   "outputs": [],
   "source": [
    "import pickle"
   ]
  },
  {
   "cell_type": "code",
   "execution_count": 480,
   "metadata": {},
   "outputs": [],
   "source": [
    "import re"
   ]
  },
  {
   "cell_type": "code",
   "execution_count": 481,
   "metadata": {},
   "outputs": [
    {
     "name": "stderr",
     "output_type": "stream",
     "text": [
      "/home/rdora/.local/lib/python3.6/site-packages/IPython/core/interactiveshell.py:3063: DtypeWarning: Columns (6,12) have mixed types.Specify dtype option on import or set low_memory=False.\n",
      "  interactivity=interactivity, compiler=compiler, result=result)\n"
     ]
    }
   ],
   "source": [
    "CONTRACTS = '/home/rdora/declaranet/data/tables/contratos.csv'\n",
    "contracts = pd.read_csv(CONTRACTS)"
   ]
  },
  {
   "cell_type": "code",
   "execution_count": 482,
   "metadata": {},
   "outputs": [
    {
     "name": "stdout",
     "output_type": "stream",
     "text": [
      "N rows: 1,801,208\n"
     ]
    }
   ],
   "source": [
    "print(f\"N rows: {contracts.shape[0]:,}\")"
   ]
  },
  {
   "cell_type": "code",
   "execution_count": 483,
   "metadata": {},
   "outputs": [
    {
     "data": {
      "text/plain": [
       "Index(['gobierno', 'siglas', 'dependencia', 'claveuc', 'nombre_de_la_uc',\n",
       "       'responsable', 'codigo_expediente', 'fecha_apertura_proposiciones',\n",
       "       'caracter', 'tipo_contratacion', 'tipo_procedimiento',\n",
       "       'forma_procedimiento', 'codigo_contrato', 'titulo_contrato',\n",
       "       'fecha_inicio', 'fecha_fin', 'importe_contrato', 'moneda',\n",
       "       'estatus_contrato', 'folio_rupc', 'proveedor_contratista',\n",
       "       'estratificacion_mpc', 'siglas_pais', 'anuncio'],\n",
       "      dtype='object')"
      ]
     },
     "execution_count": 483,
     "metadata": {},
     "output_type": "execute_result"
    }
   ],
   "source": [
    "contracts.columns"
   ]
  },
  {
   "cell_type": "markdown",
   "metadata": {},
   "source": [
    "## Clean `contracts`\n",
    "\n",
    "Some columns will not be needed for our analysis."
   ]
  },
  {
   "cell_type": "code",
   "execution_count": 484,
   "metadata": {},
   "outputs": [
    {
     "data": {
      "text/plain": [
       "gobierno                                                                      APF\n",
       "siglas                                                                        CFE\n",
       "dependencia                                      Comisión Federal de Electricidad\n",
       "claveuc                                                                 018TOQ093\n",
       "nombre_de_la_uc                             CFE-C.T. JOSE ACEVES POZOS #018TOQ093\n",
       "responsable                                       FRANCISCO JAVIER ZAZUETA RIVERA\n",
       "codigo_expediente                                                          117613\n",
       "fecha_apertura_proposiciones                                  2011-12-15 11:00:00\n",
       "caracter                                                            Internacional\n",
       "tipo_contratacion                                                   Adquisiciones\n",
       "tipo_procedimiento                           Invitación a Cuando Menos 3 Personas\n",
       "forma_procedimiento                                                         Mixta\n",
       "codigo_contrato                                                             73188\n",
       "titulo_contrato                            AMPERIMETRO, TRANSDUCTOR, INSTSALACION\n",
       "fecha_inicio                                                  2011-12-16 00:00:00\n",
       "fecha_fin                                                     2011-12-28 00:00:00\n",
       "importe_contrato                                                          19450.2\n",
       "moneda                                                                        USD\n",
       "estatus_contrato                                                         Expirado\n",
       "folio_rupc                                                                    NaN\n",
       "proveedor_contratista                                                  BUSKOPPLER\n",
       "estratificacion_mpc                                                       Pequeña\n",
       "siglas_pais                                                                    MX\n",
       "anuncio                         https://compranet.hacienda.gob.mx/esop/guest/g...\n",
       "Name: 0, dtype: object"
      ]
     },
     "execution_count": 484,
     "metadata": {},
     "output_type": "execute_result"
    }
   ],
   "source": [
    "contracts.iloc[0]"
   ]
  },
  {
   "cell_type": "code",
   "execution_count": 485,
   "metadata": {},
   "outputs": [],
   "source": [
    "cols2drop = ['anuncio',\n",
    "             'estratificacion_mpc',\n",
    "             'estatus_contrato',\n",
    "             'titulo_contrato',\n",
    "             'forma_procedimiento',\n",
    "             'caracter',\n",
    "             'responsable']\n",
    "contracts = contracts.drop(cols2drop, axis=1)"
   ]
  },
  {
   "cell_type": "markdown",
   "metadata": {},
   "source": [
    "# UC: public entities"
   ]
  },
  {
   "cell_type": "code",
   "execution_count": 486,
   "metadata": {},
   "outputs": [],
   "source": [
    "uc = pd.read_excel('/home/rdora/declaranet/data/tables/UC_200529064722.xlsx')"
   ]
  },
  {
   "cell_type": "code",
   "execution_count": 487,
   "metadata": {},
   "outputs": [
    {
     "data": {
      "text/plain": [
       "(5558, 13)"
      ]
     },
     "execution_count": 487,
     "metadata": {},
     "output_type": "execute_result"
    }
   ],
   "source": [
    "uc.shape"
   ]
  },
  {
   "cell_type": "markdown",
   "metadata": {},
   "source": [
    "## Manual curated dictionary of UC (public entities)\n",
    "\n",
    "The entity was obtained by manually looking up the code after the hash on the DOF (diarío oficial de la federación)."
   ]
  },
  {
   "cell_type": "code",
   "execution_count": 488,
   "metadata": {},
   "outputs": [],
   "source": [
    "with open('/home/rdora/declaranet/data/pickle/manual_uc.p', 'rb') as f:\n",
    "    state_dict = pickle.load(f)"
   ]
  },
  {
   "cell_type": "markdown",
   "metadata": {},
   "source": [
    "## Two different ways to match UC\n",
    "\n",
    "We'll try both\n",
    "\n",
    "1. name (`nombre_de_la_uc`)\n",
    "2. code (`claveuc`)"
   ]
  },
  {
   "cell_type": "markdown",
   "metadata": {},
   "source": [
    "1. By code "
   ]
  },
  {
   "cell_type": "code",
   "execution_count": 489,
   "metadata": {},
   "outputs": [],
   "source": [
    "ren = {'Ramo': 'ramo',\n",
    "       'Clave de la UC': 'claveuc',\n",
    "       'Entidad Federativa': 'b_entidad_federativa'}\n",
    "uc_code = uc.rename(columns=ren)[['ramo', 'claveuc', 'b_entidad_federativa']]"
   ]
  },
  {
   "cell_type": "code",
   "execution_count": 490,
   "metadata": {},
   "outputs": [],
   "source": [
    "cnts = pd.merge(contracts, uc_code, how='left', on='claveuc')"
   ]
  },
  {
   "cell_type": "code",
   "execution_count": 491,
   "metadata": {},
   "outputs": [
    {
     "data": {
      "text/plain": [
       "0.7932620774502445"
      ]
     },
     "execution_count": 491,
     "metadata": {},
     "output_type": "execute_result"
    }
   ],
   "source": [
    "(cnts.shape[0] - cnts.b_entidad_federativa.isna().sum()) / cnts.shape[0]"
   ]
  },
  {
   "cell_type": "markdown",
   "metadata": {},
   "source": [
    "2. By name"
   ]
  },
  {
   "cell_type": "code",
   "execution_count": 492,
   "metadata": {},
   "outputs": [],
   "source": [
    "ren = {'Ramo': 'n_ramo',\n",
    "       'Nombre de la UC': 'nombre_de_la_uc',\n",
    "       'Entidad Federativa': 'n_entidad_federativa'}\n",
    "uc_name = uc.rename(columns=ren)[['n_ramo', 'nombre_de_la_uc', 'n_entidad_federativa']]\n",
    "cnts = pd.merge(cnts, uc_name, how='left', on='nombre_de_la_uc')"
   ]
  },
  {
   "cell_type": "code",
   "execution_count": 493,
   "metadata": {},
   "outputs": [
    {
     "data": {
      "text/plain": [
       "0.7016607743247865"
      ]
     },
     "execution_count": 493,
     "metadata": {},
     "output_type": "execute_result"
    }
   ],
   "source": [
    "(cnts.shape[0] - cnts.n_entidad_federativa.isna().sum()) / cnts.shape[0]"
   ]
  },
  {
   "cell_type": "markdown",
   "metadata": {},
   "source": [
    "3. By both"
   ]
  },
  {
   "cell_type": "code",
   "execution_count": 494,
   "metadata": {},
   "outputs": [],
   "source": [
    "# Merge both info about `ramo`\n",
    "cnts.loc[(cnts.n_ramo.notna()) & (cnts.ramo.isna()), 'ramo'] = (\n",
    "    cnts.loc[(cnts.n_ramo.notna()) & (cnts.ramo.isna()), 'n_ramo'])"
   ]
  },
  {
   "cell_type": "code",
   "execution_count": 495,
   "metadata": {},
   "outputs": [],
   "source": [
    "# Merge both info about `entidad_federativa`\n",
    "cnts.loc[(cnts.n_entidad_federativa.notna()) & (cnts.b_entidad_federativa.isna()), 'b_entidad_federativa'] = (\n",
    "    cnts.loc[(cnts.n_entidad_federativa.notna()) & (cnts.b_entidad_federativa.isna()), 'n_entidad_federativa'])"
   ]
  },
  {
   "cell_type": "code",
   "execution_count": 496,
   "metadata": {},
   "outputs": [
    {
     "name": "stdout",
     "output_type": "stream",
     "text": [
      "Ramo:  0.8516084760893801\n"
     ]
    }
   ],
   "source": [
    "print(\"Ramo: \", (cnts.shape[0] - cnts.ramo.isna().sum()) / cnts.shape[0])"
   ]
  },
  {
   "cell_type": "code",
   "execution_count": 497,
   "metadata": {},
   "outputs": [
    {
     "name": "stdout",
     "output_type": "stream",
     "text": [
      "Entidad federativa:  0.8516084760893801\n"
     ]
    }
   ],
   "source": [
    "print(\"Entidad federativa: \", (cnts.shape[0] - cnts.b_entidad_federativa.isna().sum()) / cnts.shape[0])"
   ]
  },
  {
   "cell_type": "markdown",
   "metadata": {},
   "source": [
    "Conclusion: Some 15% of the contracts can't be assigned a `ramo` or a `entidad_federativa`"
   ]
  },
  {
   "cell_type": "code",
   "execution_count": 498,
   "metadata": {},
   "outputs": [],
   "source": [
    "cnts = cnts.drop(['n_entidad_federativa', 'n_ramo'], axis=1)"
   ]
  },
  {
   "cell_type": "markdown",
   "metadata": {},
   "source": [
    "## Parsing the name of the UC\n",
    "\n",
    "Another method is to parse the name of the UC to look for a state name. For example if the word 'yucatan' can be found in the name of the UC chances are it belongs to the state of Yucatan.\n",
    "\n",
    "We don't need to worry about nan values in the name of the UC."
   ]
  },
  {
   "cell_type": "code",
   "execution_count": 499,
   "metadata": {},
   "outputs": [],
   "source": [
    "def get_state(name, target_dict):\n",
    "    if name in target_dict:\n",
    "        return target_dict[name]\n",
    "    else:\n",
    "        return None"
   ]
  },
  {
   "cell_type": "code",
   "execution_count": 500,
   "metadata": {},
   "outputs": [],
   "source": [
    "federal_entities = cnts.loc[cnts\n",
    "                        .b_entidad_federativa\n",
    "                        .str\n",
    "                        .contains('MX-')\n",
    "                        .fillna(False), 'b_entidad_federativa'].unique()"
   ]
  },
  {
   "cell_type": "code",
   "execution_count": 501,
   "metadata": {},
   "outputs": [],
   "source": [
    "with open('/home/rdora/declaranet/data/pickle/entidades_federativas.p', 'rb') as f:\n",
    "    state2code = pickle.load(f)"
   ]
  },
  {
   "cell_type": "code",
   "execution_count": 502,
   "metadata": {},
   "outputs": [],
   "source": [
    "state_names = state2code.keys()"
   ]
  },
  {
   "cell_type": "code",
   "execution_count": 503,
   "metadata": {},
   "outputs": [
    {
     "name": "stdout",
     "output_type": "stream",
     "text": [
      "Number of missing names before parsing: 384\n"
     ]
    }
   ],
   "source": [
    "missing_names = cnts.loc[cnts.b_entidad_federativa.isna(), 'nombre_de_la_uc'].unique()\n",
    "\n",
    "print(\"Number of missing names before parsing:\", len(missing_names))"
   ]
  },
  {
   "cell_type": "markdown",
   "metadata": {},
   "source": [
    "Now let's parse for state names!"
   ]
  },
  {
   "cell_type": "code",
   "execution_count": 504,
   "metadata": {},
   "outputs": [],
   "source": [
    "ucname2state = {}\n",
    "for mname in missing_names:\n",
    "    for state in state_names:\n",
    "        re_search = re.search(state, mname, flags=re.I)\n",
    "        if re_search:\n",
    "            ucname2state[mname] = state2code[re_search.group().lower()]"
   ]
  },
  {
   "cell_type": "code",
   "execution_count": 505,
   "metadata": {},
   "outputs": [
    {
     "name": "stdout",
     "output_type": "stream",
     "text": [
      "Number of found missing names: 132\n"
     ]
    }
   ],
   "source": [
    "print(\"Number of found missing names:\", len(ucname2state))"
   ]
  },
  {
   "cell_type": "code",
   "execution_count": 506,
   "metadata": {},
   "outputs": [],
   "source": [
    "cnts.loc[cnts.b_entidad_federativa.isna(), 'b_entidad_federativa'] = (\n",
    "    cnts.loc[\n",
    "        cnts.b_entidad_federativa.isna(),\n",
    "        'nombre_de_la_uc'].apply(get_state, args=(ucname2state,)))"
   ]
  },
  {
   "cell_type": "code",
   "execution_count": 507,
   "metadata": {},
   "outputs": [
    {
     "name": "stdout",
     "output_type": "stream",
     "text": [
      "Number of missing names After parsing: 252\n"
     ]
    }
   ],
   "source": [
    "missing_names = cnts.loc[cnts.b_entidad_federativa.isna(), 'nombre_de_la_uc'].unique()\n",
    "\n",
    "print(\"Number of missing names After parsing:\", len(missing_names))"
   ]
  },
  {
   "cell_type": "markdown",
   "metadata": {},
   "source": [
    "Now let's apply the same procedure but with the manually curated name of UC to state codes."
   ]
  },
  {
   "cell_type": "code",
   "execution_count": 508,
   "metadata": {},
   "outputs": [],
   "source": [
    "cnts.loc[cnts.b_entidad_federativa.isna(), 'b_entidad_federativa'] = (\n",
    "    cnts.loc[\n",
    "        cnts.b_entidad_federativa.isna(),\n",
    "        'nombre_de_la_uc'].apply(get_state, args=(state_dict,)))"
   ]
  },
  {
   "cell_type": "code",
   "execution_count": 509,
   "metadata": {},
   "outputs": [
    {
     "name": "stdout",
     "output_type": "stream",
     "text": [
      "Number of missing names After parsing: 124\n"
     ]
    }
   ],
   "source": [
    "missing_names = cnts.loc[cnts.b_entidad_federativa.isna(), 'nombre_de_la_uc'].unique()\n",
    "\n",
    "print(\"Number of missing names After parsing:\", len(missing_names))"
   ]
  },
  {
   "cell_type": "code",
   "execution_count": 510,
   "metadata": {},
   "outputs": [
    {
     "name": "stdout",
     "output_type": "stream",
     "text": [
      "Entidad federativa:  0.9976410275770483\n"
     ]
    }
   ],
   "source": [
    "print(\"Entidad federativa: \", (cnts.shape[0] - cnts.b_entidad_federativa.isna().sum()) / cnts.shape[0])"
   ]
  },
  {
   "cell_type": "markdown",
   "metadata": {},
   "source": [
    "In conclusion, we have now 99.7% of the public dependencies to match with a federal entitiy!"
   ]
  },
  {
   "cell_type": "markdown",
   "metadata": {},
   "source": [
    "## Matching to the federal entity in the file of the contract\n",
    "\n",
    "This will be our last method to get the state code of the UC of the contracts."
   ]
  },
  {
   "cell_type": "code",
   "execution_count": 511,
   "metadata": {},
   "outputs": [],
   "source": [
    "EXP = '/home/rdora/declaranet/data/pre-process/expedientes.csv'\n",
    "files = pd.read_csv(EXP)"
   ]
  },
  {
   "cell_type": "code",
   "execution_count": 512,
   "metadata": {},
   "outputs": [],
   "source": [
    "files['entidad_federativa'] = files['entidad_federativa'].apply(get_state, args=(state2code,))"
   ]
  },
  {
   "cell_type": "code",
   "execution_count": 513,
   "metadata": {},
   "outputs": [
    {
     "name": "stdout",
     "output_type": "stream",
     "text": [
      "Number of missing names before parsing: 124\n"
     ]
    }
   ],
   "source": [
    "missing_names = cnts.loc[cnts.b_entidad_federativa.isna(), 'nombre_de_la_uc'].unique()\n",
    "\n",
    "print(\"Number of missing names before parsing:\", len(missing_names))"
   ]
  },
  {
   "cell_type": "code",
   "execution_count": 514,
   "metadata": {},
   "outputs": [],
   "source": [
    "files = files.dropna()\n",
    "files = files.drop_duplicates(subset='codigo_expediente')"
   ]
  },
  {
   "cell_type": "code",
   "execution_count": 515,
   "metadata": {},
   "outputs": [],
   "source": [
    "file2code = dict(zip(files.codigo_expediente, files.entidad_federativa))"
   ]
  },
  {
   "cell_type": "code",
   "execution_count": 516,
   "metadata": {},
   "outputs": [],
   "source": [
    "cnts.loc[cnts.b_entidad_federativa.isna(), 'b_entidad_federativa'] = (\n",
    "    cnts.loc[\n",
    "        cnts.b_entidad_federativa.isna(),\n",
    "        'codigo_expediente'].apply(get_state, args=(file2code,)))"
   ]
  },
  {
   "cell_type": "code",
   "execution_count": 517,
   "metadata": {},
   "outputs": [
    {
     "name": "stdout",
     "output_type": "stream",
     "text": [
      "Number of missing names After parsing: 102\n"
     ]
    }
   ],
   "source": [
    "missing_names = cnts.loc[cnts.b_entidad_federativa.isna(), 'nombre_de_la_uc'].unique()\n",
    "\n",
    "print(\"Number of missing names After parsing:\", len(missing_names))"
   ]
  },
  {
   "cell_type": "code",
   "execution_count": 518,
   "metadata": {},
   "outputs": [
    {
     "name": "stdout",
     "output_type": "stream",
     "text": [
      "Entidad federativa:  0.9983777553730607\n"
     ]
    }
   ],
   "source": [
    "print(\"Entidad federativa: \", (cnts.shape[0] - cnts.b_entidad_federativa.isna().sum()) / cnts.shape[0])"
   ]
  },
  {
   "cell_type": "markdown",
   "metadata": {},
   "source": [
    "The best score we could obtain for the UC state names is 99.8%"
   ]
  },
  {
   "cell_type": "markdown",
   "metadata": {},
   "source": [
    "## Get Missing `ramo` values\n",
    "\n",
    "According to the catalog of compranet, the `UC` code-name is composed by the ramo (first three numbers). "
   ]
  },
  {
   "cell_type": "code",
   "execution_count": 519,
   "metadata": {},
   "outputs": [],
   "source": [
    "def get_ramo(name):\n",
    "    try:\n",
    "        ramo = int(name[:3])\n",
    "        return ramo\n",
    "    except ValueError:\n",
    "        return None"
   ]
  },
  {
   "cell_type": "code",
   "execution_count": 520,
   "metadata": {},
   "outputs": [],
   "source": [
    "cnts.loc[cnts.ramo.isna(), 'ramo'] = (\n",
    "    cnts.loc[cnts.ramo.isna(), 'claveuc'].apply(get_ramo))"
   ]
  },
  {
   "cell_type": "code",
   "execution_count": 521,
   "metadata": {},
   "outputs": [
    {
     "name": "stdout",
     "output_type": "stream",
     "text": [
      "Ramo:  0.9994153923366985\n"
     ]
    }
   ],
   "source": [
    "print(\"Ramo: \", (cnts.shape[0] - cnts.ramo.isna().sum()) / cnts.shape[0])"
   ]
  },
  {
   "cell_type": "markdown",
   "metadata": {},
   "source": [
    "We could obtain the 99.9% of all the `ramo` codes."
   ]
  },
  {
   "cell_type": "markdown",
   "metadata": {},
   "source": [
    "## Match `ramo` code to `ramo` name"
   ]
  },
  {
   "cell_type": "code",
   "execution_count": 522,
   "metadata": {},
   "outputs": [],
   "source": [
    "RAMOS = '/home/rdora/declaranet/data/tables/ramos.csv'\n",
    "ramos = pd.read_csv(RAMOS)"
   ]
  },
  {
   "cell_type": "code",
   "execution_count": 523,
   "metadata": {},
   "outputs": [],
   "source": [
    "ramos = ramos.rename(columns={'RAMO': 'ramo', 'DESCRIPCIÓN': 'desc_ramo'})[['ramo', 'desc_ramo']]"
   ]
  },
  {
   "cell_type": "code",
   "execution_count": 524,
   "metadata": {},
   "outputs": [],
   "source": [
    "cnts = pd.merge(\n",
    "    cnts,\n",
    "    ramos,\n",
    "    on='ramo',\n",
    "    how='left')"
   ]
  },
  {
   "cell_type": "code",
   "execution_count": 525,
   "metadata": {},
   "outputs": [
    {
     "name": "stdout",
     "output_type": "stream",
     "text": [
      "Desc Ramo:  0.8712963744331582\n"
     ]
    }
   ],
   "source": [
    "print(\"Desc Ramo: \", (cnts.shape[0] - cnts.desc_ramo.isna().sum()) / cnts.shape[0])"
   ]
  },
  {
   "cell_type": "markdown",
   "metadata": {},
   "source": [
    "We only have 87% of the ramos description"
   ]
  },
  {
   "cell_type": "markdown",
   "metadata": {},
   "source": [
    "# Buyers\n",
    "\n",
    "Now let us get the state name of the buyer company. We'll use two methods:\n",
    "\n",
    "1. Using the unique identifier `rupec`.\n",
    "2. Using the name of the company for those without `rupec`"
   ]
  },
  {
   "cell_type": "markdown",
   "metadata": {},
   "source": [
    "1. Using `rupec`\n",
    "\n",
    "Let's match by `rupec` id and by name as a last resort."
   ]
  },
  {
   "cell_type": "code",
   "execution_count": 526,
   "metadata": {},
   "outputs": [],
   "source": [
    "rupc = pd.read_csv('/home/rdora/declaranet/data/tables/RUPC.csv', encoding='latin')"
   ]
  },
  {
   "cell_type": "code",
   "execution_count": 527,
   "metadata": {},
   "outputs": [],
   "source": [
    "rupc['person'] = 0\n",
    "rupc.loc[rupc.RFC.isna(), 'person'] = 1"
   ]
  },
  {
   "cell_type": "code",
   "execution_count": 528,
   "metadata": {},
   "outputs": [],
   "source": [
    "ren = {\n",
    "    'Folio RUPC': 'folio_rupc',\n",
    "    'Entidad Federativa': 's_entidad_federativa'}\n",
    "rupc_code = rupc.rename(columns=ren)[['folio_rupc', 's_entidad_federativa', 'person']]"
   ]
  },
  {
   "cell_type": "code",
   "execution_count": 529,
   "metadata": {},
   "outputs": [],
   "source": [
    "cnts = pd.merge(\n",
    "    cnts,\n",
    "    rupc_code,\n",
    "    on='folio_rupc',\n",
    "    how='left')"
   ]
  },
  {
   "cell_type": "code",
   "execution_count": 530,
   "metadata": {},
   "outputs": [
    {
     "name": "stdout",
     "output_type": "stream",
     "text": [
      "Supplier state:  0.3239670265732775\n"
     ]
    }
   ],
   "source": [
    "print(\"Supplier state: \", (cnts.shape[0] - cnts.s_entidad_federativa.isna().sum()) / cnts.shape[0])"
   ]
  },
  {
   "cell_type": "code",
   "execution_count": 531,
   "metadata": {},
   "outputs": [],
   "source": [
    "ren = {\n",
    "    'Nombre de la empresa': 'proveedor_contratista',\n",
    "    'Entidad Federativa': 's_entidad_federativa'}\n",
    "rupc_name = rupc.rename(columns=ren)[['proveedor_contratista', 's_entidad_federativa', 'person']]"
   ]
  },
  {
   "cell_type": "code",
   "execution_count": 532,
   "metadata": {},
   "outputs": [],
   "source": [
    "rupc_name = rupc_name.dropna()\n",
    "\n",
    "rupc_name = rupc_name.drop_duplicates(subset='proveedor_contratista')"
   ]
  },
  {
   "cell_type": "code",
   "execution_count": 533,
   "metadata": {},
   "outputs": [],
   "source": [
    "name2state = dict(zip(rupc_name.proveedor_contratista, rupc_name.s_entidad_federativa))\n",
    "cnts.loc[cnts.s_entidad_federativa.isna(), 's_entidad_federativa'] = (\n",
    "    cnts.loc[cnts.s_entidad_federativa.isna(), 'proveedor_contratista'].apply(get_state, args=(name2state,)))\n",
    "\n",
    "name2person = dict(zip(rupc_name.proveedor_contratista, rupc_name.person))\n",
    "cnts.loc[cnts.person.isna(), 'person'] = (\n",
    "    cnts.loc[cnts.person.isna(), 'proveedor_contratista'].apply(get_state, args=(name2person,)))"
   ]
  },
  {
   "cell_type": "code",
   "execution_count": 535,
   "metadata": {},
   "outputs": [
    {
     "name": "stdout",
     "output_type": "stream",
     "text": [
      "Supplier state:  0.33552316001261373\n"
     ]
    }
   ],
   "source": [
    "print(\"Supplier state: \", (cnts.shape[0] - cnts.s_entidad_federativa.isna().sum()) / cnts.shape[0])"
   ]
  },
  {
   "cell_type": "code",
   "execution_count": 536,
   "metadata": {},
   "outputs": [
    {
     "name": "stdout",
     "output_type": "stream",
     "text": [
      "Person:  0.33555536062464747\n"
     ]
    }
   ],
   "source": [
    "print(\"Person: \", (cnts.shape[0] - cnts.person.isna().sum()) / cnts.shape[0])"
   ]
  },
  {
   "cell_type": "markdown",
   "metadata": {},
   "source": [
    "So far, we only have 33.5% of all the contracts with a supplier state."
   ]
  },
  {
   "cell_type": "markdown",
   "metadata": {},
   "source": [
    "2. Match by name in a list of suppliers without a repec code."
   ]
  },
  {
   "cell_type": "code",
   "execution_count": 537,
   "metadata": {},
   "outputs": [],
   "source": [
    "SINRUPC = '/home/rdora/declaranet/data/pre-process/sin_rupec.csv'\n",
    "sinrupc = pd.read_csv(SINRUPC)"
   ]
  },
  {
   "cell_type": "code",
   "execution_count": 538,
   "metadata": {},
   "outputs": [],
   "source": [
    "sinrupc['person'] = 0\n",
    "sinrupc.loc[sinrupc.titularidad_juridica=='4.- Persona Física con Actividad Empresarial (Empresario Individual)',\n",
    "           'person'] = 1"
   ]
  },
  {
   "cell_type": "code",
   "execution_count": 539,
   "metadata": {},
   "outputs": [],
   "source": [
    "ren = {'entidad_federativa': 's_entidad_federativa'}\n",
    "sinrupc = sinrupc.rename(columns=ren).drop(['titularidad_juridica', 'pais_rupec'], axis=1)"
   ]
  },
  {
   "cell_type": "code",
   "execution_count": 540,
   "metadata": {},
   "outputs": [],
   "source": [
    "sinrupc = sinrupc.dropna()\n",
    "\n",
    "sinrupc = sinrupc.drop_duplicates()\n",
    "\n",
    "dups = sinrupc.loc[sinrupc.proveedor_contratista.duplicated(), 'proveedor_contratista'].unique()"
   ]
  },
  {
   "cell_type": "code",
   "execution_count": 541,
   "metadata": {},
   "outputs": [
    {
     "name": "stdout",
     "output_type": "stream",
     "text": [
      "There are 113 duplicated supplier names\n"
     ]
    }
   ],
   "source": [
    "print(f\"There are {len(dups)} duplicated supplier names\")"
   ]
  },
  {
   "cell_type": "code",
   "execution_count": 542,
   "metadata": {},
   "outputs": [],
   "source": [
    "usinrupc = sinrupc[~sinrupc.proveedor_contratista.isin(dups)]"
   ]
  },
  {
   "cell_type": "code",
   "execution_count": 474,
   "metadata": {},
   "outputs": [
    {
     "data": {
      "text/plain": [
       "proveedor_contratista    113675\n",
       "s_entidad_federativa        101\n",
       "person                        2\n",
       "dtype: int64"
      ]
     },
     "execution_count": 474,
     "metadata": {},
     "output_type": "execute_result"
    }
   ],
   "source": [
    "usinrupc.nunique()"
   ]
  },
  {
   "cell_type": "code",
   "execution_count": 543,
   "metadata": {},
   "outputs": [],
   "source": [
    "name2state = dict(zip(usinrupc.proveedor_contratista, rupc_name.s_entidad_federativa))\n",
    "cnts.loc[cnts.s_entidad_federativa.isna(), 's_entidad_federativa'] = (\n",
    "    cnts.loc[cnts.s_entidad_federativa.isna(), 'proveedor_contratista'].apply(get_state, args=(name2state,)))\n",
    "\n",
    "name2person = dict(zip(usinrupc.proveedor_contratista, rupc_name.person))\n",
    "cnts.loc[cnts.person.isna(), 'person'] = (\n",
    "    cnts.loc[cnts.person.isna(), 'proveedor_contratista'].apply(get_state, args=(name2person,)))"
   ]
  },
  {
   "cell_type": "code",
   "execution_count": 544,
   "metadata": {},
   "outputs": [
    {
     "name": "stdout",
     "output_type": "stream",
     "text": [
      "Supplier state:  0.395703327988772\n"
     ]
    }
   ],
   "source": [
    "print(\"Supplier state: \", (cnts.shape[0] - cnts.s_entidad_federativa.isna().sum()) / cnts.shape[0])"
   ]
  },
  {
   "cell_type": "code",
   "execution_count": 554,
   "metadata": {},
   "outputs": [],
   "source": [
    "cnts_dups = cnts.loc[cnts.proveedor_contratista.isin(dups), ['proveedor_contratista', 'b_entidad_federativa']]"
   ]
  },
  {
   "cell_type": "code",
   "execution_count": 595,
   "metadata": {},
   "outputs": [],
   "source": [
    "cnts_dups = cnts_dups.groupby(['proveedor_contratista']).agg(lambda x:x.value_counts().index[0]).reset_index()"
   ]
  },
  {
   "cell_type": "code",
   "execution_count": 596,
   "metadata": {},
   "outputs": [
    {
     "data": {
      "text/html": [
       "<div>\n",
       "<style scoped>\n",
       "    .dataframe tbody tr th:only-of-type {\n",
       "        vertical-align: middle;\n",
       "    }\n",
       "\n",
       "    .dataframe tbody tr th {\n",
       "        vertical-align: top;\n",
       "    }\n",
       "\n",
       "    .dataframe thead th {\n",
       "        text-align: right;\n",
       "    }\n",
       "</style>\n",
       "<table border=\"1\" class=\"dataframe\">\n",
       "  <thead>\n",
       "    <tr style=\"text-align: right;\">\n",
       "      <th></th>\n",
       "      <th>proveedor_contratista</th>\n",
       "      <th>b_entidad_federativa</th>\n",
       "    </tr>\n",
       "  </thead>\n",
       "  <tbody>\n",
       "    <tr>\n",
       "      <th>0</th>\n",
       "      <td>ADRIAN SOLIS GONZALEZ</td>\n",
       "      <td>MX-NLE</td>\n",
       "    </tr>\n",
       "    <tr>\n",
       "      <th>1</th>\n",
       "      <td>AGUSTIN GONZALEZ MEJIA</td>\n",
       "      <td>MX-CMX</td>\n",
       "    </tr>\n",
       "    <tr>\n",
       "      <th>2</th>\n",
       "      <td>ALBERTO SANCHEZ PEREZ</td>\n",
       "      <td>MX-JAL</td>\n",
       "    </tr>\n",
       "    <tr>\n",
       "      <th>3</th>\n",
       "      <td>ALEJANDRO GARCIA HERNANDEZ</td>\n",
       "      <td>MX-CMX</td>\n",
       "    </tr>\n",
       "    <tr>\n",
       "      <th>4</th>\n",
       "      <td>ALEJANDRO GONZALEZ RUIZ</td>\n",
       "      <td>MX-BCN</td>\n",
       "    </tr>\n",
       "    <tr>\n",
       "      <th>...</th>\n",
       "      <td>...</td>\n",
       "      <td>...</td>\n",
       "    </tr>\n",
       "    <tr>\n",
       "      <th>108</th>\n",
       "      <td>SERVICIOS ADMINISTRATIVOS Y OPERATIVOS OYV SA ...</td>\n",
       "      <td>MX-CMX</td>\n",
       "    </tr>\n",
       "    <tr>\n",
       "      <th>109</th>\n",
       "      <td>TELVENT CANADA LTD</td>\n",
       "      <td>MX-CMX</td>\n",
       "    </tr>\n",
       "    <tr>\n",
       "      <th>110</th>\n",
       "      <td>VICENTE RODRIGUEZ GARCIA</td>\n",
       "      <td>MX-GUA</td>\n",
       "    </tr>\n",
       "    <tr>\n",
       "      <th>111</th>\n",
       "      <td>VICTOR CRUZ CRUZ</td>\n",
       "      <td>MX-ZAC</td>\n",
       "    </tr>\n",
       "    <tr>\n",
       "      <th>112</th>\n",
       "      <td>VICTOR MANUEL SANCHEZ HERNANDEZ</td>\n",
       "      <td>MX-CMX</td>\n",
       "    </tr>\n",
       "  </tbody>\n",
       "</table>\n",
       "<p>113 rows × 2 columns</p>\n",
       "</div>"
      ],
      "text/plain": [
       "                                 proveedor_contratista b_entidad_federativa\n",
       "0                                ADRIAN SOLIS GONZALEZ               MX-NLE\n",
       "1                               AGUSTIN GONZALEZ MEJIA               MX-CMX\n",
       "2                                ALBERTO SANCHEZ PEREZ               MX-JAL\n",
       "3                           ALEJANDRO GARCIA HERNANDEZ               MX-CMX\n",
       "4                              ALEJANDRO GONZALEZ RUIZ               MX-BCN\n",
       "..                                                 ...                  ...\n",
       "108  SERVICIOS ADMINISTRATIVOS Y OPERATIVOS OYV SA ...               MX-CMX\n",
       "109                                 TELVENT CANADA LTD               MX-CMX\n",
       "110                           VICENTE RODRIGUEZ GARCIA               MX-GUA\n",
       "111                                   VICTOR CRUZ CRUZ               MX-ZAC\n",
       "112                    VICTOR MANUEL SANCHEZ HERNANDEZ               MX-CMX\n",
       "\n",
       "[113 rows x 2 columns]"
      ]
     },
     "execution_count": 596,
     "metadata": {},
     "output_type": "execute_result"
    }
   ],
   "source": [
    "cnts_dups"
   ]
  }
 ],
 "metadata": {
  "kernelspec": {
   "display_name": "Python 3",
   "language": "python",
   "name": "python3"
  },
  "language_info": {
   "codemirror_mode": {
    "name": "ipython",
    "version": 3
   },
   "file_extension": ".py",
   "mimetype": "text/x-python",
   "name": "python",
   "nbconvert_exporter": "python",
   "pygments_lexer": "ipython3",
   "version": "3.6.9"
  }
 },
 "nbformat": 4,
 "nbformat_minor": 4
}
