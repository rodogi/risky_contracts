{
 "cells": [
  {
   "cell_type": "markdown",
   "metadata": {},
   "source": [
    "# Suspicious suppliers"
   ]
  },
  {
   "cell_type": "code",
   "execution_count": 2,
   "metadata": {},
   "outputs": [],
   "source": [
    "import pandas as pd\n",
    "import numpy as np"
   ]
  },
  {
   "cell_type": "code",
   "execution_count": 11,
   "metadata": {},
   "outputs": [],
   "source": [
    "import re\n",
    "from unidecode import unidecode"
   ]
  },
  {
   "cell_type": "code",
   "execution_count": 20,
   "metadata": {},
   "outputs": [],
   "source": [
    "stop_words = [\n",
    "    r\"S\\.?A\\.? *DE\\.? *C\\.?V\\.?\",\n",
    "    r\"S\\.? *DE\\.? *R\\.?L\\.? *DE *C\\.?V\\.?\",\n",
    "    r\"S\\.?A\\.?P\\.?I\\.? *DE\\.? *C\\.?V\\.?\",\n",
    "    r\"S\\.?A\\.?B\\.? *DE\\.? *C\\.?V\\.?\",\n",
    "    r\"S\\.? *DE\\.? *R\\.?L\\.?\",\n",
    "    r\"\\bL\\.? *T\\.? *D\\.?\\b\",\n",
    "    r\"\\bS\\.? *A\\.?\\b\",\n",
    "    r\"\\bR\\.? *L\\.?\\b\",\n",
    "    r\"\\bC\\.? *V\\.?\\b\",\n",
    "    r\"\\bS\\.? *C\\.?\\b\",\n",
    "    r\"\\bS\\.? *C\\.? *L\\.?\",\n",
    "    r\"\\bS\\.?A\\.?P\\.?I\\.?\\b\",\n",
    "    r\"S\\.A\\.S\\.?\"]"
   ]
  },
  {
   "cell_type": "code",
   "execution_count": 21,
   "metadata": {},
   "outputs": [],
   "source": [
    "def norm(x):\n",
    "    for word in stop_words:\n",
    "        x = re.sub(word, \"\", x)\n",
    "    x = x.replace(\".\", \"\")\n",
    "    x = x.replace(\",\", \"\")\n",
    "    return unidecode(x.strip().lower())"
   ]
  },
  {
   "cell_type": "code",
   "execution_count": 3,
   "metadata": {},
   "outputs": [],
   "source": [
    "cnts = pd.read_csv(\"../data/pre-process/contratos_4.csv\", parse_dates=['start_date'])"
   ]
  },
  {
   "cell_type": "code",
   "execution_count": 51,
   "metadata": {},
   "outputs": [],
   "source": [
    "cnts['year'] = cnts.start_date.dt.year"
   ]
  },
  {
   "cell_type": "code",
   "execution_count": 5,
   "metadata": {},
   "outputs": [],
   "source": [
    "cnts = cnts.drop('week', axis=1)"
   ]
  },
  {
   "cell_type": "code",
   "execution_count": 7,
   "metadata": {},
   "outputs": [],
   "source": [
    "cnts = cnts.drop('CRI', axis=1)"
   ]
  },
  {
   "cell_type": "code",
   "execution_count": 27,
   "metadata": {},
   "outputs": [],
   "source": [
    "cnts['normed'] = cnts['supplier'].apply(norm)"
   ]
  },
  {
   "cell_type": "code",
   "execution_count": 24,
   "metadata": {},
   "outputs": [],
   "source": [
    "parts = pd.read_json(\"../data/tables/s3-particulares-sfp.json\")\n",
    "parts['year'] = pd.to_datetime(parts.fechaCaptura).dt.year.astype(int)\n",
    "parts = parts[['nombreRazonSocial', 'year']]\n",
    "\n",
    "parts['normed'] = parts['nombreRazonSocial'].apply(norm)"
   ]
  },
  {
   "cell_type": "markdown",
   "metadata": {},
   "source": [
    "# Sanctioned suppliers"
   ]
  },
  {
   "cell_type": "code",
   "execution_count": 34,
   "metadata": {},
   "outputs": [],
   "source": [
    "s = set(cnts['normed'].unique()) & set(parts['normed'].unique())"
   ]
  },
  {
   "cell_type": "code",
   "execution_count": 35,
   "metadata": {},
   "outputs": [],
   "source": [
    "cnts['sanctioned'] = 0"
   ]
  },
  {
   "cell_type": "code",
   "execution_count": 36,
   "metadata": {},
   "outputs": [],
   "source": [
    "cnts.loc[cnts.normed.isin(s), 'sanctioned'] = 1"
   ]
  },
  {
   "cell_type": "markdown",
   "metadata": {},
   "source": [
    "# Fake companies"
   ]
  },
  {
   "cell_type": "code",
   "execution_count": 39,
   "metadata": {},
   "outputs": [],
   "source": [
    "fantasmas = pd.read_csv(\"../data/tables/fantasmas.csv\", delimiter=\"\\n\", names=['supplier'])\n",
    "\n",
    "fantasmas['normed'] = fantasmas['supplier'].apply(norm)"
   ]
  },
  {
   "cell_type": "code",
   "execution_count": 40,
   "metadata": {},
   "outputs": [],
   "source": [
    "s2 = set(cnts['normed'].unique()) & set(fantasmas['normed'].unique())"
   ]
  },
  {
   "cell_type": "code",
   "execution_count": 49,
   "metadata": {},
   "outputs": [],
   "source": [
    "cnts.loc[cnts.normed.isin(s2), 'sanctioned'] = 1"
   ]
  },
  {
   "cell_type": "markdown",
   "metadata": {},
   "source": [
    "# Disapearing suppliers in 2019"
   ]
  },
  {
   "cell_type": "code",
   "execution_count": 54,
   "metadata": {},
   "outputs": [],
   "source": [
    "supplier_18 = cnts[cnts['year']==2018].groupby('usupplier').size().rename(\"N\").reset_index()"
   ]
  },
  {
   "cell_type": "code",
   "execution_count": 58,
   "metadata": {},
   "outputs": [],
   "source": [
    "s18 = set(supplier_18[supplier_18.N >= supplier_18.N.mean()]['usupplier'].unique())"
   ]
  },
  {
   "cell_type": "code",
   "execution_count": 60,
   "metadata": {},
   "outputs": [],
   "source": [
    "s19 = set(cnts[cnts.year==2019]['usupplier'].unique())"
   ]
  },
  {
   "cell_type": "code",
   "execution_count": 62,
   "metadata": {},
   "outputs": [
    {
     "data": {
      "text/plain": [
       "939"
      ]
     },
     "execution_count": 62,
     "metadata": {},
     "output_type": "execute_result"
    }
   ],
   "source": [
    "len(s18 - s19)"
   ]
  }
 ],
 "metadata": {
  "kernelspec": {
   "display_name": "Python 3",
   "language": "python",
   "name": "python3"
  },
  "language_info": {
   "codemirror_mode": {
    "name": "ipython",
    "version": 3
   },
   "file_extension": ".py",
   "mimetype": "text/x-python",
   "name": "python",
   "nbconvert_exporter": "python",
   "pygments_lexer": "ipython3",
   "version": "3.6.9"
  }
 },
 "nbformat": 4,
 "nbformat_minor": 4
}
