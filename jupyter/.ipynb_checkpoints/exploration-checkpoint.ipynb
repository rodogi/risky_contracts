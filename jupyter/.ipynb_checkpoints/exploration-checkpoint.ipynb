{
 "cells": [
  {
   "cell_type": "code",
   "execution_count": 1,
   "metadata": {},
   "outputs": [],
   "source": [
    "import pandas as pd\n",
    "import numpy as np\n",
    "import seaborn as sns\n",
    "import matplotlib.pyplot as plt"
   ]
  },
  {
   "cell_type": "code",
   "execution_count": 98,
   "metadata": {},
   "outputs": [],
   "source": [
    "from currency_converter import RateNotFoundError"
   ]
  },
  {
   "cell_type": "code",
   "execution_count": 36,
   "metadata": {},
   "outputs": [],
   "source": [
    "from currency_converter import CurrencyConverter"
   ]
  },
  {
   "cell_type": "code",
   "execution_count": 41,
   "metadata": {},
   "outputs": [],
   "source": [
    "import datetime"
   ]
  },
  {
   "cell_type": "code",
   "execution_count": null,
   "metadata": {},
   "outputs": [],
   "source": [
    "def change_currency(date):\n",
    "    try:\n",
    "        change = c.convert(1, 'MXN', 'USD', date)\n",
    "        return change\n",
    "    except RateNotFoundError:\n",
    "        pass\n",
    "    month = date.month\n",
    "    for i, new_month in enumerate(range(month + 1, month + 12)):\n",
    "        if new_month != 12:\n",
    "            new_month = new_month % 12\n",
    "        new_date = datetime.date(date.year, new_month, 1)\n",
    "        try:\n",
    "            change = c.convert(1, 'MXN', 'USD', new_date)\n",
    "            return change\n",
    "        except RateNotFoundError:\n",
    "            pass\n",
    "    return 1 / 15  # 15 pesos to USD\n",
    "        "
   ]
  },
  {
   "cell_type": "markdown",
   "metadata": {},
   "source": [
    "## Pre-processing"
   ]
  },
  {
   "cell_type": "markdown",
   "metadata": {},
   "source": [
    "### Names"
   ]
  },
  {
   "cell_type": "code",
   "execution_count": null,
   "metadata": {},
   "outputs": [],
   "source": []
  },
  {
   "cell_type": "markdown",
   "metadata": {},
   "source": [
    "### Money"
   ]
  },
  {
   "cell_type": "code",
   "execution_count": 37,
   "metadata": {},
   "outputs": [],
   "source": [
    "c = CurrencyConverter()"
   ]
  },
  {
   "cell_type": "code",
   "execution_count": 7,
   "metadata": {},
   "outputs": [],
   "source": [
    "path = \"/home/rdora/declaranet/data/pre-process/contratos_4.csv\"\n",
    "dtypes = {'importe_contrato': 'int', 'codigo_contrato': 'int',\n",
    "          'ramo': 'int'}\n",
    "date_cols = ['fecha_inicio', 'fecha_fin']"
   ]
  },
  {
   "cell_type": "code",
   "execution_count": 109,
   "metadata": {},
   "outputs": [],
   "source": [
    "cnts = pd.read_csv(path, dtype=dtypes, parse_dates=date_cols)"
   ]
  },
  {
   "cell_type": "code",
   "execution_count": 110,
   "metadata": {},
   "outputs": [],
   "source": [
    "cnts[cnts.select_dtypes('object').columns] = cnts.select_dtypes('object').astype('string')"
   ]
  },
  {
   "cell_type": "markdown",
   "metadata": {},
   "source": [
    "Change everything to dollars"
   ]
  },
  {
   "cell_type": "code",
   "execution_count": 117,
   "metadata": {},
   "outputs": [],
   "source": [
    "cnts.loc[cnts.moneda=='MXN', 'importe_contrato'] = (\n",
    "                  cnts.loc[cnts.moneda=='MXN', 'fecha_inicio'].dt.date.apply(change_currency) *\n",
    "                  cnts.loc[cnts.moneda=='MXN', 'importe_contrato']).apply(np.floor).astype('int')"
   ]
  },
  {
   "cell_type": "code",
   "execution_count": 119,
   "metadata": {},
   "outputs": [],
   "source": [
    "cnts = cnts.drop('moneda', axis=1)"
   ]
  },
  {
   "cell_type": "code",
   "execution_count": 136,
   "metadata": {},
   "outputs": [
    {
     "data": {
      "image/png": "[encoded data removed]",
      "text/plain": [
       "<Figure size 432x288 with 1 Axes>"
      ]
     },
     "metadata": {
      "needs_background": "light"
     },
     "output_type": "display_data"
    }
   ],
   "source": [
    "sns.distplot(cnts.loc[cnts.importe_contrato < 1e5, 'importe_contrato'], color='gray').set(xlabel=\"Importe (USD)\");"
   ]
  },
  {
   "cell_type": "code",
   "execution_count": 175,
   "metadata": {},
   "outputs": [
    {
     "data": {
      "image/png": "[encoded data removed]",
      "text/plain": [
       "<Figure size 432x288 with 1 Axes>"
      ]
     },
     "metadata": {
      "needs_background": "light"
     },
     "output_type": "display_data"
    }
   ],
   "source": [
    "cnts['year'] = cnts.fecha_inicio.dt.year\n",
    "gbyear = cnts.groupby('year')['importe_contrato'].sum().reset_index().sort_values(by='year')\n",
    "sns.barplot(x='year', y='importe_contrato', data=gbyear, color='gray').set(ylabel=\"Total (USD)\");"
   ]
  },
  {
   "cell_type": "code",
   "execution_count": 178,
   "metadata": {},
   "outputs": [
    {
     "data": {
      "image/png": "[encoded data removed]",
      "text/plain": [
       "<Figure size 432x288 with 1 Axes>"
      ]
     },
     "metadata": {
      "needs_background": "light"
     },
     "output_type": "display_data"
    }
   ],
   "source": [
    "cnts['year'] = cnts.fecha_inicio.dt.year\n",
    "gbyear = cnts.groupby('year')['importe_contrato'].mean().reset_index().sort_values(by='year')\n",
    "sns.barplot(x='year', y='importe_contrato', data=gbyear, color='gray').set(ylabel=\"Promedio (USD)\");"
   ]
  },
  {
   "cell_type": "code",
   "execution_count": 171,
   "metadata": {},
   "outputs": [
    {
     "name": "stdout",
     "output_type": "stream",
     "text": [
      "                        18.75% OF year 2019 GDP\n"
     ]
    }
   ],
   "source": [
    "print(f\"{(cnts.importe_contrato.sum() / 1.2e12):-30,.2%} OF year 2019 GDP\")"
   ]
  },
  {
   "cell_type": "code",
   "execution_count": 164,
   "metadata": {},
   "outputs": [
    {
     "name": "stdout",
     "output_type": "stream",
     "text": [
      "               225,004,651,411 USD TOTAL\n"
     ]
    }
   ],
   "source": [
    "print(f\"{cnts.importe_contrato.sum():-30,d} USD TOTAL\")"
   ]
  },
  {
   "cell_type": "markdown",
   "metadata": {},
   "source": [
    "## Gobierno"
   ]
  },
  {
   "cell_type": "code",
   "execution_count": 21,
   "metadata": {},
   "outputs": [
    {
     "data": {
      "image/png": "[encoded data removed]",
      "text/plain": [
       "<Figure size 432x288 with 1 Axes>"
      ]
     },
     "metadata": {
      "needs_background": "light"
     },
     "output_type": "display_data"
    }
   ],
   "source": [
    "sns.countplot(x=\"gobierno\", data=cnts, color='gray').set(yscale='log');"
   ]
  },
  {
   "cell_type": "markdown",
   "metadata": {},
   "source": [
    "## Entidad Federativa compradora"
   ]
  },
  {
   "cell_type": "code",
   "execution_count": 182,
   "metadata": {},
   "outputs": [
    {
     "data": {
      "image/png": "[encoded data removed]",
      "text/plain": [
       "<Figure size 432x288 with 1 Axes>"
      ]
     },
     "metadata": {
      "needs_background": "light"
     },
     "output_type": "display_data"
    }
   ],
   "source": [
    "sns.countplot(x=\"b_entidad_federativa\",\n",
    "              data=cnts,\n",
    "              order=cnts['b_entidad_federativa'].value_counts().index,\n",
    "              color=\"gray\").set(ylabel=\"N\", yscale=\"log\")\n",
    "plt.xticks(rotation=90);"
   ]
  },
  {
   "cell_type": "code",
   "execution_count": 179,
   "metadata": {},
   "outputs": [
    {
     "data": {
      "text/plain": [
       "0    MX-BCS\n",
       "1    MX-MEX\n",
       "2    MX-MOR\n",
       "3    MX-MOR\n",
       "4    MX-GUA\n",
       "Name: b_entidad_federativa, dtype: string"
      ]
     },
     "execution_count": 179,
     "metadata": {},
     "output_type": "execute_result"
    }
   ],
   "source": [
    "cnts.b_entidad_federativa.head()"
   ]
  }
 ],
 "metadata": {
  "kernelspec": {
   "display_name": "Python 3",
   "language": "python",
   "name": "python3"
  },
  "language_info": {
   "codemirror_mode": {
    "name": "ipython",
    "version": 3
   },
   "file_extension": ".py",
   "mimetype": "text/x-python",
   "name": "python",
   "nbconvert_exporter": "python",
   "pygments_lexer": "ipython3",
   "version": "3.6.9"
  }
 },
 "nbformat": 4,
 "nbformat_minor": 4
}
