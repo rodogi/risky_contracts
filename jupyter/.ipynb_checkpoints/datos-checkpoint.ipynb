{
 "cells": [
  {
   "cell_type": "markdown",
   "metadata": {},
   "source": [
    "# Datos\n",
    "\n",
    "## Idea\n",
    "\n",
    "Basados en tres bases de datos:\n",
    "\n",
    "1. Experiencia previa\n",
    "2. Participación económica\n",
    "3. Puestos en otras compañías\n",
    "\n",
    "Para el periodo de 2002--2018 (17 años)"
   ]
  },
  {
   "cell_type": "markdown",
   "metadata": {},
   "source": [
    "## Unir tablas\n",
    "\n",
    "Usaremos, para cada año, los usuarios que tienen valores de participación económica,\n",
    "puestos en otras compañías, y experiencia previa. Posteriormente se aplicaran los filtros que se piensen necesarios. Sin embargo, como se va a comparar con información de compra/venta de contratos públicos, únicamente se incluirá la experiencia de los funcionarios en compañías **privadas**."
   ]
  },
  {
   "cell_type": "markdown",
   "metadata": {},
   "source": [
    "## Primer año (2002)\n",
    "\n",
    "Antes de obtener la tabla final, empezaremos a explorar las tablas de 2002 y dejar la metodología lista para los demás años.\n",
    "\n",
    "La tabla `2002_generalesEncargo_DBP.csv` cuenta con la información principal de cada servidor público. Se usará para hacer el *merge* con las demás tablas. Todas las tablas cuentan con la variable **ACUSE** qué servirá de *id* para juntarlas.\n",
    "\n",
    "La información de las **participaciones económicas** no fue incorporado sino hasta 2015, y la información de **puestos en otras compañías** hasta 2016. Por lo que durante el periodo 2002--2014 sólamente podremos usar la variable de **experiencia previa**."
   ]
  },
  {
   "cell_type": "markdown",
   "metadata": {},
   "source": [
    "## Variables globales\n",
    "\n",
    "Antes de empezar, cargamos las librerías y definimos los caminos a los datos que se usarán de aquí en adelante."
   ]
  },
  {
   "cell_type": "code",
   "execution_count": 2,
   "metadata": {},
   "outputs": [],
   "source": [
    "import os\n",
    "import re\n",
    "from os.path import join\n",
    "import pandas as pd\n",
    "import numpy as np"
   ]
  },
  {
   "cell_type": "code",
   "execution_count": 3,
   "metadata": {},
   "outputs": [],
   "source": [
    "DATA = \"/home/rdora/declaranet/data\"\n",
    "# Tablas\n",
    "GENERAL = \"_generalesEncargo_DBP.csv\"\n",
    "EXP = \"_experiencia_DBP.csv\"\n",
    "ECONO = \"_participaciones_econo_DBP.csv\"\n",
    "PUESTO = \"_puesto_cargo_com_DBP.csv\""
   ]
  },
  {
   "cell_type": "code",
   "execution_count": 34,
   "metadata": {},
   "outputs": [],
   "source": [
    "path_general = join(DATA, \"2002\", \"2002\" + GENERAL)\n",
    "path_exp = join(DATA, \"2002\", \"2002\" + EXP)\n",
    "df_exp = pd.read_csv(path_exp)\n",
    "df_general = pd.read_csv(path_general)"
   ]
  },
  {
   "cell_type": "markdown",
   "metadata": {},
   "source": [
    "### Selección de variables\n",
    "Las tablas cuentan con diversa información distribuida en variables. Para nuestro objetivo, unas son más importantes que otras.\n",
    "\n",
    "#### General\n",
    "Variables importantes:\n",
    "1. acuse (ID)\n",
    "2. nombre\n",
    "3. tipo_declaracion\n",
    "4. fecha_envio\n",
    "5. puesto\n",
    "6. dependencia\n",
    "7. area_adscripcion\n",
    "8. honorarios\n",
    "9. maximo_grado_estudios\n",
    "\n",
    "#### Experiencia\n",
    "Variables importantes:\n",
    "1. acuse\n",
    "2. sector\n",
    "3. institucion_empresa\n",
    "4. area_o_unidad_administrativa (**NOTA**: typo en \"adminsitrativa\")\n",
    "5. puesto\n",
    "6. ingreso_egreso"
   ]
  },
  {
   "cell_type": "code",
   "execution_count": 26,
   "metadata": {},
   "outputs": [],
   "source": [
    "COLS_GENERAL = [\"ACUSE\",\n",
    "                \"NOMBRE\",\n",
    "                \"TIPO_DECLARACION\",\n",
    "                \"FECHA_ENVIO\",\n",
    "                \"PUESTO\",\n",
    "                \"DEPENDENCIA\",\n",
    "                \"AREA_ADSCRIPCION\",\n",
    "                \"HONORARIOS\",\n",
    "                \"MAXIMO_GRADO_ESTUDIOS\"]\n",
    "COLS_EXP = [\"ACUSE\",\n",
    "            \"SECTOR\",\n",
    "            \"INSTITUCION_EMPRESA\",\n",
    "            \"AREA_O_UNIDAD_ADMINSITRATIVA\",\n",
    "            \"PUESTO\",\n",
    "            \"INGRESO_EGRESO\"]"
   ]
  },
  {
   "cell_type": "code",
   "execution_count": 39,
   "metadata": {},
   "outputs": [],
   "source": [
    "df_general = df_general[COLS_GENERAL]\n",
    "df_exp = df_exp[COLS_EXP]"
   ]
  },
  {
   "cell_type": "code",
   "execution_count": 29,
   "metadata": {},
   "outputs": [],
   "source": [
    "df = pd.merge(df_exp,\n",
    "             df_general,\n",
    "             how=\"left\",\n",
    "             on=\"ACUSE\")"
   ]
  },
  {
   "cell_type": "markdown",
   "metadata": {},
   "source": [
    "## Segundo año (2003)\n",
    "\n",
    "Exploración del segundo año, sobretodo para ver como se manejan los funcionarios públicos repetidos con 2002."
   ]
  },
  {
   "cell_type": "code",
   "execution_count": 35,
   "metadata": {},
   "outputs": [],
   "source": [
    "path_general = join(DATA, \"2003\", \"2003\" + GENERAL)\n",
    "path_exp = join(DATA, \"2003\", \"2003\" + EXP)\n",
    "df_exp_2003 = pd.read_csv(path_exp, usecols=COLS_EXP)\n",
    "df_general_2003 = pd.read_csv(path_general, usecols=COLS_GENERAL)"
   ]
  },
  {
   "cell_type": "markdown",
   "metadata": {},
   "source": [
    "En cuanto a experiencia, vamos a ver cuantos puestos están repetidos con 2002."
   ]
  },
  {
   "cell_type": "code",
   "execution_count": 43,
   "metadata": {},
   "outputs": [
    {
     "name": "stdout",
     "output_type": "stream",
     "text": [
      "Acuses repetidos:  0\n"
     ]
    }
   ],
   "source": [
    "acuses_2002 = set(df_exp['ACUSE'].unique())\n",
    "acuses_2003 = set(df_exp_2003[\"ACUSE\"].unique())\n",
    "print(\"Acuses repetidos: \", len(acuses_2002 & acuses_2003))"
   ]
  },
  {
   "cell_type": "code",
   "execution_count": 44,
   "metadata": {},
   "outputs": [
    {
     "data": {
      "text/html": [
       "<div>\n",
       "<style scoped>\n",
       "    .dataframe tbody tr th:only-of-type {\n",
       "        vertical-align: middle;\n",
       "    }\n",
       "\n",
       "    .dataframe tbody tr th {\n",
       "        vertical-align: top;\n",
       "    }\n",
       "\n",
       "    .dataframe thead th {\n",
       "        text-align: right;\n",
       "    }\n",
       "</style>\n",
       "<table border=\"1\" class=\"dataframe\">\n",
       "  <thead>\n",
       "    <tr style=\"text-align: right;\">\n",
       "      <th></th>\n",
       "      <th>ACUSE</th>\n",
       "      <th>SECTOR</th>\n",
       "      <th>INSTITUCION_EMPRESA</th>\n",
       "      <th>AREA_O_UNIDAD_ADMINSITRATIVA</th>\n",
       "      <th>PUESTO</th>\n",
       "      <th>INGRESO_EGRESO</th>\n",
       "    </tr>\n",
       "  </thead>\n",
       "  <tbody>\n",
       "    <tr>\n",
       "      <th>0</th>\n",
       "      <td>201505292032248574959</td>\n",
       "      <td>PRIVADO</td>\n",
       "      <td>TELETEC DE MEXICO S.A. DE C.V.</td>\n",
       "      <td>INSTALACIONES</td>\n",
       "      <td>INGENIERO EN PROYECTOS</td>\n",
       "      <td>04/2000 - 09/2002</td>\n",
       "    </tr>\n",
       "    <tr>\n",
       "      <th>1</th>\n",
       "      <td>200205311340481299562</td>\n",
       "      <td>PUBLICO</td>\n",
       "      <td>SECRETARIA DE HACIENDA Y CREDITO PUBLICO</td>\n",
       "      <td>DIRECCION GENERAL DEL DESTINO DE LOS BIENES DE...</td>\n",
       "      <td>JEFE DE DEPARTAMENTO DE EVALUACION</td>\n",
       "      <td>01/1999 - 02/2001</td>\n",
       "    </tr>\n",
       "    <tr>\n",
       "      <th>2</th>\n",
       "      <td>200205311340481299562</td>\n",
       "      <td>PUBLICO</td>\n",
       "      <td>SECRETARIA DE HACIENDA Y CREDITO PUBLICO</td>\n",
       "      <td>DIR. GRAL DE DESTINO DE BIENES DE COM. EXT. PR...</td>\n",
       "      <td>SUBDIRECTOR DE ALMACENES FISCALIZADOS</td>\n",
       "      <td>02/2001 - 12/2001</td>\n",
       "    </tr>\n",
       "    <tr>\n",
       "      <th>3</th>\n",
       "      <td>200205311409081293886</td>\n",
       "      <td>PRIVADO</td>\n",
       "      <td>GRUPO JULIO S.A. DE C.V.</td>\n",
       "      <td>RECURSOS HUMANOS</td>\n",
       "      <td>SUBGERENTE DE RECURSOS HUMANOS</td>\n",
       "      <td>03/1998 - 05/1999</td>\n",
       "    </tr>\n",
       "    <tr>\n",
       "      <th>4</th>\n",
       "      <td>200205311409081293886</td>\n",
       "      <td>PRIVADO</td>\n",
       "      <td>DESPACHO AGUILAR CHAVEZ Y ASOCIADOS S.C.</td>\n",
       "      <td>AUDITORIA</td>\n",
       "      <td>AUDITOR</td>\n",
       "      <td>12/1994 - 02/1998</td>\n",
       "    </tr>\n",
       "  </tbody>\n",
       "</table>\n",
       "</div>"
      ],
      "text/plain": [
       "                   ACUSE   SECTOR                       INSTITUCION_EMPRESA  \\\n",
       "0  201505292032248574959  PRIVADO            TELETEC DE MEXICO S.A. DE C.V.   \n",
       "1  200205311340481299562  PUBLICO  SECRETARIA DE HACIENDA Y CREDITO PUBLICO   \n",
       "2  200205311340481299562  PUBLICO  SECRETARIA DE HACIENDA Y CREDITO PUBLICO   \n",
       "3  200205311409081293886  PRIVADO                  GRUPO JULIO S.A. DE C.V.   \n",
       "4  200205311409081293886  PRIVADO  DESPACHO AGUILAR CHAVEZ Y ASOCIADOS S.C.   \n",
       "\n",
       "                        AREA_O_UNIDAD_ADMINSITRATIVA  \\\n",
       "0                                      INSTALACIONES   \n",
       "1  DIRECCION GENERAL DEL DESTINO DE LOS BIENES DE...   \n",
       "2  DIR. GRAL DE DESTINO DE BIENES DE COM. EXT. PR...   \n",
       "3                                   RECURSOS HUMANOS   \n",
       "4                                          AUDITORIA   \n",
       "\n",
       "                                  PUESTO     INGRESO_EGRESO  \n",
       "0                 INGENIERO EN PROYECTOS  04/2000 - 09/2002  \n",
       "1     JEFE DE DEPARTAMENTO DE EVALUACION  01/1999 - 02/2001  \n",
       "2  SUBDIRECTOR DE ALMACENES FISCALIZADOS  02/2001 - 12/2001  \n",
       "3         SUBGERENTE DE RECURSOS HUMANOS  03/1998 - 05/1999  \n",
       "4                                AUDITOR  12/1994 - 02/1998  "
      ]
     },
     "execution_count": 44,
     "metadata": {},
     "output_type": "execute_result"
    }
   ],
   "source": [
    "df_exp.head()"
   ]
  },
  {
   "cell_type": "code",
   "execution_count": 45,
   "metadata": {},
   "outputs": [
    {
     "data": {
      "text/html": [
       "<div>\n",
       "<style scoped>\n",
       "    .dataframe tbody tr th:only-of-type {\n",
       "        vertical-align: middle;\n",
       "    }\n",
       "\n",
       "    .dataframe tbody tr th {\n",
       "        vertical-align: top;\n",
       "    }\n",
       "\n",
       "    .dataframe thead th {\n",
       "        text-align: right;\n",
       "    }\n",
       "</style>\n",
       "<table border=\"1\" class=\"dataframe\">\n",
       "  <thead>\n",
       "    <tr style=\"text-align: right;\">\n",
       "      <th></th>\n",
       "      <th>ACUSE</th>\n",
       "      <th>SECTOR</th>\n",
       "      <th>INSTITUCION_EMPRESA</th>\n",
       "      <th>AREA_O_UNIDAD_ADMINSITRATIVA</th>\n",
       "      <th>PUESTO</th>\n",
       "      <th>INGRESO_EGRESO</th>\n",
       "    </tr>\n",
       "  </thead>\n",
       "  <tbody>\n",
       "    <tr>\n",
       "      <th>0</th>\n",
       "      <td>201505261122318465537</td>\n",
       "      <td>PRIVADO</td>\n",
       "      <td>ASISTENCIA EMPRESARIAL S.C.</td>\n",
       "      <td>DESPACHO DE CONTADORES PUBLICOS</td>\n",
       "      <td>AUDITOR</td>\n",
       "      <td>02/1994 - 02/1996</td>\n",
       "    </tr>\n",
       "    <tr>\n",
       "      <th>1</th>\n",
       "      <td>201505261122318465537</td>\n",
       "      <td>PRIVADO</td>\n",
       "      <td>PRIETO RUIZ DE VELASCO Y COMPANIA S.C.</td>\n",
       "      <td>FISCAL</td>\n",
       "      <td>AUDITOR</td>\n",
       "      <td>04/1997 - 04/2002</td>\n",
       "    </tr>\n",
       "    <tr>\n",
       "      <th>2</th>\n",
       "      <td>201505261122318465537</td>\n",
       "      <td>PUBLICO</td>\n",
       "      <td>FIDEICOMISO LIQUIDADOR DE INSTITUCIONES Y ORGA...</td>\n",
       "      <td>ORGANO INTERNO DE CONTROL</td>\n",
       "      <td>ANALISTA</td>\n",
       "      <td>04/2002 - 06/2003</td>\n",
       "    </tr>\n",
       "    <tr>\n",
       "      <th>3</th>\n",
       "      <td>201505261122318465537</td>\n",
       "      <td>PRIVADO</td>\n",
       "      <td>DISTRIBUIDORA DE BEBIDAS Y BASICOS S.A.DE C.V.</td>\n",
       "      <td>ADMINISTRACION</td>\n",
       "      <td>ADMINISTRADOR</td>\n",
       "      <td>08/1996 - 03/1997</td>\n",
       "    </tr>\n",
       "    <tr>\n",
       "      <th>4</th>\n",
       "      <td>201505261122318465537</td>\n",
       "      <td>PRIVADO</td>\n",
       "      <td>ROLLINNG HODING HALL MEXICO AGENTE DE SEGUROS</td>\n",
       "      <td>CONTABILIDAD</td>\n",
       "      <td>AUXIILIAR CONTABLE</td>\n",
       "      <td>02/1996 - 07/1996</td>\n",
       "    </tr>\n",
       "  </tbody>\n",
       "</table>\n",
       "</div>"
      ],
      "text/plain": [
       "                   ACUSE   SECTOR  \\\n",
       "0  201505261122318465537  PRIVADO   \n",
       "1  201505261122318465537  PRIVADO   \n",
       "2  201505261122318465537  PUBLICO   \n",
       "3  201505261122318465537  PRIVADO   \n",
       "4  201505261122318465537  PRIVADO   \n",
       "\n",
       "                                 INSTITUCION_EMPRESA  \\\n",
       "0                        ASISTENCIA EMPRESARIAL S.C.   \n",
       "1             PRIETO RUIZ DE VELASCO Y COMPANIA S.C.   \n",
       "2  FIDEICOMISO LIQUIDADOR DE INSTITUCIONES Y ORGA...   \n",
       "3     DISTRIBUIDORA DE BEBIDAS Y BASICOS S.A.DE C.V.   \n",
       "4      ROLLINNG HODING HALL MEXICO AGENTE DE SEGUROS   \n",
       "\n",
       "      AREA_O_UNIDAD_ADMINSITRATIVA              PUESTO     INGRESO_EGRESO  \n",
       "0  DESPACHO DE CONTADORES PUBLICOS             AUDITOR  02/1994 - 02/1996  \n",
       "1                           FISCAL             AUDITOR  04/1997 - 04/2002  \n",
       "2        ORGANO INTERNO DE CONTROL            ANALISTA  04/2002 - 06/2003  \n",
       "3                   ADMINISTRACION       ADMINISTRADOR  08/1996 - 03/1997  \n",
       "4                     CONTABILIDAD  AUXIILIAR CONTABLE  02/1996 - 07/1996  "
      ]
     },
     "execution_count": 45,
     "metadata": {},
     "output_type": "execute_result"
    }
   ],
   "source": [
    "df_exp_2003.head()"
   ]
  },
  {
   "cell_type": "code",
   "execution_count": 40,
   "metadata": {},
   "outputs": [
    {
     "data": {
      "text/plain": [
       "(452566, 6)"
      ]
     },
     "execution_count": 40,
     "metadata": {},
     "output_type": "execute_result"
    }
   ],
   "source": [
    "df_exp.shape"
   ]
  },
  {
   "cell_type": "code",
   "execution_count": 36,
   "metadata": {},
   "outputs": [
    {
     "data": {
      "text/plain": [
       "(469186, 6)"
      ]
     },
     "execution_count": 36,
     "metadata": {},
     "output_type": "execute_result"
    }
   ],
   "source": [
    "df_exp_2003.shape"
   ]
  }
 ],
 "metadata": {
  "kernelspec": {
   "display_name": "Python 3",
   "language": "python",
   "name": "python3"
  },
  "language_info": {
   "codemirror_mode": {
    "name": "ipython",
    "version": 3
   },
   "file_extension": ".py",
   "mimetype": "text/x-python",
   "name": "python",
   "nbconvert_exporter": "python",
   "pygments_lexer": "ipython3",
   "version": "3.6.9"
  }
 },
 "nbformat": 4,
 "nbformat_minor": 4
}
