{
 "cells": [
  {
   "cell_type": "code",
   "execution_count": 2,
   "metadata": {},
   "outputs": [],
   "source": [
    "import pandas as pd\n",
    "import networkx as nx\n",
    "import numpy as np\n",
    "import seaborn as sns\n",
    "import matplotlib.pyplot as plt\n",
    "\n",
    "import matplotlib.font_manager"
   ]
  },
  {
   "cell_type": "code",
   "execution_count": 3,
   "metadata": {},
   "outputs": [],
   "source": [
    "plt.rcParams.update({\n",
    "    \"text.usetex\": True,\n",
    "    \"font.family\": \"serif\",\n",
    "    \"font.sans-serif\": \"Times New Roman\"})"
   ]
  },
  {
   "cell_type": "code",
   "execution_count": 4,
   "metadata": {},
   "outputs": [],
   "source": [
    "def jaccard_index(x):\n",
    "    union = len(x[0] | x[1])\n",
    "    intersection = len(x[0] & x[1])\n",
    "    \n",
    "    return intersection / union"
   ]
  },
  {
   "cell_type": "code",
   "execution_count": 5,
   "metadata": {},
   "outputs": [],
   "source": [
    "def yearly_comparison(df, year_1, year_2, min_cnts=5, max_cnts=None):\n",
    "    \n",
    "    cnts_1 = df[df['year']==year_1]\n",
    "    cnts_2 = df[df['year']==year_2]\n",
    "\n",
    "    buyers = set(cnts_1.ubuyer.unique()) & set(cnts_2.ubuyer.unique())\n",
    "\n",
    "    B1 = cnts_1[cnts_1.ubuyer.isin(buyers)].groupby('ubuyer').usupplier.apply(set).rename(\"S1\").reset_index()\n",
    "    B1 = B1.drop_duplicates(subset='ubuyer')\n",
    "    B1['N1'] = B1['S1'].apply(len)\n",
    "    B2 = cnts_2[cnts_2.ubuyer.isin(buyers)].groupby('ubuyer').usupplier.apply(set).rename(\"S2\").reset_index()\n",
    "    B2 = B2.drop_duplicates(subset='ubuyer')\n",
    "    B2['N2'] = B2['S2'].apply(len)\n",
    "    B = pd.merge(B1, B2, on='ubuyer', how='left')\n",
    "    if max_cnts:\n",
    "        B = B[(B.N1 >= min_cnts) & (B.N2 >= min_cnts) & (B.N1 <= max_cnts) & (B.N2 <= max_cnts)]\n",
    "    else:\n",
    "        B = B[(B.N1 >= min_cnts) & (B.N2 >= min_cnts)]\n",
    "\n",
    "    B['jaccard'] = B[['S1', 'S2']].apply(jaccard_index, axis=1)\n",
    "\n",
    "    return pd.merge(B, cri, how='left')"
   ]
  },
  {
   "cell_type": "code",
   "execution_count": 6,
   "metadata": {},
   "outputs": [],
   "source": [
    "def yearly_comparison_supplier(df, year_1, year_2, lmin_cnts=5, rmin_cnts=0, lmax_cnts=np.inf, rmax_cnts=np.inf):\n",
    "    \n",
    "    cnts_1 = df[df['year']==year_1]\n",
    "    cnts_2 = df[df['year']==year_2]\n",
    "    \n",
    "    suppliers = set(cnts_1.usupplier.unique()) & set(cnts_2.usupplier.unique())\n",
    "\n",
    "    B1 = cnts_1[cnts_1.usupplier.isin(suppliers)].groupby('usupplier').ubuyer.apply(set).rename(\"S1\").reset_index()\n",
    "    B1 = B1.drop_duplicates(subset='usupplier')\n",
    "    B1['N1'] = B1['S1'].apply(len)\n",
    "    B2 = cnts_2[cnts_2.usupplier.isin(suppliers)].groupby('usupplier').ubuyer.apply(set).rename(\"S2\").reset_index()\n",
    "    B2 = B2.drop_duplicates(subset='usupplier')\n",
    "    B2['N2'] = B2['S2'].apply(len)\n",
    "    B = pd.merge(B1, B2, on='usupplier', how='left')\n",
    "    B['N1'] = B.N1.fillna(0)\n",
    "    B['N2'] = B.N2.fillna(0)\n",
    "    B['S1'] = B.S1.fillna({i: set() for i in B.index})\n",
    "    B['S2'] = B.S2.fillna({i: set() for i in B.index})\n",
    "    B = B[(B.N1 >= lmin_cnts) & (B.N1 <= lmax_cnts) & (B.N2 >= rmin_cnts) & (B.N2 <= rmax_cnts)]\n",
    "\n",
    "\n",
    "    B['jaccard'] = B[['S1', 'S2']].apply(jaccard_index, axis=1)\n",
    "\n",
    "    return B"
   ]
  },
  {
   "cell_type": "code",
   "execution_count": 7,
   "metadata": {},
   "outputs": [],
   "source": [
    "def yearly_corruption(df, year, min_cnts=5, max_cnts=None):\n",
    "    \n",
    "    chunk = df[df.year==year]\n",
    "    N = chunk.groupby('ubuyer').size().rename('NC').reset_index()\n",
    "    if max_cnts:\n",
    "        buyers = N[(N.NC>=min_cnts) & (N.NC<=max_cnts)]['ubuyer'].unique()\n",
    "    else:\n",
    "        buyers = N[N.NC >= min_cnts]['ubuyer'].unique()\n",
    "    B = chunk[chunk.ubuyer.isin(buyers)].groupby('ubuyer').CRI.mean().reset_index()\n",
    "\n",
    "    return B"
   ]
  },
  {
   "cell_type": "code",
   "execution_count": 8,
   "metadata": {},
   "outputs": [],
   "source": [
    "cnts = pd.read_csv(\"../data/pre-process/contratos_4.csv\", parse_dates=['start_date'])\n",
    "\n",
    "cnts['year'] = cnts.start_date.dt.year\n",
    "\n",
    "cnts = cnts.dropna(subset=['usupplier', 'ubuyer'])"
   ]
  },
  {
   "cell_type": "code",
   "execution_count": 9,
   "metadata": {},
   "outputs": [],
   "source": [
    "cnts_slevel = cnts[cnts.gvmnt_level!='F']"
   ]
  },
  {
   "cell_type": "code",
   "execution_count": 10,
   "metadata": {},
   "outputs": [],
   "source": [
    "cnts = cnts[cnts.gvmnt_level=='F']"
   ]
  },
  {
   "cell_type": "code",
   "execution_count": 11,
   "metadata": {},
   "outputs": [],
   "source": [
    "cri = cnts.groupby('ubuyer').CRI.mean().reset_index()"
   ]
  },
  {
   "cell_type": "markdown",
   "metadata": {},
   "source": [
    "# Jaccard measure for consecutive years\n",
    "    - All buyers\n",
    "    - Small buyers\n",
    "    - Big Buyers"
   ]
  },
  {
   "cell_type": "markdown",
   "metadata": {},
   "source": [
    "## All buyers"
   ]
  },
  {
   "cell_type": "code",
   "execution_count": 12,
   "metadata": {},
   "outputs": [],
   "source": [
    "data = []\n",
    "years = sorted(cnts.year.unique())\n",
    "for i in range(len(years) - 1):\n",
    "    B = yearly_comparison(cnts, years[i], years[i+1])\n",
    "    data.append([str(years[i]), B.jaccard.mean(), \"All\", B.CRI.mean()])\n",
    "#    B = yearly_comparison(cnts, years[i], years[i+1], max_cnts=10)\n",
    "#    data.append([str(years[i]), B.jaccard.mean(), \"Tiny\", B.CRI.mean()])\n",
    "    B = yearly_comparison(cnts, years[i], years[i+1], min_cnts=5, max_cnts=30)\n",
    "    data.append([str(years[i]), B.jaccard.mean(), r\"Small $(5 \\leq n \\leq 30)$\", B.CRI.mean()])\n",
    "    B = yearly_comparison(cnts, years[i], years[i+1], min_cnts=31)\n",
    "    data.append([str(years[i]), B.jaccard.mean(), r\"Big $(30 < n)$\", B.CRI.mean()])\n",
    "#    B = yearly_comparison(cnts, years[i], years[i+1], min_cnts=100)\n",
    "#    data.append([str(years[i]), B.jaccard.mean(), \"Huge\", B.CRI.mean()])\n",
    "\n",
    "df = pd.DataFrame(data, columns=['Year', 'Persistence', 'Buyer size', 'CRV'])"
   ]
  },
  {
   "cell_type": "code",
   "execution_count": 13,
   "metadata": {},
   "outputs": [
    {
     "data": {
      "image/png": "[encoded data removed]",
      "text/plain": [
       "<Figure size 360x180 with 1 Axes>"
      ]
     },
     "metadata": {
      "needs_background": "light"
     },
     "output_type": "display_data"
    }
   ],
   "source": [
    "fig, ax = plt.subplots(figsize=(5, 2.5))\n",
    "\n",
    "sns.lineplot(x='Year', y='Persistence', hue='Buyer size', data=df, marker=\"o\", ax=ax)\n",
    "#plt.legend(bbox_to_anchor=(1.05, 1), loc=2, borderaxespad=-0.1)\n",
    "plt.legend(loc=4, prop={'size': \"small\"}, frameon=False)\n",
    "plt.tight_layout()\n",
    "ax.set_ylim((0.126563672887047, 0.3525237683484298))\n",
    "fig.savefig(\"../figures/persistence_federal.pdf\")"
   ]
  },
  {
   "cell_type": "code",
   "execution_count": 14,
   "metadata": {},
   "outputs": [
    {
     "data": {
      "text/plain": [
       "(0.126563672887047, 0.3525237683484298)"
      ]
     },
     "execution_count": 14,
     "metadata": {},
     "output_type": "execute_result"
    }
   ],
   "source": [
    "ax.get_ylim()"
   ]
  },
  {
   "cell_type": "code",
   "execution_count": 15,
   "metadata": {},
   "outputs": [],
   "source": [
    "data = []\n",
    "years = sorted(cnts_slevel.year.unique())\n",
    "for i in range(len(years) - 1):\n",
    "    B = yearly_comparison(cnts_slevel, years[i], years[i+1])\n",
    "    data.append([str(years[i]), B.jaccard.mean(), \"All\", B.CRI.mean()])\n",
    "#    B = yearly_comparison(cnts_slevel, years[i], years[i+1], max_cnts_slevel=10)\n",
    "#    data.append([str(years[i]), B.jaccard.mean(), \"Tiny\", B.CRI.mean()])\n",
    "    B = yearly_comparison(cnts_slevel, years[i], years[i+1], min_cnts=5, max_cnts=30)\n",
    "    data.append([str(years[i]), B.jaccard.mean(), r\"Small $(5 \\leq n \\leq 30)$\", B.CRI.mean()])\n",
    "    B = yearly_comparison(cnts_slevel, years[i], years[i+1], min_cnts=31)\n",
    "    data.append([str(years[i]), B.jaccard.mean(), r\"Big $(30 < n)$\", B.CRI.mean()])\n",
    "#    B = yearly_comparison(cnts_slevel, years[i], years[i+1], min_cnts_slevel=100)\n",
    "#    data.append([str(years[i]), B.jaccard.mean(), \"Huge\", B.CRI.mean()])\n",
    "\n",
    "df_2 = pd.DataFrame(data, columns=['Year', 'Persistence', 'Buyer size', 'CRV'])"
   ]
  },
  {
   "cell_type": "code",
   "execution_count": 16,
   "metadata": {},
   "outputs": [
    {
     "data": {
      "image/png": "[encoded data removed]",
      "text/plain": [
       "<Figure size 360x180 with 1 Axes>"
      ]
     },
     "metadata": {
      "needs_background": "light"
     },
     "output_type": "display_data"
    }
   ],
   "source": [
    "fig, ax = plt.subplots(figsize=(5, 2.5))\n",
    "\n",
    "sns.lineplot(x='Year', y='Persistence', hue='Buyer size', data=df_2, marker=\"o\", ax=ax)\n",
    "#plt.legend(bbox_to_anchor=(1.05, 1), loc=2, borderaxespad=-0.1)\n",
    "plt.legend(loc=1, prop={'size': \"small\"}, frameon=False)\n",
    "ax.set_ylim((0.126563672887047, 0.3525237683484298))\n",
    "plt.tight_layout()\n",
    "fig.savefig(\"../figures/persistence_local.pdf\")"
   ]
  },
  {
   "cell_type": "code",
   "execution_count": 17,
   "metadata": {},
   "outputs": [
    {
     "data": {
      "text/plain": [
       "(0.126563672887047, 0.3525237683484298)"
      ]
     },
     "execution_count": 17,
     "metadata": {},
     "output_type": "execute_result"
    }
   ],
   "source": [
    "ax.get_ylim()"
   ]
  },
  {
   "cell_type": "markdown",
   "metadata": {},
   "source": [
    "# Electoral change by State"
   ]
  },
  {
   "cell_type": "code",
   "execution_count": 18,
   "metadata": {},
   "outputs": [],
   "source": [
    "electoral_years = {\n",
    "    \"AGU\": 2016,\n",
    "    \"BCN\": 2013,\n",
    "    \"BCS\": 2015,\n",
    "    \"CAM\": 2015,\n",
    "    \"CHP\": 2018,\n",
    "    \"CHH\": 2016,\n",
    "    \"CMX\": 2018,\n",
    "    \"COA\": 2017,\n",
    "    \"COL\": 2016,\n",
    "    \"DUR\": 2016,\n",
    "    \"GUA\": 2018,\n",
    "    \"GRO\": 2015,\n",
    "    \"HID\": 2016,\n",
    "    \"JAL\": 2018,\n",
    "    \"MEX\": 2017,\n",
    "    \"MIC\": 2015,\n",
    "    \"MOR\": 2018,\n",
    "    \"NAY\": 2017,\n",
    "    \"NLE\": 2015,\n",
    "    \"OAX\": 2016,\n",
    "    \"PUE\": 2018,\n",
    "    \"QUE\": 2015,\n",
    "    \"ROO\": 2016,\n",
    "    \"SLP\": 2015,\n",
    "    \"SIN\": 2017,\n",
    "    \"SON\": 2015,\n",
    "    \"TAB\": 2018,\n",
    "    \"TAM\": 2016,\n",
    "    \"TLA\": 2016,\n",
    "    \"VER\": 2018,\n",
    "    \"YUC\": 2018,\n",
    "    \"ZAC\": 2016}"
   ]
  },
  {
   "cell_type": "code",
   "execution_count": 19,
   "metadata": {},
   "outputs": [
    {
     "data": {
      "text/plain": [
       "[2011, 2012, 2013, 2014, 2015, 2016, 2017, 2018, 2019]"
      ]
     },
     "execution_count": 19,
     "metadata": {},
     "output_type": "execute_result"
    }
   ],
   "source": [
    "years"
   ]
  },
  {
   "cell_type": "code",
   "execution_count": 20,
   "metadata": {},
   "outputs": [],
   "source": [
    "data = []\n",
    "years = sorted(cnts.year.unique())\n",
    "for state in sorted(cnts.code_b.unique()):\n",
    "    for i in range(len(years) - 1):\n",
    "        if  electoral_years[state] == years[i]:\n",
    "            B = yearly_comparison(cnts[cnts.code_b==state], years[i], years[i+1])\n",
    "            data.append([str(years[i]), B.jaccard.mean(), state, \"red\"])\n",
    "        elif electoral_years[state] - 1 == years[i]:\n",
    "            B = yearly_comparison(cnts[cnts.code_b==state], years[i], years[i+1])\n",
    "            data.append([str(years[i]), B.jaccard.mean(), state, \"green\"])\n",
    "        else:\n",
    "            B = yearly_comparison(cnts[cnts.code_b==state], years[i], years[i+1])\n",
    "            data.append([str(years[i]), B.jaccard.mean(), state, \"blue\"])"
   ]
  },
  {
   "cell_type": "code",
   "execution_count": 21,
   "metadata": {},
   "outputs": [],
   "source": [
    "df_state = pd.DataFrame(data, columns=[\"Year\", \"Persistence\", \"State\", \"Electoral\"])"
   ]
  },
  {
   "cell_type": "code",
   "execution_count": 22,
   "metadata": {},
   "outputs": [],
   "source": [
    "df_state[\"Year\"] = df_state[\"Year\"].astype(str)"
   ]
  },
  {
   "cell_type": "markdown",
   "metadata": {},
   "source": [
    "## Federal level"
   ]
  },
  {
   "cell_type": "code",
   "execution_count": 23,
   "metadata": {},
   "outputs": [],
   "source": [
    "df_state_gb = df_state.groupby(['State']).size().reset_index().drop(0, axis=1)\n",
    "\n",
    "delta_p = (df_state[df_state.Electoral=='red'].sort_values(by=\"State\").Persistence.values -\n",
    "                       df_state[df_state.Electoral=='green'].sort_values(by=\"State\").Persistence.values)\n",
    "\n",
    "df_state_gb['delta'] = delta_p"
   ]
  },
  {
   "cell_type": "code",
   "execution_count": 24,
   "metadata": {},
   "outputs": [
    {
     "data": {
      "image/png": "[encoded data removed]",
      "text/plain": [
       "<Figure size 432x288 with 1 Axes>"
      ]
     },
     "metadata": {
      "needs_background": "light"
     },
     "output_type": "display_data"
    }
   ],
   "source": [
    "sns.scatterplot(x=\"State\", y=\"delta\", data=df_state_gb.sort_values(by=\"delta\"))\n",
    "plt.axhline(0, linestyle=\"--\", color=\"gray\", linewidth=2, alpha=.5)\n",
    "plt.ylabel(r\"$\\Delta$ Persistence (Electoral year)\")\n",
    "plt.xticks(rotation=90)\n",
    "plt.tight_layout()\n",
    "plt.savefig(\"../figures/federal_persistence_change.pdf\")"
   ]
  },
  {
   "cell_type": "markdown",
   "metadata": {},
   "source": [
    "## State level"
   ]
  },
  {
   "cell_type": "code",
   "execution_count": 25,
   "metadata": {},
   "outputs": [
    {
     "name": "stdout",
     "output_type": "stream",
     "text": [
      "AGU\n",
      "BCN\n",
      "BCS\n",
      "CAM\n",
      "CHH\n",
      "CHP\n",
      "CMX\n",
      "COA\n",
      "COL\n",
      "DUR\n",
      "GRO\n",
      "GUA\n",
      "HID\n",
      "JAL\n",
      "MEX\n",
      "MIC\n",
      "MOR\n",
      "NAY\n",
      "NLE\n",
      "OAX\n",
      "PUE\n",
      "QUE\n",
      "ROO\n",
      "SIN\n",
      "SLP\n",
      "SON\n",
      "TAB\n",
      "TAM\n",
      "TLA\n",
      "VER\n",
      "YUC\n",
      "ZAC\n"
     ]
    }
   ],
   "source": [
    "data = []\n",
    "years = sorted(cnts_slevel.year.unique())\n",
    "for state in sorted(cnts_slevel.code_b.unique()):\n",
    "    print(state)\n",
    "    for i in range(len(years) - 1):\n",
    "        if  electoral_years[state] == years[i]:\n",
    "            B = yearly_comparison(cnts_slevel[cnts_slevel.code_b==state], years[i], years[i+1], min_cnts=1)\n",
    "            data.append([str(years[i]), B.jaccard.mean(), state, \"red\"])\n",
    "        elif electoral_years[state] - 1 == years[i]:\n",
    "            B = yearly_comparison(cnts[cnts.code_b==state], years[i], years[i+1])\n",
    "            data.append([str(years[i]), B.jaccard.mean(), state, \"green\"])\n",
    "        else:\n",
    "            B = yearly_comparison(cnts_slevel[cnts_slevel.code_b==state], years[i], years[i+1], min_cnts=1)\n",
    "            data.append([str(years[i]), B.jaccard.mean(), state, \"blue\"])"
   ]
  },
  {
   "cell_type": "code",
   "execution_count": 26,
   "metadata": {},
   "outputs": [],
   "source": [
    "df_state_2 = pd.DataFrame(data, columns=[\"Year\", \"Persistence\", \"State\", \"Electoral\"])"
   ]
  },
  {
   "cell_type": "code",
   "execution_count": 27,
   "metadata": {},
   "outputs": [],
   "source": [
    "df_state_2[\"Year\"] = df_state_2[\"Year\"].astype(str)"
   ]
  },
  {
   "cell_type": "code",
   "execution_count": 28,
   "metadata": {},
   "outputs": [
    {
     "data": {
      "text/html": [
       "<div>\n",
       "<style scoped>\n",
       "    .dataframe tbody tr th:only-of-type {\n",
       "        vertical-align: middle;\n",
       "    }\n",
       "\n",
       "    .dataframe tbody tr th {\n",
       "        vertical-align: top;\n",
       "    }\n",
       "\n",
       "    .dataframe thead th {\n",
       "        text-align: right;\n",
       "    }\n",
       "</style>\n",
       "<table border=\"1\" class=\"dataframe\">\n",
       "  <thead>\n",
       "    <tr style=\"text-align: right;\">\n",
       "      <th></th>\n",
       "      <th>Year</th>\n",
       "      <th>Persistence</th>\n",
       "      <th>State</th>\n",
       "      <th>Electoral</th>\n",
       "    </tr>\n",
       "  </thead>\n",
       "  <tbody>\n",
       "    <tr>\n",
       "      <th>0</th>\n",
       "      <td>2011</td>\n",
       "      <td>0.165589</td>\n",
       "      <td>AGU</td>\n",
       "      <td>blue</td>\n",
       "    </tr>\n",
       "    <tr>\n",
       "      <th>1</th>\n",
       "      <td>2012</td>\n",
       "      <td>0.159301</td>\n",
       "      <td>AGU</td>\n",
       "      <td>blue</td>\n",
       "    </tr>\n",
       "    <tr>\n",
       "      <th>2</th>\n",
       "      <td>2013</td>\n",
       "      <td>0.134366</td>\n",
       "      <td>AGU</td>\n",
       "      <td>blue</td>\n",
       "    </tr>\n",
       "    <tr>\n",
       "      <th>3</th>\n",
       "      <td>2014</td>\n",
       "      <td>0.215146</td>\n",
       "      <td>AGU</td>\n",
       "      <td>blue</td>\n",
       "    </tr>\n",
       "    <tr>\n",
       "      <th>4</th>\n",
       "      <td>2015</td>\n",
       "      <td>0.256225</td>\n",
       "      <td>AGU</td>\n",
       "      <td>green</td>\n",
       "    </tr>\n",
       "  </tbody>\n",
       "</table>\n",
       "</div>"
      ],
      "text/plain": [
       "   Year  Persistence State Electoral\n",
       "0  2011     0.165589   AGU      blue\n",
       "1  2012     0.159301   AGU      blue\n",
       "2  2013     0.134366   AGU      blue\n",
       "3  2014     0.215146   AGU      blue\n",
       "4  2015     0.256225   AGU     green"
      ]
     },
     "execution_count": 28,
     "metadata": {},
     "output_type": "execute_result"
    }
   ],
   "source": [
    "df_state_2.head()"
   ]
  },
  {
   "cell_type": "code",
   "execution_count": 29,
   "metadata": {},
   "outputs": [
    {
     "data": {
      "text/html": [
       "<div>\n",
       "<style scoped>\n",
       "    .dataframe tbody tr th:only-of-type {\n",
       "        vertical-align: middle;\n",
       "    }\n",
       "\n",
       "    .dataframe tbody tr th {\n",
       "        vertical-align: top;\n",
       "    }\n",
       "\n",
       "    .dataframe thead th {\n",
       "        text-align: right;\n",
       "    }\n",
       "</style>\n",
       "<table border=\"1\" class=\"dataframe\">\n",
       "  <thead>\n",
       "    <tr style=\"text-align: right;\">\n",
       "      <th></th>\n",
       "      <th>Year</th>\n",
       "      <th>Persistence</th>\n",
       "      <th>State</th>\n",
       "      <th>Electoral</th>\n",
       "    </tr>\n",
       "  </thead>\n",
       "  <tbody>\n",
       "    <tr>\n",
       "      <th>152</th>\n",
       "      <td>2011</td>\n",
       "      <td>0.211810</td>\n",
       "      <td>OAX</td>\n",
       "      <td>blue</td>\n",
       "    </tr>\n",
       "    <tr>\n",
       "      <th>153</th>\n",
       "      <td>2012</td>\n",
       "      <td>0.249941</td>\n",
       "      <td>OAX</td>\n",
       "      <td>blue</td>\n",
       "    </tr>\n",
       "    <tr>\n",
       "      <th>154</th>\n",
       "      <td>2013</td>\n",
       "      <td>0.238881</td>\n",
       "      <td>OAX</td>\n",
       "      <td>blue</td>\n",
       "    </tr>\n",
       "    <tr>\n",
       "      <th>155</th>\n",
       "      <td>2014</td>\n",
       "      <td>0.250557</td>\n",
       "      <td>OAX</td>\n",
       "      <td>blue</td>\n",
       "    </tr>\n",
       "    <tr>\n",
       "      <th>156</th>\n",
       "      <td>2015</td>\n",
       "      <td>0.265673</td>\n",
       "      <td>OAX</td>\n",
       "      <td>green</td>\n",
       "    </tr>\n",
       "    <tr>\n",
       "      <th>157</th>\n",
       "      <td>2016</td>\n",
       "      <td>0.258689</td>\n",
       "      <td>OAX</td>\n",
       "      <td>red</td>\n",
       "    </tr>\n",
       "    <tr>\n",
       "      <th>158</th>\n",
       "      <td>2017</td>\n",
       "      <td>0.342041</td>\n",
       "      <td>OAX</td>\n",
       "      <td>blue</td>\n",
       "    </tr>\n",
       "    <tr>\n",
       "      <th>159</th>\n",
       "      <td>2018</td>\n",
       "      <td>0.242844</td>\n",
       "      <td>OAX</td>\n",
       "      <td>blue</td>\n",
       "    </tr>\n",
       "  </tbody>\n",
       "</table>\n",
       "</div>"
      ],
      "text/plain": [
       "     Year  Persistence State Electoral\n",
       "152  2011     0.211810   OAX      blue\n",
       "153  2012     0.249941   OAX      blue\n",
       "154  2013     0.238881   OAX      blue\n",
       "155  2014     0.250557   OAX      blue\n",
       "156  2015     0.265673   OAX     green\n",
       "157  2016     0.258689   OAX       red\n",
       "158  2017     0.342041   OAX      blue\n",
       "159  2018     0.242844   OAX      blue"
      ]
     },
     "execution_count": 29,
     "metadata": {},
     "output_type": "execute_result"
    }
   ],
   "source": [
    "df_state[df_state.State=='OAX']"
   ]
  },
  {
   "cell_type": "code",
   "execution_count": 30,
   "metadata": {},
   "outputs": [],
   "source": [
    "df_state_2_gb = df_state_2.groupby(['State']).size().reset_index().drop(0, axis=1)\n",
    "df_state_2_gb = df_state_2_gb.sort_values(by=\"State\")\n",
    "\n",
    "delta_p = (df_state_2[df_state_2.Electoral=='red'].sort_values(by=\"State\").Persistence.values -\n",
    "                       df_state_2[df_state_2.Electoral=='green'].sort_values(by=\"State\").Persistence.values)\n",
    "\n",
    "df_state_2_gb['delta'] = delta_p"
   ]
  },
  {
   "cell_type": "code",
   "execution_count": 31,
   "metadata": {},
   "outputs": [],
   "source": [
    "df_state_gb['Contract'] = 'Federal'"
   ]
  },
  {
   "cell_type": "code",
   "execution_count": 32,
   "metadata": {},
   "outputs": [],
   "source": [
    "df_state_2_gb['Contract'] = 'Local'"
   ]
  },
  {
   "cell_type": "code",
   "execution_count": 33,
   "metadata": {},
   "outputs": [],
   "source": [
    "states = pd.concat([df_state_gb[['State', 'delta', 'Contract']], df_state_2_gb])"
   ]
  },
  {
   "cell_type": "code",
   "execution_count": 34,
   "metadata": {},
   "outputs": [
    {
     "data": {
      "image/png": "[encoded data removed]",
      "text/plain": [
       "<Figure size 360x288 with 1 Axes>"
      ]
     },
     "metadata": {
      "needs_background": "light"
     },
     "output_type": "display_data"
    }
   ],
   "source": [
    "fig, ax = plt.subplots(figsize=(5, 4))\n",
    "with sns.color_palette([\"#bbbbcc\", \"#5599bb\"]):\n",
    "    sns.scatterplot(x=\"State\", y=\"delta\", hue=\"Contract\",\n",
    "                data=states.sort_values(by=\"delta\"), hue_order=['Federal', 'Local'], ax=ax)\n",
    "plt.axhline(0, linestyle=\"--\", color=\"gray\", linewidth=2, alpha=.5)\n",
    "plt.legend(frameon=False)\n",
    "plt.ylabel(r\"$\\Delta$ Persistence (Local electoral year)\")\n",
    "plt.xticks(rotation=90)\n",
    "plt.tight_layout()\n",
    "ax.tick_params(axis=\"x\", labelsize='small')\n",
    "plt.savefig(\"../figures/persistence_local_federal.pdf\")"
   ]
  },
  {
   "cell_type": "markdown",
   "metadata": {},
   "source": [
    "# Figure 3"
   ]
  },
  {
   "cell_type": "markdown",
   "metadata": {},
   "source": [
    "# State Level"
   ]
  },
  {
   "cell_type": "code",
   "execution_count": 35,
   "metadata": {},
   "outputs": [],
   "source": [
    "years = sorted(cnts_slevel.year.unique())\n",
    "dfs_state = []\n",
    "for state in sorted(cnts_slevel.code_b.unique()):\n",
    "    dfs = []\n",
    "    for i in range(len(years) - 1):\n",
    "        if  electoral_years[state] == years[i]:\n",
    "            B = yearly_comparison(cnts_slevel[cnts_slevel.code_b==state], years[i], years[i+1], min_cnts=1)[['ubuyer', 'jaccard']]\n",
    "            B['Electoral'] = \"Post\"\n",
    "            B['State'] = state\n",
    "            dfs.append(B)\n",
    "        elif electoral_years[state] - 1 == years[i]:\n",
    "            B = yearly_comparison(cnts_slevel[cnts_slevel.code_b==state], years[i], years[i+1])[['ubuyer', 'jaccard']]\n",
    "            B['Electoral'] = \"Pre\"\n",
    "            B['State'] = state\n",
    "            dfs.append(B)\n",
    "    dfs_state.append(pd.concat(dfs))\n",
    "df_3 = pd.concat(dfs_state)"
   ]
  },
  {
   "cell_type": "code",
   "execution_count": 36,
   "metadata": {},
   "outputs": [
    {
     "data": {
      "image/png": "[encoded data removed]",
      "text/plain": [
       "<Figure size 288x720 with 1 Axes>"
      ]
     },
     "metadata": {
      "needs_background": "light"
     },
     "output_type": "display_data"
    }
   ],
   "source": [
    "fig, ax = plt.subplots(figsize=(4, 10))\n",
    "sns.boxplot(y=\"State\", x=\"jaccard\", hue=\"Electoral\", data=df_3, ax=ax, showfliers=False, whis=.1)\n",
    "plt.xlabel(\"Persistence\")\n",
    "plt.legend(loc=1, prop={'size': \"small\"})\n",
    "plt.xticks(rotation=90)\n",
    "plt.savefig(\"../figures/persistence_per_state_local.pdf\");"
   ]
  },
  {
   "cell_type": "markdown",
   "metadata": {},
   "source": [
    "# Federal level"
   ]
  },
  {
   "cell_type": "code",
   "execution_count": 37,
   "metadata": {},
   "outputs": [],
   "source": [
    "years = sorted(cnts.year.unique())\n",
    "dfs_state = []\n",
    "for state in sorted(cnts.code_b.unique()):\n",
    "    dfs = []\n",
    "    for i in range(len(years) - 1):\n",
    "        if  electoral_years[state] == years[i]:\n",
    "            B = yearly_comparison(cnts[cnts.code_b==state], years[i], years[i+1], min_cnts=1)[['ubuyer', 'jaccard']]\n",
    "            B['Electoral'] = \"Post\"\n",
    "            B['State'] = state\n",
    "            dfs.append(B)\n",
    "        elif electoral_years[state] - 1 == years[i]:\n",
    "            B = yearly_comparison(cnts[cnts.code_b==state], years[i], years[i+1])[['ubuyer', 'jaccard']]\n",
    "            B['Electoral'] = \"Pre\"\n",
    "            B['State'] = state\n",
    "            dfs.append(B)\n",
    "    dfs_state.append(pd.concat(dfs))\n",
    "df_4 = pd.concat(dfs_state)"
   ]
  },
  {
   "cell_type": "code",
   "execution_count": 38,
   "metadata": {},
   "outputs": [
    {
     "data": {
      "image/png": "[encoded data removed]",
      "text/plain": [
       "<Figure size 360x432 with 2 Axes>"
      ]
     },
     "metadata": {
      "needs_background": "light"
     },
     "output_type": "display_data"
    }
   ],
   "source": [
    "fig, ax = plt.subplots(1,2,figsize=(5, 6), sharey=True)\n",
    "g = sns.boxplot(y=\"State\", x=\"jaccard\", hue=\"Electoral\", data=df_4, ax=ax[0], showfliers=False, whis=.1)\n",
    "ax[0].get_legend().remove()\n",
    "ax[0].set_xlabel('')\n",
    "ax[0].set_ylabel('State', fontsize=10)\n",
    "ax[0].tick_params(axis=\"y\", labelsize='small')\n",
    "ax[0].text(0.5, 1.02,'Federal',\n",
    "     horizontalalignment='center',\n",
    "     verticalalignment='center',\n",
    "     transform = ax[0].transAxes)\n",
    "ax[0].text(0.475, 0.05,'Persistence',\n",
    "     horizontalalignment='center',\n",
    "     verticalalignment='center',\n",
    "     transform = fig.transFigure)\n",
    "\n",
    "# plt.legend(loc=1, prop={'size': \"small\"})\n",
    "g_1 = sns.boxplot(y=\"State\", x=\"jaccard\", hue=\"Electoral\", data=df_3, ax=ax[1], showfliers=False, whis=.1)\n",
    "ax[1].legend(title=\"Election\", bbox_to_anchor=(1, .5))\n",
    "ax[1].set_xlabel('')\n",
    "ax[1].set_ylabel('')\n",
    "ax[1].text(0.5, 1.02,'Local',\n",
    "     horizontalalignment='center',\n",
    "     verticalalignment='center',\n",
    "     transform = ax[1].transAxes)\n",
    "plt.tight_layout()\n",
    "#plt.xticks(rotation=90)\n",
    "plt.savefig(\"../figures/persistence_per_state_federal_and_local.pdf\");"
   ]
  },
  {
   "cell_type": "markdown",
   "metadata": {},
   "source": [
    "# Persistence change when a party changed and a party remained"
   ]
  },
  {
   "cell_type": "code",
   "execution_count": 350,
   "metadata": {},
   "outputs": [],
   "source": [
    "electoral_years = {\n",
    "    \"AGU\": True,\n",
    "    \"BCN\": True,\n",
    "    \"BCS\": False,\n",
    "    \"CAM\": False,\n",
    "    \"CHP\": True,\n",
    "    \"CHH\": True,\n",
    "    \"CMX\": True,\n",
    "    \"COA\": False,\n",
    "    \"COL\": False,\n",
    "    \"DUR\": True,\n",
    "    \"GUA\": False,\n",
    "    \"GRO\": True,\n",
    "    \"HID\": False,\n",
    "    \"JAL\": True,\n",
    "    \"MEX\": False,\n",
    "    \"MIC\": True,\n",
    "    \"MOR\": True,\n",
    "    \"NAY\": True,\n",
    "    \"NLE\": True,\n",
    "    \"OAX\": True,\n",
    "    \"PUE\": True,\n",
    "    \"QUE\": True,\n",
    "    \"ROO\": True,\n",
    "    \"SLP\": False,\n",
    "    \"SIN\": True,\n",
    "    \"SON\": True,\n",
    "    \"TAB\": True,\n",
    "    \"TAM\": True,\n",
    "    \"TLA\": False,\n",
    "    \"VER\": True,\n",
    "    \"YUC\": True,\n",
    "    \"ZAC\": False}"
   ]
  },
  {
   "cell_type": "markdown",
   "metadata": {},
   "source": [
    "# Persistence change in electoral years by type of service\n",
    "\n",
    "Defense is kind of corrupted. We know that thanks to many late scandals. Let's see if we can target them be the number of desapeared companies from one year to the next."
   ]
  },
  {
   "cell_type": "code",
   "execution_count": 302,
   "metadata": {},
   "outputs": [],
   "source": [
    "ramos = cnts.groupby('desc_ramo').ramo.first().reset_index()"
   ]
  },
  {
   "cell_type": "code",
   "execution_count": 311,
   "metadata": {},
   "outputs": [],
   "source": [
    "cnts = cnts.drop('ramo', axis=1)"
   ]
  },
  {
   "cell_type": "code",
   "execution_count": 312,
   "metadata": {},
   "outputs": [],
   "source": [
    "cnts = pd.merge(cnts, ramos, how='left')"
   ]
  },
  {
   "cell_type": "code",
   "execution_count": 340,
   "metadata": {},
   "outputs": [],
   "source": [
    "ramos = [\n",
    "    'Defensa Nacional',\n",
    "    'Procuraduría General de la República',\n",
    "    'Marina'\n",
    "    \n",
    "]"
   ]
  },
  {
   "cell_type": "code",
   "execution_count": 335,
   "metadata": {},
   "outputs": [
    {
     "data": {
      "text/plain": [
       "Instituto Mexicano del Seguro Social                                                             237165\n",
       "Energía                                                                                          214308\n",
       "Bienestar                                                                                        104695\n",
       "Salud                                                                                             89505\n",
       "Comunicaciones y Transportes                                                                      82537\n",
       "Hacienda y Crédito Público                                                                        73265\n",
       "Agricultura y Desarrollo Rural                                                                    70631\n",
       "Instituto de Seguridad y Servicios Sociales de los Trabajadores del Estado                        69150\n",
       "Educación Pública                                                                                 60696\n",
       "Medio Ambiente y Recursos Naturales                                                               37437\n",
       "Consejo Nacional de Ciencia y Tecnología                                                          33379\n",
       "Cultura                                                                                           19653\n",
       "Marina                                                                                            16621\n",
       "Defensa Nacional                                                                                  15760\n",
       "Economía                                                                                          14753\n",
       "Gobernación                                                                                       12802\n",
       "Turismo                                                                                           10497\n",
       "Entidades no Sectorizadas                                                                          8355\n",
       "Función Pública                                                                                    6587\n",
       "Trabajo y Previsión Social                                                                         5853\n",
       "Desarrollo Agrario, Territorial y Urbano                                                           5140\n",
       "Procuraduría General de la República                                                               3244\n",
       "Información Nacional Estadística y Geográfica                                                      2784\n",
       "Relaciones Exteriores                                                                              1761\n",
       "Oficina de la Presidencia de la República                                                          1281\n",
       "Comisión Federal de Competencia Económica                                                          1020\n",
       "Instituto Federal de Telecomunicaciones                                                             979\n",
       "Tribunal Federal de Justicia Administrativa                                                         897\n",
       "Tribunales Agrarios                                                                                 371\n",
       "Comisión Reguladora de Energía                                                                      309\n",
       "Consejería Jurídica del Ejecutivo Federal                                                           298\n",
       "Inteligencia                                                                                        141\n",
       "Comisión Nacional de Hidrocarburos                                                                  136\n",
       "Instituto Nacional de Transparencia, Acceso a la Información y Protección de Datos Personales       112\n",
       "Guardia Nacional                                                                                     47\n",
       "Seguridad                                                                                            12\n",
       "Name: desc_ramo, dtype: int64"
      ]
     },
     "execution_count": 335,
     "metadata": {},
     "output_type": "execute_result"
    }
   ],
   "source": [
    "cnts.desc_ramo.value_counts()"
   ]
  },
  {
   "cell_type": "code",
   "execution_count": 347,
   "metadata": {},
   "outputs": [],
   "source": [
    "data = []\n",
    "years = sorted(cnts.year.unique())\n",
    "for ramo in sorted(ramos):\n",
    "    for i in range(len(years) - 1):\n",
    "        B = yearly_comparison(cnts[cnts.desc_ramo==ramo], years[i], years[i+1], min_cnts=5)\n",
    "        data.append([str(years[i]), B.jaccard.mean(), ramo])"
   ]
  },
  {
   "cell_type": "code",
   "execution_count": 348,
   "metadata": {},
   "outputs": [],
   "source": [
    "df_ramo = pd.DataFrame(data, columns=['Year', 'Persistence', 'Ramo'])"
   ]
  },
  {
   "cell_type": "code",
   "execution_count": 349,
   "metadata": {},
   "outputs": [
    {
     "data": {
      "text/plain": [
       "<matplotlib.axes._subplots.AxesSubplot at 0x7f5ddae265c0>"
      ]
     },
     "execution_count": 349,
     "metadata": {},
     "output_type": "execute_result"
    },
    {
     "data": {
      "image/png": "[encoded data removed]",
      "text/plain": [
       "<Figure size 432x288 with 1 Axes>"
      ]
     },
     "metadata": {
      "needs_background": "light"
     },
     "output_type": "display_data"
    }
   ],
   "source": [
    "sns.lineplot(x=\"Year\", y=\"Persistence\", hue=\"Ramo\", data=df_ramo)"
   ]
  }
 ],
 "metadata": {
  "kernelspec": {
   "display_name": "Python 3",
   "language": "python",
   "name": "python3"
  },
  "language_info": {
   "codemirror_mode": {
    "name": "ipython",
    "version": 3
   },
   "file_extension": ".py",
   "mimetype": "text/x-python",
   "name": "python",
   "nbconvert_exporter": "python",
   "pygments_lexer": "ipython3",
   "version": "3.6.9"
  }
 },
 "nbformat": 4,
 "nbformat_minor": 4
}
