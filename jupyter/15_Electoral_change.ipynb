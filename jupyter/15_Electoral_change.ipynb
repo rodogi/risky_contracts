{
 "cells": [
  {
   "cell_type": "code",
   "execution_count": 1,
   "metadata": {},
   "outputs": [],
   "source": [
    "import pandas as pd\n",
    "import networkx as nx\n",
    "import numpy as np\n",
    "import seaborn as sns\n",
    "import matplotlib.pyplot as plt\n",
    "import scipy.cluster.hierarchy as sch\n",
    "\n",
    "import matplotlib.font_manager\n",
    "\n",
    "import datetime"
   ]
  },
  {
   "cell_type": "code",
   "execution_count": 2,
   "metadata": {},
   "outputs": [],
   "source": [
    "plt.rcParams.update({\n",
    "    \"text.usetex\": True,\n",
    "    \"font.family\": \"serif\",\n",
    "    \"font.sans-serif\": \"Times New Roman\"})"
   ]
  },
  {
   "cell_type": "code",
   "execution_count": 3,
   "metadata": {},
   "outputs": [],
   "source": [
    "def jaccard_index(x):\n",
    "    union = len(x[0] | x[1])\n",
    "    intersection = len(x[0] & x[1])\n",
    "    \n",
    "    return intersection / union"
   ]
  },
  {
   "cell_type": "code",
   "execution_count": 4,
   "metadata": {},
   "outputs": [],
   "source": [
    "def yearly_comparison(df, year_1, year_2, min_cnts=5, r_min_cnts=1, max_cnts=None):\n",
    "    \n",
    "    cnts_1 = df[df['year']==year_1]\n",
    "    cnts_2 = df[df['year']==year_2]\n",
    "\n",
    "    buyers = set(cnts_1.ubuyer.unique()) & set(cnts_2.ubuyer.unique())\n",
    "\n",
    "    B1 = cnts_1[cnts_1.ubuyer.isin(buyers)].groupby('ubuyer').usupplier.apply(set).rename(\"S1\").reset_index()\n",
    "    B1 = B1.drop_duplicates(subset='ubuyer')\n",
    "    B1['N1'] = B1['S1'].apply(len)\n",
    "    B2 = cnts_2[cnts_2.ubuyer.isin(buyers)].groupby('ubuyer').usupplier.apply(set).rename(\"S2\").reset_index()\n",
    "    B2 = B2.drop_duplicates(subset='ubuyer')\n",
    "    B2['N2'] = B2['S2'].apply(len)\n",
    "    B = pd.merge(B1, B2, on='ubuyer', how='left')\n",
    "    if max_cnts:\n",
    "        B = B[(B.N1 >= min_cnts) & (B.N2 >= min_cnts) & (B.N1 <= max_cnts) & (B.N2 <= max_cnts)]\n",
    "    else:\n",
    "        B = B[(B.N1 >= min_cnts) & (B.N2 >= r_min_cnts)]\n",
    "    B['jaccard'] = B[['S1', 'S2']].apply(jaccard_index, axis=1)\n",
    "\n",
    "    return pd.merge(B, cri, how='left')"
   ]
  },
  {
   "cell_type": "code",
   "execution_count": 5,
   "metadata": {},
   "outputs": [],
   "source": [
    "def yearly_comparison_supplier(df, year_1, year_2, lmin_cnts=5, rmin_cnts=0, lmax_cnts=np.inf, rmax_cnts=np.inf):\n",
    "    \n",
    "    cnts_1 = df[df['year']==year_1]\n",
    "    cnts_2 = df[df['year']==year_2]\n",
    "    \n",
    "    suppliers = set(cnts_1.usupplier.unique()) & set(cnts_2.usupplier.unique())\n",
    "\n",
    "    B1 = cnts_1[cnts_1.usupplier.isin(suppliers)].groupby('usupplier').ubuyer.apply(set).rename(\"S1\").reset_index()\n",
    "    B1 = B1.drop_duplicates(subset='usupplier')\n",
    "    B1['N1'] = B1['S1'].apply(len)\n",
    "    B2 = cnts_2[cnts_2.usupplier.isin(suppliers)].groupby('usupplier').ubuyer.apply(set).rename(\"S2\").reset_index()\n",
    "    B2 = B2.drop_duplicates(subset='usupplier')\n",
    "    B2['N2'] = B2['S2'].apply(len)\n",
    "    B = pd.merge(B1, B2, on='usupplier', how='left')\n",
    "    B['N1'] = B.N1.fillna(0)\n",
    "    B['N2'] = B.N2.fillna(0)\n",
    "    B['S1'] = B.S1.fillna({i: set() for i in B.index})\n",
    "    B['S2'] = B.S2.fillna({i: set() for i in B.index})\n",
    "    B = B[(B.N1 >= lmin_cnts) & (B.N1 <= lmax_cnts) & (B.N2 >= rmin_cnts) & (B.N2 <= rmax_cnts)]\n",
    "\n",
    "\n",
    "    B['jaccard'] = B[['S1', 'S2']].apply(jaccard_index, axis=1)\n",
    "\n",
    "    return B"
   ]
  },
  {
   "cell_type": "code",
   "execution_count": 6,
   "metadata": {},
   "outputs": [],
   "source": [
    "def yearly_corruption(df, year, min_cnts=5, max_cnts=None):\n",
    "    \n",
    "    chunk = df[df.year==year]\n",
    "    N = chunk.groupby('ubuyer').size().rename('NC').reset_index()\n",
    "    if max_cnts:\n",
    "        buyers = N[(N.NC>=min_cnts) & (N.NC<=max_cnts)]['ubuyer'].unique()\n",
    "    else:\n",
    "        buyers = N[N.NC >= min_cnts]['ubuyer'].unique()\n",
    "    B = chunk[chunk.ubuyer.isin(buyers)].groupby('ubuyer').CRI.mean().reset_index()\n",
    "\n",
    "    return B"
   ]
  },
  {
   "cell_type": "code",
   "execution_count": 7,
   "metadata": {},
   "outputs": [],
   "source": [
    "cnts = pd.read_csv(\"../data/pre-process/contratos_4.csv\", parse_dates=['start_date'])\n",
    "\n",
    "cnts['year'] = cnts.start_date.dt.year\n",
    "\n",
    "cnts = cnts.dropna(subset=['usupplier', 'ubuyer'])\n",
    "\n",
    "cnts_slevel = cnts[cnts.gvmnt_level=='S']\n",
    "\n",
    "cnts = cnts[cnts.gvmnt_level=='F']"
   ]
  },
  {
   "cell_type": "code",
   "execution_count": 8,
   "metadata": {},
   "outputs": [],
   "source": [
    "cri = cnts.groupby('ubuyer').CRI.mean().reset_index()"
   ]
  },
  {
   "cell_type": "markdown",
   "metadata": {},
   "source": [
    "# Jaccard measure for consecutive years\n",
    "    - All buyers\n",
    "    - Small buyers\n",
    "    - Big Buyers"
   ]
  },
  {
   "cell_type": "markdown",
   "metadata": {},
   "source": [
    "# Volatile nodes in election years"
   ]
  },
  {
   "cell_type": "markdown",
   "metadata": {},
   "source": [
    "## Federal 2018 election"
   ]
  },
  {
   "cell_type": "code",
   "execution_count": 84,
   "metadata": {},
   "outputs": [],
   "source": [
    "B = yearly_comparison(cnts, 2018, 2019)\n",
    "\n",
    "v_buyers = B[B.jaccard <= B.jaccard.quantile(.1)].ubuyer.unique()"
   ]
  },
  {
   "cell_type": "code",
   "execution_count": 109,
   "metadata": {},
   "outputs": [],
   "source": [
    "np.savetxt('../data/network/volatile_buyers.txt', v_buyers, fmt='%s', delimiter='\\n')"
   ]
  },
  {
   "cell_type": "code",
   "execution_count": 115,
   "metadata": {},
   "outputs": [],
   "source": [
    "sup_2018 = cnts[cnts.year==2018].groupby('usupplier').size().rename('N').reset_index()\n",
    "\n",
    "sup_2018 = set(sup_2018[sup_2018.N >= 1].usupplier.unique())\n",
    "\n",
    "sup_2018 = sup_2018 - set(cnts[cnts.year==2019].usupplier.unique())"
   ]
  },
  {
   "cell_type": "code",
   "execution_count": 118,
   "metadata": {},
   "outputs": [],
   "source": [
    "np.savetxt('../data/network/volatile_suppliers.txt', list(sup_2018), fmt='%s', delimiter='\\n')"
   ]
  },
  {
   "cell_type": "markdown",
   "metadata": {},
   "source": [
    "# Stable nodes in election years"
   ]
  },
  {
   "cell_type": "markdown",
   "metadata": {},
   "source": [
    "## Federal 2018 election"
   ]
  },
  {
   "cell_type": "code",
   "execution_count": 9,
   "metadata": {},
   "outputs": [],
   "source": [
    "B = yearly_comparison(cnts, 2018, 2019)\n",
    "\n",
    "v_buyers = B[B.jaccard >= B.jaccard.quantile(.9)].ubuyer.unique()"
   ]
  },
  {
   "cell_type": "code",
   "execution_count": 10,
   "metadata": {},
   "outputs": [],
   "source": [
    "np.savetxt('../data/network/stable_buyers.txt', v_buyers, fmt='%s', delimiter='\\n')"
   ]
  },
  {
   "cell_type": "markdown",
   "metadata": {},
   "source": [
    "## All buyers"
   ]
  },
  {
   "cell_type": "code",
   "execution_count": 73,
   "metadata": {},
   "outputs": [],
   "source": [
    "data = []\n",
    "years = sorted(cnts.year.unique())\n",
    "for i in range(len(years) - 1):\n",
    "    B = yearly_comparison(cnts, years[i], years[i+1])\n",
    "    data.append([str(years[i]), B.jaccard.mean(), \"All\", B.CRI.mean()])\n",
    "#    B = yearly_comparison(cnts, years[i], years[i+1], max_cnts=10)\n",
    "#    data.append([str(years[i]), B.jaccard.mean(), \"Tiny\", B.CRI.mean()])\n",
    "    B = yearly_comparison(cnts, years[i], years[i+1], min_cnts=5, max_cnts=30)\n",
    "    data.append([str(years[i]), B.jaccard.mean(), r\"Small $(5 \\leq n \\leq 30)$\", B.CRI.mean()])\n",
    "    B = yearly_comparison(cnts, years[i], years[i+1], min_cnts=31)\n",
    "    data.append([str(years[i]), B.jaccard.mean(), r\"Big $(30 < n)$\", B.CRI.mean()])\n",
    "#    B = yearly_comparison(cnts, years[i], years[i+1], min_cnts=100)\n",
    "#    data.append([str(years[i]), B.jaccard.mean(), \"Huge\", B.CRI.mean()])\n",
    "\n",
    "df = pd.DataFrame(data, columns=['Year', 'Persistence', 'Buyer size', 'CRV'])"
   ]
  },
  {
   "cell_type": "code",
   "execution_count": 19,
   "metadata": {},
   "outputs": [
    {
     "data": {
      "image/png": "[encoded data removed]",
      "text/plain": [
       "<Figure size 360x180 with 1 Axes>"
      ]
     },
     "metadata": {
      "needs_background": "light"
     },
     "output_type": "display_data"
    }
   ],
   "source": [
    "fig, ax = plt.subplots(figsize=(5, 2.5))\n",
    "\n",
    "sns.lineplot(x='Year', y='Persistence', hue='Buyer size', data=df, marker=\"o\", ax=ax)\n",
    "#plt.legend(bbox_to_anchor=(1.05, 1), loc=2, borderaxespad=-0.1)\n",
    "plt.legend(loc=4, prop={'size': \"small\"}, frameon=False)\n",
    "ax.set_ylim((0.126563672887047, 0.3525237683484298))\n",
    "ax.set_title('Federal contracts')\n",
    "plt.tight_layout()\n",
    "\n",
    "fig.savefig(\"../figures/persistence_federal.pdf\")"
   ]
  },
  {
   "cell_type": "code",
   "execution_count": 20,
   "metadata": {},
   "outputs": [],
   "source": [
    "data = []\n",
    "years = sorted(cnts_slevel.year.unique())\n",
    "for i in range(len(years) - 1):\n",
    "    B = yearly_comparison(cnts_slevel, years[i], years[i+1])\n",
    "    data.append([str(years[i]), B.jaccard.mean(), \"All\", B.CRI.mean()])\n",
    "#    B = yearly_comparison(cnts_slevel, years[i], years[i+1], max_cnts_slevel=10)\n",
    "#    data.append([str(years[i]), B.jaccard.mean(), \"Tiny\", B.CRI.mean()])\n",
    "    B = yearly_comparison(cnts_slevel, years[i], years[i+1], min_cnts=5, max_cnts=30)\n",
    "    data.append([str(years[i]), B.jaccard.mean(), r\"Small $(5 \\leq n \\leq 30)$\", B.CRI.mean()])\n",
    "    B = yearly_comparison(cnts_slevel, years[i], years[i+1], min_cnts=31)\n",
    "    data.append([str(years[i]), B.jaccard.mean(), r\"Big $(30 < n)$\", B.CRI.mean()])\n",
    "#    B = yearly_comparison(cnts_slevel, years[i], years[i+1], min_cnts_slevel=100)\n",
    "#    data.append([str(years[i]), B.jaccard.mean(), \"Huge\", B.CRI.mean()])\n",
    "\n",
    "df_2 = pd.DataFrame(data, columns=['Year', 'Persistence', 'Buyer size', 'CRV'])"
   ]
  },
  {
   "cell_type": "code",
   "execution_count": 21,
   "metadata": {},
   "outputs": [
    {
     "data": {
      "image/png": "[encoded data removed]",
      "text/plain": [
       "<Figure size 360x180 with 1 Axes>"
      ]
     },
     "metadata": {
      "needs_background": "light"
     },
     "output_type": "display_data"
    }
   ],
   "source": [
    "fig, ax = plt.subplots(figsize=(5, 2.5))\n",
    "\n",
    "sns.lineplot(x='Year', y='Persistence', hue='Buyer size', data=df_2, marker=\"o\", ax=ax)\n",
    "#plt.legend(bbox_to_anchor=(1.05, 1), loc=2, borderaxespad=-0.1)\n",
    "plt.legend(loc=1, prop={'size': \"small\"}, frameon=False)\n",
    "ax.set_ylim((0.126563672887047, 0.3525237683484298))\n",
    "ax.set_title('State contracts')\n",
    "\n",
    "plt.tight_layout()\n",
    "fig.savefig(\"../figures/persistence_local.pdf\")"
   ]
  },
  {
   "cell_type": "markdown",
   "metadata": {},
   "source": [
    "# Electoral change by State"
   ]
  },
  {
   "cell_type": "code",
   "execution_count": 119,
   "metadata": {},
   "outputs": [],
   "source": [
    "electoral_years = {\n",
    "    \"AGU\": 2016,\n",
    "    \"BCN\": 2013,\n",
    "    \"BCS\": 2015,\n",
    "    \"CAM\": 2015,\n",
    "    \"CHP\": 2018,\n",
    "    \"CHH\": 2016,\n",
    "    \"CMX\": 2018,\n",
    "    \"COA\": 2017,\n",
    "    \"COL\": 2016,\n",
    "    \"DUR\": 2016,\n",
    "    \"GUA\": 2018,\n",
    "    \"GRO\": 2015,\n",
    "    \"HID\": 2016,\n",
    "    \"JAL\": 2018,\n",
    "    \"MEX\": 2017,\n",
    "    \"MIC\": 2015,\n",
    "    \"MOR\": 2018,\n",
    "    \"NAY\": 2017,\n",
    "    \"NLE\": 2015,\n",
    "    \"OAX\": 2016,\n",
    "    \"PUE\": 2018,\n",
    "    \"QUE\": 2015,\n",
    "    \"ROO\": 2016,\n",
    "    \"SLP\": 2015,\n",
    "    \"SIN\": 2017,\n",
    "    \"SON\": 2015,\n",
    "    \"TAB\": 2018,\n",
    "    \"TAM\": 2016,\n",
    "    \"TLA\": 2016,\n",
    "    \"VER\": 2018,\n",
    "    \"YUC\": 2018,\n",
    "    \"ZAC\": 2016}"
   ]
  },
  {
   "cell_type": "code",
   "execution_count": 120,
   "metadata": {},
   "outputs": [],
   "source": [
    "df_ele = pd.DataFrame(electoral_years.items(), columns=['code', 'year'])"
   ]
  },
  {
   "cell_type": "code",
   "execution_count": 34,
   "metadata": {},
   "outputs": [
    {
     "data": {
      "text/plain": [
       "(32, 2)"
      ]
     },
     "execution_count": 34,
     "metadata": {},
     "output_type": "execute_result"
    }
   ],
   "source": [
    "df_ele.shape"
   ]
  },
  {
   "cell_type": "code",
   "execution_count": 32,
   "metadata": {},
   "outputs": [
    {
     "data": {
      "text/plain": [
       "2016    10\n",
       "2018     9\n",
       "2015     8\n",
       "2017     4\n",
       "2013     1\n",
       "Name: year, dtype: int64"
      ]
     },
     "execution_count": 32,
     "metadata": {},
     "output_type": "execute_result"
    }
   ],
   "source": [
    "df_ele.year.value_counts()"
   ]
  },
  {
   "cell_type": "code",
   "execution_count": 121,
   "metadata": {},
   "outputs": [],
   "source": [
    "data = []\n",
    "years = sorted(cnts.year.unique())\n",
    "for state in sorted(cnts.code_b.unique()):\n",
    "    for i in range(len(years) - 1):\n",
    "        if  electoral_years[state] == years[i]:\n",
    "            B = yearly_comparison(cnts[cnts.code_b==state], years[i], years[i+1])\n",
    "            data.append([str(years[i]), B.jaccard.mean(), state, \"red\"])\n",
    "        elif electoral_years[state] - 1 == years[i]:\n",
    "            B = yearly_comparison(cnts[cnts.code_b==state], years[i], years[i+1])\n",
    "            data.append([str(years[i]), B.jaccard.mean(), state, \"green\"])\n",
    "        else:\n",
    "            B = yearly_comparison(cnts[cnts.code_b==state], years[i], years[i+1])\n",
    "            data.append([str(years[i]), B.jaccard.mean(), state, \"blue\"])"
   ]
  },
  {
   "cell_type": "code",
   "execution_count": 36,
   "metadata": {},
   "outputs": [],
   "source": [
    "df_state = pd.DataFrame(data, columns=[\"Year\", \"Persistence\", \"State\", \"Electoral\"])"
   ]
  },
  {
   "cell_type": "code",
   "execution_count": 37,
   "metadata": {},
   "outputs": [],
   "source": [
    "df_state[\"Year\"] = df_state[\"Year\"].astype(str)"
   ]
  },
  {
   "cell_type": "markdown",
   "metadata": {},
   "source": [
    "## State level Volatile buyers and suppliers"
   ]
  },
  {
   "cell_type": "code",
   "execution_count": 255,
   "metadata": {},
   "outputs": [],
   "source": [
    "dfs = []\n",
    "for state in electoral_years:\n",
    "    y = electoral_years[state]\n",
    "    B = yearly_comparison(cnts_slevel[cnts_slevel.code_b==state], y, y+1, min_cnts=4)\n",
    "    B['year'] = y\n",
    "    B['state'] = state\n",
    "    dfs.append(B)"
   ]
  },
  {
   "cell_type": "code",
   "execution_count": 256,
   "metadata": {},
   "outputs": [],
   "source": [
    "B = pd.concat(dfs)"
   ]
  },
  {
   "cell_type": "code",
   "execution_count": 257,
   "metadata": {},
   "outputs": [],
   "source": [
    "B = B[B['N1'] >= 5]"
   ]
  },
  {
   "cell_type": "code",
   "execution_count": 271,
   "metadata": {},
   "outputs": [],
   "source": [
    "v_buyers = B[B.jaccard <= B.jaccard.quantile(.1)][['state', 'year', 'ubuyer']]"
   ]
  },
  {
   "cell_type": "code",
   "execution_count": 274,
   "metadata": {},
   "outputs": [],
   "source": [
    "v_buyers.to_csv('../data/network/state_volatile_buyers.csv', index=False)"
   ]
  },
  {
   "cell_type": "code",
   "execution_count": 242,
   "metadata": {},
   "outputs": [],
   "source": [
    "data_3 = []\n",
    "for code in electoral_years:\n",
    "    y = electoral_years[code]\n",
    "    sup_2018 = cnts_slevel[(cnts_slevel.year==y) & (cnts_slevel.code_b==code)].groupby('usupplier').size().rename('N').reset_index()\n",
    "    sup_2018 = set(sup_2018.usupplier.unique())\n",
    "\n",
    "    sup_2018 = sup_2018 - set(cnts_slevel[(cnts_slevel.year==y+1) & (cnts_slevel.code_b==code)].usupplier.unique())\n",
    "    for v in sup_2018:\n",
    "        data_3.append([code, y, v])"
   ]
  },
  {
   "cell_type": "code",
   "execution_count": 243,
   "metadata": {},
   "outputs": [],
   "source": [
    "state_suppliers = pd.DataFrame(data_3, columns=['state', 'year', 'usupplier'])"
   ]
  },
  {
   "cell_type": "code",
   "execution_count": 246,
   "metadata": {},
   "outputs": [],
   "source": [
    "state_suppliers.to_csv('../data/network/state_volatile_suppliers.csv', index=False)"
   ]
  },
  {
   "cell_type": "markdown",
   "metadata": {},
   "source": [
    "## Federal level"
   ]
  },
  {
   "cell_type": "code",
   "execution_count": 69,
   "metadata": {},
   "outputs": [],
   "source": [
    "df_state_gb = df_state.groupby(['State']).size().reset_index().drop(0, axis=1)\n",
    "\n",
    "delta_p = (df_state[df_state.Electoral=='red'].sort_values(by=\"State\").Persistence.values -\n",
    "                       df_state[df_state.Electoral=='green'].sort_values(by=\"State\").Persistence.values)\n",
    "\n",
    "df_state_gb['delta'] = delta_p"
   ]
  },
  {
   "cell_type": "code",
   "execution_count": 39,
   "metadata": {},
   "outputs": [
    {
     "data": {
      "image/png": "[encoded data removed]",
      "text/plain": [
       "<Figure size 432x288 with 1 Axes>"
      ]
     },
     "metadata": {
      "needs_background": "light"
     },
     "output_type": "display_data"
    }
   ],
   "source": [
    "sns.scatterplot(x=\"State\", y=\"delta\", data=df_state_gb.sort_values(by=\"delta\"))\n",
    "plt.axhline(0, linestyle=\"--\", color=\"gray\", linewidth=2, alpha=.5)\n",
    "plt.ylabel(r\"$\\Delta$ Persistence (Electoral year)\")\n",
    "plt.xticks(rotation=90)\n",
    "plt.tight_layout()\n",
    "plt.savefig(\"../figures/federal_persistence_change.pdf\")"
   ]
  },
  {
   "cell_type": "markdown",
   "metadata": {},
   "source": [
    "## State level"
   ]
  },
  {
   "cell_type": "code",
   "execution_count": 40,
   "metadata": {},
   "outputs": [
    {
     "name": "stdout",
     "output_type": "stream",
     "text": [
      "AGU\n",
      "BCN\n",
      "BCS\n",
      "CAM\n",
      "CHH\n",
      "CHP\n",
      "CMX\n",
      "COA\n",
      "COL\n",
      "DUR\n",
      "GRO\n",
      "GUA\n",
      "HID\n",
      "JAL\n",
      "MEX\n",
      "MIC\n",
      "MOR\n",
      "NAY\n",
      "NLE\n",
      "OAX\n",
      "PUE\n",
      "QUE\n",
      "ROO\n",
      "SIN\n",
      "SLP\n",
      "SON\n",
      "TAB\n",
      "TAM\n",
      "TLA\n",
      "VER\n",
      "YUC\n",
      "ZAC\n"
     ]
    }
   ],
   "source": [
    "data = []\n",
    "years = sorted(cnts_slevel.year.unique())\n",
    "for state in sorted(cnts_slevel.code_b.unique()):\n",
    "    print(state)\n",
    "    for i in range(len(years) - 1):\n",
    "        if  electoral_years[state] == years[i]:\n",
    "            B = yearly_comparison(cnts_slevel[cnts_slevel.code_b==state], years[i], years[i+1], min_cnts=1)\n",
    "            data.append([str(years[i]), B.jaccard.mean(), state, \"red\"])\n",
    "        elif electoral_years[state] - 1 == years[i]:\n",
    "            B = yearly_comparison(cnts[cnts.code_b==state], years[i], years[i+1])\n",
    "            data.append([str(years[i]), B.jaccard.mean(), state, \"green\"])\n",
    "        else:\n",
    "            B = yearly_comparison(cnts_slevel[cnts_slevel.code_b==state], years[i], years[i+1], min_cnts=1)\n",
    "            data.append([str(years[i]), B.jaccard.mean(), state, \"blue\"])"
   ]
  },
  {
   "cell_type": "code",
   "execution_count": 41,
   "metadata": {},
   "outputs": [],
   "source": [
    "df_state_2 = pd.DataFrame(data, columns=[\"Year\", \"Persistence\", \"State\", \"Electoral\"])"
   ]
  },
  {
   "cell_type": "code",
   "execution_count": 42,
   "metadata": {},
   "outputs": [],
   "source": [
    "df_state_2[\"Year\"] = df_state_2[\"Year\"].astype(str)"
   ]
  },
  {
   "cell_type": "code",
   "execution_count": 43,
   "metadata": {},
   "outputs": [],
   "source": [
    "df_state_2_gb = df_state_2.groupby(['State']).size().reset_index().drop(0, axis=1)\n",
    "df_state_2_gb = df_state_2_gb.sort_values(by=\"State\")\n",
    "\n",
    "delta_p = (df_state_2[df_state_2.Electoral=='red'].sort_values(by=\"State\").Persistence.values -\n",
    "                       df_state_2[df_state_2.Electoral=='green'].sort_values(by=\"State\").Persistence.values)\n",
    "\n",
    "df_state_2_gb['delta'] = delta_p"
   ]
  },
  {
   "cell_type": "code",
   "execution_count": 44,
   "metadata": {},
   "outputs": [],
   "source": [
    "df_state_gb['Contract'] = 'Federal'"
   ]
  },
  {
   "cell_type": "code",
   "execution_count": 45,
   "metadata": {},
   "outputs": [],
   "source": [
    "df_state_2_gb['Contract'] = 'Local'"
   ]
  },
  {
   "cell_type": "code",
   "execution_count": 46,
   "metadata": {},
   "outputs": [],
   "source": [
    "states = pd.concat([df_state_gb[['State', 'delta', 'Contract']], df_state_2_gb])"
   ]
  },
  {
   "cell_type": "code",
   "execution_count": 61,
   "metadata": {},
   "outputs": [],
   "source": [
    "def election_2018(x):\n",
    "    if electoral_years[x] == 2018:\n",
    "        return 'Yes'\n",
    "    else:\n",
    "        return 'No'"
   ]
  },
  {
   "cell_type": "code",
   "execution_count": 62,
   "metadata": {},
   "outputs": [],
   "source": [
    "states['2018 Election'] = states['State'].apply(election_2018)"
   ]
  },
  {
   "cell_type": "code",
   "execution_count": 68,
   "metadata": {},
   "outputs": [
    {
     "data": {
      "text/html": [
       "<div>\n",
       "<style scoped>\n",
       "    .dataframe tbody tr th:only-of-type {\n",
       "        vertical-align: middle;\n",
       "    }\n",
       "\n",
       "    .dataframe tbody tr th {\n",
       "        vertical-align: top;\n",
       "    }\n",
       "\n",
       "    .dataframe thead th {\n",
       "        text-align: right;\n",
       "    }\n",
       "</style>\n",
       "<table border=\"1\" class=\"dataframe\">\n",
       "  <thead>\n",
       "    <tr style=\"text-align: right;\">\n",
       "      <th></th>\n",
       "      <th>delta</th>\n",
       "      <th>election</th>\n",
       "      <th>Election</th>\n",
       "    </tr>\n",
       "    <tr>\n",
       "      <th>Contract</th>\n",
       "      <th></th>\n",
       "      <th></th>\n",
       "      <th></th>\n",
       "    </tr>\n",
       "  </thead>\n",
       "  <tbody>\n",
       "    <tr>\n",
       "      <th>Federal</th>\n",
       "      <td>0.016306</td>\n",
       "      <td>False</td>\n",
       "      <td>2015.695652</td>\n",
       "    </tr>\n",
       "    <tr>\n",
       "      <th>Local</th>\n",
       "      <td>-0.149641</td>\n",
       "      <td>False</td>\n",
       "      <td>2015.695652</td>\n",
       "    </tr>\n",
       "  </tbody>\n",
       "</table>\n",
       "</div>"
      ],
      "text/plain": [
       "             delta  election     Election\n",
       "Contract                                 \n",
       "Federal   0.016306     False  2015.695652\n",
       "Local    -0.149641     False  2015.695652"
      ]
     },
     "execution_count": 68,
     "metadata": {},
     "output_type": "execute_result"
    }
   ],
   "source": [
    "states[states.election==False].groupby('Contract').mean()"
   ]
  },
  {
   "cell_type": "code",
   "execution_count": 66,
   "metadata": {},
   "outputs": [
    {
     "data": {
      "text/plain": [
       "Contract\n",
       "Federal   -0.008193\n",
       "Local     -0.165006\n",
       "Name: delta, dtype: float64"
      ]
     },
     "execution_count": 66,
     "metadata": {},
     "output_type": "execute_result"
    }
   ],
   "source": [
    "states.groupby('Contract').delta.mean()"
   ]
  },
  {
   "cell_type": "code",
   "execution_count": 64,
   "metadata": {},
   "outputs": [
    {
     "data": {
      "image/png": "[encoded data removed]",
      "text/plain": [
       "<Figure size 360x288 with 1 Axes>"
      ]
     },
     "metadata": {
      "needs_background": "light"
     },
     "output_type": "display_data"
    }
   ],
   "source": [
    "fig, ax = plt.subplots(figsize=(5, 4))\n",
    "with sns.color_palette([\"#bbbbcc\", \"#5599bb\"]):\n",
    "    sns.scatterplot(x=\"State\", y=\"delta\", hue=\"Contract\",\n",
    "                data=states.sort_values(by=\"delta\"), hue_order=['Federal', 'Local'], ax=ax,\n",
    "                   style='2018 Election', style_order=['No', 'Yes'])\n",
    "plt.axhline(0, linestyle=\"--\", color=\"gray\", linewidth=2, alpha=.5)\n",
    "plt.legend(frameon=False)\n",
    "plt.ylabel(r\"$\\Delta$ Persistence (Local electoral year)\")\n",
    "plt.xticks(rotation=90)\n",
    "plt.tight_layout()\n",
    "ax.tick_params(axis=\"x\", labelsize='small')\n",
    "plt.savefig(\"../figures/persistence_local_federal.pdf\")"
   ]
  },
  {
   "cell_type": "markdown",
   "metadata": {},
   "source": [
    "# Figure 3"
   ]
  },
  {
   "cell_type": "markdown",
   "metadata": {},
   "source": [
    "# State Level"
   ]
  },
  {
   "cell_type": "code",
   "execution_count": 34,
   "metadata": {},
   "outputs": [],
   "source": [
    "years = sorted(cnts_slevel.year.unique())\n",
    "dfs_state = []\n",
    "for state in sorted(cnts_slevel.code_b.unique()):\n",
    "    dfs = []\n",
    "    for i in range(len(years) - 1):\n",
    "        if  electoral_years[state] == years[i]:\n",
    "            B = yearly_comparison(cnts_slevel[cnts_slevel.code_b==state], years[i], years[i+1], min_cnts=1)[['ubuyer', 'jaccard']]\n",
    "            B['Electoral'] = \"Post\"\n",
    "            B['State'] = state\n",
    "            dfs.append(B)\n",
    "        elif electoral_years[state] - 1 == years[i]:\n",
    "            B = yearly_comparison(cnts_slevel[cnts_slevel.code_b==state], years[i], years[i+1])[['ubuyer', 'jaccard']]\n",
    "            B['Electoral'] = \"Pre\"\n",
    "            B['State'] = state\n",
    "            dfs.append(B)\n",
    "    dfs_state.append(pd.concat(dfs))\n",
    "df_3 = pd.concat(dfs_state)"
   ]
  },
  {
   "cell_type": "code",
   "execution_count": 35,
   "metadata": {},
   "outputs": [
    {
     "data": {
      "image/png": "[encoded data removed]",
      "text/plain": [
       "<Figure size 288x720 with 1 Axes>"
      ]
     },
     "metadata": {
      "needs_background": "light"
     },
     "output_type": "display_data"
    }
   ],
   "source": [
    "fig, ax = plt.subplots(figsize=(4, 10))\n",
    "sns.boxplot(y=\"State\", x=\"jaccard\", hue=\"Electoral\", data=df_3, ax=ax, showfliers=False, whis=.1)\n",
    "plt.xlabel(\"Persistence\")\n",
    "plt.legend(loc=1, prop={'size': \"small\"})\n",
    "plt.xticks(rotation=90)\n",
    "plt.savefig(\"../figures/persistence_per_state_local.pdf\");"
   ]
  },
  {
   "cell_type": "markdown",
   "metadata": {},
   "source": [
    "# Federal level"
   ]
  },
  {
   "cell_type": "code",
   "execution_count": 36,
   "metadata": {},
   "outputs": [],
   "source": [
    "years = sorted(cnts.year.unique())\n",
    "dfs_state = []\n",
    "for state in sorted(cnts.code_b.unique()):\n",
    "    dfs = []\n",
    "    for i in range(len(years) - 1):\n",
    "        if  electoral_years[state] == years[i]:\n",
    "            B = yearly_comparison(cnts[cnts.code_b==state], years[i], years[i+1], min_cnts=1)[['ubuyer', 'jaccard']]\n",
    "            B['Electoral'] = \"Post\"\n",
    "            B['State'] = state\n",
    "            dfs.append(B)\n",
    "        elif electoral_years[state] - 1 == years[i]:\n",
    "            B = yearly_comparison(cnts[cnts.code_b==state], years[i], years[i+1])[['ubuyer', 'jaccard']]\n",
    "            B['Electoral'] = \"Pre\"\n",
    "            B['State'] = state\n",
    "            dfs.append(B)\n",
    "    dfs_state.append(pd.concat(dfs))\n",
    "df_4 = pd.concat(dfs_state)"
   ]
  },
  {
   "cell_type": "code",
   "execution_count": 37,
   "metadata": {},
   "outputs": [
    {
     "data": {
      "image/png": "[encoded data removed]",
      "text/plain": [
       "<Figure size 360x432 with 2 Axes>"
      ]
     },
     "metadata": {
      "needs_background": "light"
     },
     "output_type": "display_data"
    }
   ],
   "source": [
    "fig, ax = plt.subplots(1,2,figsize=(5, 6), sharey=True)\n",
    "g = sns.boxplot(y=\"State\", x=\"jaccard\", hue=\"Electoral\", data=df_4, ax=ax[0], showfliers=False, whis=.1)\n",
    "ax[0].get_legend().remove()\n",
    "ax[0].set_xlabel('')\n",
    "ax[0].set_ylabel('State', fontsize=10)\n",
    "ax[0].tick_params(axis=\"y\", labelsize='small')\n",
    "ax[0].text(0.5, 1.02,'Federal',\n",
    "     horizontalalignment='center',\n",
    "     verticalalignment='center',\n",
    "     transform = ax[0].transAxes)\n",
    "ax[0].text(0.475, 0.05,'Persistence',\n",
    "     horizontalalignment='center',\n",
    "     verticalalignment='center',\n",
    "     transform = fig.transFigure)\n",
    "\n",
    "# plt.legend(loc=1, prop={'size': \"small\"})\n",
    "g_1 = sns.boxplot(y=\"State\", x=\"jaccard\", hue=\"Electoral\", data=df_3, ax=ax[1], showfliers=False, whis=.1)\n",
    "ax[1].legend(title=\"Election\", bbox_to_anchor=(1, .5))\n",
    "ax[1].set_xlabel('')\n",
    "ax[1].set_ylabel('')\n",
    "ax[1].text(0.5, 1.02,'Local',\n",
    "     horizontalalignment='center',\n",
    "     verticalalignment='center',\n",
    "     transform = ax[1].transAxes)\n",
    "plt.tight_layout()\n",
    "#plt.xticks(rotation=90)\n",
    "plt.savefig(\"../figures/persistence_per_state_federal_and_local.pdf\");"
   ]
  },
  {
   "cell_type": "markdown",
   "metadata": {},
   "source": [
    "# Persistence change when a party changed and a party remained"
   ]
  },
  {
   "cell_type": "code",
   "execution_count": 38,
   "metadata": {},
   "outputs": [],
   "source": [
    "electoral_years = {\n",
    "    \"AGU\": True,\n",
    "    \"BCN\": True,\n",
    "    \"BCS\": False,\n",
    "    \"CAM\": False,\n",
    "    \"CHP\": True,\n",
    "    \"CHH\": True,\n",
    "    \"CMX\": True,\n",
    "    \"COA\": False,\n",
    "    \"COL\": False,\n",
    "    \"DUR\": True,\n",
    "    \"GUA\": False,\n",
    "    \"GRO\": True,\n",
    "    \"HID\": False,\n",
    "    \"JAL\": True,\n",
    "    \"MEX\": False,\n",
    "    \"MIC\": True,\n",
    "    \"MOR\": True,\n",
    "    \"NAY\": True,\n",
    "    \"NLE\": True,\n",
    "    \"OAX\": True,\n",
    "    \"PUE\": True,\n",
    "    \"QUE\": True,\n",
    "    \"ROO\": True,\n",
    "    \"SLP\": False,\n",
    "    \"SIN\": True,\n",
    "    \"SON\": True,\n",
    "    \"TAB\": True,\n",
    "    \"TAM\": True,\n",
    "    \"TLA\": False,\n",
    "    \"VER\": True,\n",
    "    \"YUC\": True,\n",
    "    \"ZAC\": False}"
   ]
  },
  {
   "cell_type": "code",
   "execution_count": 39,
   "metadata": {},
   "outputs": [],
   "source": [
    "df_ey = pd.DataFrame(electoral_years.items(), columns=['State', 'Party-change'])"
   ]
  },
  {
   "cell_type": "code",
   "execution_count": 40,
   "metadata": {},
   "outputs": [],
   "source": [
    "df_3 = pd.merge(df_3, df_ey, how='left')"
   ]
  },
  {
   "cell_type": "code",
   "execution_count": 41,
   "metadata": {},
   "outputs": [],
   "source": [
    "df_4 = pd.merge(df_4, df_ey, how='left')"
   ]
  },
  {
   "cell_type": "code",
   "execution_count": 44,
   "metadata": {},
   "outputs": [
    {
     "data": {
      "image/png": "[encoded data removed]",
      "text/plain": [
       "<Figure size 216x216 with 2 Axes>"
      ]
     },
     "metadata": {
      "needs_background": "light"
     },
     "output_type": "display_data"
    }
   ],
   "source": [
    "fig, ax = plt.subplots(1, 2, figsize=(3,3), sharey=True)\n",
    "sns.boxplot(x='Party-change', y='jaccard', hue='Electoral',  data=df_4, ax=ax[0], fliersize=0)\n",
    "sns.boxplot(x='Party-change', y='jaccard', hue='Electoral',  data=df_3, ax=ax[1], fliersize=0)\n",
    "ax[0].get_legend().remove()\n",
    "ax[1].set_ylabel('')\n",
    "ax[0].set_ylabel('Persistence')\n",
    "ax[0].text(0.5, 1.02,'Federal',\n",
    "     horizontalalignment='center',\n",
    "     verticalalignment='center',\n",
    "     transform = ax[0].transAxes)\n",
    "ax[1].text(0.5, 1.021,'Local',\n",
    "     horizontalalignment='center',\n",
    "     verticalalignment='center',\n",
    "     transform = ax[1].transAxes)\n",
    "ax[0].set_ylim(-.1, .8)\n",
    "plt.legend(loc=1, frameon=False)\n",
    "plt.tight_layout()\n",
    "fig.savefig(\"../figures/persistence_party_change.pdf\")"
   ]
  },
  {
   "cell_type": "markdown",
   "metadata": {},
   "source": [
    "# Persistence change in electoral years by type of service\n",
    "\n",
    "Defense is kind of corrupted. We know that thanks to many late scandals. Let's see if we can target them be the number of desapeared companies from one year to the next."
   ]
  },
  {
   "cell_type": "code",
   "execution_count": 45,
   "metadata": {},
   "outputs": [],
   "source": [
    "ramos = cnts.groupby('desc_ramo').ramo.first().reset_index()"
   ]
  },
  {
   "cell_type": "code",
   "execution_count": 46,
   "metadata": {},
   "outputs": [],
   "source": [
    "cnts = cnts.drop('ramo', axis=1)"
   ]
  },
  {
   "cell_type": "code",
   "execution_count": 47,
   "metadata": {},
   "outputs": [],
   "source": [
    "cnts = pd.merge(cnts, ramos, how='left')"
   ]
  },
  {
   "cell_type": "code",
   "execution_count": 48,
   "metadata": {},
   "outputs": [],
   "source": [
    "big_ramos = {\n",
    "    'Instituto Mexicano del Seguro Social': 'Health',\n",
    "    'Energía': 'Energy',\n",
    "    'Bienestar': 'Social',\n",
    "    'Salud': 'Health',\n",
    "    'Comunicaciones y Transportes': 'T and C',\n",
    "    'Hacienda y Crédito Público': 'Finance',\n",
    "    'Agricultura y Desarrollo Rural': 'Rural',\n",
    "    'Instituto de Seguridad y Servicios Sociales de los Trabajadores del Estado': 'Health',\n",
    "    'Educación Pública': 'Education',\n",
    "    'Medio Ambiente y Recursos Naturales': 'Environment',\n",
    "    'Consejo Nacional de Ciencia y Tecnología': 'Science',\n",
    "    'Cultura': 'Culture',\n",
    "    'Marina': 'Defense',\n",
    "    'Defensa Nacional': 'Defense',\n",
    "    'Economía': 'Economy',\n",
    "    'Gobernación': 'Home Affairs',\n",
    "    'Turismo': 'Turism',\n",
    "    'Entidades no Sectorizadas': 'Other',\n",
    "    'Función Pública': 'Transparency',\n",
    "    'Trabajo y Previsión Social': 'Social',\n",
    "    'Desarrollo Agrario, Territorial y Urbano': 'T and C',\n",
    "    'Procuraduría General de la República': 'Police',\n",
    "    'Información Nacional Estadística y Geográfica': 'Demographics',\n",
    "    'Relaciones Exteriores': 'Foreign Affairs',\n",
    "    'Oficina de la Presidencia de la República': 'Presidency',\n",
    "    'Comisión Federal de Competencia Económica': 'Economy',\n",
    "    'Instituto Federal de Telecomunicaciones': 'T and C',\n",
    "    'Tribunal Federal de Justicia Administrativa': 'Justice',\n",
    "    'Tribunales Agrarios': 'Justice',\n",
    "    'Comisión Reguladora de Energía': 'Energy', \n",
    "    'Consejería Jurídica del Ejecutivo Federal': 'Justice',\n",
    "    'Inteligencia': 'Police',\n",
    "    'Comisión Nacional de Hidrocarburos': 'Energy',\n",
    "    'Instituto Nacional de Transparencia, Acceso a la Información y Protección de Datos Personales': 'Home Affairs',\n",
    "    'Guardia Nacional': 'Police',\n",
    "    'Seguridad': 'Police'\n",
    "}"
   ]
  },
  {
   "cell_type": "code",
   "execution_count": 49,
   "metadata": {},
   "outputs": [],
   "source": [
    "df_big_ramos = pd.DataFrame(big_ramos.items(), columns=['desc_ramo', 'type'])\n",
    "\n",
    "cnts = pd.merge(cnts, df_big_ramos, how='left')"
   ]
  },
  {
   "cell_type": "code",
   "execution_count": 51,
   "metadata": {},
   "outputs": [],
   "source": [
    "plt.rcParams.update({\n",
    "    \"text.usetex\": True,\n",
    "    \"font.family\": \"serif\",\n",
    "    \"font.sans-serif\": \"Times New Roman\"})"
   ]
  },
  {
   "cell_type": "markdown",
   "metadata": {},
   "source": [
    "## National defense"
   ]
  },
  {
   "cell_type": "code",
   "execution_count": 52,
   "metadata": {},
   "outputs": [],
   "source": [
    "def prop_lost_companies(df, year_1, year_2, min_cnts=5, max_cnts=30):\n",
    "    \n",
    "    cnts_1 = df[df['year']==year_1]\n",
    "    cnts_2 = df[df['year']==year_2]\n",
    "    \n",
    "    B_1 = cnts_1.groupby(['ubuyer', 'usupplier']).size().rename('N').reset_index()\n",
    "    B_1 = B_1[(B_1.N >= min_cnts) & (B_1.N <= max_cnts)]\n",
    "    supp_1 = set(B_1.usupplier.unique())\n",
    "    supp_2 = set(cnts_2.usupplier.unique())\n",
    "    if len(supp_1):\n",
    "        return 1 - (len(supp_1 - supp_2) / len(supp_1))\n",
    "    else:\n",
    "        return np.nan"
   ]
  },
  {
   "cell_type": "code",
   "execution_count": 53,
   "metadata": {},
   "outputs": [],
   "source": [
    "data = []\n",
    "for i, y in enumerate(years[:-1]):\n",
    "    for t in cnts.type.unique():\n",
    "        p = prop_lost_companies(cnts[cnts.type==t], y, years[i+1])\n",
    "        data.append([str(y), p, t])"
   ]
  },
  {
   "cell_type": "code",
   "execution_count": 54,
   "metadata": {},
   "outputs": [],
   "source": [
    "df_t = pd.DataFrame(data, columns=['Year', 'Retention', 'Type'])"
   ]
  },
  {
   "cell_type": "code",
   "execution_count": 55,
   "metadata": {},
   "outputs": [],
   "source": [
    "ramos = ['Health',\n",
    "         'Energy',\n",
    "         'Social',\n",
    "         'T and C',\n",
    "         'Finance',\n",
    "         'Rural',\n",
    "         'Education',\n",
    "         'Environment',\n",
    "         'Defense']"
   ]
  },
  {
   "cell_type": "code",
   "execution_count": 56,
   "metadata": {},
   "outputs": [],
   "source": [
    "ramos = cnts.type.value_counts().index[:10]"
   ]
  },
  {
   "cell_type": "code",
   "execution_count": 57,
   "metadata": {},
   "outputs": [
    {
     "data": {
      "image/png": "[encoded data removed]",
      "text/plain": [
       "<Figure size 360x360 with 10 Axes>"
      ]
     },
     "metadata": {
      "needs_background": "light"
     },
     "output_type": "display_data"
    }
   ],
   "source": [
    "g = sns.FacetGrid(col='Type', col_wrap=2, data=df_t[df_t.Type.isin(ramos)], height=1, aspect=2.5)\n",
    "g.map(sns.lineplot, 'Year', 'Retention', marker='o', color='gray')\n",
    "g.set_titles(row_template = '{row_name}', col_template = '{col_name}')\n",
    "for i in range(10):\n",
    "    g.axes[i].tick_params(axis=\"both\", labelsize=\"small\")\n",
    "    g.axes[i].set_xticklabels(g.axes[i].get_xticklabels(), rotation=45, ha='right')\n",
    "plt.tight_layout()\n",
    "g.savefig('../figures/retention_per_type.pdf')"
   ]
  },
  {
   "cell_type": "markdown",
   "metadata": {},
   "source": [
    "# Lower persitence suppliers"
   ]
  },
  {
   "cell_type": "markdown",
   "metadata": {},
   "source": [
    "For the total number of suppliers, let's get the total number of days they were hired."
   ]
  },
  {
   "cell_type": "code",
   "execution_count": 61,
   "metadata": {},
   "outputs": [],
   "source": [
    "usupp = cnts.groupby('usupplier').size().rename('N').reset_index()\n",
    "\n",
    "usupp = usupp[usupp.N >= 5]\n",
    "\n",
    "nweeks = int((pd.Timestamp('2019-12-31') - pd.Timestamp('2011-01-01')).days / 30)"
   ]
  },
  {
   "cell_type": "code",
   "execution_count": 76,
   "metadata": {},
   "outputs": [],
   "source": [
    "time_points = cnts[cnts.usupplier.isin(usupp.usupplier.unique())].groupby(\n",
    "    'usupplier').start_date.apply(lambda x: sorted(list(x))).rename('window').reset_index()\n",
    "\n",
    "time_points = dict(zip(time_points['usupplier'], time_points['window']))"
   ]
  },
  {
   "cell_type": "code",
   "execution_count": 133,
   "metadata": {},
   "outputs": [],
   "source": [
    "M = np.zeros((len(time_points), nweeks + 1))"
   ]
  },
  {
   "cell_type": "code",
   "execution_count": 134,
   "metadata": {},
   "outputs": [],
   "source": [
    "start = pd.Timestamp('2011-01-01')\n",
    "for i, tp in enumerate(time_points):\n",
    "    for t in time_points[tp]:\n",
    "        j = int((t - start).days / 30)\n",
    "        M[i][j] = 1"
   ]
  },
  {
   "cell_type": "code",
   "execution_count": 145,
   "metadata": {},
   "outputs": [
    {
     "data": {
      "image/png": "[encoded data removed]",
      "text/plain": [
       "<Figure size 432x288 with 2 Axes>"
      ]
     },
     "metadata": {
      "needs_background": "light"
     },
     "output_type": "display_data"
    }
   ],
   "source": [
    "ax = sns.heatmap(M, vmin=0, vmax=1)\n",
    "plt.savefig('../figures/monthly_distribution_suppliers.png', dpi=300)"
   ]
  },
  {
   "cell_type": "markdown",
   "metadata": {},
   "source": [
    "## Clustering"
   ]
  },
  {
   "cell_type": "code",
   "execution_count": 136,
   "metadata": {},
   "outputs": [],
   "source": [
    "d = sch.distance.pdist(M)   # vector of ('55' choose 2) pairwise distances\n",
    "L = sch.linkage(d, method='complete')\n",
    "ind = sch.fcluster(L, 0.5*d.max(), 'distance')"
   ]
  },
  {
   "cell_type": "code",
   "execution_count": 146,
   "metadata": {},
   "outputs": [
    {
     "data": {
      "image/png": "[encoded data removed]",
      "text/plain": [
       "<Figure size 432x288 with 2 Axes>"
      ]
     },
     "metadata": {
      "needs_background": "light"
     },
     "output_type": "display_data"
    }
   ],
   "source": [
    "ax = sns.heatmap(M[ind], vmin=0, vmax=1)\n",
    "plt.savefig(\"../figures/monthly_distribution_suppliers_cluster.png\", dpi=300)"
   ]
  }
 ],
 "metadata": {
  "kernelspec": {
   "display_name": "Python 3",
   "language": "python",
   "name": "python3"
  },
  "language_info": {
   "codemirror_mode": {
    "name": "ipython",
    "version": 3
   },
   "file_extension": ".py",
   "mimetype": "text/x-python",
   "name": "python",
   "nbconvert_exporter": "python",
   "pygments_lexer": "ipython3",
   "version": "3.8.5"
  }
 },
 "nbformat": 4,
 "nbformat_minor": 4
}
