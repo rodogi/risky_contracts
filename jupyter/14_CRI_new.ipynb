{
 "cells": [
  {
   "cell_type": "markdown",
   "metadata": {
    "slideshow": {
     "slide_type": "slide"
    }
   },
   "source": [
    "# CRI\n",
    "\n",
    "Corruption risk index will allow us to compare public procurement networks in terms of risky structure."
   ]
  },
  {
   "cell_type": "markdown",
   "metadata": {
    "slideshow": {
     "slide_type": "slide"
    }
   },
   "source": [
    "# CRI\n",
    "\n",
    "We are going to group by state the following variables:\n",
    "\n",
    "- Supplier/buyer dispersion\n",
    "- State-level dispersion\n",
    "- Proportion of same-state contracts\n",
    "- Proportion of people suppliers\n",
    "- Contract daily price\n",
    "- Contract amount\n",
    "- File size of the contract\n",
    "- Proportion of atomized contracts\n",
    "- Direct award\n",
    "\n",
    "And compare them to corruption perception in companies and the general population + corruption experience."
   ]
  },
  {
   "cell_type": "code",
   "execution_count": 1,
   "metadata": {
    "slideshow": {
     "slide_type": "skip"
    }
   },
   "outputs": [],
   "source": [
    "import pandas as pd\n",
    "import numpy as np\n",
    "import seaborn as sns\n",
    "import matplotlib.pyplot as plt\n",
    "import networkx as nx\n",
    "\n",
    "from sklearn import linear_model\n",
    "from sklearn import preprocessing\n",
    "from sklearn.impute import SimpleImputer"
   ]
  },
  {
   "cell_type": "code",
   "execution_count": 2,
   "metadata": {},
   "outputs": [],
   "source": [
    "cnts = pd.read_csv('../data/pre-process/contratos_4.csv')"
   ]
  },
  {
   "cell_type": "code",
   "execution_count": 3,
   "metadata": {},
   "outputs": [
    {
     "data": {
      "text/plain": [
       "Index(['id', 'start_date', 'amount', 'ramo', 'desc_ramo', 'person', 'buyer',\n",
       "       'file_size', 'single_bid', 'contract_duration', 'prop_window',\n",
       "       'daily_price', 'contract_type', 'gvmnt_level', 'buyer_state',\n",
       "       'supplier_country', 'supplier', 'supplier_state', 'state_b', 'code_b',\n",
       "       'state_s', 'code_s', 'ubuyer', 'usupplier', 'comp', 'long',\n",
       "       'proportion_window', 'atom', 'buyer_dispersion', 'supplier_dispersion',\n",
       "       'clustering', 'single_interaction', 'interaction', 's_interaction',\n",
       "       'CRI', 'year'],\n",
       "      dtype='object')"
      ]
     },
     "execution_count": 3,
     "metadata": {},
     "output_type": "execute_result"
    }
   ],
   "source": [
    "cnts.columns"
   ]
  },
  {
   "cell_type": "code",
   "execution_count": 7,
   "metadata": {},
   "outputs": [
    {
     "data": {
      "text/plain": [
       "gvmnt_level  single_bid\n",
       "F            1             0.737551\n",
       "             0             0.262449\n",
       "M            0             0.731360\n",
       "             1             0.268640\n",
       "S            0             0.711157\n",
       "             1             0.288843\n",
       "Name: single_bid, dtype: float64"
      ]
     },
     "execution_count": 7,
     "metadata": {},
     "output_type": "execute_result"
    }
   ],
   "source": [
    "cnts.groupby('gvmnt_level')['single_bid'].value_counts(normalize=True)"
   ]
  },
  {
   "cell_type": "code",
   "execution_count": 6,
   "metadata": {},
   "outputs": [
    {
     "data": {
      "text/plain": [
       "F    0.876156\n",
       "S    0.085203\n",
       "M    0.038641\n",
       "Name: gvmnt_level, dtype: float64"
      ]
     },
     "execution_count": 6,
     "metadata": {},
     "output_type": "execute_result"
    }
   ],
   "source": [
    "cnts['gvmnt_level'].value_counts(normalize=True)"
   ]
  },
  {
   "cell_type": "code",
   "execution_count": 4,
   "metadata": {},
   "outputs": [
    {
     "data": {
      "text/plain": [
       "1    0.681201\n",
       "0    0.318799\n",
       "Name: single_bid, dtype: float64"
      ]
     },
     "execution_count": 4,
     "metadata": {},
     "output_type": "execute_result"
    }
   ],
   "source": [
    "cnts['single_bid'].value_counts(normalize=True)"
   ]
  },
  {
   "cell_type": "code",
   "execution_count": 2,
   "metadata": {
    "slideshow": {
     "slide_type": "skip"
    }
   },
   "outputs": [],
   "source": [
    "corruption = pd.read_csv(\"../data/states/federal.csv\")\n",
    "# Contracts dataframe\n",
    "cnts = pd.read_csv(\"../data/pre-process/contratos_3.csv\",\n",
    "                  parse_dates=[\"start_date\"])\n",
    "# Select only studied dates\n",
    "cnts = cnts[(cnts.start_date < '2020-01-01') & (cnts.start_date > '2010-12-31')]\n",
    "# Three letter state code\n",
    "codes = pd.read_csv(\"../data/states/federal.csv\",\n",
    "                   usecols=[\"state\", \"code\"])\n",
    "# Some additional data\n",
    "inegi = pd.read_csv(\"../data/inegi/state_data.csv\")"
   ]
  },
  {
   "cell_type": "code",
   "execution_count": 3,
   "metadata": {
    "slideshow": {
     "slide_type": "skip"
    }
   },
   "outputs": [],
   "source": [
    "cnts = pd.merge(cnts,\n",
    "                codes,\n",
    "                how=\"left\",\n",
    "                left_on=\"buyer_state\",\n",
    "                right_on=\"state\")\n",
    "\n",
    "cnts = pd.merge(cnts,\n",
    "                codes,\n",
    "                how=\"left\",\n",
    "                left_on=\"supplier_state\",\n",
    "                right_on=\"state\",\n",
    "                suffixes=[\"_b\", \"_s\"])"
   ]
  },
  {
   "cell_type": "code",
   "execution_count": 4,
   "metadata": {
    "slideshow": {
     "slide_type": "skip"
    }
   },
   "outputs": [],
   "source": [
    "#cnts = cnts[cnts['gvmnt_level'] == 'F']"
   ]
  },
  {
   "cell_type": "code",
   "execution_count": 5,
   "metadata": {},
   "outputs": [],
   "source": [
    "ubuyer = cnts.groupby(['buyer', 'code_b']).code_b.size().rename(\"N\").reset_index().drop(\"N\", axis=1)\n",
    "\n",
    "ubuyer['ubuyer'] = [f'b_{i}' for i in range(ubuyer.shape[0])]"
   ]
  },
  {
   "cell_type": "code",
   "execution_count": 6,
   "metadata": {},
   "outputs": [],
   "source": [
    "usupplier = cnts.groupby(['supplier', 'code_s']).code_s.size().rename(\"N\").reset_index().drop(\"N\", axis=1)\n",
    "\n",
    "usupplier['usupplier'] = [f's_{i}' for i in range(usupplier.shape[0])]"
   ]
  },
  {
   "cell_type": "code",
   "execution_count": 7,
   "metadata": {},
   "outputs": [],
   "source": [
    "cnts = pd.merge(cnts,\n",
    "                ubuyer,\n",
    "                how=\"left\")"
   ]
  },
  {
   "cell_type": "code",
   "execution_count": 8,
   "metadata": {},
   "outputs": [],
   "source": [
    "cnts = pd.merge(cnts,\n",
    "                usupplier,\n",
    "                how=\"left\")"
   ]
  },
  {
   "cell_type": "markdown",
   "metadata": {
    "slideshow": {
     "slide_type": "skip"
    }
   },
   "source": [
    "## Corruption"
   ]
  },
  {
   "cell_type": "code",
   "execution_count": 9,
   "metadata": {
    "slideshow": {
     "slide_type": "skip"
    }
   },
   "outputs": [],
   "source": [
    "corruption = pd.merge(corruption, codes, how=\"left\")\n",
    "\n",
    "corruption = corruption.set_index(\"code\")"
   ]
  },
  {
   "cell_type": "markdown",
   "metadata": {
    "slideshow": {
     "slide_type": "skip"
    }
   },
   "source": [
    "# INEGI"
   ]
  },
  {
   "cell_type": "code",
   "execution_count": 10,
   "metadata": {
    "slideshow": {
     "slide_type": "skip"
    }
   },
   "outputs": [],
   "source": [
    "inegi = pd.merge(inegi, codes, how=\"left\", on=\"state\")\n",
    "\n",
    "cols_strip = ['population_2015', 'GVA_2011', 'GVA_2012', 'GVA_2013',\n",
    "       'GVA_2014', 'GVA_2015', 'GVA_2016', 'GVA_2017', 'GVA_2018']\n",
    "\n",
    "inegi[cols_strip] = inegi[cols_strip].apply(lambda x: x.str.replace(\" \", \"\").astype(float), axis=1)\n",
    "\n",
    "inegi = inegi.set_index('code')"
   ]
  },
  {
   "cell_type": "markdown",
   "metadata": {},
   "source": [
    "# Features"
   ]
  },
  {
   "cell_type": "markdown",
   "metadata": {},
   "source": [
    "# Single Bid"
   ]
  },
  {
   "cell_type": "code",
   "execution_count": 11,
   "metadata": {},
   "outputs": [],
   "source": [
    "cnts['comp'] = (~cnts.single_bid.astype('boolean')) * 1."
   ]
  },
  {
   "cell_type": "markdown",
   "metadata": {},
   "source": [
    "# Contract duration"
   ]
  },
  {
   "cell_type": "code",
   "execution_count": 12,
   "metadata": {},
   "outputs": [],
   "source": [
    "def long_contract(x):\n",
    "    if x >= 365:\n",
    "        return 1\n",
    "    else:\n",
    "        return 0"
   ]
  },
  {
   "cell_type": "code",
   "execution_count": 13,
   "metadata": {},
   "outputs": [],
   "source": [
    "imp_mean = SimpleImputer(missing_values=np.nan, strategy='median')\n",
    "cnts[['contract_duration']] = imp_mean.fit_transform(cnts[['contract_duration']])"
   ]
  },
  {
   "cell_type": "code",
   "execution_count": 14,
   "metadata": {},
   "outputs": [],
   "source": [
    "cnts['long'] = cnts['contract_duration'].apply(long_contract)"
   ]
  },
  {
   "cell_type": "markdown",
   "metadata": {},
   "source": [
    "# Proposition window"
   ]
  },
  {
   "cell_type": "code",
   "execution_count": 15,
   "metadata": {},
   "outputs": [],
   "source": [
    "imp_mean = SimpleImputer(missing_values=np.nan, strategy='mean')\n",
    "cnts[['prop_window']] = imp_mean.fit_transform(cnts[['prop_window']])"
   ]
  },
  {
   "cell_type": "code",
   "execution_count": 16,
   "metadata": {},
   "outputs": [],
   "source": [
    "cnts['proportion_window'] = cnts['prop_window'] / (cnts['contract_duration']+1)"
   ]
  },
  {
   "cell_type": "markdown",
   "metadata": {
    "slideshow": {
     "slide_type": "slide"
    }
   },
   "source": [
    "# Atomic contracts\n",
    "\n",
    "Number of contracts per file. Each contract has a file and we can know how many contracts were in the file.\n",
    "\n",
    "We define a file as atomized if its number of contracts is larger than 10."
   ]
  },
  {
   "cell_type": "code",
   "execution_count": 17,
   "metadata": {
    "slideshow": {
     "slide_type": "skip"
    }
   },
   "outputs": [],
   "source": [
    "cnts['atom'] = (cnts['file_size'] >= 2) * 1"
   ]
  },
  {
   "cell_type": "markdown",
   "metadata": {
    "slideshow": {
     "slide_type": "slide"
    }
   },
   "source": [
    "# Dispersion\n",
    "\n",
    "We take the variation coefficient ($\\frac{\\sigma}{\\mu}$) of the distribution contracts of each state to any other state.\n",
    "\n",
    "Let {20, 30, 30, 20} the distribution of contracts bought by state A.\n",
    "\n",
    "Then $\\sigma = 5$ and $\\mu = 25$, therefore $\\frac{\\sigma}{\\mu} = 0.2$.\n",
    "\n",
    "To finish, we normalize by the number of contracts (100), so dispersion of A in contracts bought is $0.002$."
   ]
  },
  {
   "cell_type": "markdown",
   "metadata": {
    "slideshow": {
     "slide_type": "slide"
    }
   },
   "source": [
    "# Dispersion\n",
    "\n",
    "In a similar way we compute the dispersion of A in contracts sold.\n",
    "\n",
    "Two other dispersions are calculated:\n",
    "\n",
    "- Supplier dispersion (by taking the contract distribution of each supplier)\n",
    "- Buyer dispersion (by taking the contracts of each buyer)\n",
    "\n",
    "In total we have 4 dispersion measures."
   ]
  },
  {
   "cell_type": "markdown",
   "metadata": {
    "slideshow": {
     "slide_type": "skip"
    }
   },
   "source": [
    "## Dispersion, Two kinds of risk: public and private. \n",
    "\n",
    "Let's work with the two by grouping by `buyer_state` and `supplier_state` at the same time."
   ]
  },
  {
   "cell_type": "markdown",
   "metadata": {
    "slideshow": {
     "slide_type": "skip"
    }
   },
   "source": [
    "## Buyer dispersion"
   ]
  },
  {
   "cell_type": "code",
   "execution_count": 18,
   "metadata": {
    "slideshow": {
     "slide_type": "skip"
    }
   },
   "outputs": [],
   "source": [
    "def var_coeff(states):\n",
    "    if np.std(states) == 0:\n",
    "        return np.nan\n",
    "    \n",
    "    return np.std(states) / np.mean(states)"
   ]
  },
  {
   "cell_type": "markdown",
   "metadata": {
    "slideshow": {
     "slide_type": "skip"
    }
   },
   "source": [
    "In terms of Buyer"
   ]
  },
  {
   "cell_type": "code",
   "execution_count": 31,
   "metadata": {},
   "outputs": [],
   "source": [
    "size = cnts.groupby('ubuyer').size().rename('N').reset_index()\n",
    "size = size[size.N>=35]\n",
    "size.ubuyer.nunique()\n",
    "buyers_20 = size.ubuyer.unique()"
   ]
  },
  {
   "cell_type": "code",
   "execution_count": 32,
   "metadata": {
    "slideshow": {
     "slide_type": "skip"
    }
   },
   "outputs": [],
   "source": [
    "# Get distribution of contracts per buyer\n",
    "bv_b = cnts[cnts.ubuyer.isin(buyers_20)].groupby(['ubuyer'])['usupplier'].value_counts().rename('N').reset_index()\n",
    "# Get number of contracts per buyer\n",
    "bv_b_n = cnts[cnts.ubuyer.isin(buyers_20)].groupby(['ubuyer']).supplier.size().rename('NC').reset_index()\n",
    "# Apply variation coefficient\n",
    "bv_b = bv_b.groupby(\n",
    "    ['ubuyer']).N.apply(var_coeff).rename('buyer_dispersion').reset_index()\n",
    "bv_b = pd.merge(bv_b, bv_b_n, how='left')\n",
    "# Normalize by number of contracts\n",
    "bv_b['buyer_dispersion'] = bv_b['buyer_dispersion']  / bv_b['NC']\n",
    "bv_b = bv_b.drop('NC', axis=1)"
   ]
  },
  {
   "cell_type": "code",
   "execution_count": 33,
   "metadata": {
    "slideshow": {
     "slide_type": "skip"
    }
   },
   "outputs": [],
   "source": [
    "cnts = pd.merge(cnts, bv_b,\n",
    "                how=\"left\")"
   ]
  },
  {
   "cell_type": "code",
   "execution_count": 34,
   "metadata": {},
   "outputs": [],
   "source": [
    "imp_mean = SimpleImputer(missing_values=np.nan, strategy='mean')\n",
    "cnts[['buyer_dispersion']] = imp_mean.fit_transform(cnts[['buyer_dispersion']])"
   ]
  },
  {
   "cell_type": "markdown",
   "metadata": {
    "slideshow": {
     "slide_type": "skip"
    }
   },
   "source": [
    "# Supplier dispersion"
   ]
  },
  {
   "cell_type": "code",
   "execution_count": 35,
   "metadata": {
    "slideshow": {
     "slide_type": "skip"
    }
   },
   "outputs": [],
   "source": [
    "def var_coeff(states):\n",
    "    #if np.std(states) == 0:\n",
    "    #    return np.nan\n",
    "    \n",
    "    return np.std(states) / np.mean(states)"
   ]
  },
  {
   "cell_type": "code",
   "execution_count": 37,
   "metadata": {},
   "outputs": [],
   "source": [
    "size = cnts.groupby('usupplier').size().rename('N').reset_index()\n",
    "size = size[size.N>=10]\n",
    "suppliers_20 = size.usupplier.unique()"
   ]
  },
  {
   "cell_type": "code",
   "execution_count": 38,
   "metadata": {
    "slideshow": {
     "slide_type": "skip"
    }
   },
   "outputs": [],
   "source": [
    "# Get distribution of contracts per supplier\n",
    "sv_b = cnts[cnts.usupplier.isin(suppliers_20)].groupby(['usupplier'])['ubuyer'].value_counts().rename('N').reset_index()\n",
    "# Get number of contracts per supplier\n",
    "sv_b_n = cnts[cnts.usupplier.isin(suppliers_20)].groupby(['usupplier']).buyer.size().rename('NC').reset_index()\n",
    "# Apply variation coefficient\n",
    "sv_b = sv_b.groupby(\n",
    "    ['usupplier']).N.apply(var_coeff).rename('supplier_dispersion').reset_index()\n",
    "sv_b = pd.merge(sv_b, sv_b_n, how='left')\n",
    "# Normalize by number of contracts\n",
    "sv_b['supplier_dispersion'] = sv_b['supplier_dispersion']   / sv_b['NC']\n",
    "sv_b = sv_b.drop('NC', axis=1)"
   ]
  },
  {
   "cell_type": "code",
   "execution_count": 39,
   "metadata": {
    "slideshow": {
     "slide_type": "skip"
    }
   },
   "outputs": [],
   "source": [
    "cnts = pd.merge(cnts, sv_b,\n",
    "                how=\"left\")"
   ]
  },
  {
   "cell_type": "markdown",
   "metadata": {},
   "source": [
    "Impute values to mean"
   ]
  },
  {
   "cell_type": "code",
   "execution_count": 40,
   "metadata": {},
   "outputs": [],
   "source": [
    "imp_mean = SimpleImputer(missing_values=np.nan, strategy='mean')\n",
    "cnts[['supplier_dispersion']] = imp_mean.fit_transform(cnts[['supplier_dispersion']])"
   ]
  },
  {
   "cell_type": "markdown",
   "metadata": {
    "slideshow": {
     "slide_type": "slide"
    }
   },
   "source": [
    "# Buyer clustering"
   ]
  },
  {
   "cell_type": "code",
   "execution_count": 41,
   "metadata": {
    "slideshow": {
     "slide_type": "skip"
    }
   },
   "outputs": [],
   "source": [
    "cnts_notna = cnts.dropna(subset=['usupplier'])\n",
    "G = nx.from_pandas_edgelist(cnts_notna,\n",
    "                            source=\"ubuyer\",\n",
    "                            target=\"usupplier\")\n",
    "\n",
    "buyers = cnts_notna.ubuyer.unique()\n",
    "buyers_10 = [b for b in buyers if len(G[b]) >= 20]\n",
    "c_nodes = nx.bipartite.clustering(G, nodes=buyers_10, mode='max')\n",
    "\n",
    "c_nodes = [[k, c_nodes[k]] for k in c_nodes]\n",
    "\n",
    "cluster = pd.DataFrame(c_nodes, columns=['ubuyer', 'clustering'])\n",
    "\n",
    "cnts = pd.merge(cnts,\n",
    "         cluster,\n",
    "         how='left',\n",
    "         on='ubuyer')"
   ]
  },
  {
   "cell_type": "code",
   "execution_count": 42,
   "metadata": {},
   "outputs": [],
   "source": [
    "imp_mean = SimpleImputer(missing_values=np.nan, strategy='mean')\n",
    "cnts[['clustering']] = imp_mean.fit_transform(cnts[['clustering']])"
   ]
  },
  {
   "cell_type": "markdown",
   "metadata": {},
   "source": [
    "# Supplier single interaction"
   ]
  },
  {
   "cell_type": "code",
   "execution_count": 43,
   "metadata": {},
   "outputs": [],
   "source": [
    "data = []\n",
    "for s in cnts.usupplier.unique():\n",
    "    if len(G[s]) == 1:\n",
    "        data.append([s, 1])\n",
    "    else:\n",
    "        data.append([s, 0])"
   ]
  },
  {
   "cell_type": "code",
   "execution_count": 44,
   "metadata": {},
   "outputs": [],
   "source": [
    "repeated = pd.DataFrame(data, columns=['usupplier', 'single_interaction'])"
   ]
  },
  {
   "cell_type": "code",
   "execution_count": 45,
   "metadata": {},
   "outputs": [],
   "source": [
    "cnts = pd.merge(cnts, repeated, how='left')"
   ]
  },
  {
   "cell_type": "code",
   "execution_count": 46,
   "metadata": {},
   "outputs": [],
   "source": [
    "cnts['single_interaction'] = cnts['single_interaction'].fillna(0)"
   ]
  },
  {
   "cell_type": "code",
   "execution_count": 47,
   "metadata": {},
   "outputs": [],
   "source": [
    "imp_mean = SimpleImputer(missing_values=np.nan, strategy='mean')\n",
    "cnts[['single_interaction']] = imp_mean.fit_transform(cnts[['single_interaction']])"
   ]
  },
  {
   "cell_type": "markdown",
   "metadata": {},
   "source": [
    "# Buyer number of contracts over number of neighbors"
   ]
  },
  {
   "cell_type": "code",
   "execution_count": 48,
   "metadata": {},
   "outputs": [],
   "source": [
    "b_cnts = cnts.groupby('ubuyer').size().rename('interaction').reset_index()"
   ]
  },
  {
   "cell_type": "code",
   "execution_count": 49,
   "metadata": {
    "scrolled": true
   },
   "outputs": [],
   "source": [
    "n_cnts = cnts.groupby('ubuyer').supplier.nunique().rename('NN').reset_index()"
   ]
  },
  {
   "cell_type": "code",
   "execution_count": 50,
   "metadata": {},
   "outputs": [],
   "source": [
    "b_cnts['interaction'] = (b_cnts['interaction'] / n_cnts['NN']) / b_cnts['interaction']"
   ]
  },
  {
   "cell_type": "code",
   "execution_count": 51,
   "metadata": {},
   "outputs": [],
   "source": [
    "cnts = pd.merge(cnts,\n",
    "                b_cnts,\n",
    "                how=\"left\")"
   ]
  },
  {
   "cell_type": "code",
   "execution_count": 52,
   "metadata": {},
   "outputs": [],
   "source": [
    "imp_mean = SimpleImputer(missing_values=np.nan, strategy='mean')\n",
    "cnts[['interaction']] = imp_mean.fit_transform(cnts[['interaction']])"
   ]
  },
  {
   "cell_type": "markdown",
   "metadata": {},
   "source": [
    "# Supplier number of contracts over number of neighbors"
   ]
  },
  {
   "cell_type": "code",
   "execution_count": 53,
   "metadata": {},
   "outputs": [],
   "source": [
    "b_cnts = cnts.groupby('supplier').size().rename('s_interaction').reset_index()"
   ]
  },
  {
   "cell_type": "code",
   "execution_count": 54,
   "metadata": {
    "scrolled": true
   },
   "outputs": [],
   "source": [
    "n_cnts = cnts.groupby('supplier').buyer.nunique().rename('NN').reset_index()"
   ]
  },
  {
   "cell_type": "code",
   "execution_count": 55,
   "metadata": {},
   "outputs": [],
   "source": [
    "b_cnts['s_interaction'] = (b_cnts['s_interaction'] / n_cnts['NN']) / b_cnts['s_interaction']"
   ]
  },
  {
   "cell_type": "code",
   "execution_count": 56,
   "metadata": {},
   "outputs": [],
   "source": [
    "cnts = pd.merge(cnts,\n",
    "                b_cnts,\n",
    "                how=\"left\")"
   ]
  },
  {
   "cell_type": "code",
   "execution_count": 57,
   "metadata": {},
   "outputs": [],
   "source": [
    "imp_mean = SimpleImputer(missing_values=np.nan, strategy='mean')\n",
    "cnts[['s_interaction']] = imp_mean.fit_transform(cnts[['s_interaction']])"
   ]
  },
  {
   "cell_type": "markdown",
   "metadata": {},
   "source": [
    "# Standarization of data"
   ]
  },
  {
   "cell_type": "code",
   "execution_count": 58,
   "metadata": {},
   "outputs": [],
   "source": [
    "# When we consider all together we have 11 co-variates.\n",
    "\n",
    "covariates = ['person',\n",
    "              #'file_size',\n",
    "              #'single_bid',\n",
    "              #'comp',\n",
    "              'buyer_dispersion',\n",
    "              'long',\n",
    "              'supplier_dispersion',\n",
    "              'clustering',\n",
    "              #'amount',\n",
    "              'atom',\n",
    "              'single_interaction',\n",
    "              'interaction',\n",
    "              'prop_window',\n",
    "              'proportion_window',\n",
    "              'contract_duration']"
   ]
  },
  {
   "cell_type": "code",
   "execution_count": 59,
   "metadata": {},
   "outputs": [],
   "source": [
    "# cnts_train = cnts.copy()\n",
    "\n",
    "# r_scaler = preprocessing.RobustScaler(quantile_range=(0., .75), with_centering=False)\n",
    "# er_scaler = preprocessing.RobustScaler(quantile_range=(0., .75), with_centering=False)\n",
    "# n_scaler = preprocessing.MinMaxScaler()\n",
    "# r_features = ['buyer_dispersion', 'clustering']\n",
    "# r_feature = ['supplier_dispersion']\n",
    "# n_feature = ['interaction', 'prop_window', 'contract_duration']\n",
    "# cnts_train[r_features] = r_scaler.fit_transform(cnts_train[r_features])\n",
    "# cnts_train[r_feature] = er_scaler.fit_transform(cnts_train[r_feature])\n",
    "# cnts_train[n_feature] = n_scaler.fit_transform(cnts_train[n_feature])"
   ]
  },
  {
   "cell_type": "markdown",
   "metadata": {
    "slideshow": {
     "slide_type": "slide"
    }
   },
   "source": [
    "## Put it all together in a linear model"
   ]
  },
  {
   "cell_type": "code",
   "execution_count": 60,
   "metadata": {},
   "outputs": [],
   "source": [
    "cnts_train = cnts.copy()\n",
    "\n",
    "ss = cnts_train.groupby(\"code_b\", as_index=False)[['person', 'single_bid']].mean()\n",
    "\n",
    "ss = pd.merge(ss,\n",
    "             inegi[[\"population_2015\", \"GVA_2015\"]],\n",
    "             left_on=\"code_b\",\n",
    "             right_index=True)\n",
    "\n",
    "ss = pd.merge(ss,\n",
    "              corruption[[\"very_high_r\", \"c_very_high_r\", \"e_exp_r\"]],\n",
    "              how=\"left\",\n",
    "              left_on=\"code_b\",\n",
    "              right_index=True)\n",
    "\n",
    "ss['gva_pc'] = ss['GVA_2015'] / ss['population_2015']\n",
    "\n",
    "cl = cnts_train.groupby(\"code_b\", as_index=False)[[\"clustering\"]].mean()\n",
    "\n",
    "sd = cnts_train.groupby(\"code_b\", as_index=False)[[\"supplier_dispersion\"]].mean()\n",
    "\n",
    "bd = cnts_train.groupby(\"code_b\", as_index=False)[[\"buyer_dispersion\"]].mean()\n",
    "\n",
    "dp = cnts_train.groupby(\"code_b\", as_index=False)[[\"daily_price\", \"amount\"]].mean()\n",
    "\n",
    "fs = cnts_train.groupby(\"code_b\", as_index=False)[['file_size', 'atom']].mean()\n",
    "si = cnts_train.groupby(\"code_b\", as_index=False)[['single_interaction']].mean()\n",
    "bc = cnts_train.groupby(\"code_b\", as_index=False)[['interaction']].mean()\n",
    "pw = cnts_train.groupby(\"code_b\", as_index=False)[['prop_window']].mean()\n",
    "cd = cnts_train.groupby(\"code_b\", as_index=False)[['contract_duration']].mean()\n",
    "od = cnts_train.groupby(\"code_b\", as_index=False)[['long']].mean()\n",
    "co = cnts_train.groupby(\"code_b\", as_index=False)[['comp']].mean()\n",
    "we = cnts_train.groupby(\"code_b\", as_index=False)[['proportion_window']].mean()\n",
    "\n",
    "\n",
    "\n",
    "\n",
    "\n",
    "gb = pd.merge(ss, bd)\n",
    "gb = pd.merge(gb, sd)\n",
    "gb = pd.merge(gb, dp)\n",
    "gb = pd.merge(gb, fs)\n",
    "gb = pd.merge(gb, cl)\n",
    "gb = pd.merge(gb, si)\n",
    "gb = pd.merge(gb, bc)\n",
    "gb = pd.merge(gb, pw)\n",
    "gb = pd.merge(gb, cd)\n",
    "gb = pd.merge(gb, od)\n",
    "gb = pd.merge(gb, co)\n",
    "gb = pd.merge(gb, we)"
   ]
  },
  {
   "cell_type": "markdown",
   "metadata": {},
   "source": [
    "# Linear Model"
   ]
  },
  {
   "cell_type": "code",
   "execution_count": 61,
   "metadata": {
    "slideshow": {
     "slide_type": "slide"
    }
   },
   "outputs": [],
   "source": [
    "# We fit it in a linear model\n",
    "\n",
    "\n",
    "X = gb[covariates].values\n",
    "\n",
    "y = gb['very_high_r'].values\n",
    "\n",
    "ols = linear_model.LinearRegression()\n",
    "ols.fit(X, y)\n",
    "\n",
    "cnts_train['CRI'] = np.inner(cnts_train[covariates].values, ols.coef_) + ols.intercept_\n",
    "\n",
    "cri = cnts_train.groupby('code_b', as_index=False).CRI.mean()\n",
    "\n",
    "gb = pd.merge(gb, cri, how='left')"
   ]
  },
  {
   "cell_type": "code",
   "execution_count": 62,
   "metadata": {},
   "outputs": [
    {
     "data": {
      "text/plain": [
       "array([-1.73986407e+01, -6.00674405e+03,  1.34446445e+02, -1.59272316e+03,\n",
       "       -1.29806679e+03,  2.62930638e+01,  1.00136823e+02,  2.86370076e+02,\n",
       "       -3.55641023e-01, -1.08221119e-01, -3.01336914e-02])"
      ]
     },
     "execution_count": 62,
     "metadata": {},
     "output_type": "execute_result"
    }
   ],
   "source": [
    "ols.coef_"
   ]
  },
  {
   "cell_type": "code",
   "execution_count": 63,
   "metadata": {},
   "outputs": [
    {
     "data": {
      "text/html": [
       "<div>\n",
       "<style scoped>\n",
       "    .dataframe tbody tr th:only-of-type {\n",
       "        vertical-align: middle;\n",
       "    }\n",
       "\n",
       "    .dataframe tbody tr th {\n",
       "        vertical-align: top;\n",
       "    }\n",
       "\n",
       "    .dataframe thead th {\n",
       "        text-align: right;\n",
       "    }\n",
       "</style>\n",
       "<table border=\"1\" class=\"dataframe\">\n",
       "  <thead>\n",
       "    <tr style=\"text-align: right;\">\n",
       "      <th></th>\n",
       "      <th>person</th>\n",
       "      <th>single_bid</th>\n",
       "      <th>population_2015</th>\n",
       "      <th>GVA_2015</th>\n",
       "      <th>very_high_r</th>\n",
       "      <th>c_very_high_r</th>\n",
       "      <th>e_exp_r</th>\n",
       "      <th>gva_pc</th>\n",
       "      <th>buyer_dispersion</th>\n",
       "      <th>supplier_dispersion</th>\n",
       "      <th>...</th>\n",
       "      <th>atom</th>\n",
       "      <th>clustering</th>\n",
       "      <th>single_interaction</th>\n",
       "      <th>interaction</th>\n",
       "      <th>prop_window</th>\n",
       "      <th>contract_duration</th>\n",
       "      <th>long</th>\n",
       "      <th>comp</th>\n",
       "      <th>proportion_window</th>\n",
       "      <th>CRI</th>\n",
       "    </tr>\n",
       "  </thead>\n",
       "  <tbody>\n",
       "    <tr>\n",
       "      <th>person</th>\n",
       "      <td>1.000000</td>\n",
       "      <td>-0.113270</td>\n",
       "      <td>-0.418988</td>\n",
       "      <td>-0.466276</td>\n",
       "      <td>-0.073144</td>\n",
       "      <td>-0.069282</td>\n",
       "      <td>-0.124267</td>\n",
       "      <td>-0.134531</td>\n",
       "      <td>0.250000</td>\n",
       "      <td>0.478372</td>\n",
       "      <td>...</td>\n",
       "      <td>-0.352273</td>\n",
       "      <td>-0.375733</td>\n",
       "      <td>0.407991</td>\n",
       "      <td>0.209677</td>\n",
       "      <td>-0.118768</td>\n",
       "      <td>0.216276</td>\n",
       "      <td>0.017595</td>\n",
       "      <td>0.113270</td>\n",
       "      <td>0.049120</td>\n",
       "      <td>-0.201613</td>\n",
       "    </tr>\n",
       "    <tr>\n",
       "      <th>single_bid</th>\n",
       "      <td>-0.113270</td>\n",
       "      <td>1.000000</td>\n",
       "      <td>0.269428</td>\n",
       "      <td>0.257331</td>\n",
       "      <td>0.263428</td>\n",
       "      <td>0.142229</td>\n",
       "      <td>0.041789</td>\n",
       "      <td>0.111437</td>\n",
       "      <td>-0.817449</td>\n",
       "      <td>-0.719575</td>\n",
       "      <td>...</td>\n",
       "      <td>-0.006965</td>\n",
       "      <td>-0.119501</td>\n",
       "      <td>-0.510630</td>\n",
       "      <td>-0.758431</td>\n",
       "      <td>-0.090909</td>\n",
       "      <td>-0.374267</td>\n",
       "      <td>-0.245235</td>\n",
       "      <td>-1.000000</td>\n",
       "      <td>0.170088</td>\n",
       "      <td>0.510264</td>\n",
       "    </tr>\n",
       "    <tr>\n",
       "      <th>population_2015</th>\n",
       "      <td>-0.418988</td>\n",
       "      <td>0.269428</td>\n",
       "      <td>1.000000</td>\n",
       "      <td>0.747801</td>\n",
       "      <td>0.545921</td>\n",
       "      <td>0.592375</td>\n",
       "      <td>0.082478</td>\n",
       "      <td>-0.233871</td>\n",
       "      <td>-0.391862</td>\n",
       "      <td>-0.324413</td>\n",
       "      <td>...</td>\n",
       "      <td>0.038856</td>\n",
       "      <td>0.024560</td>\n",
       "      <td>-0.219941</td>\n",
       "      <td>-0.184018</td>\n",
       "      <td>-0.226906</td>\n",
       "      <td>0.185484</td>\n",
       "      <td>0.234604</td>\n",
       "      <td>-0.269428</td>\n",
       "      <td>-0.224340</td>\n",
       "      <td>0.428152</td>\n",
       "    </tr>\n",
       "    <tr>\n",
       "      <th>GVA_2015</th>\n",
       "      <td>-0.466276</td>\n",
       "      <td>0.257331</td>\n",
       "      <td>0.747801</td>\n",
       "      <td>1.000000</td>\n",
       "      <td>0.324290</td>\n",
       "      <td>0.491935</td>\n",
       "      <td>0.079179</td>\n",
       "      <td>0.362170</td>\n",
       "      <td>-0.306085</td>\n",
       "      <td>-0.403959</td>\n",
       "      <td>...</td>\n",
       "      <td>0.065616</td>\n",
       "      <td>0.055718</td>\n",
       "      <td>-0.234238</td>\n",
       "      <td>-0.282991</td>\n",
       "      <td>-0.179985</td>\n",
       "      <td>-0.010630</td>\n",
       "      <td>0.205279</td>\n",
       "      <td>-0.257331</td>\n",
       "      <td>-0.160557</td>\n",
       "      <td>0.354106</td>\n",
       "    </tr>\n",
       "    <tr>\n",
       "      <th>very_high_r</th>\n",
       "      <td>-0.073144</td>\n",
       "      <td>0.263428</td>\n",
       "      <td>0.545921</td>\n",
       "      <td>0.324290</td>\n",
       "      <td>1.000000</td>\n",
       "      <td>0.726856</td>\n",
       "      <td>0.352521</td>\n",
       "      <td>-0.236480</td>\n",
       "      <td>-0.379102</td>\n",
       "      <td>-0.227314</td>\n",
       "      <td>...</td>\n",
       "      <td>0.059578</td>\n",
       "      <td>-0.182218</td>\n",
       "      <td>-0.064161</td>\n",
       "      <td>-0.232081</td>\n",
       "      <td>-0.350687</td>\n",
       "      <td>-0.036114</td>\n",
       "      <td>0.159487</td>\n",
       "      <td>-0.263428</td>\n",
       "      <td>-0.391751</td>\n",
       "      <td>0.508341</td>\n",
       "    </tr>\n",
       "    <tr>\n",
       "      <th>c_very_high_r</th>\n",
       "      <td>-0.069282</td>\n",
       "      <td>0.142229</td>\n",
       "      <td>0.592375</td>\n",
       "      <td>0.491935</td>\n",
       "      <td>0.726856</td>\n",
       "      <td>1.000000</td>\n",
       "      <td>0.334677</td>\n",
       "      <td>-0.015029</td>\n",
       "      <td>-0.333944</td>\n",
       "      <td>-0.134164</td>\n",
       "      <td>...</td>\n",
       "      <td>-0.036290</td>\n",
       "      <td>-0.280425</td>\n",
       "      <td>0.152493</td>\n",
       "      <td>-0.174853</td>\n",
       "      <td>-0.489003</td>\n",
       "      <td>0.037023</td>\n",
       "      <td>0.039223</td>\n",
       "      <td>-0.142229</td>\n",
       "      <td>-0.511364</td>\n",
       "      <td>0.552419</td>\n",
       "    </tr>\n",
       "    <tr>\n",
       "      <th>e_exp_r</th>\n",
       "      <td>-0.124267</td>\n",
       "      <td>0.041789</td>\n",
       "      <td>0.082478</td>\n",
       "      <td>0.079179</td>\n",
       "      <td>0.352521</td>\n",
       "      <td>0.334677</td>\n",
       "      <td>1.000000</td>\n",
       "      <td>0.105938</td>\n",
       "      <td>-0.259897</td>\n",
       "      <td>-0.105572</td>\n",
       "      <td>...</td>\n",
       "      <td>0.049487</td>\n",
       "      <td>-0.199780</td>\n",
       "      <td>-0.036290</td>\n",
       "      <td>-0.142595</td>\n",
       "      <td>0.010264</td>\n",
       "      <td>-0.218475</td>\n",
       "      <td>-0.162757</td>\n",
       "      <td>-0.041789</td>\n",
       "      <td>-0.348240</td>\n",
       "      <td>0.219941</td>\n",
       "    </tr>\n",
       "    <tr>\n",
       "      <th>gva_pc</th>\n",
       "      <td>-0.134531</td>\n",
       "      <td>0.111437</td>\n",
       "      <td>-0.233871</td>\n",
       "      <td>0.362170</td>\n",
       "      <td>-0.236480</td>\n",
       "      <td>-0.015029</td>\n",
       "      <td>0.105938</td>\n",
       "      <td>1.000000</td>\n",
       "      <td>-0.062683</td>\n",
       "      <td>-0.264663</td>\n",
       "      <td>...</td>\n",
       "      <td>-0.015029</td>\n",
       "      <td>0.106672</td>\n",
       "      <td>-0.107771</td>\n",
       "      <td>-0.361804</td>\n",
       "      <td>0.021994</td>\n",
       "      <td>-0.340176</td>\n",
       "      <td>-0.123900</td>\n",
       "      <td>-0.111437</td>\n",
       "      <td>0.085411</td>\n",
       "      <td>0.093842</td>\n",
       "    </tr>\n",
       "    <tr>\n",
       "      <th>buyer_dispersion</th>\n",
       "      <td>0.250000</td>\n",
       "      <td>-0.817449</td>\n",
       "      <td>-0.391862</td>\n",
       "      <td>-0.306085</td>\n",
       "      <td>-0.379102</td>\n",
       "      <td>-0.333944</td>\n",
       "      <td>-0.259897</td>\n",
       "      <td>-0.062683</td>\n",
       "      <td>1.000000</td>\n",
       "      <td>0.731672</td>\n",
       "      <td>...</td>\n",
       "      <td>-0.201613</td>\n",
       "      <td>0.160557</td>\n",
       "      <td>0.384164</td>\n",
       "      <td>0.791422</td>\n",
       "      <td>0.162757</td>\n",
       "      <td>0.361804</td>\n",
       "      <td>0.337243</td>\n",
       "      <td>0.817449</td>\n",
       "      <td>-0.034824</td>\n",
       "      <td>-0.756965</td>\n",
       "    </tr>\n",
       "    <tr>\n",
       "      <th>supplier_dispersion</th>\n",
       "      <td>0.478372</td>\n",
       "      <td>-0.719575</td>\n",
       "      <td>-0.324413</td>\n",
       "      <td>-0.403959</td>\n",
       "      <td>-0.227314</td>\n",
       "      <td>-0.134164</td>\n",
       "      <td>-0.105572</td>\n",
       "      <td>-0.264663</td>\n",
       "      <td>0.731672</td>\n",
       "      <td>1.000000</td>\n",
       "      <td>...</td>\n",
       "      <td>-0.501833</td>\n",
       "      <td>-0.364370</td>\n",
       "      <td>0.609971</td>\n",
       "      <td>0.658358</td>\n",
       "      <td>-0.119135</td>\n",
       "      <td>0.441716</td>\n",
       "      <td>0.195015</td>\n",
       "      <td>0.719575</td>\n",
       "      <td>0.010264</td>\n",
       "      <td>-0.527859</td>\n",
       "    </tr>\n",
       "    <tr>\n",
       "      <th>daily_price</th>\n",
       "      <td>-0.089443</td>\n",
       "      <td>-0.294721</td>\n",
       "      <td>-0.020161</td>\n",
       "      <td>-0.029692</td>\n",
       "      <td>0.134189</td>\n",
       "      <td>0.173754</td>\n",
       "      <td>0.116569</td>\n",
       "      <td>-0.037757</td>\n",
       "      <td>0.262463</td>\n",
       "      <td>0.307185</td>\n",
       "      <td>...</td>\n",
       "      <td>-0.258065</td>\n",
       "      <td>-0.267595</td>\n",
       "      <td>0.438416</td>\n",
       "      <td>0.172287</td>\n",
       "      <td>-0.084311</td>\n",
       "      <td>0.078812</td>\n",
       "      <td>0.009531</td>\n",
       "      <td>0.294721</td>\n",
       "      <td>-0.103006</td>\n",
       "      <td>-0.061584</td>\n",
       "    </tr>\n",
       "    <tr>\n",
       "      <th>amount</th>\n",
       "      <td>-0.004032</td>\n",
       "      <td>-0.316716</td>\n",
       "      <td>0.119868</td>\n",
       "      <td>0.092375</td>\n",
       "      <td>0.334555</td>\n",
       "      <td>0.343109</td>\n",
       "      <td>0.351906</td>\n",
       "      <td>-0.072947</td>\n",
       "      <td>0.252566</td>\n",
       "      <td>0.370968</td>\n",
       "      <td>...</td>\n",
       "      <td>-0.368768</td>\n",
       "      <td>-0.398460</td>\n",
       "      <td>0.528592</td>\n",
       "      <td>0.175953</td>\n",
       "      <td>-0.107405</td>\n",
       "      <td>0.237170</td>\n",
       "      <td>0.128299</td>\n",
       "      <td>0.316716</td>\n",
       "      <td>-0.178152</td>\n",
       "      <td>-0.044355</td>\n",
       "    </tr>\n",
       "    <tr>\n",
       "      <th>file_size</th>\n",
       "      <td>-0.458211</td>\n",
       "      <td>0.393695</td>\n",
       "      <td>0.305352</td>\n",
       "      <td>0.327713</td>\n",
       "      <td>0.280477</td>\n",
       "      <td>0.149927</td>\n",
       "      <td>0.258798</td>\n",
       "      <td>0.167522</td>\n",
       "      <td>-0.499633</td>\n",
       "      <td>-0.737537</td>\n",
       "      <td>...</td>\n",
       "      <td>0.678152</td>\n",
       "      <td>0.329912</td>\n",
       "      <td>-0.586144</td>\n",
       "      <td>-0.419721</td>\n",
       "      <td>0.233871</td>\n",
       "      <td>-0.313416</td>\n",
       "      <td>-0.053519</td>\n",
       "      <td>-0.393695</td>\n",
       "      <td>-0.021994</td>\n",
       "      <td>0.417155</td>\n",
       "    </tr>\n",
       "    <tr>\n",
       "      <th>atom</th>\n",
       "      <td>-0.352273</td>\n",
       "      <td>-0.006965</td>\n",
       "      <td>0.038856</td>\n",
       "      <td>0.065616</td>\n",
       "      <td>0.059578</td>\n",
       "      <td>-0.036290</td>\n",
       "      <td>0.049487</td>\n",
       "      <td>-0.015029</td>\n",
       "      <td>-0.201613</td>\n",
       "      <td>-0.501833</td>\n",
       "      <td>...</td>\n",
       "      <td>1.000000</td>\n",
       "      <td>0.597874</td>\n",
       "      <td>-0.332111</td>\n",
       "      <td>-0.070381</td>\n",
       "      <td>0.448680</td>\n",
       "      <td>-0.123534</td>\n",
       "      <td>-0.027126</td>\n",
       "      <td>0.006965</td>\n",
       "      <td>0.066349</td>\n",
       "      <td>0.144428</td>\n",
       "    </tr>\n",
       "    <tr>\n",
       "      <th>clustering</th>\n",
       "      <td>-0.375733</td>\n",
       "      <td>-0.119501</td>\n",
       "      <td>0.024560</td>\n",
       "      <td>0.055718</td>\n",
       "      <td>-0.182218</td>\n",
       "      <td>-0.280425</td>\n",
       "      <td>-0.199780</td>\n",
       "      <td>0.106672</td>\n",
       "      <td>0.160557</td>\n",
       "      <td>-0.364370</td>\n",
       "      <td>...</td>\n",
       "      <td>0.597874</td>\n",
       "      <td>1.000000</td>\n",
       "      <td>-0.416422</td>\n",
       "      <td>0.128299</td>\n",
       "      <td>0.521994</td>\n",
       "      <td>0.091642</td>\n",
       "      <td>0.272727</td>\n",
       "      <td>0.119501</td>\n",
       "      <td>0.108871</td>\n",
       "      <td>-0.214076</td>\n",
       "    </tr>\n",
       "    <tr>\n",
       "      <th>single_interaction</th>\n",
       "      <td>0.407991</td>\n",
       "      <td>-0.510630</td>\n",
       "      <td>-0.219941</td>\n",
       "      <td>-0.234238</td>\n",
       "      <td>-0.064161</td>\n",
       "      <td>0.152493</td>\n",
       "      <td>-0.036290</td>\n",
       "      <td>-0.107771</td>\n",
       "      <td>0.384164</td>\n",
       "      <td>0.609971</td>\n",
       "      <td>...</td>\n",
       "      <td>-0.332111</td>\n",
       "      <td>-0.416422</td>\n",
       "      <td>1.000000</td>\n",
       "      <td>0.224340</td>\n",
       "      <td>-0.162023</td>\n",
       "      <td>0.273460</td>\n",
       "      <td>-0.057918</td>\n",
       "      <td>0.510630</td>\n",
       "      <td>-0.008065</td>\n",
       "      <td>-0.051320</td>\n",
       "    </tr>\n",
       "    <tr>\n",
       "      <th>interaction</th>\n",
       "      <td>0.209677</td>\n",
       "      <td>-0.758431</td>\n",
       "      <td>-0.184018</td>\n",
       "      <td>-0.282991</td>\n",
       "      <td>-0.232081</td>\n",
       "      <td>-0.174853</td>\n",
       "      <td>-0.142595</td>\n",
       "      <td>-0.361804</td>\n",
       "      <td>0.791422</td>\n",
       "      <td>0.658358</td>\n",
       "      <td>...</td>\n",
       "      <td>-0.070381</td>\n",
       "      <td>0.128299</td>\n",
       "      <td>0.224340</td>\n",
       "      <td>1.000000</td>\n",
       "      <td>0.057918</td>\n",
       "      <td>0.266129</td>\n",
       "      <td>0.175587</td>\n",
       "      <td>0.758431</td>\n",
       "      <td>-0.257698</td>\n",
       "      <td>-0.724340</td>\n",
       "    </tr>\n",
       "    <tr>\n",
       "      <th>prop_window</th>\n",
       "      <td>-0.118768</td>\n",
       "      <td>-0.090909</td>\n",
       "      <td>-0.226906</td>\n",
       "      <td>-0.179985</td>\n",
       "      <td>-0.350687</td>\n",
       "      <td>-0.489003</td>\n",
       "      <td>0.010264</td>\n",
       "      <td>0.021994</td>\n",
       "      <td>0.162757</td>\n",
       "      <td>-0.119135</td>\n",
       "      <td>...</td>\n",
       "      <td>0.448680</td>\n",
       "      <td>0.521994</td>\n",
       "      <td>-0.162023</td>\n",
       "      <td>0.057918</td>\n",
       "      <td>1.000000</td>\n",
       "      <td>0.080645</td>\n",
       "      <td>0.077713</td>\n",
       "      <td>0.090909</td>\n",
       "      <td>0.449413</td>\n",
       "      <td>-0.458578</td>\n",
       "    </tr>\n",
       "    <tr>\n",
       "      <th>contract_duration</th>\n",
       "      <td>0.216276</td>\n",
       "      <td>-0.374267</td>\n",
       "      <td>0.185484</td>\n",
       "      <td>-0.010630</td>\n",
       "      <td>-0.036114</td>\n",
       "      <td>0.037023</td>\n",
       "      <td>-0.218475</td>\n",
       "      <td>-0.340176</td>\n",
       "      <td>0.361804</td>\n",
       "      <td>0.441716</td>\n",
       "      <td>...</td>\n",
       "      <td>-0.123534</td>\n",
       "      <td>0.091642</td>\n",
       "      <td>0.273460</td>\n",
       "      <td>0.266129</td>\n",
       "      <td>0.080645</td>\n",
       "      <td>1.000000</td>\n",
       "      <td>0.706012</td>\n",
       "      <td>0.374267</td>\n",
       "      <td>0.216642</td>\n",
       "      <td>-0.115836</td>\n",
       "    </tr>\n",
       "    <tr>\n",
       "      <th>long</th>\n",
       "      <td>0.017595</td>\n",
       "      <td>-0.245235</td>\n",
       "      <td>0.234604</td>\n",
       "      <td>0.205279</td>\n",
       "      <td>0.159487</td>\n",
       "      <td>0.039223</td>\n",
       "      <td>-0.162757</td>\n",
       "      <td>-0.123900</td>\n",
       "      <td>0.337243</td>\n",
       "      <td>0.195015</td>\n",
       "      <td>...</td>\n",
       "      <td>-0.027126</td>\n",
       "      <td>0.272727</td>\n",
       "      <td>-0.057918</td>\n",
       "      <td>0.175587</td>\n",
       "      <td>0.077713</td>\n",
       "      <td>0.706012</td>\n",
       "      <td>1.000000</td>\n",
       "      <td>0.245235</td>\n",
       "      <td>0.225440</td>\n",
       "      <td>0.004765</td>\n",
       "    </tr>\n",
       "    <tr>\n",
       "      <th>comp</th>\n",
       "      <td>0.113270</td>\n",
       "      <td>-1.000000</td>\n",
       "      <td>-0.269428</td>\n",
       "      <td>-0.257331</td>\n",
       "      <td>-0.263428</td>\n",
       "      <td>-0.142229</td>\n",
       "      <td>-0.041789</td>\n",
       "      <td>-0.111437</td>\n",
       "      <td>0.817449</td>\n",
       "      <td>0.719575</td>\n",
       "      <td>...</td>\n",
       "      <td>0.006965</td>\n",
       "      <td>0.119501</td>\n",
       "      <td>0.510630</td>\n",
       "      <td>0.758431</td>\n",
       "      <td>0.090909</td>\n",
       "      <td>0.374267</td>\n",
       "      <td>0.245235</td>\n",
       "      <td>1.000000</td>\n",
       "      <td>-0.170088</td>\n",
       "      <td>-0.510264</td>\n",
       "    </tr>\n",
       "    <tr>\n",
       "      <th>proportion_window</th>\n",
       "      <td>0.049120</td>\n",
       "      <td>0.170088</td>\n",
       "      <td>-0.224340</td>\n",
       "      <td>-0.160557</td>\n",
       "      <td>-0.391751</td>\n",
       "      <td>-0.511364</td>\n",
       "      <td>-0.348240</td>\n",
       "      <td>0.085411</td>\n",
       "      <td>-0.034824</td>\n",
       "      <td>0.010264</td>\n",
       "      <td>...</td>\n",
       "      <td>0.066349</td>\n",
       "      <td>0.108871</td>\n",
       "      <td>-0.008065</td>\n",
       "      <td>-0.257698</td>\n",
       "      <td>0.449413</td>\n",
       "      <td>0.216642</td>\n",
       "      <td>0.225440</td>\n",
       "      <td>-0.170088</td>\n",
       "      <td>1.000000</td>\n",
       "      <td>-0.023460</td>\n",
       "    </tr>\n",
       "    <tr>\n",
       "      <th>CRI</th>\n",
       "      <td>-0.201613</td>\n",
       "      <td>0.510264</td>\n",
       "      <td>0.428152</td>\n",
       "      <td>0.354106</td>\n",
       "      <td>0.508341</td>\n",
       "      <td>0.552419</td>\n",
       "      <td>0.219941</td>\n",
       "      <td>0.093842</td>\n",
       "      <td>-0.756965</td>\n",
       "      <td>-0.527859</td>\n",
       "      <td>...</td>\n",
       "      <td>0.144428</td>\n",
       "      <td>-0.214076</td>\n",
       "      <td>-0.051320</td>\n",
       "      <td>-0.724340</td>\n",
       "      <td>-0.458578</td>\n",
       "      <td>-0.115836</td>\n",
       "      <td>0.004765</td>\n",
       "      <td>-0.510264</td>\n",
       "      <td>-0.023460</td>\n",
       "      <td>1.000000</td>\n",
       "    </tr>\n",
       "  </tbody>\n",
       "</table>\n",
       "<p>23 rows × 23 columns</p>\n",
       "</div>"
      ],
      "text/plain": [
       "                       person  single_bid  population_2015  GVA_2015  \\\n",
       "person               1.000000   -0.113270        -0.418988 -0.466276   \n",
       "single_bid          -0.113270    1.000000         0.269428  0.257331   \n",
       "population_2015     -0.418988    0.269428         1.000000  0.747801   \n",
       "GVA_2015            -0.466276    0.257331         0.747801  1.000000   \n",
       "very_high_r         -0.073144    0.263428         0.545921  0.324290   \n",
       "c_very_high_r       -0.069282    0.142229         0.592375  0.491935   \n",
       "e_exp_r             -0.124267    0.041789         0.082478  0.079179   \n",
       "gva_pc              -0.134531    0.111437        -0.233871  0.362170   \n",
       "buyer_dispersion     0.250000   -0.817449        -0.391862 -0.306085   \n",
       "supplier_dispersion  0.478372   -0.719575        -0.324413 -0.403959   \n",
       "daily_price         -0.089443   -0.294721        -0.020161 -0.029692   \n",
       "amount              -0.004032   -0.316716         0.119868  0.092375   \n",
       "file_size           -0.458211    0.393695         0.305352  0.327713   \n",
       "atom                -0.352273   -0.006965         0.038856  0.065616   \n",
       "clustering          -0.375733   -0.119501         0.024560  0.055718   \n",
       "single_interaction   0.407991   -0.510630        -0.219941 -0.234238   \n",
       "interaction          0.209677   -0.758431        -0.184018 -0.282991   \n",
       "prop_window         -0.118768   -0.090909        -0.226906 -0.179985   \n",
       "contract_duration    0.216276   -0.374267         0.185484 -0.010630   \n",
       "long                 0.017595   -0.245235         0.234604  0.205279   \n",
       "comp                 0.113270   -1.000000        -0.269428 -0.257331   \n",
       "proportion_window    0.049120    0.170088        -0.224340 -0.160557   \n",
       "CRI                 -0.201613    0.510264         0.428152  0.354106   \n",
       "\n",
       "                     very_high_r  c_very_high_r   e_exp_r    gva_pc  \\\n",
       "person                 -0.073144      -0.069282 -0.124267 -0.134531   \n",
       "single_bid              0.263428       0.142229  0.041789  0.111437   \n",
       "population_2015         0.545921       0.592375  0.082478 -0.233871   \n",
       "GVA_2015                0.324290       0.491935  0.079179  0.362170   \n",
       "very_high_r             1.000000       0.726856  0.352521 -0.236480   \n",
       "c_very_high_r           0.726856       1.000000  0.334677 -0.015029   \n",
       "e_exp_r                 0.352521       0.334677  1.000000  0.105938   \n",
       "gva_pc                 -0.236480      -0.015029  0.105938  1.000000   \n",
       "buyer_dispersion       -0.379102      -0.333944 -0.259897 -0.062683   \n",
       "supplier_dispersion    -0.227314      -0.134164 -0.105572 -0.264663   \n",
       "daily_price             0.134189       0.173754  0.116569 -0.037757   \n",
       "amount                  0.334555       0.343109  0.351906 -0.072947   \n",
       "file_size               0.280477       0.149927  0.258798  0.167522   \n",
       "atom                    0.059578      -0.036290  0.049487 -0.015029   \n",
       "clustering             -0.182218      -0.280425 -0.199780  0.106672   \n",
       "single_interaction     -0.064161       0.152493 -0.036290 -0.107771   \n",
       "interaction            -0.232081      -0.174853 -0.142595 -0.361804   \n",
       "prop_window            -0.350687      -0.489003  0.010264  0.021994   \n",
       "contract_duration      -0.036114       0.037023 -0.218475 -0.340176   \n",
       "long                    0.159487       0.039223 -0.162757 -0.123900   \n",
       "comp                   -0.263428      -0.142229 -0.041789 -0.111437   \n",
       "proportion_window      -0.391751      -0.511364 -0.348240  0.085411   \n",
       "CRI                     0.508341       0.552419  0.219941  0.093842   \n",
       "\n",
       "                     buyer_dispersion  supplier_dispersion  ...      atom  \\\n",
       "person                       0.250000             0.478372  ... -0.352273   \n",
       "single_bid                  -0.817449            -0.719575  ... -0.006965   \n",
       "population_2015             -0.391862            -0.324413  ...  0.038856   \n",
       "GVA_2015                    -0.306085            -0.403959  ...  0.065616   \n",
       "very_high_r                 -0.379102            -0.227314  ...  0.059578   \n",
       "c_very_high_r               -0.333944            -0.134164  ... -0.036290   \n",
       "e_exp_r                     -0.259897            -0.105572  ...  0.049487   \n",
       "gva_pc                      -0.062683            -0.264663  ... -0.015029   \n",
       "buyer_dispersion             1.000000             0.731672  ... -0.201613   \n",
       "supplier_dispersion          0.731672             1.000000  ... -0.501833   \n",
       "daily_price                  0.262463             0.307185  ... -0.258065   \n",
       "amount                       0.252566             0.370968  ... -0.368768   \n",
       "file_size                   -0.499633            -0.737537  ...  0.678152   \n",
       "atom                        -0.201613            -0.501833  ...  1.000000   \n",
       "clustering                   0.160557            -0.364370  ...  0.597874   \n",
       "single_interaction           0.384164             0.609971  ... -0.332111   \n",
       "interaction                  0.791422             0.658358  ... -0.070381   \n",
       "prop_window                  0.162757            -0.119135  ...  0.448680   \n",
       "contract_duration            0.361804             0.441716  ... -0.123534   \n",
       "long                         0.337243             0.195015  ... -0.027126   \n",
       "comp                         0.817449             0.719575  ...  0.006965   \n",
       "proportion_window           -0.034824             0.010264  ...  0.066349   \n",
       "CRI                         -0.756965            -0.527859  ...  0.144428   \n",
       "\n",
       "                     clustering  single_interaction  interaction  prop_window  \\\n",
       "person                -0.375733            0.407991     0.209677    -0.118768   \n",
       "single_bid            -0.119501           -0.510630    -0.758431    -0.090909   \n",
       "population_2015        0.024560           -0.219941    -0.184018    -0.226906   \n",
       "GVA_2015               0.055718           -0.234238    -0.282991    -0.179985   \n",
       "very_high_r           -0.182218           -0.064161    -0.232081    -0.350687   \n",
       "c_very_high_r         -0.280425            0.152493    -0.174853    -0.489003   \n",
       "e_exp_r               -0.199780           -0.036290    -0.142595     0.010264   \n",
       "gva_pc                 0.106672           -0.107771    -0.361804     0.021994   \n",
       "buyer_dispersion       0.160557            0.384164     0.791422     0.162757   \n",
       "supplier_dispersion   -0.364370            0.609971     0.658358    -0.119135   \n",
       "daily_price           -0.267595            0.438416     0.172287    -0.084311   \n",
       "amount                -0.398460            0.528592     0.175953    -0.107405   \n",
       "file_size              0.329912           -0.586144    -0.419721     0.233871   \n",
       "atom                   0.597874           -0.332111    -0.070381     0.448680   \n",
       "clustering             1.000000           -0.416422     0.128299     0.521994   \n",
       "single_interaction    -0.416422            1.000000     0.224340    -0.162023   \n",
       "interaction            0.128299            0.224340     1.000000     0.057918   \n",
       "prop_window            0.521994           -0.162023     0.057918     1.000000   \n",
       "contract_duration      0.091642            0.273460     0.266129     0.080645   \n",
       "long                   0.272727           -0.057918     0.175587     0.077713   \n",
       "comp                   0.119501            0.510630     0.758431     0.090909   \n",
       "proportion_window      0.108871           -0.008065    -0.257698     0.449413   \n",
       "CRI                   -0.214076           -0.051320    -0.724340    -0.458578   \n",
       "\n",
       "                     contract_duration      long      comp  proportion_window  \\\n",
       "person                        0.216276  0.017595  0.113270           0.049120   \n",
       "single_bid                   -0.374267 -0.245235 -1.000000           0.170088   \n",
       "population_2015               0.185484  0.234604 -0.269428          -0.224340   \n",
       "GVA_2015                     -0.010630  0.205279 -0.257331          -0.160557   \n",
       "very_high_r                  -0.036114  0.159487 -0.263428          -0.391751   \n",
       "c_very_high_r                 0.037023  0.039223 -0.142229          -0.511364   \n",
       "e_exp_r                      -0.218475 -0.162757 -0.041789          -0.348240   \n",
       "gva_pc                       -0.340176 -0.123900 -0.111437           0.085411   \n",
       "buyer_dispersion              0.361804  0.337243  0.817449          -0.034824   \n",
       "supplier_dispersion           0.441716  0.195015  0.719575           0.010264   \n",
       "daily_price                   0.078812  0.009531  0.294721          -0.103006   \n",
       "amount                        0.237170  0.128299  0.316716          -0.178152   \n",
       "file_size                    -0.313416 -0.053519 -0.393695          -0.021994   \n",
       "atom                         -0.123534 -0.027126  0.006965           0.066349   \n",
       "clustering                    0.091642  0.272727  0.119501           0.108871   \n",
       "single_interaction            0.273460 -0.057918  0.510630          -0.008065   \n",
       "interaction                   0.266129  0.175587  0.758431          -0.257698   \n",
       "prop_window                   0.080645  0.077713  0.090909           0.449413   \n",
       "contract_duration             1.000000  0.706012  0.374267           0.216642   \n",
       "long                          0.706012  1.000000  0.245235           0.225440   \n",
       "comp                          0.374267  0.245235  1.000000          -0.170088   \n",
       "proportion_window             0.216642  0.225440 -0.170088           1.000000   \n",
       "CRI                          -0.115836  0.004765 -0.510264          -0.023460   \n",
       "\n",
       "                          CRI  \n",
       "person              -0.201613  \n",
       "single_bid           0.510264  \n",
       "population_2015      0.428152  \n",
       "GVA_2015             0.354106  \n",
       "very_high_r          0.508341  \n",
       "c_very_high_r        0.552419  \n",
       "e_exp_r              0.219941  \n",
       "gva_pc               0.093842  \n",
       "buyer_dispersion    -0.756965  \n",
       "supplier_dispersion -0.527859  \n",
       "daily_price         -0.061584  \n",
       "amount              -0.044355  \n",
       "file_size            0.417155  \n",
       "atom                 0.144428  \n",
       "clustering          -0.214076  \n",
       "single_interaction  -0.051320  \n",
       "interaction         -0.724340  \n",
       "prop_window         -0.458578  \n",
       "contract_duration   -0.115836  \n",
       "long                 0.004765  \n",
       "comp                -0.510264  \n",
       "proportion_window   -0.023460  \n",
       "CRI                  1.000000  \n",
       "\n",
       "[23 rows x 23 columns]"
      ]
     },
     "execution_count": 63,
     "metadata": {},
     "output_type": "execute_result"
    }
   ],
   "source": [
    "gb.corr(method='spearman')"
   ]
  },
  {
   "cell_type": "code",
   "execution_count": 64,
   "metadata": {},
   "outputs": [
    {
     "data": {
      "text/html": [
       "<div>\n",
       "<style scoped>\n",
       "    .dataframe tbody tr th:only-of-type {\n",
       "        vertical-align: middle;\n",
       "    }\n",
       "\n",
       "    .dataframe tbody tr th {\n",
       "        vertical-align: top;\n",
       "    }\n",
       "\n",
       "    .dataframe thead th {\n",
       "        text-align: right;\n",
       "    }\n",
       "</style>\n",
       "<table border=\"1\" class=\"dataframe\">\n",
       "  <thead>\n",
       "    <tr style=\"text-align: right;\">\n",
       "      <th></th>\n",
       "      <th>person</th>\n",
       "      <th>buyer_dispersion</th>\n",
       "      <th>long</th>\n",
       "      <th>supplier_dispersion</th>\n",
       "      <th>clustering</th>\n",
       "      <th>atom</th>\n",
       "      <th>single_interaction</th>\n",
       "      <th>interaction</th>\n",
       "      <th>prop_window</th>\n",
       "      <th>proportion_window</th>\n",
       "      <th>contract_duration</th>\n",
       "      <th>CRI</th>\n",
       "    </tr>\n",
       "  </thead>\n",
       "  <tbody>\n",
       "    <tr>\n",
       "      <th>person</th>\n",
       "      <td>1.000000</td>\n",
       "      <td>0.042466</td>\n",
       "      <td>-0.017573</td>\n",
       "      <td>0.080344</td>\n",
       "      <td>-0.090517</td>\n",
       "      <td>-0.099179</td>\n",
       "      <td>0.272738</td>\n",
       "      <td>0.019113</td>\n",
       "      <td>-0.029298</td>\n",
       "      <td>-0.003787</td>\n",
       "      <td>0.078000</td>\n",
       "      <td>-0.018707</td>\n",
       "    </tr>\n",
       "    <tr>\n",
       "      <th>buyer_dispersion</th>\n",
       "      <td>0.042466</td>\n",
       "      <td>1.000000</td>\n",
       "      <td>0.032710</td>\n",
       "      <td>0.154856</td>\n",
       "      <td>0.203919</td>\n",
       "      <td>-0.054892</td>\n",
       "      <td>0.046662</td>\n",
       "      <td>0.223037</td>\n",
       "      <td>0.003050</td>\n",
       "      <td>0.009026</td>\n",
       "      <td>0.054418</td>\n",
       "      <td>-0.279978</td>\n",
       "    </tr>\n",
       "    <tr>\n",
       "      <th>long</th>\n",
       "      <td>-0.017573</td>\n",
       "      <td>0.032710</td>\n",
       "      <td>1.000000</td>\n",
       "      <td>0.021709</td>\n",
       "      <td>0.040275</td>\n",
       "      <td>0.055748</td>\n",
       "      <td>-0.004428</td>\n",
       "      <td>0.008901</td>\n",
       "      <td>0.012618</td>\n",
       "      <td>-0.001472</td>\n",
       "      <td>0.646565</td>\n",
       "      <td>0.350472</td>\n",
       "    </tr>\n",
       "    <tr>\n",
       "      <th>supplier_dispersion</th>\n",
       "      <td>0.080344</td>\n",
       "      <td>0.154856</td>\n",
       "      <td>0.021709</td>\n",
       "      <td>1.000000</td>\n",
       "      <td>-0.062117</td>\n",
       "      <td>-0.122740</td>\n",
       "      <td>-0.114554</td>\n",
       "      <td>0.061666</td>\n",
       "      <td>-0.004250</td>\n",
       "      <td>-0.000564</td>\n",
       "      <td>0.064629</td>\n",
       "      <td>-0.472009</td>\n",
       "    </tr>\n",
       "    <tr>\n",
       "      <th>clustering</th>\n",
       "      <td>-0.090517</td>\n",
       "      <td>0.203919</td>\n",
       "      <td>0.040275</td>\n",
       "      <td>-0.062117</td>\n",
       "      <td>1.000000</td>\n",
       "      <td>0.393263</td>\n",
       "      <td>-0.134706</td>\n",
       "      <td>0.042970</td>\n",
       "      <td>0.038346</td>\n",
       "      <td>0.012055</td>\n",
       "      <td>0.068582</td>\n",
       "      <td>-0.163963</td>\n",
       "    </tr>\n",
       "    <tr>\n",
       "      <th>atom</th>\n",
       "      <td>-0.099179</td>\n",
       "      <td>-0.054892</td>\n",
       "      <td>0.055748</td>\n",
       "      <td>-0.122740</td>\n",
       "      <td>0.393263</td>\n",
       "      <td>1.000000</td>\n",
       "      <td>-0.095461</td>\n",
       "      <td>-0.051192</td>\n",
       "      <td>0.062684</td>\n",
       "      <td>0.009837</td>\n",
       "      <td>0.083080</td>\n",
       "      <td>0.116986</td>\n",
       "    </tr>\n",
       "    <tr>\n",
       "      <th>single_interaction</th>\n",
       "      <td>0.272738</td>\n",
       "      <td>0.046662</td>\n",
       "      <td>-0.004428</td>\n",
       "      <td>-0.114554</td>\n",
       "      <td>-0.134706</td>\n",
       "      <td>-0.095461</td>\n",
       "      <td>1.000000</td>\n",
       "      <td>0.022665</td>\n",
       "      <td>-0.005815</td>\n",
       "      <td>0.002651</td>\n",
       "      <td>0.043023</td>\n",
       "      <td>0.500170</td>\n",
       "    </tr>\n",
       "    <tr>\n",
       "      <th>interaction</th>\n",
       "      <td>0.019113</td>\n",
       "      <td>0.223037</td>\n",
       "      <td>0.008901</td>\n",
       "      <td>0.061666</td>\n",
       "      <td>0.042970</td>\n",
       "      <td>-0.051192</td>\n",
       "      <td>0.022665</td>\n",
       "      <td>1.000000</td>\n",
       "      <td>-0.002488</td>\n",
       "      <td>0.001733</td>\n",
       "      <td>0.016645</td>\n",
       "      <td>0.042976</td>\n",
       "    </tr>\n",
       "    <tr>\n",
       "      <th>prop_window</th>\n",
       "      <td>-0.029298</td>\n",
       "      <td>0.003050</td>\n",
       "      <td>0.012618</td>\n",
       "      <td>-0.004250</td>\n",
       "      <td>0.038346</td>\n",
       "      <td>0.062684</td>\n",
       "      <td>-0.005815</td>\n",
       "      <td>-0.002488</td>\n",
       "      <td>1.000000</td>\n",
       "      <td>0.457127</td>\n",
       "      <td>0.015430</td>\n",
       "      <td>-0.562395</td>\n",
       "    </tr>\n",
       "    <tr>\n",
       "      <th>proportion_window</th>\n",
       "      <td>-0.003787</td>\n",
       "      <td>0.009026</td>\n",
       "      <td>-0.001472</td>\n",
       "      <td>-0.000564</td>\n",
       "      <td>0.012055</td>\n",
       "      <td>0.009837</td>\n",
       "      <td>0.002651</td>\n",
       "      <td>0.001733</td>\n",
       "      <td>0.457127</td>\n",
       "      <td>1.000000</td>\n",
       "      <td>-0.004127</td>\n",
       "      <td>-0.300956</td>\n",
       "    </tr>\n",
       "    <tr>\n",
       "      <th>contract_duration</th>\n",
       "      <td>0.078000</td>\n",
       "      <td>0.054418</td>\n",
       "      <td>0.646565</td>\n",
       "      <td>0.064629</td>\n",
       "      <td>0.068582</td>\n",
       "      <td>0.083080</td>\n",
       "      <td>0.043023</td>\n",
       "      <td>0.016645</td>\n",
       "      <td>0.015430</td>\n",
       "      <td>-0.004127</td>\n",
       "      <td>1.000000</td>\n",
       "      <td>0.163800</td>\n",
       "    </tr>\n",
       "    <tr>\n",
       "      <th>CRI</th>\n",
       "      <td>-0.018707</td>\n",
       "      <td>-0.279978</td>\n",
       "      <td>0.350472</td>\n",
       "      <td>-0.472009</td>\n",
       "      <td>-0.163963</td>\n",
       "      <td>0.116986</td>\n",
       "      <td>0.500170</td>\n",
       "      <td>0.042976</td>\n",
       "      <td>-0.562395</td>\n",
       "      <td>-0.300956</td>\n",
       "      <td>0.163800</td>\n",
       "      <td>1.000000</td>\n",
       "    </tr>\n",
       "  </tbody>\n",
       "</table>\n",
       "</div>"
      ],
      "text/plain": [
       "                       person  buyer_dispersion      long  \\\n",
       "person               1.000000          0.042466 -0.017573   \n",
       "buyer_dispersion     0.042466          1.000000  0.032710   \n",
       "long                -0.017573          0.032710  1.000000   \n",
       "supplier_dispersion  0.080344          0.154856  0.021709   \n",
       "clustering          -0.090517          0.203919  0.040275   \n",
       "atom                -0.099179         -0.054892  0.055748   \n",
       "single_interaction   0.272738          0.046662 -0.004428   \n",
       "interaction          0.019113          0.223037  0.008901   \n",
       "prop_window         -0.029298          0.003050  0.012618   \n",
       "proportion_window   -0.003787          0.009026 -0.001472   \n",
       "contract_duration    0.078000          0.054418  0.646565   \n",
       "CRI                 -0.018707         -0.279978  0.350472   \n",
       "\n",
       "                     supplier_dispersion  clustering      atom  \\\n",
       "person                          0.080344   -0.090517 -0.099179   \n",
       "buyer_dispersion                0.154856    0.203919 -0.054892   \n",
       "long                            0.021709    0.040275  0.055748   \n",
       "supplier_dispersion             1.000000   -0.062117 -0.122740   \n",
       "clustering                     -0.062117    1.000000  0.393263   \n",
       "atom                           -0.122740    0.393263  1.000000   \n",
       "single_interaction             -0.114554   -0.134706 -0.095461   \n",
       "interaction                     0.061666    0.042970 -0.051192   \n",
       "prop_window                    -0.004250    0.038346  0.062684   \n",
       "proportion_window              -0.000564    0.012055  0.009837   \n",
       "contract_duration               0.064629    0.068582  0.083080   \n",
       "CRI                            -0.472009   -0.163963  0.116986   \n",
       "\n",
       "                     single_interaction  interaction  prop_window  \\\n",
       "person                         0.272738     0.019113    -0.029298   \n",
       "buyer_dispersion               0.046662     0.223037     0.003050   \n",
       "long                          -0.004428     0.008901     0.012618   \n",
       "supplier_dispersion           -0.114554     0.061666    -0.004250   \n",
       "clustering                    -0.134706     0.042970     0.038346   \n",
       "atom                          -0.095461    -0.051192     0.062684   \n",
       "single_interaction             1.000000     0.022665    -0.005815   \n",
       "interaction                    0.022665     1.000000    -0.002488   \n",
       "prop_window                   -0.005815    -0.002488     1.000000   \n",
       "proportion_window              0.002651     0.001733     0.457127   \n",
       "contract_duration              0.043023     0.016645     0.015430   \n",
       "CRI                            0.500170     0.042976    -0.562395   \n",
       "\n",
       "                     proportion_window  contract_duration       CRI  \n",
       "person                       -0.003787           0.078000 -0.018707  \n",
       "buyer_dispersion              0.009026           0.054418 -0.279978  \n",
       "long                         -0.001472           0.646565  0.350472  \n",
       "supplier_dispersion          -0.000564           0.064629 -0.472009  \n",
       "clustering                    0.012055           0.068582 -0.163963  \n",
       "atom                          0.009837           0.083080  0.116986  \n",
       "single_interaction            0.002651           0.043023  0.500170  \n",
       "interaction                   0.001733           0.016645  0.042976  \n",
       "prop_window                   0.457127           0.015430 -0.562395  \n",
       "proportion_window             1.000000          -0.004127 -0.300956  \n",
       "contract_duration            -0.004127           1.000000  0.163800  \n",
       "CRI                          -0.300956           0.163800  1.000000  "
      ]
     },
     "execution_count": 64,
     "metadata": {},
     "output_type": "execute_result"
    }
   ],
   "source": [
    "cnts_train[covariates + ['CRI']].corr('pearson')"
   ]
  },
  {
   "cell_type": "code",
   "execution_count": 65,
   "metadata": {
    "slideshow": {
     "slide_type": "slide"
    }
   },
   "outputs": [
    {
     "data": {
      "image/png": "[encoded data removed]",
      "text/plain": [
       "<Figure size 432x288 with 1 Axes>"
      ]
     },
     "metadata": {
      "needs_background": "light"
     },
     "output_type": "display_data"
    }
   ],
   "source": [
    "sns.regplot(x='CRI', y='very_high_r', data=gb)\n",
    "plt.ylabel(\"Corruption perception\")\n",
    "plt.xlabel(\"CRV\")\n",
    "#plt.xlim([29, 70])\n",
    "plt.savefig(\"../figures/corruption_risk_perception.png\", dpi=300)"
   ]
  },
  {
   "cell_type": "code",
   "execution_count": 66,
   "metadata": {},
   "outputs": [],
   "source": [
    "cnts['CRI'] = cnts_train['CRI']\n",
    "cnts['ubuyer'] = cnts_train['ubuyer']\n",
    "cnts['usupplier'] = cnts_train['usupplier']"
   ]
  },
  {
   "cell_type": "code",
   "execution_count": 71,
   "metadata": {},
   "outputs": [],
   "source": [
    "cnts['year'] = cnts.start_date.dt.year\n",
    "\n",
    "cnts = cnts.dropna(subset=['usupplier', 'ubuyer'])"
   ]
  },
  {
   "cell_type": "code",
   "execution_count": 73,
   "metadata": {},
   "outputs": [],
   "source": [
    "cnts.to_csv(\"../data/pre-process/contratos_4.csv\", index=False)"
   ]
  }
 ],
 "metadata": {
  "kernelspec": {
   "display_name": "Python 3",
   "language": "python",
   "name": "python3"
  },
  "language_info": {
   "codemirror_mode": {
    "name": "ipython",
    "version": 3
   },
   "file_extension": ".py",
   "mimetype": "text/x-python",
   "name": "python",
   "nbconvert_exporter": "python",
   "pygments_lexer": "ipython3",
   "version": "3.8.5"
  }
 },
 "nbformat": 4,
 "nbformat_minor": 4
}
