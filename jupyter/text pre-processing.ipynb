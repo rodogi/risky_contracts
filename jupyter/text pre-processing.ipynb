{
 "cells": [
  {
   "cell_type": "markdown",
   "metadata": {},
   "source": [
    "# Text pre-processing\n",
    "\n",
    "The main idea is to process company names as follows:\n",
    "- Remove whitespace\n",
    "- Normalize case\n",
    "- Remove acronyms\n",
    "- Remove accents\n",
    "- Remove stop words\n",
    "\n",
    "And finally save a single list of company names."
   ]
  },
  {
   "cell_type": "code",
   "execution_count": 58,
   "metadata": {},
   "outputs": [],
   "source": [
    "import re\n",
    "import pandas as pd\n",
    "import numpy as np"
   ]
  },
  {
   "cell_type": "markdown",
   "metadata": {},
   "source": [
    "## Stop Words\n",
    "\n",
    "Some capital letters are common to many names as they represent the commercial status of the company."
   ]
  },
  {
   "cell_type": "code",
   "execution_count": 59,
   "metadata": {},
   "outputs": [],
   "source": [
    "stop_words = [\n",
    "    r\"S\\.?A\\.? *DE\\.? *C\\.?V\\.?\",\n",
    "    r\"\\bS\\.?A\\.?\",\n",
    "    r\"S\\.? *DE\\.? *R\\.?L\\.? *DE *C\\.?V\\.?\",\n",
    "    r\"S\\.? *DE\\.? *R\\.?L\\.?\",\n",
    "    r\"S\\.?A\\.?P\\.?I\\.? *DE\\.? *C\\.?V\\.?\",\n",
    "    r\"\\bS\\.?A\\.?P\\.?I\\.?\\b\",\n",
    "    r\"S\\.A\\.S\\.?\",\n",
    "    r\"S\\.?A\\.?B\\.? *DE\\.? *C\\.?V\\.?\",\n",
    "    r\"\\bC\\.?V\\.?\\b\"]\n",
    "special_chars = [\",\", \".\"]\n",
    "accents = [\"á\", \"é\", \"í\", \"ó\", \"ú\"]\n",
    "vowels = [\"a\", \"e\", \"i\", \"o\", \"u\"]"
   ]
  },
  {
   "cell_type": "code",
   "execution_count": 60,
   "metadata": {},
   "outputs": [],
   "source": [
    "more_stop_words = [\n",
    "    r\"\\bcompany\\b\",\n",
    "    r\"\\bcia\\b\",\n",
    "    r\"\\bcompania\\b\",\n",
    "    r\"\\bmarcas\\b\",\n",
    "    r\"\\bmarca\\b\",\n",
    "    r\"(?<!de)\\s+mexico\",\n",
    "    r\"\\bmex\\b\",\n",
    "    r\"\\bmx\\b\",\n",
    "    r\"\\busa\\b\",\n",
    "    r\"\\bus\\b\",\n",
    "    r\"\\bcomercializadora\\b\",\n",
    "    r\"\\bindustrial\\b\",\n",
    "    r\"\\bgrupo\\b\",\n",
    "    r\"\\bgroup\\b\"\n",
    "]"
   ]
  },
  {
   "cell_type": "code",
   "execution_count": 61,
   "metadata": {},
   "outputs": [],
   "source": [
    "def clean_string(word):\n",
    "    \"\"\"Pre-process the company name\"\"\"\n",
    "    \n",
    "    # Remove main stop words\n",
    "    for stop_word in stop_words:\n",
    "        word = re.sub(stop_word, \"\", word, flags=re.I)\n",
    "    # Remove spetial chars\n",
    "    for spetial_char in special_chars:\n",
    "        word = word.replace(spetial_char, \"\")\n",
    "    # Remove accents\n",
    "    for i, accent in enumerate(accents):\n",
    "        word = re.sub(accent, vowels[i], word, flags=re.I)\n",
    "    # Additional stop words\n",
    "    for stop_word in more_stop_words:\n",
    "        word = re.sub(stop_word, \"\", word, flags=re.I)\n",
    "    word = word.strip()\n",
    "    word = re.sub(r\" +\", \" \", word)\n",
    "    word = word.lower()\n",
    "    \n",
    "    return word"
   ]
  },
  {
   "cell_type": "code",
   "execution_count": 62,
   "metadata": {},
   "outputs": [
    {
     "name": "stderr",
     "output_type": "stream",
     "text": [
      "/home/rdora/.local/lib/python3.6/site-packages/IPython/core/interactiveshell.py:3063: DtypeWarning: Columns (6,12) have mixed types.Specify dtype option on import or set low_memory=False.\n",
      "  interactivity=interactivity, compiler=compiler, result=result)\n"
     ]
    }
   ],
   "source": [
    "cnts = pd.read_csv(\"/home/rdora/declaranet/data/tables/contratos.csv\")\n",
    "exp = pd.read_csv(\"/home/rdora/declaranet/data/tables/experience.csv\")"
   ]
  },
  {
   "cell_type": "code",
   "execution_count": 63,
   "metadata": {},
   "outputs": [
    {
     "name": "stdout",
     "output_type": "stream",
     "text": [
      "There are 2,579 missing contracts\n",
      "There are 2,069 missing companies in experience\n",
      "--------------------\n",
      "There are 1,801,208 contracts and\n",
      "there are 1,810,431 experience entries\n"
     ]
    }
   ],
   "source": [
    "# Not intersted in experience or companies with no names\n",
    "print(f\"There are {cnts.proveedor_contratista.isna().sum():,} missing contracts\")\n",
    "print(f\"There are {exp.INSTITUCION_EMPRESA.isna().sum():,} missing companies in experience\")\n",
    "print(\"-\" * 20)\n",
    "print(\n",
    "    f\"There are {cnts.shape[0]:,} contracts and\\n\"\n",
    "    f\"there are {exp.shape[0]:,} experience entries\")\n",
    "\n",
    "cnts = cnts.dropna(subset=['proveedor_contratista'])\n",
    "exp = exp.dropna(subset=['INSTITUCION_EMPRESA'])"
   ]
  },
  {
   "cell_type": "code",
   "execution_count": 64,
   "metadata": {},
   "outputs": [
    {
     "name": "stdout",
     "output_type": "stream",
     "text": [
      "Before pre-processing\n",
      "--------------------\n",
      "Number of unique company names:\n",
      "In contracts: 261,318\n",
      "In experience: 398,421\n",
      "Total number of unique companies: 653,764\n",
      "Total number of companies in BOTH tables: 5,975\n",
      "--------------------\n",
      "Top 10 companies\n",
      "--------------------\n",
      "Contracts\n",
      " SUMMA COMPANY, S.A. DE C.V.                            13653\n",
      "MARCAS NESTLE, S.A. DE C.V.                             9243\n",
      "CIA. PROCTER & GAMBLE MEXICO, S. DE R.L. DE C.V.        7959\n",
      "COMERCIALIZADORA PEPSICO MEXICO, S. DE R.L. DE C.V.     6952\n",
      "FARMACEUTICOS MAYPO, S.A. DE C.V.                       6556\n",
      "CONSERVAS LA COSTENA, S.A. DE C.V.                      5771\n",
      "GRUPO FARMACOS ESPECIALIZADOS SA DE CV                  5611\n",
      "GRUPO INDUSTRIAL MASECA, S.A.B. DE C.V.                 5556\n",
      "UNILEVER DE MEXICO, S. DE R.L. DE C.V.                  5102\n",
      "ALEN DEL NORTE SA DE CV                                 4859\n",
      "Name: proveedor_contratista, dtype: int64\n",
      "--------------------\n",
      "Experience\n",
      " DESPACHO JURIDICO                  4049\n",
      "PETROLEOS MEXICANOS                1584\n",
      "DESPACHO CONTABLE                  1483\n",
      "BANAMEX                            1483\n",
      "BANCO NACIONAL DE MEXICO            936\n",
      "PEMEX EXPLORACION Y PRODUCCION      853\n",
      "BANCOMER                            819\n",
      "BBVA BANCOMER                       795\n",
      "UNIVERSIDAD DEL VALLE DE MEXICO     755\n",
      "BANCOMER S.A.                       744\n",
      "Name: INSTITUCION_EMPRESA, dtype: int64\n"
     ]
    }
   ],
   "source": [
    "# Some numbers before the filter\n",
    "cnts_unique = set(cnts.proveedor_contratista.unique())\n",
    "exp_unique = set(exp[exp.SECTOR==\"PRIVADO\"].INSTITUCION_EMPRESA.unique())\n",
    "\n",
    "print(\"Before pre-processing\")\n",
    "print(\"-\" * 20)\n",
    "print(\n",
    "    \"Number of unique company names:\\n\"\n",
    "    f\"In contracts: {len(cnts_unique):,}\\n\"\n",
    "    f\"In experience: {len(exp_unique):,}\")\n",
    "print(\n",
    "    f\"Total number of unique companies: {len(cnts_unique | exp_unique):,}\\n\"\n",
    "    f\"Total number of companies in BOTH tables: {len(cnts_unique & exp_unique):,}\")\n",
    "print(\"-\" * 20)\n",
    "print(\"Top 10 companies\")\n",
    "print(\"-\" * 20)\n",
    "print(\"Contracts\\n\", cnts.proveedor_contratista.value_counts().head(10))\n",
    "print(\"-\" * 20)\n",
    "print(\"Experience\\n\", exp[exp.SECTOR==\"PRIVADO\"].INSTITUCION_EMPRESA.value_counts().head(10))"
   ]
  },
  {
   "cell_type": "code",
   "execution_count": 65,
   "metadata": {},
   "outputs": [],
   "source": [
    "# Apply the new filter\n",
    "exp['INSTITUCION_EMPRESA'] = exp['INSTITUCION_EMPRESA'].apply(clean_string)\n",
    "\n",
    "cnts['proveedor_contratista'] = cnts['proveedor_contratista'].apply(clean_string)"
   ]
  },
  {
   "cell_type": "code",
   "execution_count": 66,
   "metadata": {},
   "outputs": [
    {
     "name": "stdout",
     "output_type": "stream",
     "text": [
      "After pre-processing\n",
      "--------------------\n",
      "Number of unique company names:\n",
      "In contracts: 226,929\n",
      "In experience: 313,766\n",
      "Total number of unique companies: 526,562\n",
      "Total number of companies in BOTH tables: 14,133\n",
      "--------------------\n",
      "Top 10 companies\n",
      "--------------------\n",
      "Contracts\n",
      " summa                         16590\n",
      "nestle                        11712\n",
      "fabrica de jabon la corona    10809\n",
      "alen del norte                 9043\n",
      "procter & gamble               9016\n",
      "farmaceuticos maypo            7034\n",
      "pepsico                        6953\n",
      "farmacos especializados        6332\n",
      "molinera de mexico             6065\n",
      "conservas la costena           5771\n",
      "Name: proveedor_contratista, dtype: int64\n",
      "--------------------\n",
      "Experience\n",
      " despacho juridico                  4247\n",
      "petroleos mexicanos                1597\n",
      "banamex                            1595\n",
      "despacho contable                  1504\n",
      "banco nacional de mexico           1100\n",
      "bancomer sa                        1062\n",
      "televisa                           1058\n",
      "bancomer                            997\n",
      "pemex exploracion y produccion      891\n",
      "universidad del valle de mexico     880\n",
      "Name: INSTITUCION_EMPRESA, dtype: int64\n"
     ]
    }
   ],
   "source": [
    "# Some numbers before the filter\n",
    "cnts_unique = set(cnts.proveedor_contratista.unique())\n",
    "exp_unique = set(exp[exp.SECTOR==\"PRIVADO\"].INSTITUCION_EMPRESA.unique())\n",
    "\n",
    "print(\"After pre-processing\")\n",
    "print(\"-\" * 20)\n",
    "print(\n",
    "    \"Number of unique company names:\\n\"\n",
    "    f\"In contracts: {len(cnts_unique):,}\\n\"\n",
    "    f\"In experience: {len(exp_unique):,}\")\n",
    "print(\n",
    "    f\"Total number of unique companies: {len(cnts_unique | exp_unique):,}\\n\"\n",
    "    f\"Total number of companies in BOTH tables: {len(cnts_unique & exp_unique):,}\")\n",
    "print(\"-\" * 20)\n",
    "print(\"Top 10 companies\")\n",
    "print(\"-\" * 20)\n",
    "print(\"Contracts\\n\", cnts.proveedor_contratista.value_counts().head(10))\n",
    "print(\"-\" * 20)\n",
    "print(\"Experience\\n\", exp[exp.SECTOR==\"PRIVADO\"].INSTITUCION_EMPRESA.value_counts().head(10))"
   ]
  },
  {
   "cell_type": "markdown",
   "metadata": {},
   "source": [
    "## Identification of acronyms\n",
    "\n",
    "La tabla de experiencia, que fue tomada de muchas más fuentes, podría tener una mayor tendencia a contener acrónimos."
   ]
  },
  {
   "cell_type": "code",
   "execution_count": 67,
   "metadata": {},
   "outputs": [
    {
     "data": {
      "text/plain": [
       "'the hongkong and shanghai banking corporation'"
      ]
     },
     "execution_count": 67,
     "metadata": {},
     "output_type": "execute_result"
    }
   ],
   "source": [
    "\"The Hongkong and Shanghai Banking Corporation\".lower()"
   ]
  },
  {
   "cell_type": "code",
   "execution_count": 68,
   "metadata": {},
   "outputs": [],
   "source": [
    "exp.replace?"
   ]
  },
  {
   "cell_type": "code",
   "execution_count": 69,
   "metadata": {},
   "outputs": [],
   "source": [
    "# Dependencias públicas\n",
    "deps = {\n",
    "    re.compile(r\"\\bissste\\b\"): 'instituto de seguridad y servicios sociales de los trabajadores del estado',\n",
    "    re.compile(r\"pemex\"): 'petroleos mexicanos',\n",
    "    re.compile(r\"\\bimss\\b\"): 'instituto mexicano del seguro social',\n",
    "    re.compile(r\"\\bsat\\b\"): 'servicio de administracion tributaria',\n",
    "    re.compile(r\"\\bcfe\\b\"): 'comision federal de electricidad',\n",
    "    re.compile(r\"\\bsre\\b\"): 'secretaria de relaciones exteriores',\n",
    "    re.compile(r'\\bsegob\\b'): 'secretaria de gobernacion',\n",
    "    re.compile(r\"\\bsep\\b\"): 'secretaria de educacion publica',\n",
    "    re.compile(r\"\\bsfp\\b\"): 'secretaria de la funcion publica',\n",
    "    re.compile(r\"\\binegi\\b\"): 'instituto nacional de estadistica geografia e informatica',\n",
    "    re.compile(r\"\\bsagarpa\\b\"): 'secretaria de agricultura y desarrollo rural pesca y alimentacion',\n",
    "    re.compile(r\"\\bconagua\\b\"): 'comision nacional del agua',\n",
    "    re.compile(r\"\\bsedesol\\b\"): 'secretaria de desarrollo social',\n",
    "    re.compile(r\"\\bsae\\b\"): 'servicio de administración y enajenación de bienes',\n",
    "    re.compile(r\"\\bipn\\b\"): 'instituto politecnico nacional',\n",
    "    re.compile(r\"\\bunam\\b\"): 'universidad nacional autonoma de mexico',\n",
    "    re.compile(r\"\\buvm\\b\"): 'universidad del valle de mexico',\n",
    "    re.compile(r\"\\bimp\\b\"): 'instituto mexicano del petroleo',\n",
    "    re.compile(r\"\\bssp\\b\"): 'secretaria de seguridad publica',\n",
    "    re.compile(r\"\\bpgr\\b\"): 'procuraduria federal de la republica',\n",
    "    re.compile(r\"\\bife\\b\"): 'instituto federal electoral',\n",
    "    re.compile(r\"\\bine\\b\"): 'instituto nacional electoral',\n",
    "    re.compile(r\"\\binah\\b\"): 'instituto nacional de antropologia e historia',\n",
    "    re.compile(r\"\\binmegen\\b\"): \"instituto nacional de medicina genomica\",\n",
    "    re.compile(r\"\\btrife\\b\"): 'tribunal electoral del poder judicial de la federacion',\n",
    "    re.compile(r\"\\btfjfa\\b\"): 'tribunal federal de justicia fiscal y administrativa',\n",
    "    re.compile(r\"\\btelmex\\b\"): 'telefonos de mexico',\n",
    "    re.compile(r\"\\bsemarnat\\b\"): 'secretaria   de   medio   ambiente   y   recursos naturales',\n",
    "    re.compile(r\"\\bdiconsa\\b\"): 'distribuidora y comercializadora',\n",
    "    re.compile(r\"\\bshcp\\b\"): 'secretaria de hacienda y credito publico',\n",
    "    re.compile(r\"\\bprofeco\\b\"): 'procuraduria federal del consumidor',\n",
    "    re.compile(r\"\\bconafo\\b\"): 'comision nacional forestal',\n",
    "    re.compile(r\"\\bsedena\\b\"): 'secretaria de la defensa nacional',\n",
    "    re.compile(r\"\\bfonatur\\b\"): 'fondo nacional de fomento al turismo',\n",
    "    re.compile(r\"\\bconacyt\\b\"): 'consejo nacional de ciencia y tecnologia',\n",
    "    re.compile(r\"\\bsni\\b\"): 'sistema nacional de investigadores',\n",
    "    re.compile(r\"\\bconaculta\\b\"): 'consejo nacional para la cultura y las artes',\n",
    "    re.compile(r\"\\bcnbv\\b\"): 'comision nacional bancaria y de valores',\n",
    "    re.compile(r\"\\bsarh\\b\"): 'secretaria de agricultura y recursos hidraulicos',\n",
    "    re.compile(r\"\\bbanxico\\b\"): 'banco de mexico',\n",
    "    re.compile(r\"\\bse\\b\"): 'secretaria de economia',\n",
    "    re.compile(r\"\\bpri\\b\"): 'partido revolucionario institucional',\n",
    "    re.compile(r\"\\bpan\\b\"): 'partido accion nacional',\n",
    "    re.compile(r\"\\bprd\\b\"): 'partido revolucionario democratico',\n",
    "    re.compile(r\"\\bmorena\\b\"): 'movimiento de regeneracion nacional',\n",
    "    re.compile(r\"\\bconalep\\b\"): 'colegio nacional de educacion profesional tecnica',\n",
    "    re.compile(r\"\\binapam\\b\"): 'instituto nacional de las personas adultas mayores',\n",
    "    re.compile(r\"\\binba\\b\"): 'instituto nacional de bellas artes',\n",
    "    re.compile(r\"\\bcofetel\\b\"): 'comision federal de telecomunicaciones',\n",
    "    re.compile(r\"\\bconapred\\b\"): 'consejo nacional para prevenir la discriminacion',\n",
    "    re.compile(r\"\\binea\\b\"): \"instituto nacional para la educacion de los adultos\",\n",
    "    re.compile(r\"\\buam\\b\"): \"universidad autonoma metropolitana\",\n",
    "    re.compile(r\"\\bitam\\b\"): \"instituto tecnologico autonomo de mexico\",\n",
    "    re.compile(r\"\\bitesm\\b\"): 'instituto tecnologico de estudios superiores de monterrey',\n",
    "    re.compile(r\"\\bibero\\b\"): 'universidad iberoamericana',\n",
    "    re.compile(r\"\\binfonavit\\b\"): 'instituto del fondo nacional de la vivienda para los trabajadores',\n",
    "    re.compile(r\"\\bsagar\\b\"): \"secretaria de agricultura ganaderia desarrollo rural pesca y alimentacion\",\n",
    "    re.compile(r\"\\bsenasica\\b\"): 'servicio nacional de sanidad inocuidad y calidad agroalimentaria',\n",
    "    re.compile(r\"\\bsecodam\\b\"): 'secretaria de contraloria y desarrollo administrativo',\n",
    "    re.compile(r\"\\bsct\\b\"): 'secretaria de comunicaciones y transportes',\n",
    "    re.compile(r\"\\bcndh\\b\"): 'comision nacional de los derechos humanos',\n",
    "    re.compile(r\"\\bpfp\\b\"): 'policia federal preventiva',\n",
    "    re.compile(r\"\\bfce\\b\"): 'fondo de cultura economica',\n",
    "    re.compile(r\"\\binifap\\b\"): 'instituto nacional de investigaciones forestales agricolas y pecuarias',\n",
    "    re.compile(r\"\\bdif\\b\"): 'sistema nacional para el desarrollo integral de la familia',\n",
    "    re.compile(r\"\\bssa\\b\"): 'secretaria de salud',\n",
    "    re.compile(r\"\\bfonaes\\b\"): 'fondo nacional de apoyos para empresas en solidaridad'\n",
    "}"
   ]
  },
  {
   "cell_type": "code",
   "execution_count": 70,
   "metadata": {},
   "outputs": [],
   "source": [
    "deps_privadas = {\n",
    "    re.compile(r\"\\bhsbc\\b\"): 'the hongkong and shanghai banking corporation',\n",
    "    re.compile(r\"\\bbanamex\\b\"): 'banco nacional de mexico',\n",
    "    re.compile(r\"\\bbancomer\\b\"): 'banco de comercio',\n",
    "    re.compile(r\"\\bpemex\\b\"): 'petroleos mexicanos',\n",
    "    re.compile(r\"\\biica\\b\"): 'instituto interamericano de cooperacion para la agricultura',\n",
    "    re.compile(r\"\\bcomer\\b\"): \"comercial mexicana\",\n",
    "    re.compile(r\"\\bunitec\\b\"): 'universidad tecnologica de mexico'}"
   ]
  },
  {
   "cell_type": "code",
   "execution_count": 71,
   "metadata": {},
   "outputs": [],
   "source": [
    "deps.update(deps_privadas)"
   ]
  },
  {
   "cell_type": "code",
   "execution_count": 72,
   "metadata": {},
   "outputs": [],
   "source": [
    "# Update acronyms\n",
    "exp['INSTITUCION_EMPRESA'] = exp['INSTITUCION_EMPRESA'].replace(deps, regex=True)\n",
    "cnts['proveedor_contratista'] = cnts['proveedor_contratista'].replace(deps, regex=True)"
   ]
  },
  {
   "cell_type": "code",
   "execution_count": 73,
   "metadata": {},
   "outputs": [],
   "source": [
    "# Save tables\n",
    "exp.to_csv(\"/home/rdora/declaranet/data/pre-process/experience.csv\", index=False)\n",
    "cnts.to_csv(\"/home/rdora/declaranet/data/pre-process/contracts.csv\", index=False)"
   ]
  },
  {
   "cell_type": "code",
   "execution_count": 74,
   "metadata": {},
   "outputs": [],
   "source": [
    "companies = np.array(list(set(exp['INSTITUCION_EMPRESA'].unique()) | set(cnts['proveedor_contratista'].unique())))"
   ]
  },
  {
   "cell_type": "code",
   "execution_count": 75,
   "metadata": {},
   "outputs": [],
   "source": [
    "companies = companies[1:]"
   ]
  },
  {
   "cell_type": "code",
   "execution_count": 76,
   "metadata": {},
   "outputs": [],
   "source": [
    "np.savetxt(\"/home/rdora/declaranet/data/pre-process/list_companies.txt\", companies, fmt=\"%s\", delimiter=\"\\n\")"
   ]
  }
 ],
 "metadata": {
  "kernelspec": {
   "display_name": "Python 3",
   "language": "python",
   "name": "python3"
  },
  "language_info": {
   "codemirror_mode": {
    "name": "ipython",
    "version": 3
   },
   "file_extension": ".py",
   "mimetype": "text/x-python",
   "name": "python",
   "nbconvert_exporter": "python",
   "pygments_lexer": "ipython3",
   "version": "3.6.9"
  }
 },
 "nbformat": 4,
 "nbformat_minor": 4
}
