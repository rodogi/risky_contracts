{
 "cells": [
  {
   "cell_type": "markdown",
   "metadata": {},
   "source": [
    "# Create network adjacency list"
   ]
  },
  {
   "cell_type": "code",
   "execution_count": 1,
   "metadata": {},
   "outputs": [],
   "source": [
    "import pandas as pd\n",
    "import numpy as np"
   ]
  },
  {
   "cell_type": "code",
   "execution_count": 2,
   "metadata": {},
   "outputs": [],
   "source": [
    "CNTS = '/home/rdora/declaranet/data/pre-process/contratos_3.csv'\n",
    "cnts = pd.read_csv(CNTS, parse_dates=['start_date'])"
   ]
  },
  {
   "cell_type": "code",
   "execution_count": 3,
   "metadata": {},
   "outputs": [],
   "source": [
    "cnts = cnts[cnts.supplier_country=='MX']"
   ]
  },
  {
   "cell_type": "code",
   "execution_count": 4,
   "metadata": {},
   "outputs": [],
   "source": [
    "cnts = cnts[~cnts.supplier_state.isin(['BB-05', 'US-KS',\n",
    "       'US-CA', 'ES-PO', 'US-WA'])]"
   ]
  },
  {
   "cell_type": "code",
   "execution_count": 5,
   "metadata": {},
   "outputs": [],
   "source": [
    "cnts = cnts.dropna(subset=['supplier_state', 'buyer_state'])"
   ]
  },
  {
   "cell_type": "code",
   "execution_count": 135,
   "metadata": {},
   "outputs": [],
   "source": [
    "drop_cols = [\n",
    "    'prop_window',\n",
    "    'gvmnt_level',\n",
    "    'contract_type',\n",
    "    'id',\n",
    "    'supplier_country',\n",
    "    'desc_ramo',\n",
    "    'ramo']"
   ]
  },
  {
   "cell_type": "code",
   "execution_count": 136,
   "metadata": {},
   "outputs": [],
   "source": [
    "cnts_local = cnts[cnts.gvmnt_level != 'F']"
   ]
  },
  {
   "cell_type": "code",
   "execution_count": 137,
   "metadata": {},
   "outputs": [],
   "source": [
    "cnts_federal = cnts[cnts.gvmnt_level == 'F']"
   ]
  },
  {
   "cell_type": "code",
   "execution_count": 138,
   "metadata": {},
   "outputs": [],
   "source": [
    "cnts = cnts.drop(drop_cols, axis=1)\n",
    "\n",
    "cnts_local = cnts_local.drop(drop_cols, axis=1)\n",
    "\n",
    "cnts_federal = cnts_federal.drop(drop_cols, axis=1)"
   ]
  },
  {
   "cell_type": "code",
   "execution_count": 139,
   "metadata": {},
   "outputs": [],
   "source": [
    "cnts = cnts.dropna()\n",
    "\n",
    "cnts_local = cnts_local.dropna()\n",
    "\n",
    "cnts_federal = cnts_federal.dropna()"
   ]
  },
  {
   "cell_type": "markdown",
   "metadata": {},
   "source": [
    "# Save as csv"
   ]
  },
  {
   "cell_type": "code",
   "execution_count": 140,
   "metadata": {},
   "outputs": [],
   "source": [
    "buyers = cnts.buyer.unique()\n",
    "suppliers = cnts.supplier.unique()"
   ]
  },
  {
   "cell_type": "code",
   "execution_count": 141,
   "metadata": {},
   "outputs": [],
   "source": [
    "dbuyers = dict(zip(buyers, [f'b{i}' for i in range(len(buyers))]))\n",
    "dsuppliers = dict(zip(suppliers, [f's{i}' for i in range(len(suppliers))]))"
   ]
  },
  {
   "cell_type": "code",
   "execution_count": 142,
   "metadata": {},
   "outputs": [],
   "source": [
    "cnts['buyer'] = cnts['buyer'].apply(lambda x: dbuyers[x])\n",
    "\n",
    "cnts['supplier'] = cnts['supplier'].apply(lambda x: dsuppliers[x])"
   ]
  },
  {
   "cell_type": "code",
   "execution_count": 143,
   "metadata": {},
   "outputs": [],
   "source": [
    "cnts_local['buyer'] = cnts_local['buyer'].apply(lambda x: dbuyers[x])\n",
    "\n",
    "cnts_local['supplier'] = cnts_local['supplier'].apply(lambda x: dsuppliers[x])"
   ]
  },
  {
   "cell_type": "code",
   "execution_count": 144,
   "metadata": {},
   "outputs": [],
   "source": [
    "cnts_federal['buyer'] = cnts_federal['buyer'].apply(lambda x: dbuyers[x])\n",
    "\n",
    "cnts_federal['supplier'] = cnts_federal['supplier'].apply(lambda x: dsuppliers[x])"
   ]
  },
  {
   "cell_type": "code",
   "execution_count": 145,
   "metadata": {},
   "outputs": [],
   "source": [
    "OUT = '/home/rdora/declaranet/data/network/edge_list.csv'\n",
    "cnts.to_csv(OUT, index=False)"
   ]
  },
  {
   "cell_type": "code",
   "execution_count": 146,
   "metadata": {},
   "outputs": [],
   "source": [
    "OUT_LOCAL = '/home/rdora/declaranet/data/network/edge_list_local.csv'\n",
    "cnts_local.to_csv(OUT_LOCAL, index=False)"
   ]
  },
  {
   "cell_type": "code",
   "execution_count": 147,
   "metadata": {},
   "outputs": [],
   "source": [
    "OUT_FEDERAL = '/home/rdora/declaranet/data/network/edge_list_federal.csv'\n",
    "cnts_federal.to_csv(OUT_FEDERAL, index=False)"
   ]
  }
 ],
 "metadata": {
  "kernelspec": {
   "display_name": "Python 3",
   "language": "python",
   "name": "python3"
  },
  "language_info": {
   "codemirror_mode": {
    "name": "ipython",
    "version": 3
   },
   "file_extension": ".py",
   "mimetype": "text/x-python",
   "name": "python",
   "nbconvert_exporter": "python",
   "pygments_lexer": "ipython3",
   "version": "3.6.9"
  }
 },
 "nbformat": 4,
 "nbformat_minor": 4
}
