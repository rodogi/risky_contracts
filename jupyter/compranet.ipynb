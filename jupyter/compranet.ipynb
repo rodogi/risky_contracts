{
 "cells": [
  {
   "cell_type": "markdown",
   "metadata": {
    "slideshow": {
     "slide_type": "slide"
    }
   },
   "source": [
    "# Compranet"
   ]
  },
  {
   "cell_type": "markdown",
   "metadata": {
    "slideshow": {
     "slide_type": "slide"
    }
   },
   "source": [
    "## Datos\n",
    "\n",
    "https://sites.google.com/site/cnetuc/descargas\n",
    "\n",
    "Rango de años: 2010--2019"
   ]
  },
  {
   "cell_type": "markdown",
   "metadata": {
    "slideshow": {
     "slide_type": "slide"
    }
   },
   "source": [
    "## Exploración de los datos\n",
    "\n",
    "Para poder ver como limpiarlos."
   ]
  },
  {
   "cell_type": "code",
   "execution_count": 1,
   "metadata": {
    "slideshow": {
     "slide_type": "skip"
    }
   },
   "outputs": [],
   "source": [
    "import seaborn as sns\n",
    "sns.set(style='dark')\n",
    "import matplotlib.pyplot as plt\n",
    "from fuzzywuzzy import fuzz\n",
    "import numpy as np"
   ]
  },
  {
   "cell_type": "code",
   "execution_count": 2,
   "metadata": {
    "slideshow": {
     "slide_type": "slide"
    }
   },
   "outputs": [],
   "source": [
    "import pandas as pd\n",
    "\n",
    "PATH = \"/home/rdora/declaranet/data/tables/contratos.csv\"\n",
    "cnts = pd.read_csv(PATH)  # Contratos"
   ]
  },
  {
   "cell_type": "code",
   "execution_count": 3,
   "metadata": {
    "slideshow": {
     "slide_type": "slide"
    }
   },
   "outputs": [
    {
     "name": "stdout",
     "output_type": "stream",
     "text": [
      "<class 'pandas.core.frame.DataFrame'>\n",
      "RangeIndex: 1550441 entries, 0 to 1550440\n",
      "Data columns (total 22 columns):\n",
      " #   Column                        Non-Null Count    Dtype  \n",
      "---  ------                        --------------    -----  \n",
      " 0   gobierno                      1550441 non-null  object \n",
      " 1   siglas                        1550441 non-null  object \n",
      " 2   dependencia                   1550441 non-null  object \n",
      " 3   claveuc                       1550441 non-null  object \n",
      " 4   nombre_de_la_uc               1550441 non-null  object \n",
      " 5   responsable                   1550441 non-null  object \n",
      " 6   codigo_expediente             1550441 non-null  int64  \n",
      " 7   fecha_apertura_proposiciones  920898 non-null   object \n",
      " 8   caracter                      1492385 non-null  object \n",
      " 9   tipo_contratacion             1550441 non-null  object \n",
      " 10  tipo_procedimiento            1549891 non-null  object \n",
      " 11  forma_procedimiento           1492629 non-null  object \n",
      " 12  titulo_contrato               1549996 non-null  object \n",
      " 13  fecha_inicio                  1550441 non-null  object \n",
      " 14  fecha_fin                     1550422 non-null  object \n",
      " 15  importe_contrato              1550441 non-null  float64\n",
      " 16  moneda                        1550441 non-null  object \n",
      " 17  estatus_contrato              1550441 non-null  object \n",
      " 18  proveedor_contratista         1550406 non-null  object \n",
      " 19  estratificacion_mpc           1048341 non-null  object \n",
      " 20  siglas_pais                   1550441 non-null  object \n",
      " 21  anuncio                       1545151 non-null  object \n",
      "dtypes: float64(1), int64(1), object(20)\n",
      "memory usage: 260.2+ MB\n"
     ]
    }
   ],
   "source": [
    "cnts.info()"
   ]
  },
  {
   "cell_type": "code",
   "execution_count": 4,
   "metadata": {
    "slideshow": {
     "slide_type": "skip"
    }
   },
   "outputs": [],
   "source": [
    "# Remove nan values where there is no company info\n",
    "cnts= cnts.dropna(subset=[\"proveedor_contratista\"])"
   ]
  },
  {
   "cell_type": "code",
   "execution_count": 5,
   "metadata": {
    "slideshow": {
     "slide_type": "slide"
    }
   },
   "outputs": [
    {
     "data": {
      "text/html": [
       "<div>\n",
       "<style scoped>\n",
       "    .dataframe tbody tr th:only-of-type {\n",
       "        vertical-align: middle;\n",
       "    }\n",
       "\n",
       "    .dataframe tbody tr th {\n",
       "        vertical-align: top;\n",
       "    }\n",
       "\n",
       "    .dataframe thead th {\n",
       "        text-align: right;\n",
       "    }\n",
       "</style>\n",
       "<table border=\"1\" class=\"dataframe\">\n",
       "  <thead>\n",
       "    <tr style=\"text-align: right;\">\n",
       "      <th></th>\n",
       "      <th>gobierno</th>\n",
       "      <th>siglas</th>\n",
       "      <th>dependencia</th>\n",
       "      <th>claveuc</th>\n",
       "      <th>nombre_de_la_uc</th>\n",
       "      <th>responsable</th>\n",
       "      <th>codigo_expediente</th>\n",
       "      <th>fecha_apertura_proposiciones</th>\n",
       "      <th>caracter</th>\n",
       "      <th>tipo_contratacion</th>\n",
       "      <th>...</th>\n",
       "      <th>titulo_contrato</th>\n",
       "      <th>fecha_inicio</th>\n",
       "      <th>fecha_fin</th>\n",
       "      <th>importe_contrato</th>\n",
       "      <th>moneda</th>\n",
       "      <th>estatus_contrato</th>\n",
       "      <th>proveedor_contratista</th>\n",
       "      <th>estratificacion_mpc</th>\n",
       "      <th>siglas_pais</th>\n",
       "      <th>anuncio</th>\n",
       "    </tr>\n",
       "  </thead>\n",
       "  <tbody>\n",
       "    <tr>\n",
       "      <th>0</th>\n",
       "      <td>APF</td>\n",
       "      <td>CFE</td>\n",
       "      <td>Comisión Federal de Electricidad</td>\n",
       "      <td>018TOQ093</td>\n",
       "      <td>CFE-C.T. JOSE ACEVES POZOS #018TOQ093</td>\n",
       "      <td>FRANCISCO JAVIER ZAZUETA RIVERA</td>\n",
       "      <td>117613</td>\n",
       "      <td>2011-12-15 11:00:00</td>\n",
       "      <td>Internacional</td>\n",
       "      <td>Adquisiciones</td>\n",
       "      <td>...</td>\n",
       "      <td>AMPERIMETRO, TRANSDUCTOR, INSTSALACION</td>\n",
       "      <td>2011-12-16 00:00:00</td>\n",
       "      <td>2011-12-28 00:00:00</td>\n",
       "      <td>19450.20</td>\n",
       "      <td>USD</td>\n",
       "      <td>Expirado</td>\n",
       "      <td>BUSKOPPLER</td>\n",
       "      <td>Pequeña</td>\n",
       "      <td>MX</td>\n",
       "      <td>https://compranet.hacienda.gob.mx/esop/guest/g...</td>\n",
       "    </tr>\n",
       "    <tr>\n",
       "      <th>1</th>\n",
       "      <td>APF</td>\n",
       "      <td>CFE</td>\n",
       "      <td>Comisión Federal de Electricidad</td>\n",
       "      <td>018TOQ990</td>\n",
       "      <td>CFE-DIVISION VALLE DE MEXICO SUR #018TOQ990</td>\n",
       "      <td>Abraham Chacha Victorio</td>\n",
       "      <td>117708</td>\n",
       "      <td>2011-12-14 11:00:00</td>\n",
       "      <td>Internacional</td>\n",
       "      <td>Adquisiciones</td>\n",
       "      <td>...</td>\n",
       "      <td>DISCO DURO DE 8 TB</td>\n",
       "      <td>2011-12-19 00:00:00</td>\n",
       "      <td>2011-12-31 00:00:00</td>\n",
       "      <td>16283.43</td>\n",
       "      <td>MXN</td>\n",
       "      <td>Expirado</td>\n",
       "      <td>ALIANZA TECNOLOGICA EN COMPUTACION</td>\n",
       "      <td>Pequeña</td>\n",
       "      <td>MX</td>\n",
       "      <td>https://compranet.hacienda.gob.mx/esop/guest/g...</td>\n",
       "    </tr>\n",
       "    <tr>\n",
       "      <th>2</th>\n",
       "      <td>GE</td>\n",
       "      <td>OAX</td>\n",
       "      <td>OAX-Secretaría de las Culturas y Artes de Oaxaca</td>\n",
       "      <td>920007990</td>\n",
       "      <td>OAX-Secretaría de las Culturas y Artes de Oaxa...</td>\n",
       "      <td>Guillermo René Bautista León</td>\n",
       "      <td>117718</td>\n",
       "      <td>2011-12-22 10:00:00</td>\n",
       "      <td>Internacional</td>\n",
       "      <td>Adquisiciones</td>\n",
       "      <td>...</td>\n",
       "      <td>ADQUISICION DE INSTRUMENTOS MUSICALES PARA BA...</td>\n",
       "      <td>2011-12-26 00:00:00</td>\n",
       "      <td>2018-04-12 00:00:00</td>\n",
       "      <td>1994470.00</td>\n",
       "      <td>MXN</td>\n",
       "      <td>Expirado</td>\n",
       "      <td>AZAREL PAULINO HERNANDEZ ILLESCAS</td>\n",
       "      <td>Mediana</td>\n",
       "      <td>MX</td>\n",
       "      <td>https://compranet.hacienda.gob.mx/esop/guest/g...</td>\n",
       "    </tr>\n",
       "    <tr>\n",
       "      <th>3</th>\n",
       "      <td>GE</td>\n",
       "      <td>OAX</td>\n",
       "      <td>OAX-Secretaría de las Culturas y Artes de Oaxaca</td>\n",
       "      <td>920007990</td>\n",
       "      <td>OAX-Secretaría de las Culturas y Artes de Oaxa...</td>\n",
       "      <td>Guillermo René Bautista León</td>\n",
       "      <td>117718</td>\n",
       "      <td>2011-12-22 10:00:00</td>\n",
       "      <td>Internacional</td>\n",
       "      <td>Adquisiciones</td>\n",
       "      <td>...</td>\n",
       "      <td>CONTRATO DE COMPRAVENTA PARA LA ADQUISICION DE...</td>\n",
       "      <td>2011-12-26 00:00:00</td>\n",
       "      <td>2018-04-12 00:00:00</td>\n",
       "      <td>1994470.00</td>\n",
       "      <td>MXN</td>\n",
       "      <td>Expirado</td>\n",
       "      <td>AZAREL PAULINO HERNANDEZ ILLESCAS</td>\n",
       "      <td>Mediana</td>\n",
       "      <td>MX</td>\n",
       "      <td>https://compranet.hacienda.gob.mx/esop/guest/g...</td>\n",
       "    </tr>\n",
       "    <tr>\n",
       "      <th>4</th>\n",
       "      <td>APF</td>\n",
       "      <td>LICONSA</td>\n",
       "      <td>Liconsa, S.A. de C.V.</td>\n",
       "      <td>020VST004</td>\n",
       "      <td>LICONSA-Subdirección de Adquisición y Distribu...</td>\n",
       "      <td>David Enrique Román González</td>\n",
       "      <td>117763</td>\n",
       "      <td>2011-12-15 17:00:00</td>\n",
       "      <td>Internacional</td>\n",
       "      <td>Adquisiciones</td>\n",
       "      <td>...</td>\n",
       "      <td>2012-VIT-003</td>\n",
       "      <td>2012-01-01 00:00:00</td>\n",
       "      <td>2012-12-31 00:00:00</td>\n",
       "      <td>69183.70</td>\n",
       "      <td>USD</td>\n",
       "      <td>Expirado</td>\n",
       "      <td>WRIGHT ENRICHMENT DE MEXICO SA DE CV</td>\n",
       "      <td>Pequeña</td>\n",
       "      <td>MX</td>\n",
       "      <td>https://compranet.hacienda.gob.mx/esop/guest/g...</td>\n",
       "    </tr>\n",
       "  </tbody>\n",
       "</table>\n",
       "<p>5 rows × 22 columns</p>\n",
       "</div>"
      ],
      "text/plain": [
       "  gobierno   siglas                                       dependencia  \\\n",
       "0      APF      CFE                  Comisión Federal de Electricidad   \n",
       "1      APF      CFE                  Comisión Federal de Electricidad   \n",
       "2       GE      OAX  OAX-Secretaría de las Culturas y Artes de Oaxaca   \n",
       "3       GE      OAX  OAX-Secretaría de las Culturas y Artes de Oaxaca   \n",
       "4      APF  LICONSA                             Liconsa, S.A. de C.V.   \n",
       "\n",
       "     claveuc                                    nombre_de_la_uc  \\\n",
       "0  018TOQ093              CFE-C.T. JOSE ACEVES POZOS #018TOQ093   \n",
       "1  018TOQ990        CFE-DIVISION VALLE DE MEXICO SUR #018TOQ990   \n",
       "2  920007990  OAX-Secretaría de las Culturas y Artes de Oaxa...   \n",
       "3  920007990  OAX-Secretaría de las Culturas y Artes de Oaxa...   \n",
       "4  020VST004  LICONSA-Subdirección de Adquisición y Distribu...   \n",
       "\n",
       "                       responsable  codigo_expediente  \\\n",
       "0  FRANCISCO JAVIER ZAZUETA RIVERA             117613   \n",
       "1          Abraham Chacha Victorio             117708   \n",
       "2     Guillermo René Bautista León             117718   \n",
       "3     Guillermo René Bautista León             117718   \n",
       "4     David Enrique Román González             117763   \n",
       "\n",
       "  fecha_apertura_proposiciones       caracter tipo_contratacion  ...  \\\n",
       "0          2011-12-15 11:00:00  Internacional     Adquisiciones  ...   \n",
       "1          2011-12-14 11:00:00  Internacional     Adquisiciones  ...   \n",
       "2          2011-12-22 10:00:00  Internacional     Adquisiciones  ...   \n",
       "3          2011-12-22 10:00:00  Internacional     Adquisiciones  ...   \n",
       "4          2011-12-15 17:00:00  Internacional     Adquisiciones  ...   \n",
       "\n",
       "                                     titulo_contrato         fecha_inicio  \\\n",
       "0             AMPERIMETRO, TRANSDUCTOR, INSTSALACION  2011-12-16 00:00:00   \n",
       "1                                 DISCO DURO DE 8 TB  2011-12-19 00:00:00   \n",
       "2   ADQUISICION DE INSTRUMENTOS MUSICALES PARA BA...  2011-12-26 00:00:00   \n",
       "3  CONTRATO DE COMPRAVENTA PARA LA ADQUISICION DE...  2011-12-26 00:00:00   \n",
       "4                                      2012-VIT-003   2012-01-01 00:00:00   \n",
       "\n",
       "             fecha_fin importe_contrato moneda  estatus_contrato  \\\n",
       "0  2011-12-28 00:00:00         19450.20    USD          Expirado   \n",
       "1  2011-12-31 00:00:00         16283.43    MXN          Expirado   \n",
       "2  2018-04-12 00:00:00       1994470.00    MXN          Expirado   \n",
       "3  2018-04-12 00:00:00       1994470.00    MXN          Expirado   \n",
       "4  2012-12-31 00:00:00         69183.70    USD          Expirado   \n",
       "\n",
       "                  proveedor_contratista estratificacion_mpc siglas_pais  \\\n",
       "0                            BUSKOPPLER             Pequeña          MX   \n",
       "1    ALIANZA TECNOLOGICA EN COMPUTACION             Pequeña          MX   \n",
       "2     AZAREL PAULINO HERNANDEZ ILLESCAS             Mediana          MX   \n",
       "3     AZAREL PAULINO HERNANDEZ ILLESCAS             Mediana          MX   \n",
       "4  WRIGHT ENRICHMENT DE MEXICO SA DE CV             Pequeña          MX   \n",
       "\n",
       "                                             anuncio  \n",
       "0  https://compranet.hacienda.gob.mx/esop/guest/g...  \n",
       "1  https://compranet.hacienda.gob.mx/esop/guest/g...  \n",
       "2  https://compranet.hacienda.gob.mx/esop/guest/g...  \n",
       "3  https://compranet.hacienda.gob.mx/esop/guest/g...  \n",
       "4  https://compranet.hacienda.gob.mx/esop/guest/g...  \n",
       "\n",
       "[5 rows x 22 columns]"
      ]
     },
     "execution_count": 5,
     "metadata": {},
     "output_type": "execute_result"
    }
   ],
   "source": [
    "cnts.head()"
   ]
  },
  {
   "cell_type": "code",
   "execution_count": 6,
   "metadata": {
    "slideshow": {
     "slide_type": "slide"
    }
   },
   "outputs": [
    {
     "name": "stdout",
     "output_type": "stream",
     "text": [
      "Son 1,550,406 contratos en total\n",
      "Divididos en 4,642 dependencias de gobierno...\n",
      "...Y 239,759 compañías contratadas\n"
     ]
    }
   ],
   "source": [
    "print(f\"Son {cnts.shape[0]:,} contratos en total\")\n",
    "print(f\"Divididos en {cnts.claveuc.nunique():,} dependencias de gobierno...\")\n",
    "print(f\"...Y {cnts.proveedor_contratista.nunique():,} compañías contratadas\")"
   ]
  },
  {
   "cell_type": "code",
   "execution_count": 7,
   "metadata": {
    "slideshow": {
     "slide_type": "slide"
    }
   },
   "outputs": [
    {
     "data": {
      "text/plain": [
       "SUMMA COMPANY, S.A. DE C.V.                                             11323\n",
       "MARCAS NESTLE, S.A. DE C.V.                                              8519\n",
       "CIA. PROCTER & GAMBLE MEXICO, S. DE R.L. DE C.V.                         7952\n",
       "COMERCIALIZADORA PEPSICO MEXICO, S. DE R.L. DE C.V.                      6777\n",
       "GRUPO INDUSTRIAL MASECA, S.A.B. DE C.V.                                  5556\n",
       "CONSERVAS LA COSTENA, S.A. DE C.V.                                       4812\n",
       "UNILEVER DE MEXICO, S. DE R.L. DE C.V.                                   4663\n",
       "FARMACEUTICOS MAYPO, S.A. DE C.V.                                        4651\n",
       "GRUPO FARMACOS ESPECIALIZADOS SA DE CV                                   4516\n",
       "ALEN DEL NORTE SA DE CV                                                  4185\n",
       "FABRICA DE JABON LA CORONA, S.A. DE C.V.                                 4120\n",
       "COMPANIA COMERCIAL HERDEZ, S.A. DE C.V.                                  4093\n",
       "MINSA, S.A. DE C.V.                                                      3954\n",
       "FABRICA DE JABON LA CORONA SA DE CV                                      3765\n",
       "ALEN DEL NORTE, S.A. DE C.V.                                             3663\n",
       "DISTRIBUIDORA INTERNACIONAL DE MEDICAMENTOS Y EQUIPO MEDICO SA DE CV     3576\n",
       "PRODUCTOS ALIMENTICIOS LA MODERNA, S.A. DE C.V.                          3217\n",
       "SALES DEL ISTMO,S.A.DE C.V.                                              3101\n",
       "MOLINO HARINERO SAN BLAS S.A. DE C.V.                                    3042\n",
       "SABORMEX, S.A. DE .C.V.                                                  2963\n",
       "Name: proveedor_contratista, dtype: int64"
      ]
     },
     "execution_count": 7,
     "metadata": {},
     "output_type": "execute_result"
    }
   ],
   "source": [
    "cnts.proveedor_contratista.value_counts().head(20)"
   ]
  },
  {
   "cell_type": "code",
   "execution_count": 8,
   "metadata": {
    "slideshow": {
     "slide_type": "slide"
    }
   },
   "outputs": [
    {
     "data": {
      "text/plain": [
       "proveedor_contratista\n",
       "GRUPO FARMACOS ESPECIALIZADOS SA DE CV                                  107,899 M\n",
       "OPERADORA CICSA, S.A. DE C.V.                                            92,188 M\n",
       "FARMACEUTICOS MAYPO, S.A. DE C.V.                                        51,557 M\n",
       "DISTRIBUIDORA INTERNACIONAL DE MEDICAMENTOS Y EQUIPO MEDICO SA DE CV     40,292 M\n",
       "SEGUROS INBURSA SA GRUPO FINANCIERO INBUR SA                             34,644 M\n",
       "GRUPO CONSTRUCTOR MARHNOS, S.A. DE C.V.                                  28,008 M\n",
       "CIC CORPORATIVO INDUSTRIAL COAHUILA SA DE CV                             23,738 M\n",
       "CONSTRUCCIONES Y MAQUINARIA GUTIERREZ SA DE CV                           22,784 M\n",
       "SIXSIGMA NETWORKS MEXICO                                                 22,763 M\n",
       "PROMOTORA Y DESARROLLADORA MEXICANA DE INFRAESTRUCTURA                   21,097 M\n",
       "EDENRED MEXICO SA DE CV                                                  19,218 M\n",
       "SIEMENS INNOVACIONES SA DE CV                                            19,088 M\n",
       "AVANZIA INSTALACIONES SA DE CV                                           17,013 M\n",
       "RALCA, S.A. DE C.V.                                                      16,995 M\n",
       "METLIFE MEXICO, S.A.                                                     16,650 M\n",
       "ICA CONSTRUCTORA DE INFRAESTRUCTURA, S.A. DE C.V.                        16,641 M\n",
       "INSTRUMENTOS Y EQUIPOS FALCON SA DE CV                                   15,869 M\n",
       "SEGUROS BANORTE SA DE CV, GRUPO FINANCIERO BANORTE                       15,330 M\n",
       "COMERCIALIZADORA DE PRODUCTOS INSTITUCIONALES, S.A. DE C.V.              15,206 M\n",
       "LA PENINSULAR COMPAÑIA CONSTRUCTORA S.A. DE C.V                          13,962 M\n",
       "Name: importe_contrato, dtype: object"
      ]
     },
     "execution_count": 8,
     "metadata": {},
     "output_type": "execute_result"
    }
   ],
   "source": [
    "df_money = cnts.copy()\n",
    "df_money.loc[df_money[\"moneda\"]==\"USD\", \"importe_contrato\"] = df_money.loc[df_money[\"moneda\"]==\"USD\", \"importe_contrato\"] * 20\n",
    "money = df_money.groupby(\"proveedor_contratista\").sum()[\"importe_contrato\"].sort_values(ascending=False).head(20)\n",
    "money.apply(lambda x: f\"{x/1000000:,.0f} M\")"
   ]
  },
  {
   "cell_type": "markdown",
   "metadata": {
    "slideshow": {
     "slide_type": "slide"
    }
   },
   "source": [
    "# Posibles problemas\n",
    "\n",
    "Cuándo las tablas no tienen identificador único, como es el caso de proveedores y responsables, se da lugar a muchos problemas técnicos."
   ]
  },
  {
   "cell_type": "code",
   "execution_count": 9,
   "metadata": {
    "slideshow": {
     "slide_type": "slide"
    }
   },
   "outputs": [
    {
     "data": {
      "text/plain": [
       "MARCAS NESTLE, S.A. DE C.V.    8519\n",
       "Marcas Nestle                  1656\n",
       "MARCAS NESTLE,S.A. DE C.V.      148\n",
       "MARCAS NESTLE SA DE CV          120\n",
       "MARCAS NESTLE, S.A DE C.V.       52\n",
       "MARCAS NESTLE, S.A DE C.V.       43\n",
       "MARCAS NESTLE, S.A.DE C.V.       17\n",
       "Name: proveedor_contratista, dtype: int64"
      ]
     },
     "execution_count": 9,
     "metadata": {},
     "output_type": "execute_result"
    }
   ],
   "source": [
    "cnts.loc[cnts.proveedor_contratista.str.contains(\"nestle\", case=False), \"proveedor_contratista\"].value_counts()"
   ]
  },
  {
   "cell_type": "code",
   "execution_count": 10,
   "metadata": {
    "slideshow": {
     "slide_type": "slide"
    }
   },
   "outputs": [
    {
     "data": {
      "text/plain": [
       "CIA. PROCTER & GAMBLE MEXICO, S. DE R.L. DE C.V.    7952\n",
       "PROCTER & GAMBLE MEXICO, INC.                       1471\n",
       "CIA PROCTER & GAMBLE MEXICO, S DE R.L. DE C.V.      1057\n",
       "Name: proveedor_contratista, dtype: int64"
      ]
     },
     "execution_count": 10,
     "metadata": {},
     "output_type": "execute_result"
    }
   ],
   "source": [
    "cnts.loc[cnts.proveedor_contratista.str.contains(\"procter & gamble\", case=False), \"proveedor_contratista\"].value_counts()"
   ]
  },
  {
   "cell_type": "markdown",
   "metadata": {
    "slideshow": {
     "slide_type": "slide"
    }
   },
   "source": [
    "# Experiencia\n",
    "\n",
    "Fuente: http://www.servidorespublicos.gob.mx/registro/datosAbiertos.jsf\n",
    "\n",
    "Datos de declaranet.\n",
    "\n",
    "Experiencia de todos los servidores públicos."
   ]
  },
  {
   "cell_type": "code",
   "execution_count": 11,
   "metadata": {
    "slideshow": {
     "slide_type": "slide"
    }
   },
   "outputs": [
    {
     "name": "stdout",
     "output_type": "stream",
     "text": [
      "<class 'pandas.core.frame.DataFrame'>\n",
      "RangeIndex: 1810431 entries, 0 to 1810430\n",
      "Data columns (total 15 columns):\n",
      " #   Column                        Dtype \n",
      "---  ------                        ----- \n",
      " 0   ACUSE                         object\n",
      " 1   SECTOR                        object\n",
      " 2   INSTITUCION_EMPRESA           object\n",
      " 3   AREA_O_UNIDAD_ADMINSITRATIVA  object\n",
      " 4   PUESTO                        object\n",
      " 5   INGRESO_EGRESO                object\n",
      " 6   hash                          object\n",
      " 7   NOMBRE                        object\n",
      " 8   TIPO_DECLARACION              object\n",
      " 9   FECHA_ENVIO                   object\n",
      " 10  PUESTO_ACTUAL                 object\n",
      " 11  DEPENDENCIA                   object\n",
      " 12  AREA_ADSCRIPCION              object\n",
      " 13  HONORARIOS                    object\n",
      " 14  MAXIMO_GRADO_ESTUDIOS         object\n",
      "dtypes: object(15)\n",
      "memory usage: 207.2+ MB\n",
      "None\n"
     ]
    }
   ],
   "source": [
    "exp = pd.read_csv(\"/home/rdora/declaranet/data/tables/experience.csv\")\n",
    "print(exp.info())"
   ]
  },
  {
   "cell_type": "code",
   "execution_count": 12,
   "metadata": {
    "slideshow": {
     "slide_type": "slide"
    }
   },
   "outputs": [
    {
     "data": {
      "text/html": [
       "<div>\n",
       "<style scoped>\n",
       "    .dataframe tbody tr th:only-of-type {\n",
       "        vertical-align: middle;\n",
       "    }\n",
       "\n",
       "    .dataframe tbody tr th {\n",
       "        vertical-align: top;\n",
       "    }\n",
       "\n",
       "    .dataframe thead th {\n",
       "        text-align: right;\n",
       "    }\n",
       "</style>\n",
       "<table border=\"1\" class=\"dataframe\">\n",
       "  <thead>\n",
       "    <tr style=\"text-align: right;\">\n",
       "      <th></th>\n",
       "      <th>ACUSE</th>\n",
       "      <th>SECTOR</th>\n",
       "      <th>INSTITUCION_EMPRESA</th>\n",
       "      <th>AREA_O_UNIDAD_ADMINSITRATIVA</th>\n",
       "      <th>PUESTO</th>\n",
       "      <th>INGRESO_EGRESO</th>\n",
       "      <th>hash</th>\n",
       "      <th>NOMBRE</th>\n",
       "      <th>TIPO_DECLARACION</th>\n",
       "      <th>FECHA_ENVIO</th>\n",
       "      <th>PUESTO_ACTUAL</th>\n",
       "      <th>DEPENDENCIA</th>\n",
       "      <th>AREA_ADSCRIPCION</th>\n",
       "      <th>HONORARIOS</th>\n",
       "      <th>MAXIMO_GRADO_ESTUDIOS</th>\n",
       "    </tr>\n",
       "  </thead>\n",
       "  <tbody>\n",
       "    <tr>\n",
       "      <th>0</th>\n",
       "      <td>201505292032248574959</td>\n",
       "      <td>PRIVADO</td>\n",
       "      <td>TELETEC DE MEXICO S.A. DE C.V.</td>\n",
       "      <td>INSTALACIONES</td>\n",
       "      <td>INGENIERO EN PROYECTOS</td>\n",
       "      <td>04/2000 - 09/2002</td>\n",
       "      <td>775f3578c5195ac51b32328acca31a5e</td>\n",
       "      <td>OMAR JESUS PEREZ RAMOS</td>\n",
       "      <td>INICIAL</td>\n",
       "      <td>29/05/2015</td>\n",
       "      <td>PROFESOR</td>\n",
       "      <td>SECRETARIA DE EDUCACION PUBLICA</td>\n",
       "      <td>INSTITUTO TECNOLOGICO DE CUAUTLA</td>\n",
       "      <td>NO</td>\n",
       "      <td>LICENCIATURA</td>\n",
       "    </tr>\n",
       "    <tr>\n",
       "      <th>1</th>\n",
       "      <td>200205311340481299562</td>\n",
       "      <td>PUBLICO</td>\n",
       "      <td>SECRETARIA DE HACIENDA Y CREDITO PUBLICO</td>\n",
       "      <td>DIRECCION GENERAL DEL DESTINO DE LOS BIENES DE...</td>\n",
       "      <td>JEFE DE DEPARTAMENTO DE EVALUACION</td>\n",
       "      <td>01/1999 - 02/2001</td>\n",
       "      <td>f8708ce114b918f5d3a1e52c0393cd55</td>\n",
       "      <td>JEANETTE CONSUELO BURCIAGA LEYVA</td>\n",
       "      <td>MODIFICACION</td>\n",
       "      <td>31/05/2002</td>\n",
       "      <td>SUBADMINISTRADOR</td>\n",
       "      <td>SERVICIO DE ADMINISTRACION TRIBUTARIA</td>\n",
       "      <td>ADMON. GRAL. DEL DESTINO DE BIENES DE COMERCIO...</td>\n",
       "      <td>NO</td>\n",
       "      <td>LICENCIATURA</td>\n",
       "    </tr>\n",
       "    <tr>\n",
       "      <th>2</th>\n",
       "      <td>200205311340481299562</td>\n",
       "      <td>PUBLICO</td>\n",
       "      <td>SECRETARIA DE HACIENDA Y CREDITO PUBLICO</td>\n",
       "      <td>DIR. GRAL DE DESTINO DE BIENES DE COM. EXT. PR...</td>\n",
       "      <td>SUBDIRECTOR DE ALMACENES FISCALIZADOS</td>\n",
       "      <td>02/2001 - 12/2001</td>\n",
       "      <td>5bc2ecc07d7104890707c6bcbe8ffe15</td>\n",
       "      <td>JEANETTE CONSUELO BURCIAGA LEYVA</td>\n",
       "      <td>MODIFICACION</td>\n",
       "      <td>31/05/2002</td>\n",
       "      <td>SUBADMINISTRADOR</td>\n",
       "      <td>SERVICIO DE ADMINISTRACION TRIBUTARIA</td>\n",
       "      <td>ADMON. GRAL. DEL DESTINO DE BIENES DE COMERCIO...</td>\n",
       "      <td>NO</td>\n",
       "      <td>LICENCIATURA</td>\n",
       "    </tr>\n",
       "    <tr>\n",
       "      <th>3</th>\n",
       "      <td>200205311409081293886</td>\n",
       "      <td>PRIVADO</td>\n",
       "      <td>GRUPO JULIO S.A. DE C.V.</td>\n",
       "      <td>RECURSOS HUMANOS</td>\n",
       "      <td>SUBGERENTE DE RECURSOS HUMANOS</td>\n",
       "      <td>03/1998 - 05/1999</td>\n",
       "      <td>b2a01635694344b53de8ed77a089a548</td>\n",
       "      <td>JAIME IBARRA ROSAS</td>\n",
       "      <td>INICIAL</td>\n",
       "      <td>31/05/2002</td>\n",
       "      <td>JEFE DE OFICINA</td>\n",
       "      <td>COMISION FEDERAL DE ELECTRICIDAD.</td>\n",
       "      <td>AREA DE TRANSMISION Y TRANSFORMACION CENTRAL</td>\n",
       "      <td>NO</td>\n",
       "      <td>LICENCIATURA</td>\n",
       "    </tr>\n",
       "    <tr>\n",
       "      <th>4</th>\n",
       "      <td>200205311409081293886</td>\n",
       "      <td>PRIVADO</td>\n",
       "      <td>DESPACHO AGUILAR CHAVEZ Y ASOCIADOS S.C.</td>\n",
       "      <td>AUDITORIA</td>\n",
       "      <td>AUDITOR</td>\n",
       "      <td>12/1994 - 02/1998</td>\n",
       "      <td>428a0a6d8ee1764d5c9784d7cb6a5751</td>\n",
       "      <td>JAIME IBARRA ROSAS</td>\n",
       "      <td>INICIAL</td>\n",
       "      <td>31/05/2002</td>\n",
       "      <td>JEFE DE OFICINA</td>\n",
       "      <td>COMISION FEDERAL DE ELECTRICIDAD.</td>\n",
       "      <td>AREA DE TRANSMISION Y TRANSFORMACION CENTRAL</td>\n",
       "      <td>NO</td>\n",
       "      <td>LICENCIATURA</td>\n",
       "    </tr>\n",
       "  </tbody>\n",
       "</table>\n",
       "</div>"
      ],
      "text/plain": [
       "                   ACUSE   SECTOR                       INSTITUCION_EMPRESA  \\\n",
       "0  201505292032248574959  PRIVADO            TELETEC DE MEXICO S.A. DE C.V.   \n",
       "1  200205311340481299562  PUBLICO  SECRETARIA DE HACIENDA Y CREDITO PUBLICO   \n",
       "2  200205311340481299562  PUBLICO  SECRETARIA DE HACIENDA Y CREDITO PUBLICO   \n",
       "3  200205311409081293886  PRIVADO                  GRUPO JULIO S.A. DE C.V.   \n",
       "4  200205311409081293886  PRIVADO  DESPACHO AGUILAR CHAVEZ Y ASOCIADOS S.C.   \n",
       "\n",
       "                        AREA_O_UNIDAD_ADMINSITRATIVA  \\\n",
       "0                                      INSTALACIONES   \n",
       "1  DIRECCION GENERAL DEL DESTINO DE LOS BIENES DE...   \n",
       "2  DIR. GRAL DE DESTINO DE BIENES DE COM. EXT. PR...   \n",
       "3                                   RECURSOS HUMANOS   \n",
       "4                                          AUDITORIA   \n",
       "\n",
       "                                  PUESTO     INGRESO_EGRESO  \\\n",
       "0                 INGENIERO EN PROYECTOS  04/2000 - 09/2002   \n",
       "1     JEFE DE DEPARTAMENTO DE EVALUACION  01/1999 - 02/2001   \n",
       "2  SUBDIRECTOR DE ALMACENES FISCALIZADOS  02/2001 - 12/2001   \n",
       "3         SUBGERENTE DE RECURSOS HUMANOS  03/1998 - 05/1999   \n",
       "4                                AUDITOR  12/1994 - 02/1998   \n",
       "\n",
       "                               hash                            NOMBRE  \\\n",
       "0  775f3578c5195ac51b32328acca31a5e            OMAR JESUS PEREZ RAMOS   \n",
       "1  f8708ce114b918f5d3a1e52c0393cd55  JEANETTE CONSUELO BURCIAGA LEYVA   \n",
       "2  5bc2ecc07d7104890707c6bcbe8ffe15  JEANETTE CONSUELO BURCIAGA LEYVA   \n",
       "3  b2a01635694344b53de8ed77a089a548                JAIME IBARRA ROSAS   \n",
       "4  428a0a6d8ee1764d5c9784d7cb6a5751                JAIME IBARRA ROSAS   \n",
       "\n",
       "  TIPO_DECLARACION FECHA_ENVIO     PUESTO_ACTUAL  \\\n",
       "0          INICIAL  29/05/2015          PROFESOR   \n",
       "1     MODIFICACION  31/05/2002  SUBADMINISTRADOR   \n",
       "2     MODIFICACION  31/05/2002  SUBADMINISTRADOR   \n",
       "3          INICIAL  31/05/2002   JEFE DE OFICINA   \n",
       "4          INICIAL  31/05/2002   JEFE DE OFICINA   \n",
       "\n",
       "                             DEPENDENCIA  \\\n",
       "0        SECRETARIA DE EDUCACION PUBLICA   \n",
       "1  SERVICIO DE ADMINISTRACION TRIBUTARIA   \n",
       "2  SERVICIO DE ADMINISTRACION TRIBUTARIA   \n",
       "3      COMISION FEDERAL DE ELECTRICIDAD.   \n",
       "4      COMISION FEDERAL DE ELECTRICIDAD.   \n",
       "\n",
       "                                    AREA_ADSCRIPCION HONORARIOS  \\\n",
       "0                   INSTITUTO TECNOLOGICO DE CUAUTLA         NO   \n",
       "1  ADMON. GRAL. DEL DESTINO DE BIENES DE COMERCIO...         NO   \n",
       "2  ADMON. GRAL. DEL DESTINO DE BIENES DE COMERCIO...         NO   \n",
       "3       AREA DE TRANSMISION Y TRANSFORMACION CENTRAL         NO   \n",
       "4       AREA DE TRANSMISION Y TRANSFORMACION CENTRAL         NO   \n",
       "\n",
       "  MAXIMO_GRADO_ESTUDIOS  \n",
       "0          LICENCIATURA  \n",
       "1          LICENCIATURA  \n",
       "2          LICENCIATURA  \n",
       "3          LICENCIATURA  \n",
       "4          LICENCIATURA  "
      ]
     },
     "execution_count": 12,
     "metadata": {},
     "output_type": "execute_result"
    }
   ],
   "source": [
    "exp.head()"
   ]
  },
  {
   "cell_type": "code",
   "execution_count": 34,
   "metadata": {
    "slideshow": {
     "slide_type": "slide"
    }
   },
   "outputs": [
    {
     "name": "stdout",
     "output_type": "stream",
     "text": [
      "Hay 389 puestos de servidores públicos en Nesté\n",
      "\n",
      "NESTLE                              61\n",
      "NESTLE MEXICO                       32\n",
      "NESTLE MEXICO S.A. DE C.V.          30\n",
      "COMPAIA NESTLE S.A. DE C.V.         16\n",
      "NESTLE S.A. DE C.V.                 16\n",
      "                                    ..\n",
      "NESTLE SERVICIOS CORPORATIVOS SA     1\n",
      "NESTLE MÉXICO                        1\n",
      "NESTLE, S.A.DE C.V.                  1\n",
      "NESTLE S.A. E C.V:                   1\n",
      "MARCAS NESTLE                        1\n",
      "Name: INSTITUCION_EMPRESA, Length: 126, dtype: int64\n"
     ]
    }
   ],
   "source": [
    "total = exp.loc[exp.INSTITUCION_EMPRESA.str.contains(\"nestle\", case=False).fillna(False), \"INSTITUCION_EMPRESA\"].shape[0]\n",
    "diff = exp.loc[exp.INSTITUCION_EMPRESA.str.contains(\"nestle\", case=False).fillna(False), \"INSTITUCION_EMPRESA\"].value_counts()\n",
    "print(f\"Hay {total:,} puestos de servidores públicos en Nesté\\n\")\n",
    "print(diff)"
   ]
  },
  {
   "cell_type": "code",
   "execution_count": 31,
   "metadata": {
    "slideshow": {
     "slide_type": "slide"
    }
   },
   "outputs": [
    {
     "name": "stdout",
     "output_type": "stream",
     "text": [
      "Hay 55 puestos de servidores públicos en Procter & Gamble\n",
      "\n",
      "PROCTER & GAMBLE                                    27\n",
      "PROCTER & GAMBLE DE MEXICO                           6\n",
      "PROCTER & GAMBLE MANUFACTURA                         5\n",
      "PROCTER & GAMBLE DE MEXICO, S.A. DE C.V.             2\n",
      "PROCTER & GAMBLE MANUFACTURA S. DE R.L. DE C.V.      2\n",
      "PROCTER & GAMBLE DE MEXICO, S DE R.L. DE C.V.        1\n",
      "PROCTER & GAMBLE MEXICO (WELLA)                      1\n",
      "COMPA?IA PROCTER & GAMBLE MEXICO S DE R L DE CV      1\n",
      "PROCTER & GAMBLE PLANTA NAUCALPAN                    1\n",
      "FREELANCE EN OPC DEL PACIFICO / PROCTER & GAMBLE     1\n",
      "PROCTER & GAMBLE DE MEXICO, S. DE R.L. DE C.V.       1\n",
      "PROCTER & GAMBLE DE MEXICO, S. DE R. L. DE C.V.      1\n",
      "PROCTER & GAMBLE, S.A. DE C.V.                       1\n",
      "PROCTER & GAMBLE, MEXICO                             1\n",
      "PROCTER & GAMBLE MANUFACTURA, S. DE R.L.             1\n",
      "PROCTER & GAMBLE, S. DE R. L. DE C. V                1\n",
      "PROCTER & GAMBLE S.R. DE R. L. - NAUCALPAN           1\n",
      "PROCTER & GAMBLE MANUFACTURA S DE RL DE CV           1\n",
      "Name: INSTITUCION_EMPRESA, dtype: int64\n"
     ]
    }
   ],
   "source": [
    "total = exp.loc[exp.INSTITUCION_EMPRESA.str.contains(\"procter & gamble\", case=False).fillna(False), \"INSTITUCION_EMPRESA\"].shape[0]\n",
    "diff = exp.loc[exp.INSTITUCION_EMPRESA.str.contains(\"procter & gamble\", case=False).fillna(False), \"INSTITUCION_EMPRESA\"].value_counts()\n",
    "print(f\"Hay {total:,} puestos de servidores públicos en Procter & Gamble\\n\")\n",
    "print(diff)"
   ]
  },
  {
   "cell_type": "markdown",
   "metadata": {
    "slideshow": {
     "slide_type": "slide"
    }
   },
   "source": [
    "# Distancia de edición"
   ]
  },
  {
   "cell_type": "code",
   "execution_count": 14,
   "metadata": {
    "slideshow": {
     "slide_type": "slide"
    }
   },
   "outputs": [
    {
     "name": "stdout",
     "output_type": "stream",
     "text": [
      "1. 70\n",
      "2. 90\n",
      "3. 91\n",
      "4. 67\n"
     ]
    }
   ],
   "source": [
    "string_1 = \"CIA. PROCTER & GAMBLE MEXICO, S. DE R.L. DE C.V.\"\n",
    "string_2 = \"PROCTER & GAMBLE MEXICO, INC.\"\n",
    "print(\"1.\", fuzz.ratio(string_1, string_2))\n",
    "print(\"2.\", fuzz.partial_ratio(string_1, string_2))\n",
    "print(\"3.\", fuzz.token_set_ratio(string_1, string_2))\n",
    "print(\"4.\", fuzz.token_sort_ratio(string_1, string_2))"
   ]
  },
  {
   "cell_type": "code",
   "execution_count": 15,
   "metadata": {
    "slideshow": {
     "slide_type": "slide"
    }
   },
   "outputs": [
    {
     "name": "stdout",
     "output_type": "stream",
     "text": [
      "1. 15\n",
      "2. 23\n",
      "3. 100\n",
      "4. 70\n"
     ]
    }
   ],
   "source": [
    "string_1 = \"Marcas Nestle\"\n",
    "string_2 = \"MARCAS NESTLE, S.A. DE C.V.\"\n",
    "print(\"1.\", fuzz.ratio(string_1, string_2))\n",
    "print(\"2.\", fuzz.partial_ratio(string_1, string_2))\n",
    "print(\"3.\", fuzz.token_set_ratio(string_1, string_2))\n",
    "print(\"4.\", fuzz.token_sort_ratio(string_1, string_2))"
   ]
  },
  {
   "cell_type": "code",
   "execution_count": 16,
   "metadata": {
    "slideshow": {
     "slide_type": "slide"
    }
   },
   "outputs": [
    {
     "name": "stdout",
     "output_type": "stream",
     "text": [
      "1. 15\n",
      "2. 23\n",
      "3. 67\n",
      "4. 67\n"
     ]
    }
   ],
   "source": [
    "# Cuidado con los acentos\n",
    "string_1 = \"Marcas Nestlé\"\n",
    "string_2 = \"MARCAS NESTLE, S.A. DE C.V.\"\n",
    "print(\"1.\", fuzz.ratio(string_1, string_2))\n",
    "print(\"2.\", fuzz.partial_ratio(string_1, string_2))\n",
    "print(\"3.\", fuzz.token_set_ratio(string_1, string_2))\n",
    "print(\"4.\", fuzz.token_sort_ratio(string_1, string_2))"
   ]
  },
  {
   "cell_type": "code",
   "execution_count": 17,
   "metadata": {
    "slideshow": {
     "slide_type": "skip"
    }
   },
   "outputs": [],
   "source": [
    "cols = cnts.select_dtypes(include=[np.object]).columns\n",
    "cnts[cols] = cnts[cols].apply(lambda x: x.str.normalize('NFKD').str.encode('ascii', errors='ignore').str.decode('utf-8'))"
   ]
  },
  {
   "cell_type": "code",
   "execution_count": 26,
   "metadata": {
    "slideshow": {
     "slide_type": "slide"
    }
   },
   "outputs": [
    {
     "name": "stdout",
     "output_type": "stream",
     "text": [
      "Hay en total 741,825 empresas,\n",
      "de las cuales 6,067 están en las dos bases.\n"
     ]
    }
   ],
   "source": [
    "# En total\n",
    "comp_cnts = set(cnts.proveedor_contratista.unique())\n",
    "comp_exp = set(exp.INSTITUCION_EMPRESA.unique())\n",
    "print(f\"Hay en total {len(comp_cnts | comp_exp):,} empresas,\")\n",
    "print(f\"de las cuales {len(comp_cnts & comp_exp):,} están en las dos bases.\")"
   ]
  },
  {
   "cell_type": "markdown",
   "metadata": {
    "slideshow": {
     "slide_type": "slide"
    }
   },
   "source": [
    "# Sin embargo\n",
    "Pueden haber muchos repetidos."
   ]
  },
  {
   "cell_type": "code",
   "execution_count": 33,
   "metadata": {
    "slideshow": {
     "slide_type": "-"
    }
   },
   "outputs": [
    {
     "name": "stdout",
     "output_type": "stream",
     "text": [
      "Hay en total 741,673 empresas,\n",
      "de las cuales 6,069 están en las dos bases.\n"
     ]
    }
   ],
   "source": [
    "rep_cnts = cnts.copy()\n",
    "rep_exp = exp.copy()\n",
    "\n",
    "rep_cnts.loc[rep_cnts.proveedor_contratista.str.contains(\"nestle\", case=False), \"proveedor_contratista\"] = \"Nestle\"\n",
    "rep_cnts.loc[rep_cnts.proveedor_contratista.str.contains(\"procter & gamble\", case=False), \"proveedor_contratista\"] = \"Procter & Gamble\"\n",
    "\n",
    "rep_exp.loc[rep_exp.INSTITUCION_EMPRESA.str.contains(\"nestle\", case=False).fillna(False), \"INSTITUCION_EMPRESA\"] = \"Nestle\"\n",
    "rep_exp.loc[rep_exp.INSTITUCION_EMPRESA.str.contains(\"procter & gamble\", case=False).fillna(False), \"INSTITUCION_EMPRESA\"] = \"Procter & Gamble\"\n",
    "\n",
    "comp_cnts = set(rep_cnts.proveedor_contratista.unique())\n",
    "comp_exp = set(rep_exp.INSTITUCION_EMPRESA.unique())\n",
    "print(f\"Hay en total {len(comp_cnts | comp_exp):,} empresas,\")\n",
    "print(f\"de las cuales {len(comp_cnts & comp_exp):,} están en las dos bases.\")"
   ]
  },
  {
   "cell_type": "code",
   "execution_count": 35,
   "metadata": {
    "collapsed": true,
    "slideshow": {
     "slide_type": "skip"
    }
   },
   "outputs": [
    {
     "ename": "KeyboardInterrupt",
     "evalue": "",
     "output_type": "error",
     "traceback": [
      "\u001b[0;31m---------------------------------------------------------------------------\u001b[0m",
      "\u001b[0;31mKeyboardInterrupt\u001b[0m                         Traceback (most recent call last)",
      "\u001b[0;32m<ipython-input-35-59b0f7e65b47>\u001b[0m in \u001b[0;36m<module>\u001b[0;34m\u001b[0m\n\u001b[1;32m      4\u001b[0m     \u001b[0mmax_score\u001b[0m \u001b[0;34m=\u001b[0m \u001b[0;36m50\u001b[0m\u001b[0;34m\u001b[0m\u001b[0;34m\u001b[0m\u001b[0m\n\u001b[1;32m      5\u001b[0m     \u001b[0;32mfor\u001b[0m \u001b[0mcompare\u001b[0m \u001b[0;32min\u001b[0m \u001b[0mproveedores\u001b[0m\u001b[0;34m[\u001b[0m\u001b[0mi\u001b[0m\u001b[0;34m+\u001b[0m\u001b[0;36m1\u001b[0m\u001b[0;34m:\u001b[0m\u001b[0;34m]\u001b[0m\u001b[0;34m:\u001b[0m\u001b[0;34m\u001b[0m\u001b[0;34m\u001b[0m\u001b[0m\n\u001b[0;32m----> 6\u001b[0;31m         \u001b[0mratio\u001b[0m \u001b[0;34m=\u001b[0m \u001b[0mfuzz\u001b[0m\u001b[0;34m.\u001b[0m\u001b[0mtoken_set_ratio\u001b[0m\u001b[0;34m(\u001b[0m\u001b[0mproveedor\u001b[0m\u001b[0;34m,\u001b[0m \u001b[0mcompare\u001b[0m\u001b[0;34m)\u001b[0m\u001b[0;34m\u001b[0m\u001b[0;34m\u001b[0m\u001b[0m\n\u001b[0m\u001b[1;32m      7\u001b[0m         \u001b[0;32mif\u001b[0m \u001b[0mratio\u001b[0m \u001b[0;34m>\u001b[0m \u001b[0mmax_score\u001b[0m\u001b[0;34m:\u001b[0m\u001b[0;34m\u001b[0m\u001b[0;34m\u001b[0m\u001b[0m\n\u001b[1;32m      8\u001b[0m             \u001b[0mmax_score\u001b[0m \u001b[0;34m=\u001b[0m \u001b[0mratio\u001b[0m\u001b[0;34m\u001b[0m\u001b[0;34m\u001b[0m\u001b[0m\n",
      "\u001b[0;32m~/.local/lib/python3.6/site-packages/fuzzywuzzy/fuzz.py\u001b[0m in \u001b[0;36mtoken_set_ratio\u001b[0;34m(s1, s2, force_ascii, full_process)\u001b[0m\n\u001b[1;32m    167\u001b[0m \u001b[0;34m\u001b[0m\u001b[0m\n\u001b[1;32m    168\u001b[0m \u001b[0;32mdef\u001b[0m \u001b[0mtoken_set_ratio\u001b[0m\u001b[0;34m(\u001b[0m\u001b[0ms1\u001b[0m\u001b[0;34m,\u001b[0m \u001b[0ms2\u001b[0m\u001b[0;34m,\u001b[0m \u001b[0mforce_ascii\u001b[0m\u001b[0;34m=\u001b[0m\u001b[0;32mTrue\u001b[0m\u001b[0;34m,\u001b[0m \u001b[0mfull_process\u001b[0m\u001b[0;34m=\u001b[0m\u001b[0;32mTrue\u001b[0m\u001b[0;34m)\u001b[0m\u001b[0;34m:\u001b[0m\u001b[0;34m\u001b[0m\u001b[0;34m\u001b[0m\u001b[0m\n\u001b[0;32m--> 169\u001b[0;31m     \u001b[0;32mreturn\u001b[0m \u001b[0m_token_set\u001b[0m\u001b[0;34m(\u001b[0m\u001b[0ms1\u001b[0m\u001b[0;34m,\u001b[0m \u001b[0ms2\u001b[0m\u001b[0;34m,\u001b[0m \u001b[0mpartial\u001b[0m\u001b[0;34m=\u001b[0m\u001b[0;32mFalse\u001b[0m\u001b[0;34m,\u001b[0m \u001b[0mforce_ascii\u001b[0m\u001b[0;34m=\u001b[0m\u001b[0mforce_ascii\u001b[0m\u001b[0;34m,\u001b[0m \u001b[0mfull_process\u001b[0m\u001b[0;34m=\u001b[0m\u001b[0mfull_process\u001b[0m\u001b[0;34m)\u001b[0m\u001b[0;34m\u001b[0m\u001b[0;34m\u001b[0m\u001b[0m\n\u001b[0m\u001b[1;32m    170\u001b[0m \u001b[0;34m\u001b[0m\u001b[0m\n\u001b[1;32m    171\u001b[0m \u001b[0;34m\u001b[0m\u001b[0m\n",
      "\u001b[0;32m~/.local/lib/python3.6/site-packages/fuzzywuzzy/utils.py\u001b[0m in \u001b[0;36mdecorator\u001b[0;34m(*args, **kwargs)\u001b[0m\n\u001b[1;32m     36\u001b[0m         \u001b[0;32mif\u001b[0m \u001b[0margs\u001b[0m\u001b[0;34m[\u001b[0m\u001b[0;36m0\u001b[0m\u001b[0;34m]\u001b[0m \u001b[0;32mis\u001b[0m \u001b[0;32mNone\u001b[0m \u001b[0;32mor\u001b[0m \u001b[0margs\u001b[0m\u001b[0;34m[\u001b[0m\u001b[0;36m1\u001b[0m\u001b[0;34m]\u001b[0m \u001b[0;32mis\u001b[0m \u001b[0;32mNone\u001b[0m\u001b[0;34m:\u001b[0m\u001b[0;34m\u001b[0m\u001b[0;34m\u001b[0m\u001b[0m\n\u001b[1;32m     37\u001b[0m             \u001b[0;32mreturn\u001b[0m \u001b[0;36m0\u001b[0m\u001b[0;34m\u001b[0m\u001b[0;34m\u001b[0m\u001b[0m\n\u001b[0;32m---> 38\u001b[0;31m         \u001b[0;32mreturn\u001b[0m \u001b[0mfunc\u001b[0m\u001b[0;34m(\u001b[0m\u001b[0;34m*\u001b[0m\u001b[0margs\u001b[0m\u001b[0;34m,\u001b[0m \u001b[0;34m**\u001b[0m\u001b[0mkwargs\u001b[0m\u001b[0;34m)\u001b[0m\u001b[0;34m\u001b[0m\u001b[0;34m\u001b[0m\u001b[0m\n\u001b[0m\u001b[1;32m     39\u001b[0m     \u001b[0;32mreturn\u001b[0m \u001b[0mdecorator\u001b[0m\u001b[0;34m\u001b[0m\u001b[0;34m\u001b[0m\u001b[0m\n\u001b[1;32m     40\u001b[0m \u001b[0;34m\u001b[0m\u001b[0m\n",
      "\u001b[0;32m~/.local/lib/python3.6/site-packages/fuzzywuzzy/fuzz.py\u001b[0m in \u001b[0;36m_token_set\u001b[0;34m(s1, s2, partial, force_ascii, full_process)\u001b[0m\n\u001b[1;32m    126\u001b[0m \u001b[0;34m\u001b[0m\u001b[0m\n\u001b[1;32m    127\u001b[0m     \u001b[0mp1\u001b[0m \u001b[0;34m=\u001b[0m \u001b[0mutils\u001b[0m\u001b[0;34m.\u001b[0m\u001b[0mfull_process\u001b[0m\u001b[0;34m(\u001b[0m\u001b[0ms1\u001b[0m\u001b[0;34m,\u001b[0m \u001b[0mforce_ascii\u001b[0m\u001b[0;34m=\u001b[0m\u001b[0mforce_ascii\u001b[0m\u001b[0;34m)\u001b[0m \u001b[0;32mif\u001b[0m \u001b[0mfull_process\u001b[0m \u001b[0;32melse\u001b[0m \u001b[0ms1\u001b[0m\u001b[0;34m\u001b[0m\u001b[0;34m\u001b[0m\u001b[0m\n\u001b[0;32m--> 128\u001b[0;31m     \u001b[0mp2\u001b[0m \u001b[0;34m=\u001b[0m \u001b[0mutils\u001b[0m\u001b[0;34m.\u001b[0m\u001b[0mfull_process\u001b[0m\u001b[0;34m(\u001b[0m\u001b[0ms2\u001b[0m\u001b[0;34m,\u001b[0m \u001b[0mforce_ascii\u001b[0m\u001b[0;34m=\u001b[0m\u001b[0mforce_ascii\u001b[0m\u001b[0;34m)\u001b[0m \u001b[0;32mif\u001b[0m \u001b[0mfull_process\u001b[0m \u001b[0;32melse\u001b[0m \u001b[0ms2\u001b[0m\u001b[0;34m\u001b[0m\u001b[0;34m\u001b[0m\u001b[0m\n\u001b[0m\u001b[1;32m    129\u001b[0m \u001b[0;34m\u001b[0m\u001b[0m\n\u001b[1;32m    130\u001b[0m     \u001b[0;32mif\u001b[0m \u001b[0;32mnot\u001b[0m \u001b[0mutils\u001b[0m\u001b[0;34m.\u001b[0m\u001b[0mvalidate_string\u001b[0m\u001b[0;34m(\u001b[0m\u001b[0mp1\u001b[0m\u001b[0;34m)\u001b[0m\u001b[0;34m:\u001b[0m\u001b[0;34m\u001b[0m\u001b[0;34m\u001b[0m\u001b[0m\n",
      "\u001b[0;32m~/.local/lib/python3.6/site-packages/fuzzywuzzy/utils.py\u001b[0m in \u001b[0;36mfull_process\u001b[0;34m(s, force_ascii)\u001b[0m\n\u001b[1;32m     93\u001b[0m         \u001b[0ms\u001b[0m \u001b[0;34m=\u001b[0m \u001b[0masciidammit\u001b[0m\u001b[0;34m(\u001b[0m\u001b[0ms\u001b[0m\u001b[0;34m)\u001b[0m\u001b[0;34m\u001b[0m\u001b[0;34m\u001b[0m\u001b[0m\n\u001b[1;32m     94\u001b[0m     \u001b[0;31m# Keep only Letters and Numbers (see Unicode docs).\u001b[0m\u001b[0;34m\u001b[0m\u001b[0;34m\u001b[0m\u001b[0;34m\u001b[0m\u001b[0m\n\u001b[0;32m---> 95\u001b[0;31m     \u001b[0mstring_out\u001b[0m \u001b[0;34m=\u001b[0m \u001b[0mStringProcessor\u001b[0m\u001b[0;34m.\u001b[0m\u001b[0mreplace_non_letters_non_numbers_with_whitespace\u001b[0m\u001b[0;34m(\u001b[0m\u001b[0ms\u001b[0m\u001b[0;34m)\u001b[0m\u001b[0;34m\u001b[0m\u001b[0;34m\u001b[0m\u001b[0m\n\u001b[0m\u001b[1;32m     96\u001b[0m     \u001b[0;31m# Force into lowercase.\u001b[0m\u001b[0;34m\u001b[0m\u001b[0;34m\u001b[0m\u001b[0;34m\u001b[0m\u001b[0m\n\u001b[1;32m     97\u001b[0m     \u001b[0mstring_out\u001b[0m \u001b[0;34m=\u001b[0m \u001b[0mStringProcessor\u001b[0m\u001b[0;34m.\u001b[0m\u001b[0mto_lower_case\u001b[0m\u001b[0;34m(\u001b[0m\u001b[0mstring_out\u001b[0m\u001b[0;34m)\u001b[0m\u001b[0;34m\u001b[0m\u001b[0;34m\u001b[0m\u001b[0m\n",
      "\u001b[0;32m~/.local/lib/python3.6/site-packages/fuzzywuzzy/string_processing.py\u001b[0m in \u001b[0;36mreplace_non_letters_non_numbers_with_whitespace\u001b[0;34m(cls, a_string)\u001b[0m\n\u001b[1;32m     24\u001b[0m         \u001b[0mnumbers\u001b[0m \u001b[0;32mwith\u001b[0m \u001b[0ma\u001b[0m \u001b[0msingle\u001b[0m \u001b[0mwhite\u001b[0m \u001b[0mspace\u001b[0m\u001b[0;34m.\u001b[0m\u001b[0;34m\u001b[0m\u001b[0;34m\u001b[0m\u001b[0m\n\u001b[1;32m     25\u001b[0m         \"\"\"\n\u001b[0;32m---> 26\u001b[0;31m         \u001b[0;32mreturn\u001b[0m \u001b[0mcls\u001b[0m\u001b[0;34m.\u001b[0m\u001b[0mregex\u001b[0m\u001b[0;34m.\u001b[0m\u001b[0msub\u001b[0m\u001b[0;34m(\u001b[0m\u001b[0;34m\" \"\u001b[0m\u001b[0;34m,\u001b[0m \u001b[0ma_string\u001b[0m\u001b[0;34m)\u001b[0m\u001b[0;34m\u001b[0m\u001b[0;34m\u001b[0m\u001b[0m\n\u001b[0m\u001b[1;32m     27\u001b[0m \u001b[0;34m\u001b[0m\u001b[0m\n\u001b[1;32m     28\u001b[0m     \u001b[0mstrip\u001b[0m \u001b[0;34m=\u001b[0m \u001b[0mstaticmethod\u001b[0m\u001b[0;34m(\u001b[0m\u001b[0mstring\u001b[0m\u001b[0;34m.\u001b[0m\u001b[0mstrip\u001b[0m\u001b[0;34m)\u001b[0m\u001b[0;34m\u001b[0m\u001b[0;34m\u001b[0m\u001b[0m\n",
      "\u001b[0;31mKeyboardInterrupt\u001b[0m: "
     ]
    }
   ],
   "source": [
    "similar = {}\n",
    "proveedores = cnts.proveedor_contratista.unique()\n",
    "for i, proveedor in enumerate(proveedores[:-1]):\n",
    "    max_score = 50\n",
    "    for compare in proveedores[i+1:]:\n",
    "        ratio = fuzz.token_set_ratio(proveedor, compare)\n",
    "        if ratio > max_score:\n",
    "            max_score = ratio\n",
    "    if max_score > 50:\n",
    "        similar[proveedor] = compare"
   ]
  }
 ],
 "metadata": {
  "celltoolbar": "Slideshow",
  "kernelspec": {
   "display_name": "Python 3",
   "language": "python",
   "name": "python3"
  },
  "language_info": {
   "codemirror_mode": {
    "name": "ipython",
    "version": 3
   },
   "file_extension": ".py",
   "mimetype": "text/x-python",
   "name": "python",
   "nbconvert_exporter": "python",
   "pygments_lexer": "ipython3",
   "version": "3.6.9"
  }
 },
 "nbformat": 4,
 "nbformat_minor": 4
}
